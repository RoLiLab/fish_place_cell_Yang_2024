{
 "cells": [
  {
   "cell_type": "code",
   "execution_count": null,
   "id": "422c7a55-6c1e-419f-94a6-31df3f5daf76",
   "metadata": {
    "tags": []
   },
   "outputs": [],
   "source": [
    "using ProgressMeter, PyCall, PyPlot, Images, HDF5,NaNStatistics, Statistics, DSP, Lasso, JLD2\n",
    "using _Data, _Math"
   ]
  },
  {
   "cell_type": "code",
   "execution_count": null,
   "id": "1b57515c-bd31-4bb7-88b2-796518d9c40b",
   "metadata": {
    "tags": []
   },
   "outputs": [],
   "source": [
    "@pyimport numpy"
   ]
  },
  {
   "cell_type": "code",
   "execution_count": null,
   "id": "07b7d258-eec9-4e97-a4d2-d4f4d69012c7",
   "metadata": {
    "tags": []
   },
   "outputs": [],
   "source": [
    "rc_params = PyDict(pyimport(\"matplotlib\")[\"rcParams\"]);\n",
    "# rc_params[\"font.sans-serif\"] = [\"Arial\"];\n",
    "rc_params[\"font.size\"] = 7;\n",
    "rc_params[\"lines.linewidth\"] = 1;\n",
    "rc_params[\"lines.markersize\"] = 4;\n",
    "rc_params[\"xtick.major.size\"] = 2;\n",
    "rc_params[\"ytick.major.size\"] = 2;\n",
    "rc_params[\"xtick.major.pad\"] = 2;\n",
    "rc_params[\"ytick.major.pad\"] = 2;\n",
    "# rc_params[\"axes.labelpad\"] = 2;\n",
    "\n",
    "cim(img::Matrix{UInt32}) = CairoImageSurface(img, Cairo.FORMAT_RGB24; flipxy = false) \n",
    "cim(img::Matrix{ARGB32}) = cim(reinterpret(UInt32, img))\n",
    "cim(img::Matrix{RGB24}) = cim(reinterpret(UInt32, img))\n",
    "cim(img::Matrix{UInt8}) = cim(Gray.(reinterpret(N0f8, img)))\n",
    "cim(img::Array{UInt8,3}) = cim(RGB24.(reinterpret(N0f8, img[:,:,1]), reinterpret(N0f8, img[:,:,2]), reinterpret(N0f8, img[:,:,3])));downsample(img,n=4) = +([img[i:n:n*div(size(img,1)-1,n), j:n:n*div(size(img,2)-1,n)] for i = 1:n, j = 1:n]...)/(n*n);\n",
    "downsample(img,n=4) = +([img[i:n:n*div(size(img,1)-1,n), j:n:n*div(size(img,2)-1,n)] for i = 1:n, j = 1:n]...)/(n*n);"
   ]
  },
  {
   "cell_type": "code",
   "execution_count": null,
   "id": "5879f7be-a372-4305-bfba-b5e58092eabc",
   "metadata": {},
   "outputs": [],
   "source": [
    "fig_path = \"/home/chuyu/Notebooks/project_place_cell/figures/output/review_figures/ABA/\"\n",
    "mkpath(fig_path)"
   ]
  },
  {
   "cell_type": "code",
   "execution_count": null,
   "id": "3d652f62-cea3-42ae-9b46-85642e22623f",
   "metadata": {
    "tags": []
   },
   "outputs": [],
   "source": [
    "include(\"../../../functions/func_map.jl\")\n",
    "include(\"../../../functions/func_stat.jl\")\n",
    "include(\"../../../functions/func_data.jl\")\n",
    "include(\"../../../functions/func_plot.jl\")"
   ]
  },
  {
   "cell_type": "code",
   "execution_count": null,
   "id": "79b529c3-d9b5-45e0-a96e-198e1800b26f",
   "metadata": {},
   "outputs": [],
   "source": [
    "data_info_all = [\n",
    "    [\"20240128_132056\", 1, \"20240128_152133\", 1, \"20240128_164754\", 1, \"drew\"],\n",
    "    [\"20240127_185226\", 8, \"20240127_202210\", 8, \"20240127_212910\", 8, \"jen\"],\n",
    "    [\"20240127_120909_20240127_132316\", 1, \"20240127_152329\", 1, \"20240127_164645\", 1, \"chuyu\"],\n",
    "    [\"20240128_174842_20240128_182823\", 8, \"20240128_194250\", 8, \"20240128_203533\", 8, \"chuyu\"],\n",
    "\n",
    "    ]"
   ]
  },
  {
   "cell_type": "code",
   "execution_count": null,
   "id": "28af97ae-3ebe-4d4f-9822-37029c0d1753",
   "metadata": {
    "tags": []
   },
   "outputs": [],
   "source": [
    "which_data = 4\n",
    "data_info = data_info_all[which_data]\n",
    "experiment_filename_1 = data_info[1]\n",
    "server_1 = data_info[2]\n",
    "\n",
    "experiment_filename_2 = data_info[3]\n",
    "server_2 = data_info[4]\n",
    "\n",
    "experiment_filename_3 = data_info[5]\n",
    "server_3 = data_info[6]\n",
    "\n",
    "experimenter = data_info[end]\n",
    "analyzer = \"chuyu\""
   ]
  },
  {
   "cell_type": "code",
   "execution_count": null,
   "id": "63f376ea-ff4a-4cad-9e2b-aca690648536",
   "metadata": {
    "tags": []
   },
   "outputs": [],
   "source": [
    "ds_save_1 = Dataset(experiment_filename_1, experimenter, gethostname() == \"roli-$(server_1)\" ? \"/data\" : \"/nfs/data$(server_1)\")\n",
    "ds_save_cy_1 = Dataset(experiment_filename_1, \"chuyu\", gethostname() == \"roli-$(server_1)\" ? \"/data\" : \"/nfs/data$(server_1)\")\n",
    "ds_save_analyzer_1 = Dataset(experiment_filename_1, analyzer, gethostname() == \"roli-$(server_1)\" ? \"/data\" : \"/nfs/data$(server_1)\")\n",
    "\n",
    "ds_save_2 = Dataset(experiment_filename_2, experimenter, gethostname() == \"roli-$(server_2)\" ? \"/data\" : \"/nfs/data$(server_2)\") # This example dataset is on roli-9, so the path is different depending on whether you're trying to access the file from roli-9\n",
    "ds_save_cy_2 = Dataset(experiment_filename_2, \"chuyu\", gethostname() == \"roli-$(server_2)\" ? \"/data\" : \"/nfs/data$(server_2)\")\n",
    "ds_save_analyzer_2 = Dataset(experiment_filename_2, analyzer, gethostname() == \"roli-$(server_2)\" ? \"/data\" : \"/nfs/data$(server_2)\")\n",
    "\n",
    "ds_save_3 = Dataset(experiment_filename_3, experimenter, gethostname() == \"roli-$(server_2)\" ? \"/data\" : \"/nfs/data$(server_2)\") # This example dataset is on roli-9, so the path is different depending on whether you're trying to access the file from roli-9\n",
    "ds_save_cy_3 = Dataset(experiment_filename_3, \"chuyu\", gethostname() == \"roli-$(server_2)\" ? \"/data\" : \"/nfs/data$(server_2)\")\n",
    "ds_save_analyzer_3 = Dataset(experiment_filename_3, analyzer, gethostname() == \"roli-$(server_2)\" ? \"/data\" : \"/nfs/data$(server_2)\")"
   ]
  },
  {
   "cell_type": "code",
   "execution_count": null,
   "id": "71ef4d87-052b-4ebe-816d-a5896c029040",
   "metadata": {},
   "outputs": [],
   "source": [
    "# orientation-corrected background image and chamber roi image\n",
    "orientation_correction_file = h5open(joinpath(data_path(ds_save_cy_1), \"chamber_geometry_$(experiment_filename_1).h5\"))\n",
    "chamber_roi_1 = read(orientation_correction_file,\"chamber_roi\")\n",
    "countour_array_1 = read(orientation_correction_file,\"countour_array\")\n",
    "center_loc_1 = read(orientation_correction_file,\"center_loc\")\n",
    "close(orientation_correction_file)\n",
    "\n",
    "\n",
    "# orientation-corrected background image and chamber roi image\n",
    "orientation_correction_file = h5open(joinpath(data_path(ds_save_cy_2), \"chamber_geometry_$(experiment_filename_2).h5\"))\n",
    "chamber_roi_2 = read(orientation_correction_file,\"chamber_roi\")\n",
    "countour_array_2 = read(orientation_correction_file,\"countour_array\")\n",
    "center_loc_2 = read(orientation_correction_file,\"center_loc\")\n",
    "close(orientation_correction_file)\n"
   ]
  },
  {
   "cell_type": "code",
   "execution_count": null,
   "id": "107c7232-5e97-48b4-b480-803f3a581250",
   "metadata": {},
   "outputs": [],
   "source": [
    "experiment_filename_replace = \"20240123_164218\"\n",
    "server_replace = 9\n",
    "\n",
    "ds_save_replace = Dataset(experiment_filename_replace, \"chuyu\", gethostname() == \"roli-$(server_replace)\" ? \"/data\" : \"/nfs/data$(server_replace)\")\n",
    "\n",
    "# orientation-corrected background image and chamber roi image\n",
    "orientation_correction_file = h5open(joinpath(data_path(ds_save_replace), \"chamber_geometry_$(experiment_filename_replace).h5\"))\n",
    "chamber_roi_2 = read(orientation_correction_file,\"chamber_roi\")\n",
    "countour_array_2 = read(orientation_correction_file,\"countour_array\")\n",
    "center_loc_2 = read(orientation_correction_file,\"center_loc\")\n",
    "close(orientation_correction_file)"
   ]
  },
  {
   "cell_type": "code",
   "execution_count": null,
   "id": "0073871b-552f-4c2e-8d14-40bb8d25897d",
   "metadata": {},
   "outputs": [],
   "source": [
    "for_place_calculation_file = h5open(joinpath(data_path(ds_save_cy_1), \"for_place_calculation_chamber_geometry_$(experiment_filename_1)_n90.h5\"))\n",
    "x_fish_sweep_mean_1 = read(for_place_calculation_file,\"x_fish_sweep_mean\")\n",
    "y_fish_sweep_mean_1 = read(for_place_calculation_file,\"y_fish_sweep_mean\")\n",
    "close(for_place_calculation_file)\n",
    "\n",
    "\n",
    "for_place_calculation_file = h5open(joinpath(data_path(ds_save_cy_2), \"for_place_calculation_chamber_geometry_$(experiment_filename_2)_n90.h5\"))\n",
    "x_fish_sweep_mean_2 = read(for_place_calculation_file,\"x_fish_sweep_mean\")\n",
    "y_fish_sweep_mean_2 = read(for_place_calculation_file,\"y_fish_sweep_mean\")\n",
    "close(for_place_calculation_file)\n",
    "\n",
    "\n",
    "for_place_calculation_file = h5open(joinpath(data_path(ds_save_cy_3), \"for_place_calculation_chamber_geometry_$(experiment_filename_3)_n90.h5\"))\n",
    "x_fish_sweep_mean_3 = read(for_place_calculation_file,\"x_fish_sweep_mean\")\n",
    "y_fish_sweep_mean_3 = read(for_place_calculation_file,\"y_fish_sweep_mean\")\n",
    "close(for_place_calculation_file)"
   ]
  },
  {
   "cell_type": "code",
   "execution_count": null,
   "id": "06dff117-2648-4fc0-b826-24775f2b85a0",
   "metadata": {},
   "outputs": [],
   "source": [
    "# peak locations\n",
    "\n",
    "chamber_roi_mask = Float32.(copy(chamber_roi_1))\n",
    "chamber_roi_mask[chamber_roi_mask.!=0].= NaN32\n",
    "valid_frame = isnan.(chamber_roi_mask[:,:,1]); # bs update\n",
    "ymin = findfirst(sum(valid_frame;dims=1).!=0)[2]-10; # bs update\n",
    "ymax = findlast(sum(valid_frame;dims=1).!=0)[2]+10; # bs update\n",
    "xmin = findfirst(sum(valid_frame;dims=2).!=0)[1]-10; # bs update\n",
    "xmax = findlast(sum(valid_frame;dims=2).!=0)[1]+10; # bs update\n",
    "\n",
    "countour_array = countour_array_1\n",
    "\n",
    "fig = figure()\n",
    "\n",
    "plot(x_fish_sweep_mean_1, y_fish_sweep_mean_1, color=\"k\")\n",
    "\n",
    "axis(\"off\")\n",
    "axis(\"equal\")\n",
    "# plot(vcat(countour_array[1:50:end,1][end], countour_array[1:50:end,1]),vcat(countour_array[1:50:end,2][end], countour_array[1:50:end,2]),c=\"k\", alpha=0.1)\n",
    "\n",
    "xlim(xmin,xmax)\n",
    "ylim(ymax,ymin)\n",
    "fig.savefig(joinpath(fig_path, \"A1_trajectory.png\"), bbox_inches = \"tight\",transparent = true,pad_inches = 0)\n",
    "\n",
    "\n",
    "\n",
    "# peak locations\n",
    "\n",
    "chamber_roi_mask = Float32.(copy(chamber_roi_2))\n",
    "chamber_roi_mask[chamber_roi_mask.!=0].= NaN32\n",
    "valid_frame = isnan.(chamber_roi_mask[:,:,1]); # bs update\n",
    "ymin = findfirst(sum(valid_frame;dims=1).!=0)[2]-10; # bs update\n",
    "ymax = findlast(sum(valid_frame;dims=1).!=0)[2]+10; # bs update\n",
    "xmin = findfirst(sum(valid_frame;dims=2).!=0)[1]-10; # bs update\n",
    "xmax = findlast(sum(valid_frame;dims=2).!=0)[1]+10; # bs update\n",
    "\n",
    "countour_array = countour_array_2\n",
    "\n",
    "fig = figure()\n",
    "\n",
    "plot(x_fish_sweep_mean_2, y_fish_sweep_mean_2, color=\"k\")\n",
    "\n",
    "axis(\"off\")\n",
    "axis(\"equal\")\n",
    "# plot(vcat(countour_array[1:50:end,1][end], countour_array[1:50:end,1]),vcat(countour_array[1:50:end,2][end], countour_array[1:50:end,2]),c=\"k\", alpha=0.1)\n",
    "\n",
    "xlim(xmin,xmax)\n",
    "ylim(ymax,ymin)\n",
    "fig.savefig(joinpath(fig_path, \"B_trajectory.png\"), bbox_inches = \"tight\",transparent = true,pad_inches = 0)\n",
    "\n",
    "\n",
    "\n",
    "# peak locations\n",
    "\n",
    "chamber_roi_mask = Float32.(copy(chamber_roi_1))\n",
    "chamber_roi_mask[chamber_roi_mask.!=0].= NaN32\n",
    "valid_frame = isnan.(chamber_roi_mask[:,:,1]); # bs update\n",
    "ymin = findfirst(sum(valid_frame;dims=1).!=0)[2]-10; # bs update\n",
    "ymax = findlast(sum(valid_frame;dims=1).!=0)[2]+10; # bs update\n",
    "xmin = findfirst(sum(valid_frame;dims=2).!=0)[1]-10; # bs update\n",
    "xmax = findlast(sum(valid_frame;dims=2).!=0)[1]+10; # bs update\n",
    "\n",
    "countour_array = countour_array_1\n",
    "\n",
    "fig = figure()\n",
    "\n",
    "plot(x_fish_sweep_mean_3, y_fish_sweep_mean_3, color=\"k\")\n",
    "\n",
    "axis(\"off\")\n",
    "axis(\"equal\")\n",
    "# plot(vcat(countour_array[1:50:end,1][end], countour_array[1:50:end,1]),vcat(countour_array[1:50:end,2][end], countour_array[1:50:end,2]),c=\"k\", alpha=0.1)\n",
    "\n",
    "xlim(xmin,xmax)\n",
    "ylim(ymax,ymin)\n",
    "fig.savefig(joinpath(fig_path, \"A2_trajectory.png\"), bbox_inches = \"tight\",transparent = true,pad_inches = 0)"
   ]
  },
  {
   "cell_type": "code",
   "execution_count": null,
   "id": "368b50e3-7a09-464b-abf2-2bb1db131549",
   "metadata": {},
   "outputs": [],
   "source": []
  }
 ],
 "metadata": {
  "kernelspec": {
   "display_name": "Julia 1.9.3",
   "language": "julia",
   "name": "julia-1.9"
  },
  "language_info": {
   "file_extension": ".jl",
   "mimetype": "application/julia",
   "name": "julia",
   "version": "1.9.3"
  }
 },
 "nbformat": 4,
 "nbformat_minor": 5
}
