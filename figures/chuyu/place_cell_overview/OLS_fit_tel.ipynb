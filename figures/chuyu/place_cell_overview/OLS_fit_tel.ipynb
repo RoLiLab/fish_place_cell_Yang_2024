{
 "cells": [
  {
   "cell_type": "code",
   "execution_count": null,
   "id": "ca3dd904-1484-4da9-83fd-e945fe86168e",
   "metadata": {
    "tags": []
   },
   "outputs": [],
   "source": [
    "using ProgressMeter, PyCall, PyPlot, Cairo, Images, Optim, HDF5, Statistics, Lasso, CoordinateTransformations, OffsetArrays, Printf\n",
    "using _Data, _Math\n",
    "using Statistics, NaNStatistics, Distributions, StatsBase, HypothesisTests, GLM, DataFrames, DSP, Interpolations, LsqFit, FixedPointNumbers, Clustering"
   ]
  },
  {
   "cell_type": "code",
   "execution_count": null,
   "id": "05da4ab8-1e8d-45bb-818f-c401a579e179",
   "metadata": {
    "tags": []
   },
   "outputs": [],
   "source": [
    "@pyimport numpy\n",
    "@pyimport scipy.stats as stats\n",
    "@pyimport pandas as pd\n",
    "@pyimport matplotlib.font_manager as font_manager"
   ]
  },
  {
   "cell_type": "code",
   "execution_count": null,
   "id": "672fdb88-03fc-4583-aa6f-b65b70892457",
   "metadata": {
    "tags": []
   },
   "outputs": [],
   "source": [
    "rc_params = PyDict(pyimport(\"matplotlib\")[\"rcParams\"]);\n",
    "rc_params[\"font.sans-serif\"] = [\"Arial\"];\n",
    "rc_params[\"font.size\"] = 7;\n",
    "rc_params[\"lines.linewidth\"] = 1;\n",
    "rc_params[\"lines.markersize\"] = 4;\n",
    "rc_params[\"xtick.major.size\"] = 2;\n",
    "rc_params[\"ytick.major.size\"] = 2;\n",
    "rc_params[\"xtick.major.pad\"] = 2;\n",
    "rc_params[\"ytick.major.pad\"] = 2;\n",
    "# rc_params[\"axes.labelpad\"] = 2;\n",
    "rc_params[\"axes.spines.right\"] = false\n",
    "rc_params[\"axes.spines.top\"] = false\n",
    "\n",
    "cim(img::Matrix{UInt32}) = CairoImageSurface(img, Cairo.FORMAT_RGB24; flipxy = false) \n",
    "cim(img::Matrix{ARGB32}) = cim(reinterpret(UInt32, img))\n",
    "cim(img::Matrix{RGB24}) = cim(reinterpret(UInt32, img))\n",
    "cim(img::Matrix{UInt8}) = cim(Gray.(reinterpret(N0f8, img)))\n",
    "cim(img::Array{UInt8,3}) = cim(RGB24.(reinterpret(N0f8, img[:,:,1]), reinterpret(N0f8, img[:,:,2]), reinterpret(N0f8, img[:,:,3])));downsample(img,n=4) = +([img[i:n:n*div(size(img,1)-1,n), j:n:n*div(size(img,2)-1,n)] for i = 1:n, j = 1:n]...)/(n*n);\n",
    "downsample(img,n=4) = +([img[i:n:n*div(size(img,1)-1,n), j:n:n*div(size(img,2)-1,n)] for i = 1:n, j = 1:n]...)/(n*n);"
   ]
  },
  {
   "cell_type": "code",
   "execution_count": null,
   "id": "3c416cdd-879f-4d0d-9b36-862684127609",
   "metadata": {
    "tags": []
   },
   "outputs": [],
   "source": [
    "# include(\"../../../functions/func_map.jl\")\n",
    "# include(\"../../../functions/func_data.jl\")\n",
    "include(\"../../../functions/func_plot.jl\")\n",
    "include(\"../../../functions/func_stat.jl\")\n",
    "include(\"../../../functions/utils.jl\")"
   ]
  },
  {
   "cell_type": "markdown",
   "id": "b74d2469-1dbe-4e68-8b2a-cf2f92207148",
   "metadata": {},
   "source": [
    "## Test on one fish"
   ]
  },
  {
   "cell_type": "code",
   "execution_count": null,
   "id": "a1f0eb01-f35f-437f-bfa6-730a8e97c45d",
   "metadata": {
    "tags": []
   },
   "outputs": [],
   "source": [
    "experimenter = \"jen\"\n",
    "analyzer = \"chuyu\"\n",
    "server = 9\n",
    "\n",
    "experiment_filename = \"20220406_111526\"\n",
    "ds = Dataset(experiment_filename, experimenter, gethostname() == \"roli-$(server)\" ? \"/data\" : \"/nfs/data$(server)\") # This example dataset is on roli-9, so the path is different depending on whether you're trying to access the file from roli-9\n",
    "ds_save = Dataset(experiment_filename, analyzer, gethostname() == \"roli-$(server)\" ? \"/data\" : \"/nfs/data$(server)\")\n",
    "\n",
    "C, heading, img_bg, y_fish, x_offset, x_fish, y_offset = h5open(ds, \"behavior.h5\"; raw = true) do file\n",
    "    read(file, \"C\"),\n",
    "    read(file, \"heading\"), \n",
    "    read(file, \"img_bg\"),\n",
    "    read(file, \"fish_anchor_y\"), \n",
    "    read(file, \"offset_x\"), \n",
    "    read(file, \"fish_anchor_x\"), \n",
    "    read(file, \"offset_y\")\n",
    "end;\n",
    "\n",
    "w = size(img_bg, 1)\n",
    "l = size(img_bg, 2);"
   ]
  },
  {
   "cell_type": "code",
   "execution_count": null,
   "id": "c40806a3-52f7-4eeb-a27a-3610fcacfdf5",
   "metadata": {
    "tags": []
   },
   "outputs": [],
   "source": [
    "#roi averged activity, which wasalready saved\n",
    "neuron_merge_activity_file = h5open(joinpath(data_path(ds_save), \"NMF_merge.h5\"))\n",
    "A_dF = HDF5.readmmap(neuron_merge_activity_file[\"A_dF\"]);\n",
    "close(neuron_merge_activity_file)\n",
    "n_neurons = size(A_dF, 2);"
   ]
  },
  {
   "cell_type": "code",
   "execution_count": null,
   "id": "cb47d54a-2d29-4a5f-851d-92dc4257b2d5",
   "metadata": {},
   "outputs": [],
   "source": [
    "NMF_filename = joinpath(data_path(ds_save), \"NMF_merge.h5\")\n",
    "NMF_file = h5open(NMF_filename, \"r\")\n",
    "global neuron_label = HDF5.readmmap(NMF_file[\"neuron_label\"])\n",
    "close(NMF_file)\n",
    "n_neuron = n_neurons\n",
    "\n",
    "# whether individual roi belongs to a certain region\n",
    "region_bool_filename = joinpath(data_path(ds_save), \"region_roi_bool.h5\")\n",
    "region_bool_file = h5open(region_bool_filename, \"r\")\n",
    "global region_names = read(region_bool_file, \"region_names\")\n",
    "global region_roi_bool = read(region_bool_file, \"region_roi_bool\")\n",
    "close(region_bool_file)\n",
    "\n",
    "\n",
    "# for one merged cell, it belongs to telecephalon if at least one of its roi belongs to telencephalon\n",
    "region_roi_bool_tel = region_roi_bool[:,findall(region_names .== \"Telencephalon -\")][:,1]\n",
    "whether_tel = falses(n_neuron)\n",
    "for which_neuron in Int32.(numpy.unique(neuron_label)[1:end-1])\n",
    "    if sum(region_roi_bool_tel[neuron_label.==which_neuron]) >0\n",
    "        whether_tel[which_neuron] = true\n",
    "    end\n",
    "end"
   ]
  },
  {
   "cell_type": "code",
   "execution_count": null,
   "id": "239625dd-18e2-4575-a62e-0f649883e721",
   "metadata": {},
   "outputs": [],
   "source": [
    "tel_neurons = findall(whether_tel);"
   ]
  },
  {
   "cell_type": "code",
   "execution_count": null,
   "id": "349567a6-39c4-40ce-95a8-419a75b773a2",
   "metadata": {
    "tags": []
   },
   "outputs": [],
   "source": [
    "n_sweeps = size(A_dF, 1)"
   ]
  },
  {
   "cell_type": "code",
   "execution_count": null,
   "id": "bc2c1ea9-ec2b-42a0-bf7c-192f215570ca",
   "metadata": {
    "tags": []
   },
   "outputs": [],
   "source": [
    "x_fish_sweep = reshape(x_fish[1:n_sweeps*125], (125, n_sweeps,))\n",
    "y_fish_sweep = reshape(y_fish[1:n_sweeps*125], (125, n_sweeps,));\n",
    "\n",
    "x_fish_sweep_mean = dropdims(mean(x_fish_sweep, dims = 1), dims = 1)\n",
    "y_fish_sweep_mean = dropdims(mean(y_fish_sweep, dims = 1), dims = 1);\n",
    "\n",
    "figure; scatter(x_fish_sweep_mean, y_fish_sweep_mean,c=1:length(x_fish_sweep_mean))"
   ]
  },
  {
   "cell_type": "code",
   "execution_count": null,
   "id": "69a46722-6fc2-4fe6-b5ed-b147669fa5ce",
   "metadata": {
    "tags": []
   },
   "outputs": [],
   "source": [
    "x_fish_mm_fit = fit(TrendFilter, x_fish_sweep_mean .* 0.02, 5, 2);\n",
    "y_fish_mm_fit = fit(TrendFilter, y_fish_sweep_mean .* 0.02, 5, 2);\n",
    "\n",
    "figure(figsize = (16,3)); \n",
    "plot(x_fish_sweep_mean .* 0.02, linewidth = 0.5)\n",
    "\n",
    "plot(x_fish_mm_fit.β, linewidth = 0.5)\n",
    "ylim(0, 100)\n",
    "xlim(0, 1000)"
   ]
  },
  {
   "cell_type": "code",
   "execution_count": null,
   "id": "0ebcce4b-2cef-4eab-bf0c-248b4cd6d3b8",
   "metadata": {
    "tags": []
   },
   "outputs": [],
   "source": [
    "speed_mm_s = (diff(x_fish_mm_fit.β).^2 .+ diff(y_fish_mm_fit.β).^2).^0.5 ./ 0.5;\n",
    "\n",
    "speed_mm_s = vcat(speed_mm_s[1], speed_mm_s);\n",
    "figure(figsize = (16,3)); plot(speed_mm_s, linewidth = 0.5)\n",
    "# xlim(0, 1000)"
   ]
  },
  {
   "cell_type": "code",
   "execution_count": null,
   "id": "6de17aae-d26f-4a4c-811a-33cfd97d888c",
   "metadata": {
    "tags": []
   },
   "outputs": [],
   "source": [
    "speed_thr = 0.1\n",
    "valid_moving_indices = (speed_mm_s .> speed_thr);\n",
    "plot(valid_moving_indices)"
   ]
  },
  {
   "cell_type": "code",
   "execution_count": null,
   "id": "53f38bf3-fa55-4f1c-bb4e-4bf19c6226dc",
   "metadata": {
    "tags": []
   },
   "outputs": [],
   "source": [
    "heading_sweep = reshape(heading[1:n_sweeps*125], (125, n_sweeps,))\n",
    "heading_sweep_mean = dropdims(mean(heading_sweep, dims = 1), dims = 1);\n",
    "figure(figsize = (16,3)); plot(heading_sweep_mean, linewidth = 0.5)"
   ]
  },
  {
   "cell_type": "code",
   "execution_count": null,
   "id": "b78051dd-7fc9-463c-a20d-0ecf3e85d96d",
   "metadata": {
    "tags": []
   },
   "outputs": [],
   "source": [
    "n_pos = 15 #here you can specify the number of bins, bins are equally size in x and y, indicating spatial resolution\n",
    "\n",
    "min_x = floor(Int64, minimum(x_fish_sweep_mean));\n",
    "max_x = floor(Int64, maximum(x_fish_sweep_mean));\n",
    "\n",
    "min_y = floor(Int64, minimum(y_fish_sweep_mean));\n",
    "max_y = floor(Int64, maximum(y_fish_sweep_mean));\n",
    "\n",
    "interval = maximum([(max_y-min_y+2)/n_pos,(max_x-min_x+2)/n_pos])\n",
    "\n",
    "# x_bins = LinRange(min_x, max_x, n_pos+1)\n",
    "# y_bins = LinRange(min_y, max_y, n_pos+1);\n",
    "x_bins = collect(min_x-1:interval:min_x+interval*(n_pos)+1);\n",
    "y_bins = collect(min_y-1:interval:min_y+interval*(n_pos)+1);\n",
    "\n",
    "x_bins_mid = (x_bins[1:end-1]+x_bins[2:end])/2\n",
    "y_bins_mid = (y_bins[1:end-1]+y_bins[2:end])/2;\n",
    "\n",
    "\n",
    "# Digitize data, then we just count the number\n",
    "x_digital = numpy.digitize(x_fish_sweep_mean, x_bins)\n",
    "y_digital = numpy.digitize(y_fish_sweep_mean, y_bins);\n",
    "loc_digital = (y_digital.-1).*n_pos.+x_digital;\n",
    "\n",
    "loc_vectors = zeros(Int32, maximum(loc_digital),n_sweeps)\n",
    "for i in 1:maximum(loc_digital)\n",
    "    loc_vectors[i,findall(loc_digital.==i)] .= 1\n",
    "end"
   ]
  },
  {
   "cell_type": "code",
   "execution_count": null,
   "id": "4092d9e4-8609-40c8-babb-30f7dc47efd0",
   "metadata": {
    "tags": []
   },
   "outputs": [],
   "source": [
    "n_angle = 24\n",
    "\n",
    "angle_bins = numpy.linspace(0, 2*pi, n_angle+1);\n",
    "\n",
    "heading_digital = numpy.digitize(heading_sweep_mean, angle_bins)\n",
    "\n",
    "heading_vectors = zeros(Int32, n_angle,n_sweeps)\n",
    "for i in 1:n_angle\n",
    "    heading_vectors[i,findall(heading_digital.==i)] .= 1\n",
    "end"
   ]
  },
  {
   "cell_type": "code",
   "execution_count": null,
   "id": "a7e07689-90ca-4d32-bec7-e521015b6603",
   "metadata": {
    "tags": []
   },
   "outputs": [],
   "source": [
    "n_speed = 24\n",
    "\n",
    "speed_bins = numpy.linspace(0, maximum(speed_mm_s), n_speed+1);\n",
    "\n",
    "speed_digital = numpy.digitize(speed_mm_s, speed_bins)\n",
    "\n",
    "speed_vectors = zeros(Int32, n_speed,n_sweeps)\n",
    "for i in 1:n_speed\n",
    "    speed_vectors[i,findall(speed_digital.==i)] .= 1\n",
    "end"
   ]
  },
  {
   "cell_type": "code",
   "execution_count": null,
   "id": "0e7d3df4-6773-4d43-9d7e-c8899d144b35",
   "metadata": {
    "tags": []
   },
   "outputs": [],
   "source": [
    "# Valid indices for calculation\n",
    "bool_index = trues(n_sweeps)\n",
    "bool_index[.!valid_moving_indices].=false;"
   ]
  },
  {
   "cell_type": "code",
   "execution_count": null,
   "id": "b255e725-b823-4a24-9601-2e8b9b970b4e",
   "metadata": {
    "tags": []
   },
   "outputs": [],
   "source": [
    "heading_glm_paramters = fill(NaN32,1+size(heading_vectors,1), n_neurons)\n",
    "heading_r_2_all = fill(NaN32,n_neurons)\n",
    "@showprogress for neuron_index in tel_neurons\n",
    "    neural_activity = A_dF[:,neuron_index]\n",
    "    valid_time_this_neuron = .!(isnan.(neural_activity));\n",
    "    valid_this_neuron = findall(valid_time_this_neuron.*bool_index);\n",
    "    mod = sm.OLS((A_dF[valid_this_neuron,neuron_index]),(sm.add_constant(heading_vectors'))[valid_this_neuron,:])\n",
    "    mod_results = mod.fit_regularized(L1_wt=0.0, alpha=1e-10)\n",
    "    heading_glm_paramters[:,neuron_index] .= mod_results.params\n",
    "    predicted_activity = mod_results.predict();\n",
    "    heading_r_2_all[neuron_index] = sklearn.metrics.r2_score(neural_activity[valid_this_neuron],predicted_activity)\n",
    "end"
   ]
  },
  {
   "cell_type": "code",
   "execution_count": null,
   "id": "3d966de9-f325-4e48-a2e0-a1c37e9a659b",
   "metadata": {
    "tags": []
   },
   "outputs": [],
   "source": [
    "speed_glm_paramters = fill(NaN32,1+size(speed_vectors,1), n_neurons)\n",
    "speed_r_2_all = fill(NaN32,n_neurons)\n",
    "@showprogress for neuron_index in tel_neurons\n",
    "    neural_activity = A_dF[:,neuron_index]\n",
    "    valid_time_this_neuron = .!(isnan.(neural_activity));\n",
    "    valid_this_neuron = findall(valid_time_this_neuron.*bool_index);\n",
    "    mod = sm.OLS((A_dF[valid_this_neuron,neuron_index]),(sm.add_constant(speed_vectors'))[valid_this_neuron,:])\n",
    "    mod_results = mod.fit_regularized(L1_wt=0.0, alpha=1e-10)\n",
    "    speed_glm_paramters[:,neuron_index] .= mod_results.params\n",
    "    predicted_activity = mod_results.predict();\n",
    "    speed_r_2_all[neuron_index] = sklearn.metrics.r2_score(neural_activity[valid_this_neuron],predicted_activity)\n",
    "end"
   ]
  },
  {
   "cell_type": "code",
   "execution_count": null,
   "id": "80ae501e-ddba-490a-b426-d727562fdb68",
   "metadata": {
    "tags": []
   },
   "outputs": [],
   "source": [
    "loc_glm_paramters = fill(NaN32,1+size(loc_vectors,1), n_neurons)\n",
    "loc_r_2_all = fill(NaN32,n_neurons)\n",
    "@showprogress for neuron_index in tel_neurons\n",
    "    neural_activity = A_dF[:,neuron_index]\n",
    "    valid_time_this_neuron = .!(isnan.(neural_activity));\n",
    "    valid_this_neuron = findall(valid_time_this_neuron.*bool_index);\n",
    "    mod = sm.OLS((A_dF[valid_this_neuron,neuron_index]),(sm.add_constant(loc_vectors'))[valid_this_neuron,:])\n",
    "    mod_results = mod.fit_regularized(L1_wt=0.0, alpha=1e-10)\n",
    "    loc_glm_paramters[:,neuron_index] .= mod_results.params\n",
    "    predicted_activity = mod_results.predict();\n",
    "    loc_r_2_all[neuron_index] = sklearn.metrics.r2_score(neural_activity[valid_this_neuron],predicted_activity)\n",
    "end"
   ]
  },
  {
   "cell_type": "code",
   "execution_count": null,
   "id": "c7028d1a-d2c5-4263-8da4-9e0320c707d5",
   "metadata": {
    "tags": []
   },
   "outputs": [],
   "source": [
    "tog_vectors = vcat(heading_vectors, loc_vectors, speed_vectors);"
   ]
  },
  {
   "cell_type": "code",
   "execution_count": null,
   "id": "b2f862f2-ce98-4774-b91e-6c5e758cc697",
   "metadata": {
    "tags": []
   },
   "outputs": [],
   "source": [
    "tog_glm_paramters = fill(NaN32,1+size(tog_vectors,1), n_neurons)\n",
    "tog_r_2_all = fill(NaN32,n_neurons)\n",
    "@showprogress for neuron_index in tel_neurons\n",
    "    neural_activity = A_dF[:,neuron_index]\n",
    "    valid_time_this_neuron = .!(isnan.(neural_activity));\n",
    "    valid_this_neuron = findall(valid_time_this_neuron.*bool_index);\n",
    "    mod = sm.OLS((A_dF[valid_this_neuron,neuron_index]),(sm.add_constant(tog_vectors'))[valid_this_neuron,:])\n",
    "    mod_results = mod.fit_regularized(L1_wt=0.0, alpha=1e-10)\n",
    "    tog_glm_paramters[:,neuron_index] .= mod_results.params\n",
    "    predicted_activity = mod_results.predict();\n",
    "    tog_r_2_all[neuron_index] = sklearn.metrics.r2_score(neural_activity[valid_this_neuron],predicted_activity)\n",
    "end"
   ]
  },
  {
   "cell_type": "code",
   "execution_count": null,
   "id": "7b78df1e-4a10-44f2-af17-16cd48496bef",
   "metadata": {
    "tags": []
   },
   "outputs": [],
   "source": [
    "h5open(joinpath(data_path(ds_save), \"ols_results_tel.h5\"), \"w\") do file\n",
    "    file[\"heading_glm_paramters\"] = heading_glm_paramters\n",
    "    file[\"heading_r_2_all\"] = heading_r_2_all\n",
    "    file[\"speed_glm_paramters\"] = speed_glm_paramters\n",
    "    file[\"speed_r_2_all\"] = speed_r_2_all\n",
    "    file[\"loc_glm_paramters\"] = loc_glm_paramters\n",
    "    file[\"loc_r_2_all\"] = loc_r_2_all\n",
    "    file[\"tog_glm_paramters\"] = tog_glm_paramters\n",
    "    file[\"tog_r_2_all\"] = tog_r_2_all\n",
    "end;"
   ]
  },
  {
   "cell_type": "code",
   "execution_count": null,
   "id": "38b12332-26f2-4a9e-9cfe-d91e8b73be9d",
   "metadata": {},
   "outputs": [],
   "source": [
    "hist(loc_r_2_all, alpha=0.3, bins=100, density=true,label=\"loc\");\n",
    "hist(speed_r_2_all, alpha=0.3, bins=30, density=true,label=\"speed\");\n",
    "hist(heading_r_2_all, alpha=0.3, bins=100, density=true,label=\"heading\");\n",
    "hist(tog_r_2_all, alpha=0.3, bins=100, density=true,label=\"heading+loc+speed\");\n",
    "\n",
    "xlabel(\"r2\")\n",
    "legend()\n",
    "xlim(-0.01, 1)\n",
    "title(\"OLS\")\n",
    "xlim(0,0.4)"
   ]
  },
  {
   "cell_type": "code",
   "execution_count": null,
   "id": "0a5fdf53-4afb-46c3-90b4-6724a42b90fc",
   "metadata": {},
   "outputs": [],
   "source": [
    "file_folder_1 = joinpath(data_path(ds_save), \"\")\n",
    "all_files = readdir(file_folder_1)\n",
    "long_name_files = all_files[findall([length(all_files[i])>6 for i in 1:length(all_files)])]\n",
    "spatial_info_index = [occursin(\"A_dF\", long_name_files[i])*occursin(\"neuron\", long_name_files[i]) for i in 1:length(long_name_files)]\n",
    "candidate_filename = long_name_files[spatial_info_index]\n",
    "which_file = [occursin(experiment_filename, candidate_filename[i])*occursin(\"A_dF\", candidate_filename[i]) for i in 1:length(candidate_filename)]\n",
    "println(candidate_filename[which_file])\n",
    "@assert(length(candidate_filename[which_file]) == 1)\n",
    "save_file_name = candidate_filename[which_file][1]\n",
    "info_filename = joinpath(file_folder_1, save_file_name)\n",
    "file = h5open(info_filename, \"r\")\n",
    "place_cell_index = HDF5.readmmap(file[\"place_cell_index\"])\n",
    "valid_roi_1 = HDF5.readmmap(file[\"valid_neurons\"])\n",
    "close(file)"
   ]
  },
  {
   "cell_type": "code",
   "execution_count": null,
   "id": "d6802b12-5982-4466-96c4-724c35f54774",
   "metadata": {},
   "outputs": [],
   "source": [
    "hist(loc_r_2_all[place_cell_index], alpha=0.3, bins=100, density=true,label=\"loc\");\n",
    "hist(speed_r_2_all[place_cell_index], alpha=0.3, bins=30, density=true,label=\"speed\");\n",
    "hist(heading_r_2_all[place_cell_index], alpha=0.3, bins=100, density=true,label=\"heading\");\n",
    "hist(tog_r_2_all[place_cell_index], alpha=0.3, bins=100, density=true,label=\"heading+loc+speed\");\n",
    "\n",
    "xlabel(\"r2\")\n",
    "legend()\n",
    "xlim(-0.01, 1)\n",
    "title(\"OLS\")\n",
    "# xlim(0,0.4)"
   ]
  },
  {
   "cell_type": "code",
   "execution_count": null,
   "id": "cbdfe077-ef09-4b9f-bebe-94bd175e1fe5",
   "metadata": {},
   "outputs": [],
   "source": [
    "hist(loc_r_2_all, alpha=0.3, bins=100, density=true,label=\"loc\");\n",
    "hist(speed_r_2_all, alpha=0.3, bins=30, density=true,label=\"speed\");\n",
    "hist(heading_r_2_all, alpha=0.3, bins=100, density=true,label=\"heading\");\n",
    "hist(tog_r_2_all, alpha=0.3, bins=100, density=true,label=\"heading+loc+speed\");\n",
    "\n",
    "xlabel(\"r2\")\n",
    "legend()\n",
    "xlim(-0.01, 1)\n",
    "title(\"OLS\")\n",
    "xlim(0,0.4)"
   ]
  },
  {
   "cell_type": "code",
   "execution_count": null,
   "id": "a5e03661-d29b-4a66-a6d9-4a8e4f3af8a4",
   "metadata": {},
   "outputs": [],
   "source": [
    "NMF_filename = joinpath(data_path(ds_save), \"NMF_merge.h5\")\n",
    "NMF_file = h5open(NMF_filename, \"r\")\n",
    "global Z_all = HDF5.readmmap(NMF_file[\"Z_all\"])\n",
    "global X_all = HDF5.readmmap(NMF_file[\"X_all\"])\n",
    "global Y_all = HDF5.readmmap(NMF_file[\"Y_all\"])\n",
    "close(NMF_file)\n",
    "\n",
    "n_neuron = length(X_all);\n",
    "valid_neurons  = 1:n_neuron;"
   ]
  },
  {
   "cell_type": "code",
   "execution_count": null,
   "id": "250fee32-f9f9-43ce-9c36-a860ccb79547",
   "metadata": {},
   "outputs": [],
   "source": [
    "plot_quantity(heading_r_2_all./tog_r_2_all;label=\"heading/tog  $experiment_filename\")"
   ]
  },
  {
   "cell_type": "code",
   "execution_count": null,
   "id": "3a000ce9-d652-498a-b6e6-da7a2ea41f71",
   "metadata": {},
   "outputs": [],
   "source": [
    "plot_quantity(speed_r_2_all./tog_r_2_all;label=\"speed/tog  $experiment_filename\")"
   ]
  },
  {
   "cell_type": "code",
   "execution_count": null,
   "id": "38d1383a-9b03-4e6f-85b0-0535915073c1",
   "metadata": {},
   "outputs": [],
   "source": [
    "plot_quantity(loc_r_2_all;vmax=0.25,vmin=0,label=\"r2, loc\")"
   ]
  },
  {
   "cell_type": "code",
   "execution_count": null,
   "id": "dc85893d-4111-4d67-859a-ce51312ef0f3",
   "metadata": {},
   "outputs": [],
   "source": [
    "plot_quantity(loc_r_2_all ./ tog_r_2_all;label=\"loc/tog  $experiment_filename\")"
   ]
  },
  {
   "cell_type": "markdown",
   "id": "cbea9a37-2aa6-4a72-99f4-f184c24c4232",
   "metadata": {},
   "source": [
    "# For all fish"
   ]
  },
  {
   "cell_type": "code",
   "execution_count": null,
   "id": "040422c1-9096-42f7-b9fc-647ab0e1a5f8",
   "metadata": {
    "tags": []
   },
   "outputs": [],
   "source": [
    "data_info_all = \n",
    "[\n",
    "    [\"20220407_152537\", 4, \"jen\"],\n",
    "    [\"20220406_111526\", 9, \"jen\"],\n",
    "    [\"20220407_090156\", 5, \"jen\"],\n",
    "    [\"20220417_165530\", 2, \"jen\"],\n",
    "    [\"20220406_153842\", 9, \"jen\"],\n",
    "    [\"20220405_171444\", 4, \"jen\"],\n",
    "    [\"20220416_160516\", 6, \"jen\"]\n",
    "];"
   ]
  },
  {
   "cell_type": "code",
   "execution_count": null,
   "id": "4a539bb9-b28b-4196-a74f-6a646a0f370b",
   "metadata": {
    "tags": []
   },
   "outputs": [],
   "source": [
    "analyzer = \"chuyu\""
   ]
  },
  {
   "cell_type": "code",
   "execution_count": null,
   "id": "b822b9da-3e2e-4feb-8328-8e17ec4890dc",
   "metadata": {},
   "outputs": [],
   "source": [
    "for data_info in data_info_all\n",
    "experimenter = data_info[3]\n",
    "server = data_info[2]\n",
    "experiment_filename = data_info[1]\n",
    "    \n",
    "ds = Dataset(experiment_filename, experimenter, gethostname() == \"roli-$(server)\" ? \"/data\" : \"/nfs/data$(server)\") # This example dataset is on roli-9, so the path is different depending on whether you're trying to access the file from roli-9\n",
    "ds_save = Dataset(experiment_filename, analyzer, gethostname() == \"roli-$(server)\" ? \"/data\" : \"/nfs/data$(server)\")\n",
    "\n",
    "C, heading, img_bg, y_fish, x_offset, x_fish, y_offset = h5open(ds, \"behavior.h5\"; raw = true) do file\n",
    "    read(file, \"C\"),\n",
    "    read(file, \"heading\"), \n",
    "    read(file, \"img_bg\"),\n",
    "    read(file, \"fish_anchor_y\"), \n",
    "    read(file, \"offset_x\"), \n",
    "    read(file, \"fish_anchor_x\"), \n",
    "    read(file, \"offset_y\")\n",
    "end;\n",
    "\n",
    "w = size(img_bg, 1)\n",
    "l = size(img_bg, 2);\n",
    "\n",
    "#roi averged activity, which wasalready saved\n",
    "NMF_filename = joinpath(data_path(ds_save), \"NMF_merge.h5\")\n",
    "NMF_file = h5open(NMF_filename, \"r\")\n",
    "A_dF = HDF5.readmmap(NMF_file[\"A_dF\"]);\n",
    "Z_all = HDF5.readmmap(NMF_file[\"Z_all\"])\n",
    "X_all = HDF5.readmmap(NMF_file[\"X_all\"])\n",
    "Y_all = HDF5.readmmap(NMF_file[\"Y_all\"])\n",
    "close(NMF_file)\n",
    "n_neurons = size(A_dF, 2);\n",
    "n_neuron = size(A_dF, 2);\n",
    "\n",
    "NMF_filename = joinpath(data_path(ds_save), \"NMF_merge.h5\")\n",
    "NMF_file = h5open(NMF_filename, \"r\")\n",
    "global neuron_label = HDF5.readmmap(NMF_file[\"neuron_label\"])\n",
    "close(NMF_file)\n",
    "\n",
    "# whether individual roi belongs to a certain region\n",
    "region_bool_filename = joinpath(data_path(ds_save), \"region_roi_bool.h5\")\n",
    "region_bool_file = h5open(region_bool_filename, \"r\")\n",
    "global region_names = read(region_bool_file, \"region_names\")\n",
    "global region_roi_bool = read(region_bool_file, \"region_roi_bool\")\n",
    "close(region_bool_file)\n",
    "\n",
    "\n",
    "# for one merged cell, it belongs to telecephalon if at least one of its roi belongs to telencephalon\n",
    "region_roi_bool_tel = region_roi_bool[:,findall(region_names .== \"Telencephalon -\")][:,1]\n",
    "whether_tel = falses(n_neuron)\n",
    "for which_neuron in Int32.(numpy.unique(neuron_label)[1:end-1])\n",
    "    if sum(region_roi_bool_tel[neuron_label.==which_neuron]) >0\n",
    "        whether_tel[which_neuron] = true\n",
    "    end\n",
    "end\n",
    "\n",
    "tel_neurons = findall(whether_tel);\n",
    "\n",
    "\n",
    "n_sweeps = size(A_dF, 1)\n",
    "\n",
    "\n",
    "x_fish_sweep = reshape(x_fish[1:n_sweeps*125], (125, n_sweeps,))\n",
    "y_fish_sweep = reshape(y_fish[1:n_sweeps*125], (125, n_sweeps,));\n",
    "\n",
    "x_fish_sweep_mean = dropdims(mean(x_fish_sweep, dims = 1), dims = 1)\n",
    "y_fish_sweep_mean = dropdims(mean(y_fish_sweep, dims = 1), dims = 1);\n",
    "\n",
    "\n",
    "x_fish_mm_fit = fit(TrendFilter, x_fish_sweep_mean .* 0.02, 5, 2);\n",
    "y_fish_mm_fit = fit(TrendFilter, y_fish_sweep_mean .* 0.02, 5, 2);\n",
    "\n",
    "speed_mm_s = (diff(x_fish_mm_fit.β).^2 .+ diff(y_fish_mm_fit.β).^2).^0.5 ./ 0.5;\n",
    "\n",
    "speed_mm_s = vcat(speed_mm_s[1], speed_mm_s);\n",
    "\n",
    "\n",
    "speed_thr = 0.1\n",
    "valid_moving_indices = (speed_mm_s .> speed_thr);\n",
    "\n",
    "heading_sweep = reshape(heading[1:n_sweeps*125], (125, n_sweeps,))\n",
    "heading_sweep_mean = dropdims(mean(heading_sweep, dims = 1), dims = 1);\n",
    "\n",
    "\n",
    "n_pos = 15 #here you can specify the number of bins, bins are equally size in x and y, indicating spatial resolution\n",
    "\n",
    "min_x = floor(Int64, minimum(x_fish_sweep_mean));\n",
    "max_x = floor(Int64, maximum(x_fish_sweep_mean));\n",
    "\n",
    "min_y = floor(Int64, minimum(y_fish_sweep_mean));\n",
    "max_y = floor(Int64, maximum(y_fish_sweep_mean));\n",
    "\n",
    "interval = maximum([(max_y-min_y+2)/n_pos,(max_x-min_x+2)/n_pos])\n",
    "\n",
    "# x_bins = LinRange(min_x, max_x, n_pos+1)\n",
    "# y_bins = LinRange(min_y, max_y, n_pos+1);\n",
    "x_bins = collect(min_x-1:interval:min_x+interval*(n_pos)+1);\n",
    "y_bins = collect(min_y-1:interval:min_y+interval*(n_pos)+1);\n",
    "\n",
    "x_bins_mid = (x_bins[1:end-1]+x_bins[2:end])/2\n",
    "y_bins_mid = (y_bins[1:end-1]+y_bins[2:end])/2;\n",
    "\n",
    "\n",
    "# Digitize data, then we just count the number\n",
    "x_digital = numpy.digitize(x_fish_sweep_mean, x_bins)\n",
    "y_digital = numpy.digitize(y_fish_sweep_mean, y_bins);\n",
    "loc_digital = (y_digital.-1).*n_pos.+x_digital;\n",
    "\n",
    "loc_vectors = zeros(Int32, maximum(loc_digital),n_sweeps)\n",
    "for i in 1:maximum(loc_digital)\n",
    "    loc_vectors[i,findall(loc_digital.==i)] .= 1\n",
    "end\n",
    "\n",
    "\n",
    "n_angle = 24\n",
    "\n",
    "angle_bins = numpy.linspace(0, 2*pi, n_angle+1);\n",
    "\n",
    "heading_digital = numpy.digitize(heading_sweep_mean, angle_bins)\n",
    "\n",
    "heading_vectors = zeros(Int32, n_angle,n_sweeps)\n",
    "for i in 1:n_angle\n",
    "    heading_vectors[i,findall(heading_digital.==i)] .= 1\n",
    "end\n",
    "\n",
    "\n",
    "n_speed = 24\n",
    "\n",
    "speed_bins = numpy.linspace(0, maximum(speed_mm_s), n_speed+1);\n",
    "\n",
    "speed_digital = numpy.digitize(speed_mm_s, speed_bins)\n",
    "\n",
    "speed_vectors = zeros(Int32, n_speed,n_sweeps)\n",
    "for i in 1:n_speed\n",
    "    speed_vectors[i,findall(speed_digital.==i)] .= 1\n",
    "end\n",
    "\n",
    "\n",
    "# Valid indices for calculation\n",
    "bool_index = trues(n_sweeps)\n",
    "bool_index[.!valid_moving_indices].=false;\n",
    "\n",
    "\n",
    "heading_glm_paramters = fill(NaN32,1+size(heading_vectors,1), n_neurons)\n",
    "heading_r_2_all = fill(NaN32,n_neurons)\n",
    "@showprogress for neuron_index in tel_neurons\n",
    "    neural_activity = A_dF[:,neuron_index]\n",
    "    valid_time_this_neuron = .!(isnan.(neural_activity));\n",
    "    valid_this_neuron = findall(valid_time_this_neuron.*bool_index);\n",
    "    mod = sm.OLS((A_dF[valid_this_neuron,neuron_index]),(sm.add_constant(heading_vectors'))[valid_this_neuron,:])\n",
    "    mod_results = mod.fit_regularized(L1_wt=0.0, alpha=1e-10)\n",
    "    heading_glm_paramters[:,neuron_index] .= mod_results.params\n",
    "    predicted_activity = mod_results.predict();\n",
    "    heading_r_2_all[neuron_index] = sklearn.metrics.r2_score(neural_activity[valid_this_neuron],predicted_activity)\n",
    "end\n",
    "\n",
    "speed_glm_paramters = fill(NaN32,1+size(speed_vectors,1), n_neurons)\n",
    "speed_r_2_all = fill(NaN32,n_neurons)\n",
    "@showprogress for neuron_index in tel_neurons\n",
    "    neural_activity = A_dF[:,neuron_index]\n",
    "    valid_time_this_neuron = .!(isnan.(neural_activity));\n",
    "    valid_this_neuron = findall(valid_time_this_neuron.*bool_index);\n",
    "    mod = sm.OLS((A_dF[valid_this_neuron,neuron_index]),(sm.add_constant(speed_vectors'))[valid_this_neuron,:])\n",
    "    mod_results = mod.fit_regularized(L1_wt=0.0, alpha=1e-10)\n",
    "    speed_glm_paramters[:,neuron_index] .= mod_results.params\n",
    "    predicted_activity = mod_results.predict();\n",
    "    speed_r_2_all[neuron_index] = sklearn.metrics.r2_score(neural_activity[valid_this_neuron],predicted_activity)\n",
    "end\n",
    "\n",
    "\n",
    "loc_glm_paramters = fill(NaN32,1+size(loc_vectors,1), n_neurons)\n",
    "loc_r_2_all = fill(NaN32,n_neurons)\n",
    "@showprogress for neuron_index in tel_neurons\n",
    "    neural_activity = A_dF[:,neuron_index]\n",
    "    valid_time_this_neuron = .!(isnan.(neural_activity));\n",
    "    valid_this_neuron = findall(valid_time_this_neuron.*bool_index);\n",
    "    mod = sm.OLS((A_dF[valid_this_neuron,neuron_index]),(sm.add_constant(loc_vectors'))[valid_this_neuron,:])\n",
    "    mod_results = mod.fit_regularized(L1_wt=0.0, alpha=1e-10)\n",
    "    loc_glm_paramters[:,neuron_index] .= mod_results.params\n",
    "    predicted_activity = mod_results.predict();\n",
    "    loc_r_2_all[neuron_index] = sklearn.metrics.r2_score(neural_activity[valid_this_neuron],predicted_activity)\n",
    "end\n",
    "\n",
    "tog_vectors = vcat(heading_vectors, loc_vectors, speed_vectors);\n",
    "\n",
    "\n",
    "tog_glm_paramters = fill(NaN32,1+size(tog_vectors,1), n_neurons)\n",
    "tog_r_2_all = fill(NaN32,n_neurons)\n",
    "@showprogress for neuron_index in tel_neurons\n",
    "    neural_activity = A_dF[:,neuron_index]\n",
    "    valid_time_this_neuron = .!(isnan.(neural_activity));\n",
    "    valid_this_neuron = findall(valid_time_this_neuron.*bool_index);\n",
    "    mod = sm.OLS((A_dF[valid_this_neuron,neuron_index]),(sm.add_constant(tog_vectors'))[valid_this_neuron,:])\n",
    "    mod_results = mod.fit_regularized(L1_wt=0.0, alpha=1e-10)\n",
    "    tog_glm_paramters[:,neuron_index] .= mod_results.params\n",
    "    predicted_activity = mod_results.predict();\n",
    "    tog_r_2_all[neuron_index] = sklearn.metrics.r2_score(neural_activity[valid_this_neuron],predicted_activity)\n",
    "end\n",
    "\n",
    "\n",
    "h5open(joinpath(data_path(ds_save), \"ols_results_tel.h5\"), \"w\") do file\n",
    "    file[\"heading_glm_paramters\"] = heading_glm_paramters\n",
    "    file[\"heading_r_2_all\"] = heading_r_2_all\n",
    "    file[\"speed_glm_paramters\"] = speed_glm_paramters\n",
    "    file[\"speed_r_2_all\"] = speed_r_2_all\n",
    "    file[\"loc_glm_paramters\"] = loc_glm_paramters\n",
    "    file[\"loc_r_2_all\"] = loc_r_2_all\n",
    "    file[\"tog_glm_paramters\"] = tog_glm_paramters\n",
    "    file[\"tog_r_2_all\"] = tog_r_2_all\n",
    "    file[\"tel_neurons\"] = tel_neurons\n",
    "\n",
    "end;\n",
    "\n",
    "\n",
    "end"
   ]
  },
  {
   "cell_type": "code",
   "execution_count": null,
   "id": "bf4cb6f6-0437-46d1-8918-fde850eeee29",
   "metadata": {
    "tags": []
   },
   "outputs": [],
   "source": [
    "fig_path = \"/home/chuyu/Notebooks/project_place_cell/figures/output/sfigure1/ols\""
   ]
  },
  {
   "cell_type": "code",
   "execution_count": null,
   "id": "96452b6b-993a-455d-8a2b-719245cc6b92",
   "metadata": {
    "tags": []
   },
   "outputs": [],
   "source": [
    "loc_r_2_tog = []\n",
    "heading_r_2_tog = []\n",
    "speed_r_2_tog = []\n",
    "tog_r_2_tog = []\n",
    "for which_data in 1:length(data_info_all)\n",
    "    data_info = data_info_all[which_data]\n",
    "    experimenter = data_info[3]\n",
    "    experiment_filename = data_info[1]\n",
    "    server = data_info[2]\n",
    "    ds = Dataset(experiment_filename, experimenter, gethostname() == \"roli-$(server)\" ? \"/data\" : \"/nfs/data$(server)\") # This example dataset is on roli-9, so the path is different depending on whether you're trying to access the file from roli-9\n",
    "    ds_save = Dataset(experiment_filename, experimenter, gethostname() == \"roli-$(server)\" ? \"/data\" : \"/nfs/data$(server)\")\n",
    "    ds_save_cy = Dataset(experiment_filename, \"chuyu\", gethostname() == \"roli-$(server)\" ? \"/data\" : \"/nfs/data$(server)\")\n",
    "\n",
    "\n",
    "    h5open_all(h5open(joinpath(data_path(ds_save_cy), \"ols_results_tel.h5\"), \"r\"))\n",
    "    \n",
    "    \n",
    "    file_folder_1 = joinpath(data_path(ds_save_cy), \"\")\n",
    "    all_files = readdir(file_folder_1)\n",
    "    long_name_files = all_files[findall([length(all_files[i])>6 for i in 1:length(all_files)])]\n",
    "    spatial_info_index = findall([long_name_files[i][1:6]==\"neuron\" for i in 1:length(long_name_files)])\n",
    "    candidate_filename = long_name_files[spatial_info_index]\n",
    "    which_file = [occursin(experiment_filename, candidate_filename[i])*occursin(\"A_dF\", candidate_filename[i]) for i in 1:length(candidate_filename)]\n",
    "    @assert(length(candidate_filename[which_file]) == 1)\n",
    "    save_file_name = candidate_filename[which_file][1]\n",
    "    info_filename = joinpath(file_folder_1, save_file_name)\n",
    "    file = h5open(info_filename, \"r\")\n",
    "    place_map_all_1 = HDF5.readmmap(file[\"place_map_all\"])\n",
    "    specificity_1 = HDF5.readmmap(file[\"specificity\"])\n",
    "    specificity_population_z_1 = HDF5.readmmap(file[\"specificity_population_z\"])\n",
    "    specificity_shuffle_z_1 = HDF5.readmmap(file[\"specificity_shuffle_z\"])\n",
    "    valid_roi_1 = HDF5.readmmap(file[\"valid_neurons\"])\n",
    "    close(file)\n",
    "\n",
    "\n",
    "\n",
    "\n",
    "    place_cell_index = intersect(findall(specificity_population_z_1.>3), findall(specificity_shuffle_z_1.>5), findall(specificity_1.>0.01))\n",
    "\n",
    "    \n",
    "    \n",
    "    append!(speed_r_2_tog, speed_r_2_all[place_cell_index])\n",
    "    append!(loc_r_2_tog, loc_r_2_all[place_cell_index])\n",
    "    append!(heading_r_2_tog, heading_r_2_all[place_cell_index])\n",
    "    append!(tog_r_2_tog, tog_r_2_all[place_cell_index])\n",
    "\n",
    "end"
   ]
  },
  {
   "cell_type": "code",
   "execution_count": null,
   "id": "716946a1-cee6-4ce0-bdec-24c31cf16f1c",
   "metadata": {
    "tags": []
   },
   "outputs": [],
   "source": [
    "ols_result = Dict()\n",
    "ols_result[\"Heading\"] = heading_r_2_tog\n",
    "ols_result[\"Position\"] = loc_r_2_tog\n",
    "ols_result[\"Speed\"] = speed_r_2_tog\n",
    "ols_result[\"All\"] = tog_r_2_tog;\n",
    "df = pd.DataFrame(ols_result)"
   ]
  },
  {
   "cell_type": "code",
   "execution_count": null,
   "id": "98e11ebe-773d-48fe-8908-85dd41448ac2",
   "metadata": {
    "tags": []
   },
   "outputs": [],
   "source": [
    "@pyimport matplotlib.cm as cm \n",
    "order = [\"Speed\", \"Heading\", \"Position\", \"All\"]\n",
    "\n",
    "bins_raw= numpy.linspace(0,1,100)\n",
    "\n",
    "tab10 = cm.get_cmap(\"tab10\", 10)\n",
    "\n",
    "colors = [tab10(i) for i in [3,0,1,2]]\n",
    "\n",
    "fig, ax = subplots(1,1,figsize=(1.5,0.8), dpi=250)\n",
    "for (i, key_) in enumerate(order)\n",
    "    first_bin = findfirst(bins_raw.>nanminimum(Float32.(ols_result[key_])))\n",
    "    last_bin = findfirst(bins_raw.>nanmaximum(Float32.(ols_result[key_])))\n",
    "    println(bins_raw[first_bin])\n",
    "    println(nanminimum(Float32.(ols_result[key_])))\n",
    "    println(bins_raw[last_bin])\n",
    "    println(nanmaximum(Float32.(ols_result[key_])))\n",
    "    bins = bins_raw[first_bin: last_bin]\n",
    "    global count_1, _ = hist(ols_result[key_], label=key_,bins=bins, histtype=\"stepfilled\", fc=(colors[i][1], colors[i][2], colors[i][3], 0.3),ec=colors[i], linewidth=0.7)\n",
    "    println(maximum(count_1))\n",
    "end\n",
    "ax.legend(frameon=false,loc=(0.6, 0.1))\n",
    "xlabel(\"\\$R^2\\$\")\n",
    "ylabel(\"Count\",labelpad=-12)\n",
    "ax.spines[\"top\"].set_visible(false)\n",
    "ax.spines[\"right\"].set_visible(false)\n",
    "xlim(0,1)\n",
    "ylim(-100,1500)\n",
    "# yscale(\"log\")\n",
    "# yticks([1,10,100,1000],[\"\\$10^0\\$\",\"\",\"\",\"\\$10^3\\$\"])\n",
    "yticks([0, 500, 1000, 1500],[\"0\",\"\",\"\",\"1500\"])\n",
    "title(\"Tel. place cells\", fontsize=7)\n",
    "\n",
    "fig.savefig(joinpath(fig_path, \"ols_regression_tel.pdf\"), bbox_inches = \"tight\",pad_inches = 0, transparent = true)"
   ]
  },
  {
   "cell_type": "code",
   "execution_count": null,
   "id": "761d09cf-441d-475e-aa92-4dfe8c207785",
   "metadata": {
    "tags": []
   },
   "outputs": [],
   "source": [
    "loc_r_2_tog = []\n",
    "heading_r_2_tog = []\n",
    "speed_r_2_tog = []\n",
    "tog_r_2_tog = []\n",
    "for which_data in 1:length(data_info_all)\n",
    "    data_info = data_info_all[which_data]\n",
    "    experimenter = data_info[3]\n",
    "    experiment_filename = data_info[1]\n",
    "    server = data_info[2]\n",
    "    ds = Dataset(experiment_filename, experimenter, gethostname() == \"roli-$(server)\" ? \"/data\" : \"/nfs/data$(server)\") # This example dataset is on roli-9, so the path is different depending on whether you're trying to access the file from roli-9\n",
    "    ds_save = Dataset(experiment_filename, experimenter, gethostname() == \"roli-$(server)\" ? \"/data\" : \"/nfs/data$(server)\")\n",
    "    ds_save_cy = Dataset(experiment_filename, \"chuyu\", gethostname() == \"roli-$(server)\" ? \"/data\" : \"/nfs/data$(server)\")\n",
    "\n",
    "\n",
    "    h5open_all(h5open(joinpath(data_path(ds_save_cy), \"ols_results_tel.h5\"), \"r\"))\n",
    "    \n",
    "    \n",
    "    file_folder_1 = joinpath(data_path(ds_save_cy), \"\")\n",
    "    all_files = readdir(file_folder_1)\n",
    "    long_name_files = all_files[findall([length(all_files[i])>6 for i in 1:length(all_files)])]\n",
    "    spatial_info_index = findall([long_name_files[i][1:6]==\"neuron\" for i in 1:length(long_name_files)])\n",
    "    candidate_filename = long_name_files[spatial_info_index]\n",
    "    which_file = [occursin(experiment_filename, candidate_filename[i])*occursin(\"A_dF\", candidate_filename[i]) for i in 1:length(candidate_filename)]\n",
    "    @assert(length(candidate_filename[which_file]) == 1)\n",
    "    save_file_name = candidate_filename[which_file][1]\n",
    "    info_filename = joinpath(file_folder_1, save_file_name)\n",
    "    file = h5open(info_filename, \"r\")\n",
    "    place_map_all_1 = HDF5.readmmap(file[\"place_map_all\"])\n",
    "    specificity_1 = HDF5.readmmap(file[\"specificity\"])\n",
    "    specificity_population_z_1 = HDF5.readmmap(file[\"specificity_population_z\"])\n",
    "    specificity_shuffle_z_1 = HDF5.readmmap(file[\"specificity_shuffle_z\"])\n",
    "    valid_roi_1 = HDF5.readmmap(file[\"valid_neurons\"])\n",
    "    close(file)\n",
    "\n",
    "\n",
    "\n",
    "\n",
    "    place_cell_index = intersect(findall(specificity_population_z_1.>3), findall(specificity_shuffle_z_1.>5), findall(specificity_1.>0.01))\n",
    "    \n",
    "    \n",
    "    other_cell_index = tel_neurons[.!whether_in(tel_neurons, place_cell_index)]\n",
    "    \n",
    "    \n",
    "    \n",
    "    append!(speed_r_2_tog, speed_r_2_all[other_cell_index])\n",
    "    append!(loc_r_2_tog, loc_r_2_all[other_cell_index])\n",
    "    append!(heading_r_2_tog, heading_r_2_all[other_cell_index])\n",
    "    append!(tog_r_2_tog, tog_r_2_all[other_cell_index])\n",
    "\n",
    "end"
   ]
  },
  {
   "cell_type": "code",
   "execution_count": null,
   "id": "28909fb4-c893-4c3c-a505-76a86df4c85d",
   "metadata": {
    "tags": []
   },
   "outputs": [],
   "source": [
    "ols_result = Dict()\n",
    "ols_result[\"Heading\"] = heading_r_2_tog\n",
    "ols_result[\"Position\"] = loc_r_2_tog\n",
    "ols_result[\"Speed\"] = speed_r_2_tog\n",
    "ols_result[\"All\"] = tog_r_2_tog;\n",
    "df = pd.DataFrame(ols_result)"
   ]
  },
  {
   "cell_type": "code",
   "execution_count": null,
   "id": "bfda546c-98f5-434a-83b1-a429d39aa16a",
   "metadata": {
    "tags": []
   },
   "outputs": [],
   "source": [
    "@pyimport matplotlib.cm as cm \n",
    "order = [\"Speed\", \"Heading\", \"Position\", \"All\"]\n",
    "\n",
    "bins_raw= numpy.linspace(0,1,100)\n",
    "\n",
    "tab10 = cm.get_cmap(\"tab10\", 10)\n",
    "\n",
    "colors = [tab10(i) for i in [3,0,1,2]]\n",
    "\n",
    "fig, ax = subplots(1,1,figsize=(1.5,0.8), dpi=250)\n",
    "for (i, key_) in enumerate(order)\n",
    "    first_bin = findfirst(bins_raw.>nanminimum(Float32.(ols_result[key_])))\n",
    "    last_bin = findfirst(bins_raw.>nanmaximum(Float32.(ols_result[key_])))\n",
    "    println(bins_raw[first_bin])\n",
    "    println(nanminimum(Float32.(ols_result[key_])))\n",
    "    println(bins_raw[last_bin])\n",
    "    println(nanmaximum(Float32.(ols_result[key_])))\n",
    "    bins = bins_raw[first_bin: last_bin]\n",
    "    global count_1, _ = hist(ols_result[key_], label=key_,bins=bins, histtype=\"stepfilled\", fc=(colors[i][1], colors[i][2], colors[i][3], 0.3),ec=colors[i], linewidth=0.7)\n",
    "    println(maximum(count_1))\n",
    "end\n",
    "ax.legend(frameon=false,loc=(0.6, 0.1))\n",
    "xlabel(\"\\$R^2\\$\")\n",
    "ylabel(\"Count\",labelpad=-12)\n",
    "ax.spines[\"top\"].set_visible(false)\n",
    "ax.spines[\"right\"].set_visible(false)\n",
    "xlim(0,1)\n",
    "ylim(-500,11000)\n",
    "# yscale(\"log\")\n",
    "# yticks([1,10,100,1000],[\"\\$10^0\\$\",\"\",\"\",\"\\$10^3\\$\"])\n",
    "yticks([0, 10000],[\"0\",\"\\$10^4\\$\"])\n",
    "title(\"Tel. other cells\", fontsize=7)\n",
    "fig.savefig(joinpath(fig_path, \"ols_regression_tel_other.pdf\"), bbox_inches = \"tight\",pad_inches = 0, transparent = true)"
   ]
  },
  {
   "cell_type": "code",
   "execution_count": null,
   "id": "6c4b3dbe-b5be-48b2-8ab0-68363ff0022f",
   "metadata": {},
   "outputs": [],
   "source": []
  },
  {
   "cell_type": "code",
   "execution_count": null,
   "id": "c4471c79-7c6c-43d2-87f6-6a18acda94e4",
   "metadata": {},
   "outputs": [],
   "source": []
  },
  {
   "cell_type": "code",
   "execution_count": null,
   "id": "47a35e27-5f82-4243-8c05-3d510f4a1252",
   "metadata": {},
   "outputs": [],
   "source": []
  }
 ],
 "metadata": {
  "kernelspec": {
   "display_name": "Julia 1.8.4",
   "language": "julia",
   "name": "julia-1.8"
  },
  "language_info": {
   "file_extension": ".jl",
   "mimetype": "application/julia",
   "name": "julia",
   "version": "1.8.4"
  }
 },
 "nbformat": 4,
 "nbformat_minor": 5
}
