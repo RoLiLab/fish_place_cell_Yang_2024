{
 "cells": [
  {
   "cell_type": "code",
   "execution_count": null,
   "id": "89fdfac0-519f-422c-89c0-98943e0c7146",
   "metadata": {
    "tags": []
   },
   "outputs": [],
   "source": [
    "!(@isdefined cleanup_hook) && IJulia.push_postexecute_hook(() -> (empty!(In); empty!(Out); GC.gc(true))); cleanup_hook = true;"
   ]
  },
  {
   "cell_type": "code",
   "execution_count": null,
   "id": "1ee37c68-89a7-4f39-a5e6-bbd94a73856f",
   "metadata": {
    "tags": []
   },
   "outputs": [],
   "source": [
    "using ProgressMeter, PyCall, PyPlot, Images, HDF5,NaNStatistics, Statistics, DSP, Lasso, JLD2\n",
    "using _Data, _Math"
   ]
  },
  {
   "cell_type": "code",
   "execution_count": null,
   "id": "76861f89-87e3-40e5-8c96-e1dc6abfa8e2",
   "metadata": {
    "tags": []
   },
   "outputs": [],
   "source": [
    "@pyimport numpy\n",
    "@pyimport sklearn.decomposition as decomposition\n",
    "@pyimport scipy.stats as stats\n",
    "@pyimport matplotlib.colors as mpl_colors\n",
    "@pyimport matplotlib.cm as cm \n",
    "@pyimport sklearn.cluster as cluster"
   ]
  },
  {
   "cell_type": "code",
   "execution_count": null,
   "id": "070203d5-cd78-4397-b3fc-2e5855e453f6",
   "metadata": {
    "tags": []
   },
   "outputs": [],
   "source": [
    "rc_params = PyDict(pyimport(\"matplotlib\")[\"rcParams\"]);\n",
    "# rc_params[\"font.sans-serif\"] = [\"Arial\"];\n",
    "rc_params[\"font.size\"] = 7;\n",
    "rc_params[\"lines.linewidth\"] = 1;\n",
    "rc_params[\"lines.markersize\"] = 4;\n",
    "rc_params[\"xtick.major.size\"] = 2;\n",
    "rc_params[\"ytick.major.size\"] = 2;\n",
    "rc_params[\"xtick.major.pad\"] = 2;\n",
    "rc_params[\"ytick.major.pad\"] = 2;\n",
    "# rc_params[\"axes.labelpad\"] = 2;\n",
    "\n",
    "cim(img::Matrix{UInt32}) = CairoImageSurface(img, Cairo.FORMAT_RGB24; flipxy = false) \n",
    "cim(img::Matrix{ARGB32}) = cim(reinterpret(UInt32, img))\n",
    "cim(img::Matrix{RGB24}) = cim(reinterpret(UInt32, img))\n",
    "cim(img::Matrix{UInt8}) = cim(Gray.(reinterpret(N0f8, img)))\n",
    "cim(img::Array{UInt8,3}) = cim(RGB24.(reinterpret(N0f8, img[:,:,1]), reinterpret(N0f8, img[:,:,2]), reinterpret(N0f8, img[:,:,3])));downsample(img,n=4) = +([img[i:n:n*div(size(img,1)-1,n), j:n:n*div(size(img,2)-1,n)] for i = 1:n, j = 1:n]...)/(n*n);\n",
    "downsample(img,n=4) = +([img[i:n:n*div(size(img,1)-1,n), j:n:n*div(size(img,2)-1,n)] for i = 1:n, j = 1:n]...)/(n*n);"
   ]
  },
  {
   "cell_type": "code",
   "execution_count": null,
   "id": "4d407316-d7b3-41ac-a5ef-7cdb2dc5d660",
   "metadata": {
    "tags": []
   },
   "outputs": [],
   "source": [
    "include(\"../../../functions/func_map.jl\")\n",
    "include(\"../../../functions/func_stat.jl\")\n",
    "include(\"../../../functions/func_data.jl\")\n",
    "include(\"../../../functions/func_plot.jl\")\n",
    "include(\"../../../functions/utils.jl\")"
   ]
  },
  {
   "cell_type": "code",
   "execution_count": null,
   "id": "773b1390-4c8f-4ce6-9859-a993e08279a5",
   "metadata": {
    "tags": []
   },
   "outputs": [],
   "source": [
    "experiment_filename_1 = \"20220407_090156\"\n",
    "server_1 = 5\n",
    "\n",
    "experiment_filename_2 = \"20220407_104712\"\n",
    "server_2 = 5\n",
    "\n",
    "experimenter = \"jen\"\n",
    "analyzer = \"chuyu\""
   ]
  },
  {
   "cell_type": "code",
   "execution_count": null,
   "id": "44b0d710-178b-4b5b-85ba-4b31e065ad36",
   "metadata": {
    "tags": []
   },
   "outputs": [],
   "source": [
    "ds_save_1 = Dataset(experiment_filename_1, experimenter, gethostname() == \"roli-$(server_1)\" ? \"/data\" : \"/nfs/data$(server_1)\")\n",
    "ds_save_cy_1 = Dataset(experiment_filename_1, \"chuyu\", gethostname() == \"roli-$(server_1)\" ? \"/data\" : \"/nfs/data$(server_1)\")\n",
    "ds_save_analyzer_1 = Dataset(experiment_filename_1, analyzer, gethostname() == \"roli-$(server_1)\" ? \"/data\" : \"/nfs/data$(server_1)\")\n",
    "\n",
    "ds_save_2 = Dataset(experiment_filename_2, experimenter, gethostname() == \"roli-$(server_2)\" ? \"/data\" : \"/nfs/data$(server_2)\") # This example dataset is on roli-9, so the path is different depending on whether you're trying to access the file from roli-9\n",
    "ds_save_cy_2 = Dataset(experiment_filename_2, \"chuyu\", gethostname() == \"roli-$(server_2)\" ? \"/data\" : \"/nfs/data$(server_2)\")\n",
    "ds_save_analyzer_2 = Dataset(experiment_filename_2, analyzer, gethostname() == \"roli-$(server_2)\" ? \"/data\" : \"/nfs/data$(server_2)\")"
   ]
  },
  {
   "cell_type": "code",
   "execution_count": null,
   "id": "95991efe-fcea-4c89-9fe2-5d4637a6642b",
   "metadata": {
    "tags": []
   },
   "outputs": [],
   "source": [
    "NMF_filename = joinpath(data_path(ds_save_cy_1), \"NMF_merge.h5\")\n",
    "NMF_file = h5open(NMF_filename, \"r\")\n",
    "global Z_all = HDF5.readmmap(NMF_file[\"Z_all\"])\n",
    "global X_all = HDF5.readmmap(NMF_file[\"X_all\"])\n",
    "global Y_all = HDF5.readmmap(NMF_file[\"Y_all\"])\n",
    "global neuron_label = HDF5.readmmap(NMF_file[\"neuron_label\"])\n",
    "global A_dFF_1 = HDF5.readmmap(NMF_file[\"A_dFF\"]); # bs update\n",
    "global A_baseline_1 = HDF5.readmmap(NMF_file[\"A_baseline\"]); # bs update\n",
    "close(NMF_file)\n",
    "\n",
    "# for multi sessions\n",
    "NMF_filename = joinpath(data_path(ds_save_cy_2), \"NMF_merge.h5\") # bs update\n",
    "NMF_file = h5open(NMF_filename, \"r\") # bs update\n",
    "global A_dFF_2 = HDF5.readmmap(NMF_file[\"A_dFF\"]); # bs update\n",
    "global A_baseline_2 = HDF5.readmmap(NMF_file[\"A_baseline\"]); # bs update\n",
    "close(NMF_file) # bs update\n",
    "\n",
    "n_neuron = length(X_all);"
   ]
  },
  {
   "cell_type": "code",
   "execution_count": null,
   "id": "558e32c7-71f4-4c4a-8922-63d78f286830",
   "metadata": {
    "tags": []
   },
   "outputs": [],
   "source": [
    "# whether individual roi belongs to a certain region\n",
    "region_bool_filename = joinpath(data_path(ds_save_cy_1), \"region_roi_bool.h5\")\n",
    "region_bool_file = h5open(region_bool_filename, \"r\")\n",
    "global region_names = read(region_bool_file, \"region_names\")\n",
    "global region_roi_bool = read(region_bool_file, \"region_roi_bool\")\n",
    "close(region_bool_file)"
   ]
  },
  {
   "cell_type": "code",
   "execution_count": null,
   "id": "61c3d836-d68d-4b49-b529-1971917013dc",
   "metadata": {
    "tags": []
   },
   "outputs": [],
   "source": [
    "# for one merged cell, it belongs to telecephalon if at least one of its roi belongs to telencephalon\n",
    "region_roi_bool_tel = region_roi_bool[:,findall(region_names .== \"Telencephalon -\")][:,1]\n",
    "whether_tel = falses(n_neuron)\n",
    "for which_neuron in Int32.(numpy.unique(neuron_label)[1:end-1])\n",
    "    if sum(region_roi_bool_tel[neuron_label.==which_neuron]) >0\n",
    "        whether_tel[which_neuron] = true\n",
    "    end\n",
    "end"
   ]
  },
  {
   "cell_type": "code",
   "execution_count": null,
   "id": "ea45dbbd-a7fb-4165-a8fd-4e582abaef14",
   "metadata": {
    "tags": []
   },
   "outputs": [],
   "source": [
    "all_files = readdir(data_path(ds_save_cy_1))\n",
    "long_name_files = all_files[findall([length(all_files[i])>6 for i in 1:length(all_files)])]\n",
    "spatial_info_index = findall([long_name_files[i][1:6]==\"neuron\" for i in 1:length(long_name_files)])\n",
    "candidate_filename = long_name_files[spatial_info_index]\n",
    "which_file = [occursin(experiment_filename_1, candidate_filename[i])*!occursin(\"shuffleall\", candidate_filename[i])*occursin(\"A_dF\", candidate_filename[i]) for i in 1:length(candidate_filename)]\n",
    "println(candidate_filename[which_file])\n",
    "@assert(length(candidate_filename[which_file]) == 1)\n",
    "save_file_name = candidate_filename[which_file][1]\n",
    "info_filename = joinpath(data_path(ds_save_cy_1), save_file_name)\n",
    "file = h5open(info_filename, \"r\")\n",
    "\n",
    "place_cell_index_1 = HDF5.readmmap(file[\"place_cell_index\"])\n",
    "close(file)\n",
    "    "
   ]
  },
  {
   "cell_type": "code",
   "execution_count": null,
   "id": "610ca03e-face-40bd-93fc-e1b537509dff",
   "metadata": {},
   "outputs": [],
   "source": [
    "all_files = readdir(joinpath(data_path(ds_save_cy_1) ,\"oblique_corrected\"))\n",
    "long_name_files = all_files[findall([length(all_files[i])>6 for i in 1:length(all_files)])]\n",
    "spatial_info_index = findall([long_name_files[i][1:6]==\"neuron\" for i in 1:length(long_name_files)])\n",
    "candidate_filename = long_name_files[spatial_info_index]\n",
    "which_file = [occursin(experiment_filename_1, candidate_filename[i])*!occursin(\"shuffleall\", candidate_filename[i])*occursin(\"A_dF\", candidate_filename[i]) for i in 1:length(candidate_filename)]\n",
    "println(candidate_filename[which_file])\n",
    "@assert(length(candidate_filename[which_file]) == 1)\n",
    "save_file_name = candidate_filename[which_file][1]\n",
    "info_filename = joinpath(data_path(ds_save_cy_1), \"oblique_corrected\",save_file_name)\n",
    "file = h5open(info_filename, \"r\")\n",
    "place_map_all_1 = HDF5.readmmap(file[\"place_map_all\"])\n",
    "specificity_1 = HDF5.readmmap(file[\"specificity\"])\n",
    "valid_roi_1 = HDF5.readmmap(file[\"valid_neurons\"])\n",
    "entropy_1 = HDF5.readmmap(file[\"entropy_all\"])\n",
    "close(file)\n",
    "    "
   ]
  },
  {
   "cell_type": "code",
   "execution_count": null,
   "id": "a97f7785-77b7-4df7-a878-397740431962",
   "metadata": {
    "tags": []
   },
   "outputs": [],
   "source": [
    "plot_quantity(specificity_1[valid_roi_1]; label= \"specifity\",vmax=0.1, which_neuron=valid_roi_1)"
   ]
  },
  {
   "cell_type": "code",
   "execution_count": null,
   "id": "0b70f1c0-2401-4336-addc-f66b48eeaf64",
   "metadata": {
    "tags": []
   },
   "outputs": [],
   "source": [
    "plot_loc(place_cell_index_1; valid_neurons=intersect(valid_roi_1), label= length(place_cell_index_1))"
   ]
  },
  {
   "cell_type": "code",
   "execution_count": null,
   "id": "5f48f49d-c0cf-449d-a2c9-5013484f00ed",
   "metadata": {},
   "outputs": [],
   "source": [
    "tel_place_cell_index_1 = intersect(place_cell_index_1, findall(whether_tel))\n",
    "plot_loc(tel_place_cell_index_1; valid_neurons=intersect(valid_roi_1), label= length(tel_place_cell_index_1))"
   ]
  },
  {
   "cell_type": "code",
   "execution_count": null,
   "id": "45224cca-af0e-4e89-bc9b-0685e4dfd5ce",
   "metadata": {
    "tags": []
   },
   "outputs": [],
   "source": [
    "place_cell_index = union(place_cell_index_1)\n",
    "\n",
    "plot_loc(place_cell_index; valid_neurons=intersect(valid_roi_1), label= length(place_cell_index))\n",
    "\n",
    "tel_place_cell_index = union(tel_place_cell_index_1) #what we should use in following analysis\n",
    "\n",
    "plot_loc(tel_place_cell_index; valid_neurons=intersect(valid_roi_1), label= length(tel_place_cell_index))"
   ]
  },
  {
   "cell_type": "code",
   "execution_count": null,
   "id": "5b16ed92-9d3d-4a3a-9710-e05b14f7aa65",
   "metadata": {},
   "outputs": [],
   "source": [
    "ds_save_cy_roi = Dataset(\"20220406_111526\", \"chuyu\", gethostname() == \"roli-$(9)\" ? \"/data\" : \"/nfs/data$(9)\")\n",
    "orientation_correction_file = h5open(joinpath(data_path(ds_save_cy_roi), \"old/orientation_correction.h5\"))\n",
    "chamber_roi = read(orientation_correction_file,\"chamber_roi_r\")\n",
    "close(orientation_correction_file)\n",
    "\n",
    "chamber_roi[chamber_roi.!=0].=1;"
   ]
  },
  {
   "cell_type": "code",
   "execution_count": null,
   "id": "3ecb5ad9-8134-43fe-87bb-b49355334c03",
   "metadata": {
    "tags": []
   },
   "outputs": [],
   "source": [
    "# orientation-corrected background image and chamber roi image\n",
    "orientation_correction_file = h5open(joinpath(data_path(ds_save_cy_1), \"chamber_geometry_$(experiment_filename_1).h5\"))\n",
    "countour_array_1 = read(orientation_correction_file,\"countour_array\")\n",
    "center_loc_1 = read(orientation_correction_file,\"center_loc\")\n",
    "close(orientation_correction_file)\n",
    "\n",
    "\n",
    "img_bg_1 = h5open(ds_save_1, \"behavior.h5\"; raw = true) do file\n",
    "    read(file, \"img_bg\")\n",
    "end;\n",
    "\n",
    "img_bg_end_1 = img_bg_1[:,:,end]\n",
    "w = size(img_bg_end_1, 1)\n",
    "l = size(img_bg_end_1, 2)\n",
    "\n",
    "\n",
    "# check how well they match\n",
    "figure()\n",
    "img_bg_end_1[chamber_roi.!=0].=NaN\n",
    "imshow(img_bg_end_1', cmap=\"gray\")\n",
    "\n",
    "\n",
    "for_place_calculation_file = h5open(joinpath(data_path(ds_save_cy_1), \"for_place_calculation_chamber_geometry_$(experiment_filename_1)_n60.h5\"))\n",
    "x_bins = read(for_place_calculation_file,\"x_bins\")\n",
    "y_bins = read(for_place_calculation_file,\"y_bins\")\n",
    "close(for_place_calculation_file)\n",
    "\n",
    "bin_interval = x_bins[2] - x_bins[1]"
   ]
  },
  {
   "cell_type": "code",
   "execution_count": null,
   "id": "b0ae7951-16a0-486d-a10e-848763a23071",
   "metadata": {},
   "outputs": [],
   "source": [
    "chamber_roi_mask = Float32.(copy(chamber_roi))\n",
    "chamber_roi_mask[chamber_roi_mask.!=0].= NaN32;\n",
    "\n",
    "\n",
    "img_bg_mask = copy(img_bg_end_1)\n",
    "img_bg_mask[img_bg_mask.==0].=NaN32\n",
    "img_bg_mask[Float32.(chamber_roi).!=0].=NaN32;"
   ]
  },
  {
   "cell_type": "code",
   "execution_count": null,
   "id": "168fba63-b310-4fe8-a95d-4fe0f9dc3b35",
   "metadata": {},
   "outputs": [],
   "source": [
    "mask_valid = isfinite.(place_map_all_1[:,:,1])\n",
    "\n",
    "mask_valid_index = findall(mask_valid)\n",
    "mask_valid_x = [x[1] for x in mask_valid_index]\n",
    "mask_valid_y = [x[2] for x in mask_valid_index];\n",
    "mask_valid_x_min = minimum(mask_valid_x)\n",
    "mask_valid_x_max = maximum(mask_valid_x)\n",
    "mask_valid_y_min = minimum(mask_valid_y)\n",
    "mask_valid_y_max = maximum(mask_valid_y);\n",
    "\n",
    "valid_frame = isnan.(chamber_roi_mask[:,:,1]); # bs update\n",
    "ymin = findfirst(sum(valid_frame;dims=1).!=0)[2]-10; # bs update\n",
    "ymax = findlast(sum(valid_frame;dims=1).!=0)[2]+10; # bs update\n",
    "xmin = findfirst(sum(valid_frame;dims=2).!=0)[1]-10; # bs update\n",
    "xmax = findlast(sum(valid_frame;dims=2).!=0)[1]+10; # bs update"
   ]
  },
  {
   "cell_type": "code",
   "execution_count": null,
   "id": "d5085c90-381c-403b-b4ce-48f8a241fb32",
   "metadata": {},
   "outputs": [],
   "source": [
    "roi_index = [123548, 120581, 105046, 79454, 119921, 81175, 94734, 118351, 94111, 72859, 98607, 109394, 121564, 123902, 116128, 94677, 123289, 128125, 116553, 59377, 103032, 108695, 99953, 120936, 126219, 80304, 88520, 90245, 73250, 88533]"
   ]
  },
  {
   "cell_type": "code",
   "execution_count": null,
   "id": "b0042a24-66ba-46d5-83e2-e375091f0e03",
   "metadata": {},
   "outputs": [],
   "source": [
    "chosen_neuron = Int32.(neuron_label[roi_index])"
   ]
  },
  {
   "cell_type": "code",
   "execution_count": null,
   "id": "0089af3d-df04-4056-80dc-96fdb617e9e8",
   "metadata": {},
   "outputs": [],
   "source": [
    "println(chosen_neuron)"
   ]
  },
  {
   "cell_type": "code",
   "execution_count": null,
   "id": "b34afc08-0548-41a4-9303-a01bff6ff603",
   "metadata": {},
   "outputs": [],
   "source": [
    "chosen_neuron = [71809, 37379, 65532, 10120, 64557, 20788, 43392, 2456, 28139, 23027, 62722, 59388, 53575, 37387, 65037, 34019, 68630, 40374, 6710, 47732, 48338, 14660, 45458, 50397, 63280, 73637, 63397, 56250, 9097, 14234]"
   ]
  },
  {
   "cell_type": "code",
   "execution_count": null,
   "id": "18c00fc3-1374-4e37-b594-476d91fa72ec",
   "metadata": {},
   "outputs": [],
   "source": [
    "numpy.unique(chosen_neuron)"
   ]
  },
  {
   "cell_type": "code",
   "execution_count": null,
   "id": "ad43c0c7-5c9e-4754-a215-aae13be63fbb",
   "metadata": {},
   "outputs": [],
   "source": [
    "fig_path = \"/home/chuyu/Notebooks/project_place_cell/figures/output/sfigure1/corner_cue\""
   ]
  },
  {
   "cell_type": "code",
   "execution_count": null,
   "id": "88030afd-6563-4b4a-9065-8041001fe5c5",
   "metadata": {},
   "outputs": [],
   "source": [
    "which_neuron = chosen_neuron\n",
    "\n",
    "which_map = place_map_all_1[:,:,which_neuron];\n",
    "\n",
    "fig = figure()\n",
    "\n",
    "for i in 1:length(chosen_neuron)\n",
    "    subplot(ceil(Int64, size(which_map,3)/6), 6,i)\n",
    "    imshow(which_map[mask_valid_x_min:mask_valid_x_max,mask_valid_y_min:mask_valid_y_max,i]', extent = [x_bins[mask_valid_x_min], x_bins[mask_valid_x_max+1], y_bins[mask_valid_y_min], y_bins[mask_valid_y_max+1]], cmap=\"jet\", origin=\"lower\")\n",
    "    # imshow(chamber_roi_mask', cmap=\"binary\")\n",
    "    axis(\"off\")\n",
    "    xlim(xmin,xmax)\n",
    "    ylim(ymax,ymin)\n",
    "    title(chosen_neuron[i])\n",
    "end\n",
    "\n",
    "\n",
    "# fig.savefig(joinpath(fig_path, \"edge_confined_place_cells.png\"), bbox_inches = \"tight\",transparent = true,pad_inches = 0)"
   ]
  },
  {
   "cell_type": "code",
   "execution_count": null,
   "id": "d4a02003-0e5e-40e5-b66e-6d3a55aec784",
   "metadata": {},
   "outputs": [],
   "source": [
    "which_neuron = chosen_neuron\n",
    "\n",
    "which_map = place_map_all_1[:,:,which_neuron];\n",
    "\n",
    "fig = figure(dpi=3000)\n",
    "\n",
    "for i in 1:length(chosen_neuron)\n",
    "    subplot(ceil(Int64, size(which_map,3)/6), 6,i)\n",
    "    imshow(which_map[mask_valid_x_min:mask_valid_x_max,mask_valid_y_min:mask_valid_y_max,i]', extent = [x_bins[mask_valid_x_min], x_bins[mask_valid_x_max+1], y_bins[mask_valid_y_min], y_bins[mask_valid_y_max+1]], cmap=\"jet\", origin=\"lower\")\n",
    "    imshow(chamber_roi_mask', cmap=\"binary\")\n",
    "    axis(\"off\")\n",
    "    xlim(xmin,xmax)\n",
    "    ylim(ymax,ymin)\n",
    "    # title(chosen_neuron[i])\n",
    "end\n",
    "subplots_adjust(left = 0, top = 0.1, right = 0.2, bottom = 0)\n",
    "\n",
    "\n",
    "fig.savefig(joinpath(fig_path, \"place_cells_different_locs.png\"), bbox_inches = \"tight\",transparent = true)"
   ]
  },
  {
   "cell_type": "markdown",
   "id": "01556e6d-8b7c-4c61-92b9-0eb2b036c876",
   "metadata": {},
   "source": [
    "# Look for alternatives"
   ]
  },
  {
   "cell_type": "code",
   "execution_count": null,
   "id": "d670f04e-b5c3-45ff-8d38-4904de7def15",
   "metadata": {},
   "outputs": [],
   "source": [
    "# to find neurons with confined place fields (return index of place_cell_index) and the best peak of all place_cell_index\n",
    "function neuron_with_valid_peak(place_cell_index, place_map_all;threshold=8/10, components_size_threshold = 10)\n",
    "    mask_valid = isfinite.(place_map_all[:,:,1])\n",
    "    best_peak_all = fill(NaN32, 2, length(place_cell_index))\n",
    "    firing_field_size_ratio_all = fill(NaN32, length(place_cell_index))\n",
    "    nr_modes = fill(NaN32, length(place_cell_index))\n",
    "    @showprogress for (i, which_neuron) in enumerate(place_cell_index)\n",
    "        which_map = place_map_all[:,:,which_neuron]\n",
    "        components_peaks, img_label_valid, valid_components = map_components_peak(which_map; threshold = threshold, components_size_threshold = components_size_threshold)\n",
    "        firing_field_size_ratio = sum(img_label_valid.!=0)/sum(mask_valid)\n",
    "        peak_values = [numpy.nanpercentile(which_map[img_label_valid .== valid_components[i]], 95) for i in 1:length(valid_components)]\n",
    "        if length(peak_values) .> 0\n",
    "            best_peak = components_peaks[findmax(peak_values)[2]]\n",
    "            firing_field_size_ratio_all[i] = firing_field_size_ratio\n",
    "            best_peak_all[:,i] .= best_peak\n",
    "            nr_modes[i] = length(valid_components)\n",
    "        end\n",
    "    end\n",
    "    \n",
    "    which_neuron = intersect(findall(firing_field_size_ratio_all.<0.2))\n",
    "    confined_place_cell_index = place_cell_index[which_neuron];\n",
    "    \n",
    "    return which_neuron, best_peak_all, nr_modes\n",
    "end"
   ]
  },
  {
   "cell_type": "code",
   "execution_count": null,
   "id": "7552f441-6319-4ef4-a13e-a007321ba952",
   "metadata": {
    "tags": []
   },
   "outputs": [],
   "source": [
    "which_neuron_1, peak_all_1, nr_modes_1 = neuron_with_valid_peak(tel_place_cell_index, place_map_all_1)\n",
    "which_neuron = intersect(which_neuron_1, findall(nr_modes_1.==1))\n",
    "confined_place_cell_index = tel_place_cell_index[which_neuron]\n",
    "\n",
    "peak_loc_map_1 = peak_all_1[:,which_neuron] #peaks for cells with confined place fields"
   ]
  },
  {
   "cell_type": "code",
   "execution_count": null,
   "id": "ed7751f2",
   "metadata": {
    "tags": []
   },
   "outputs": [],
   "source": [
    "# orientation-corrected background image and chamber roi image\n",
    "orientation_correction_file = h5open(joinpath(data_path(ds_save_cy_1), \"chamber_geometry_$(experiment_filename_1).h5\"))\n",
    "countour_array_1 = read(orientation_correction_file,\"countour_array\")\n",
    "center_loc_1 = read(orientation_correction_file,\"center_loc\")\n",
    "close(orientation_correction_file)\n",
    "\n",
    "\n",
    "img_bg_1 = h5open(ds_save_1, \"behavior.h5\"; raw = true) do file\n",
    "    read(file, \"img_bg\")\n",
    "end;\n",
    "\n",
    "img_bg_end_1 = img_bg_1[:,:,end]\n",
    "w = size(img_bg_end_1, 1)\n",
    "l = size(img_bg_end_1, 2)\n",
    "\n",
    "\n",
    "# check how well they match\n",
    "figure()\n",
    "img_bg_end_1[chamber_roi.!=0].=NaN\n",
    "imshow(img_bg_end_1', cmap=\"gray\")\n",
    "\n",
    "\n",
    "for_place_calculation_file = h5open(joinpath(data_path(ds_save_cy_1), \"for_place_calculation_chamber_geometry_$(experiment_filename_1)_n60.h5\"))\n",
    "x_bins = read(for_place_calculation_file,\"x_bins\")\n",
    "y_bins = read(for_place_calculation_file,\"y_bins\")\n",
    "close(for_place_calculation_file)\n",
    "\n",
    "bin_interval = x_bins[2] - x_bins[1]"
   ]
  },
  {
   "cell_type": "code",
   "execution_count": null,
   "id": "18d48aa3-e5ac-4a55-913b-cfde8a9619ac",
   "metadata": {
    "tags": []
   },
   "outputs": [],
   "source": [
    "KMeans_features = cluster.KMeans(n_clusters = 6).fit(hcat(peak_loc_map_1'))\n",
    "class_1 = KMeans_features.labels_;"
   ]
  },
  {
   "cell_type": "code",
   "execution_count": null,
   "id": "a271020a-04d2-466c-85ea-3c0a3870fd7a",
   "metadata": {
    "tags": []
   },
   "outputs": [],
   "source": [
    "fig = figure()\n",
    "scatter((peak_loc_map_1[1,:].-0.5).*bin_interval, (peak_loc_map_1[2,:].-0.5).*bin_interval, c=class_1, cmap=\"Dark2\", s=10, alpha=0.3)\n",
    "colorbar()\n",
    "imshow(img_bg_end_1', cmap=\"binary\", vmax=2000)\n",
    "\n",
    "axis(\"off\")"
   ]
  },
  {
   "cell_type": "code",
   "execution_count": null,
   "id": "6ea6eb8d-ce2c-454c-9235-85bc5d46df19",
   "metadata": {},
   "outputs": [],
   "source": [
    "which_neuron = confined_place_cell_index[class_1.==0][sortperm(peak_loc_map_1[2,class_1.==0])][1:10]"
   ]
  },
  {
   "cell_type": "code",
   "execution_count": null,
   "id": "2c18f33a-18cb-46ef-8f3b-0926b534bc13",
   "metadata": {},
   "outputs": [],
   "source": [
    "# which_neuron = numpy.random.choice(confined_place_cell_index[class_1.==0], 50, replace=false)\n",
    "which_map = place_map_all_1[:,:,which_neuron];\n",
    "\n",
    "figure(figsize = (40,5*ceil(Int64, size(which_map,3)/10)), dpi=250)\n",
    "\n",
    "for i in 1:size(which_map,3)\n",
    "    subplot(ceil(Int64, size(which_map,3)/10), 10,i)\n",
    "    imshow(which_map[:,:,i]') \n",
    "    axis(\"off\")\n",
    "    cell_index = which_neuron[i]\n",
    "    title(\"$cell_index\")\n",
    "    peak = peak_loc_map_1[:,confined_place_cell_index.==cell_index]\n",
    "    scatter(peak[1], peak[2], color=\"r\")\n",
    "    \n",
    "end\n",
    "-"
   ]
  },
  {
   "cell_type": "code",
   "execution_count": null,
   "id": "f7b06e4f-39dc-455f-b26f-70ac7188f567",
   "metadata": {},
   "outputs": [],
   "source": [
    "NMF_filename = joinpath(data_path(ds_save_1), \"NMF.h5\")\n",
    "NMF_file = h5open(NMF_filename, \"r\")\n",
    "global Z_all_roi = HDF5.readmmap(NMF_file[\"z_all\"])\n",
    "global X_all_roi = HDF5.readmmap(NMF_file[\"centroid_x_all\"])\n",
    "global Y_all_roi = HDF5.readmmap(NMF_file[\"centroid_y_all\"])\n",
    "\n",
    "close(NMF_file)\n"
   ]
  },
  {
   "cell_type": "code",
   "execution_count": null,
   "id": "8bc68132-dc9a-420f-96eb-01f87019f661",
   "metadata": {},
   "outputs": [],
   "source": [
    "findall(neuron_label.== 10120.0f0)"
   ]
  },
  {
   "cell_type": "code",
   "execution_count": null,
   "id": "57023c8d-545d-4711-bb89-14d0022b6466",
   "metadata": {},
   "outputs": [],
   "source": [
    "plot_loc([79454, 72859]; X_all = X_all_roi,  Y_all = Y_all_roi,  Z_all = Z_all_roi, valid_neurons =1:length(Z_all_roi))"
   ]
  }
 ],
 "metadata": {
  "kernelspec": {
   "display_name": "Julia 1.8.4",
   "language": "julia",
   "name": "julia-1.8"
  },
  "language_info": {
   "file_extension": ".jl",
   "mimetype": "application/julia",
   "name": "julia",
   "version": "1.8.4"
  }
 },
 "nbformat": 4,
 "nbformat_minor": 5
}
