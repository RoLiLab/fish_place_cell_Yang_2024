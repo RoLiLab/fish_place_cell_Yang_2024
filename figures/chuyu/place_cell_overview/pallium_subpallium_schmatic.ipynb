{
 "cells": [
  {
   "cell_type": "code",
   "execution_count": null,
   "id": "61a8668f-eaf4-415c-b533-b3d81f863641",
   "metadata": {
    "tags": []
   },
   "outputs": [],
   "source": [
    "!(@isdefined cleanup_hook) && IJulia.push_postexecute_hook(() -> (empty!(In); empty!(Out); GC.gc(true))); cleanup_hook = true;"
   ]
  },
  {
   "cell_type": "code",
   "execution_count": null,
   "id": "9ffdf566-60a3-4666-8270-facce63afcaa",
   "metadata": {
    "tags": []
   },
   "outputs": [],
   "source": [
    "using ProgressMeter, PyCall, PyPlot, Images, HDF5,NaNStatistics, Statistics, DSP, Lasso, JLD2, DelimitedFiles, TiffImages\n",
    "using _Data, _Math"
   ]
  },
  {
   "cell_type": "code",
   "execution_count": null,
   "id": "974bf467-c2c0-4963-b868-7badced31ba1",
   "metadata": {},
   "outputs": [],
   "source": [
    "ds_save_cy_ref = Dataset(\"20220416_123633\", \"chuyu\", gethostname() == \"roli-$(5)\" ? \"/data\" : \"/nfs/data$(5)\")\n",
    "# load atlas \n",
    "atlas_ref_img = TiffImages.load(data_path(ds_save_cy_ref)*\"/Elavl3-H2BRFP.tif\");\n",
    "atlas_ref = convert(Array{Float32}, atlas_ref_img);\n",
    "\n",
    "atlas_ref_t = fill(NaN32, size(atlas_ref,2), size(atlas_ref,1), size(atlas_ref,3))\n",
    "for (i, z) in enumerate(1:size(atlas_ref,3))\n",
    "    atlas_ref_t[:,:,i].= atlas_ref[:,:,z]'\n",
    "end\n",
    "\n",
    "\n"
   ]
  },
  {
   "cell_type": "code",
   "execution_count": null,
   "id": "41447d7b-bda5-4d41-a418-288a018eacfd",
   "metadata": {},
   "outputs": [],
   "source": [
    "stack_img = atlas_ref_t\n",
    "fig, ax = subplots(1,1,dpi=250, figsize=(8.2, 4.6))\n",
    "fig_bg = maximum(stack_img, dims=3)[:,:,1]\n",
    "ax.imshow(fig_bg', cmap=\"gray\")\n",
    "axis(\"off\")\n",
    "\n",
    "fig, ax = subplots(1,1,dpi=250, figsize=(8.2, 1.5))\n",
    "fig_bg = maximum(stack_img, dims=2)[:,1,:]\n",
    "ax.imshow(fig_bg', cmap=\"gray\",aspect=2/0.798, origin=\"lower\")\n",
    "axis(\"off\")\n",
    "\n",
    "fig, ax = subplots(1,1,dpi=250, figsize=(4.6, 1.5))\n",
    "fig_bg = maximum(stack_img, dims=1)[1,:,:]\n",
    "ax.imshow(fig_bg', cmap=\"gray\",aspect=2/0.798, origin=\"lower\")\n",
    "axis(\"off\")"
   ]
  },
  {
   "cell_type": "code",
   "execution_count": null,
   "id": "51a6af2d-5135-4fba-9777-362ff4656722",
   "metadata": {},
   "outputs": [],
   "source": [
    "file_path = \"/nfs/data7/jen/data/Z_brain_mask/\""
   ]
  },
  {
   "cell_type": "code",
   "execution_count": null,
   "id": "3e3fdc64-5443-4abf-aa38-1fa756c73b6b",
   "metadata": {},
   "outputs": [],
   "source": [
    "mask_file = h5open(joinpath(file_path, \"Mask.h5\"));\n",
    "region_names = keys(mask_file)\n",
    "# close(mask_file)"
   ]
  },
  {
   "cell_type": "code",
   "execution_count": null,
   "id": "35ddfd8c-0ad4-4f68-b133-f518e3424cf2",
   "metadata": {},
   "outputs": [],
   "source": [
    "println(region_names)"
   ]
  },
  {
   "cell_type": "code",
   "execution_count": null,
   "id": "a2c8f848-8248-4aa9-b010-a04a2c0e6b68",
   "metadata": {},
   "outputs": [],
   "source": [
    "fig_path = \"/home/chuyu/Notebooks/project_place_cell/figures/output/sfigure3/anatomy_schematics\"\n",
    "mkpath(fig_path)"
   ]
  },
  {
   "cell_type": "code",
   "execution_count": null,
   "id": "bca656bc-3e4f-40d4-beb2-9be013259732",
   "metadata": {},
   "outputs": [],
   "source": [
    "name = \"Telencephalon - Pallium\"\n",
    "mask = read(mask_file, name)\n",
    "try\n",
    "    size(mask)\n",
    "catch\n",
    "    mask_key = collect(keys(mask))[1]\n",
    "    mask = mask[mask_key]\n",
    "\n",
    "end\n",
    "\n",
    "stack_img = atlas_ref_t\n",
    "fig, ax = subplots(1,1,dpi=250, figsize=(8.2, 4.6))\n",
    "fig_bg = maximum(stack_img, dims=3)[:,:,1]\n",
    "ax.imshow(fig_bg', cmap=\"gray\")\n",
    "mask_img = maximum(mask, dims=3)[:,:,1]\n",
    "ax.imshow(mask_img', alpha=0.5)\n",
    "axis(\"off\")\n",
    "fig.savefig(joinpath(fig_path, \"Pallium_1.pdf\"), bbox_inches = \"tight\",transparent = true,pad_inches = 0)\n",
    "\n",
    "fig, ax = subplots(1,1,dpi=250, figsize=(8.2, 1.5))\n",
    "fig_bg = maximum(stack_img, dims=2)[:,1,:]\n",
    "ax.imshow(fig_bg', cmap=\"gray\",aspect=2/0.798,origin=\"lower\")\n",
    "mask_img = maximum(mask, dims=2)[:,1,:]\n",
    "ax.imshow(mask_img', alpha=0.5,aspect=2/0.798,origin=\"lower\")\n",
    "axis(\"off\")\n",
    "fig.savefig(joinpath(fig_path, \"Pallium_2.pdf\"), bbox_inches = \"tight\",transparent = true,pad_inches = 0)\n",
    "\n",
    "fig, ax = subplots(1,1,dpi=250, figsize=(4.6, 1.5))\n",
    "fig_bg = maximum(stack_img, dims=1)[1,:,:]\n",
    "ax.imshow(fig_bg', cmap=\"gray\",aspect=2/0.798,origin=\"lower\")\n",
    "mask_img = maximum(mask, dims=1)[1,:,:]\n",
    "ax.imshow(mask_img', alpha=0.5,aspect=2/0.798,origin=\"lower\")\n",
    "axis(\"off\")\n",
    "fig.savefig(joinpath(fig_path, \"Pallium_3.pdf\"), bbox_inches = \"tight\",transparent = true,pad_inches = 0)\n"
   ]
  },
  {
   "cell_type": "code",
   "execution_count": null,
   "id": "5ca721bb-d21f-467b-b8a5-756156a02eee",
   "metadata": {},
   "outputs": [],
   "source": [
    "name = \"Telencephalon - Subpallium\"\n",
    "mask = read(mask_file, name)\n",
    "try\n",
    "    size(mask)\n",
    "catch\n",
    "    mask_key = collect(keys(mask))[1]\n",
    "    mask = mask[mask_key]\n",
    "\n",
    "end\n",
    "\n",
    "stack_img = atlas_ref_t\n",
    "fig, ax = subplots(1,1,dpi=250, figsize=(8.2, 4.6))\n",
    "fig_bg = maximum(stack_img, dims=3)[:,:,1]\n",
    "ax.imshow(fig_bg', cmap=\"gray\")\n",
    "mask_img = maximum(mask, dims=3)[:,:,1]\n",
    "ax.imshow(mask_img', alpha=0.5)\n",
    "axis(\"off\")\n",
    "fig.savefig(joinpath(fig_path, \"Subpallium_1.pdf\"), bbox_inches = \"tight\",transparent = true,pad_inches = 0)\n",
    "\n",
    "fig, ax = subplots(1,1,dpi=250, figsize=(8.2, 1.5))\n",
    "fig_bg = maximum(stack_img, dims=2)[:,1,:]\n",
    "ax.imshow(fig_bg', cmap=\"gray\",aspect=2/0.798,origin=\"lower\")\n",
    "mask_img = maximum(mask, dims=2)[:,1,:]\n",
    "ax.imshow(mask_img', alpha=0.5,aspect=2/0.798,origin=\"lower\")\n",
    "axis(\"off\")\n",
    "fig.savefig(joinpath(fig_path, \"Subpallium_2.pdf\"), bbox_inches = \"tight\",transparent = true,pad_inches = 0)\n",
    "\n",
    "fig, ax = subplots(1,1,dpi=250, figsize=(4.6, 1.5))\n",
    "fig_bg = maximum(stack_img, dims=1)[1,:,:]\n",
    "ax.imshow(fig_bg', cmap=\"gray\",aspect=2/0.798,origin=\"lower\")\n",
    "mask_img = maximum(mask, dims=1)[1,:,:]\n",
    "ax.imshow(mask_img', alpha=0.5,aspect=2/0.798,origin=\"lower\")\n",
    "axis(\"off\")\n",
    "fig.savefig(joinpath(fig_path, \"Subpallium_3.pdf\"), bbox_inches = \"tight\",transparent = true,pad_inches = 0)\n"
   ]
  },
  {
   "cell_type": "code",
   "execution_count": null,
   "id": "724577b3-82ce-46ad-afb4-371397a13a45",
   "metadata": {},
   "outputs": [],
   "source": []
  }
 ],
 "metadata": {
  "kernelspec": {
   "display_name": "Julia 1.7.1",
   "language": "julia",
   "name": "julia-1.7"
  },
  "language_info": {
   "file_extension": ".jl",
   "mimetype": "application/julia",
   "name": "julia",
   "version": "1.7.1"
  }
 },
 "nbformat": 4,
 "nbformat_minor": 5
}
