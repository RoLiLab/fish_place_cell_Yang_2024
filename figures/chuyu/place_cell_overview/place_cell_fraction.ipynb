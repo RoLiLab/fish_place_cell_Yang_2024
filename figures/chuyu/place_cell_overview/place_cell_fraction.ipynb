{
 "cells": [
  {
   "cell_type": "code",
   "execution_count": null,
   "id": "0e7b0f7e-e1e7-4921-9f6c-abc361aff79a",
   "metadata": {
    "tags": []
   },
   "outputs": [],
   "source": [
    "!(@isdefined cleanup_hook) && IJulia.push_postexecute_hook(() -> (empty!(In); empty!(Out); GC.gc(true))); cleanup_hook = true;"
   ]
  },
  {
   "cell_type": "code",
   "execution_count": null,
   "id": "2f63e08b-3fb5-40af-a058-97756f04a4b4",
   "metadata": {
    "tags": []
   },
   "outputs": [],
   "source": [
    "using ProgressMeter, PyCall, PyPlot, Images, HDF5,NaNStatistics, Statistics, DSP, Lasso, JLD2\n",
    "using _Data, _Math"
   ]
  },
  {
   "cell_type": "code",
   "execution_count": null,
   "id": "66240f00-3f6a-491d-9d52-82e929f66fc1",
   "metadata": {
    "tags": []
   },
   "outputs": [],
   "source": [
    "@pyimport numpy\n",
    "@pyimport scipy.stats as stats\n",
    "@pyimport matplotlib.colors as mpl_colors\n",
    "@pyimport matplotlib.cm as cm "
   ]
  },
  {
   "cell_type": "code",
   "execution_count": null,
   "id": "0170b278-4ebb-4ec9-b00f-55d3b2c64b55",
   "metadata": {
    "tags": []
   },
   "outputs": [],
   "source": [
    "rc_params = PyDict(pyimport(\"matplotlib\")[\"rcParams\"]);\n",
    "rc_params[\"font.sans-serif\"] = [\"Arial\"];\n",
    "rc_params[\"font.size\"] = 7;\n",
    "rc_params[\"lines.linewidth\"] = 1;\n",
    "rc_params[\"lines.markersize\"] = 4;\n",
    "rc_params[\"xtick.major.size\"] = 2;\n",
    "rc_params[\"ytick.major.size\"] = 2;\n",
    "rc_params[\"xtick.major.pad\"] = 2;\n",
    "rc_params[\"ytick.major.pad\"] = 2;\n",
    "# rc_params[\"axes.labelpad\"] = 2;\n",
    "\n",
    "cim(img::Matrix{UInt32}) = CairoImageSurface(img, Cairo.FORMAT_RGB24; flipxy = false) \n",
    "cim(img::Matrix{ARGB32}) = cim(reinterpret(UInt32, img))\n",
    "cim(img::Matrix{RGB24}) = cim(reinterpret(UInt32, img))\n",
    "cim(img::Matrix{UInt8}) = cim(Gray.(reinterpret(N0f8, img)))\n",
    "cim(img::Array{UInt8,3}) = cim(RGB24.(reinterpret(N0f8, img[:,:,1]), reinterpret(N0f8, img[:,:,2]), reinterpret(N0f8, img[:,:,3])));downsample(img,n=4) = +([img[i:n:n*div(size(img,1)-1,n), j:n:n*div(size(img,2)-1,n)] for i = 1:n, j = 1:n]...)/(n*n);\n",
    "downsample(img,n=4) = +([img[i:n:n*div(size(img,1)-1,n), j:n:n*div(size(img,2)-1,n)] for i = 1:n, j = 1:n]...)/(n*n);"
   ]
  },
  {
   "cell_type": "code",
   "execution_count": null,
   "id": "9c9d9693-9755-400c-b44c-b16c87a9d99f",
   "metadata": {
    "tags": []
   },
   "outputs": [],
   "source": [
    "# include(\"../../../functions/func_map.jl\")\n",
    "# include(\"../../../functions/func_stat.jl\")\n",
    "# include(\"../../../functions/func_data.jl\")\n",
    "include(\"../../../functions/func_plot.jl\")\n",
    "include(\"../../../functions/utils.jl\")"
   ]
  },
  {
   "cell_type": "code",
   "execution_count": null,
   "id": "23858697-64d7-4184-b85e-662eae20a9b2",
   "metadata": {},
   "outputs": [],
   "source": [
    "fig_path = \"/home/chuyu/Notebooks/project_place_cell/figures/output/sfigure3/distribution_summary\"\n",
    "mkpath(fig_path)"
   ]
  },
  {
   "cell_type": "code",
   "execution_count": null,
   "id": "242d6a50-ed78-4aef-96a6-7fb05420727b",
   "metadata": {},
   "outputs": [],
   "source": [
    "review_fig_path = \"/home/chuyu/Notebooks/project_place_cell/figures/output/review_figures\"\n",
    "mkpath(review_fig_path)"
   ]
  },
  {
   "cell_type": "code",
   "execution_count": null,
   "id": "596bdd58-e01f-46b5-be85-57cd88a20d66",
   "metadata": {},
   "outputs": [],
   "source": [
    "datasets_corner_cue = \n",
    "[\n",
    "    [\"20220407_152537\", 4, \"jen\"],\n",
    "    [\"20220406_111526\", 9, \"jen\"],\n",
    "    [\"20220407_090156\", 5, \"jen\"],\n",
    "    [\"20220417_165530\", 2, \"jen\"],\n",
    "    [\"20220406_153842\", 9, \"jen\"],\n",
    "    [\"20220405_171444\", 25, \"jen\"],\n",
    "    [\"20220416_160516\", 6, \"jen\"]\n",
    "];"
   ]
  },
  {
   "cell_type": "code",
   "execution_count": null,
   "id": "031019d1-e740-4331-81dc-ddc271bc2a79",
   "metadata": {},
   "outputs": [],
   "source": [
    "data_info_all = reduce(vcat, [datasets_corner_cue])"
   ]
  },
  {
   "cell_type": "code",
   "execution_count": null,
   "id": "bc9b648b-f51d-4841-ade8-3d7fab84312b",
   "metadata": {},
   "outputs": [],
   "source": [
    "analyzer = \"chuyu\""
   ]
  },
  {
   "cell_type": "code",
   "execution_count": null,
   "id": "3020b667-dd23-449a-b3a5-7eb469e67a0f",
   "metadata": {},
   "outputs": [],
   "source": [
    "function neuron_region(region_roi_bool, region_name, neuron_label, n_neuron)\n",
    "    \n",
    "    # for one merged cell, it belongs to telecephalon if at least one of its roi belongs to telencephalon\n",
    "    region_roi_bool = region_roi_bool[:,findall(region_names .== region_name)][:,1]\n",
    "    whether_region = falses(n_neuron)\n",
    "    for which_neuron in Int32.(numpy.unique(neuron_label)[1:end-1])\n",
    "        if sum(region_roi_bool[neuron_label.==which_neuron]) >0\n",
    "            whether_region[which_neuron] = true\n",
    "        end\n",
    "    end\n",
    "    return whether_region\n",
    "end"
   ]
  },
  {
   "cell_type": "code",
   "execution_count": null,
   "id": "1cad5ae8-261a-45c3-a140-63fac260f9cd",
   "metadata": {},
   "outputs": [],
   "source": [
    "which_data = 1\n",
    "data_info = data_info_all[which_data]\n",
    "\n",
    "experiment_filename_1 = data_info[1]\n",
    "server_1 = data_info[2]\n",
    "experimenter = data_info[end]\n",
    "\n",
    "ds_save_1 = Dataset(experiment_filename_1, experimenter, gethostname() == \"roli-$(server_1)\" ? \"/data\" : \"/nfs/data$(server_1)\")\n",
    "ds_save_cy_1 = Dataset(experiment_filename_1, \"chuyu\", gethostname() == \"roli-$(server_1)\" ? \"/data\" : \"/nfs/data$(server_1)\")\n",
    "ds_save_analyzer_1 = Dataset(experiment_filename_1, analyzer, gethostname() == \"roli-$(server_1)\" ? \"/data\" : \"/nfs/data$(server_1)\")\n",
    "\n",
    "\n",
    "NMF_filename = joinpath(data_path(ds_save_cy_1), \"NMF_merge.h5\")\n",
    "NMF_file = h5open(NMF_filename, \"r\")\n",
    "global Z_all = HDF5.readmmap(NMF_file[\"Z_all\"])\n",
    "global X_all = HDF5.readmmap(NMF_file[\"X_all\"])\n",
    "global Y_all = HDF5.readmmap(NMF_file[\"Y_all\"])\n",
    "global neuron_label = HDF5.readmmap(NMF_file[\"neuron_label\"])\n",
    "close(NMF_file)\n",
    "\n",
    "n_neuron = length(X_all);\n",
    "\n",
    "# whether individual roi belongs to a certain region\n",
    "region_bool_filename = joinpath(data_path(ds_save_cy_1), \"region_roi_bool.h5\")\n",
    "region_bool_file = h5open(region_bool_filename, \"r\")\n",
    "global region_names = read(region_bool_file, \"region_names\")\n",
    "global region_roi_bool = read(region_bool_file, \"region_roi_bool\")\n",
    "close(region_bool_file)\n",
    "\n",
    "\n",
    "\n",
    "all_files = readdir(data_path(ds_save_cy_1))\n",
    "long_name_files = all_files[findall([length(all_files[i])>6 for i in 1:length(all_files)])]\n",
    "spatial_info_index = findall([long_name_files[i][1:6]==\"neuron\" for i in 1:length(long_name_files)])\n",
    "candidate_filename = long_name_files[spatial_info_index]\n",
    "which_file = [occursin(experiment_filename_1, candidate_filename[i])*occursin(\"A_dF\", candidate_filename[i]) for i in 1:length(candidate_filename)]\n",
    "@assert(length(candidate_filename[which_file]) == 1)\n",
    "save_file_name = candidate_filename[which_file][1]\n",
    "n_bins = save_file_name[end-4:end-3]\n",
    "info_filename = joinpath(data_path(ds_save_cy_1), save_file_name)\n",
    "file = h5open(info_filename, \"r\")\n",
    "place_map_all_1 = HDF5.readmmap(file[\"place_map_all\"])\n",
    "specificity_1 = HDF5.readmmap(file[\"specificity\"])\n",
    "specificity_population_z_1 = HDF5.readmmap(file[\"specificity_population_z\"])\n",
    "specificity_shuffle_z_1 = HDF5.readmmap(file[\"specificity_shuffle_z\"])\n",
    "valid_roi_1 = HDF5.readmmap(file[\"valid_neurons\"])\n",
    "close(file)\n",
    "    \n",
    "\n",
    "    \n",
    "place_cell_index_1 = intersect(findall(specificity_population_z_1.>3), findall(specificity_shuffle_z_1.>5), findall(specificity_1.>0.01));"
   ]
  },
  {
   "cell_type": "code",
   "execution_count": null,
   "id": "31b54551-d92b-47c2-ae19-afa67363719a",
   "metadata": {},
   "outputs": [],
   "source": [
    "plot_loc(place_cell_index_1;valid_neurons = valid_roi_1)"
   ]
  },
  {
   "cell_type": "code",
   "execution_count": null,
   "id": "f3e1aaa9-8477-4257-a347-ad6e1dfe8345",
   "metadata": {},
   "outputs": [],
   "source": [
    "println(region_names)"
   ]
  },
  {
   "cell_type": "code",
   "execution_count": null,
   "id": "5ae00657-e131-4a83-9fae-d5ba140c57b3",
   "metadata": {},
   "outputs": [],
   "source": [
    "whether_region_all = []\n",
    "for region_name in which_regions\n",
    "    whether_region = neuron_region(region_roi_bool, region_name, neuron_label, n_neuron)\n",
    "    append!(whether_region_all, [whether_region])\n",
    "end"
   ]
  },
  {
   "cell_type": "code",
   "execution_count": null,
   "id": "4393415d-9e81-4581-bc50-a4afaff66b56",
   "metadata": {},
   "outputs": [],
   "source": [
    "for whether_region in whether_region_all\n",
    "    plot_loc(findall(whether_region);valid_neurons = valid_roi_1)\n",
    "end"
   ]
  },
  {
   "cell_type": "code",
   "execution_count": null,
   "id": "e3ace8e8-bcb0-4e95-bfa4-93838577ea7a",
   "metadata": {},
   "outputs": [],
   "source": [
    "place_cell_percentage_all = []\n",
    "for whether_region in whether_region_all\n",
    "    region_neurons = findall(whether_region)\n",
    "    place_cell_percentage = sum(whether_in(region_neurons, place_cell_index_1))./length(region_neurons)\n",
    "    append!(place_cell_percentage_all, place_cell_percentage)\n",
    "end"
   ]
  },
  {
   "cell_type": "code",
   "execution_count": null,
   "id": "ddab2596-9891-49e5-b010-cedbea2a2b70",
   "metadata": {},
   "outputs": [],
   "source": [
    "place_cell_percentage_all"
   ]
  },
  {
   "cell_type": "code",
   "execution_count": null,
   "id": "abd0ac18-f198-4d45-96b4-298156c98132",
   "metadata": {},
   "outputs": [],
   "source": [
    "region_place_cell_nr = [length(intersect(place_cell_index_1, findall(whether_region_all[i]))) for i in 1:length(whether_region_all)]\n",
    "fraction_place_cell = region_place_cell_nr./length(place_cell_index_1)"
   ]
  },
  {
   "cell_type": "markdown",
   "id": "a18fdb32-9df5-48fe-8b91-2b9ddaf4638b",
   "metadata": {},
   "source": [
    "# For all fish, large region\n"
   ]
  },
  {
   "cell_type": "code",
   "execution_count": null,
   "id": "83552638-5753-4265-b733-98ba36354265",
   "metadata": {},
   "outputs": [],
   "source": [
    "which_regions = [\"Telencephalon -\", \"Diencephalon -\", \"Mesencephalon -\", \"Rhombencephalon -\"]"
   ]
  },
  {
   "cell_type": "code",
   "execution_count": null,
   "id": "c18f5681-e242-47f2-b0ec-0c6f506117a0",
   "metadata": {},
   "outputs": [],
   "source": [
    "place_cell_percentage_all_fish = []\n",
    "fraction_tel_place_cell_all_fish = []\n",
    "for which_data = 1:length(data_info_all)\n",
    "    data_info = data_info_all[which_data]\n",
    "\n",
    "    experiment_filename_1 = data_info[1]\n",
    "    server_1 = data_info[2]\n",
    "    experimenter = data_info[end]\n",
    "\n",
    "    ds_save_1 = Dataset(experiment_filename_1, experimenter, gethostname() == \"roli-$(server_1)\" ? \"/data\" : \"/nfs/data$(server_1)\")\n",
    "    ds_save_cy_1 = Dataset(experiment_filename_1, \"chuyu\", gethostname() == \"roli-$(server_1)\" ? \"/data\" : \"/nfs/data$(server_1)\")\n",
    "    ds_save_analyzer_1 = Dataset(experiment_filename_1, analyzer, gethostname() == \"roli-$(server_1)\" ? \"/data\" : \"/nfs/data$(server_1)\")\n",
    "\n",
    "\n",
    "    NMF_filename = joinpath(data_path(ds_save_cy_1), \"NMF_merge.h5\")\n",
    "    NMF_file = h5open(NMF_filename, \"r\")\n",
    "    global Z_all = HDF5.readmmap(NMF_file[\"Z_all\"])\n",
    "    global X_all = HDF5.readmmap(NMF_file[\"X_all\"])\n",
    "    global Y_all = HDF5.readmmap(NMF_file[\"Y_all\"])\n",
    "    global neuron_label = HDF5.readmmap(NMF_file[\"neuron_label\"])\n",
    "    close(NMF_file)\n",
    "\n",
    "    n_neuron = length(X_all);\n",
    "\n",
    "    # whether individual roi belongs to a certain region\n",
    "    region_bool_filename = joinpath(data_path(ds_save_cy_1), \"region_roi_bool.h5\")\n",
    "    region_bool_file = h5open(region_bool_filename, \"r\")\n",
    "    global region_names = read(region_bool_file, \"region_names\")\n",
    "    global region_roi_bool = read(region_bool_file, \"region_roi_bool\")\n",
    "    close(region_bool_file)\n",
    "\n",
    "\n",
    "\n",
    "    all_files = readdir(data_path(ds_save_cy_1))\n",
    "    long_name_files = all_files[findall([length(all_files[i])>6 for i in 1:length(all_files)])]\n",
    "    spatial_info_index = findall([long_name_files[i][1:6]==\"neuron\" for i in 1:length(long_name_files)])\n",
    "    candidate_filename = long_name_files[spatial_info_index]\n",
    "    which_file = [occursin(experiment_filename_1, candidate_filename[i])*occursin(\"A_dF\", candidate_filename[i]) for i in 1:length(candidate_filename)]\n",
    "    @assert(length(candidate_filename[which_file]) == 1)\n",
    "    save_file_name = candidate_filename[which_file][1]\n",
    "    n_bins = save_file_name[end-4:end-3]\n",
    "    info_filename = joinpath(data_path(ds_save_cy_1), save_file_name)\n",
    "    file = h5open(info_filename, \"r\")\n",
    "    place_map_all_1 = HDF5.readmmap(file[\"place_map_all\"])\n",
    "    specificity_1 = HDF5.readmmap(file[\"specificity\"])\n",
    "    specificity_population_z_1 = HDF5.readmmap(file[\"specificity_population_z\"])\n",
    "    specificity_shuffle_z_1 = HDF5.readmmap(file[\"specificity_shuffle_z\"])\n",
    "    valid_roi_1 = HDF5.readmmap(file[\"valid_neurons\"])\n",
    "    close(file)\n",
    "\n",
    "\n",
    "\n",
    "    place_cell_index_1 = intersect(findall(specificity_population_z_1.>3), findall(specificity_shuffle_z_1.>5), findall(specificity_1.>0.01));\n",
    "\n",
    "\n",
    "\n",
    "    whether_region_all = []\n",
    "    for region_name in which_regions\n",
    "        whether_region = neuron_region(region_roi_bool, region_name, neuron_label, n_neuron)\n",
    "        append!(whether_region_all, [whether_region])\n",
    "    end\n",
    "\n",
    "    place_cell_percentage_all = []\n",
    "    for whether_region in whether_region_all\n",
    "        region_neurons = findall(whether_region)\n",
    "        place_cell_percentage = sum(whether_in(region_neurons, place_cell_index_1))./length(region_neurons)\n",
    "        append!(place_cell_percentage_all, place_cell_percentage)\n",
    "    end\n",
    "    \n",
    "    \n",
    "    region_place_cell_nr = [length(intersect(place_cell_index_1, findall(whether_region_all[i]))) for i in 1:length(whether_region_all)]\n",
    "    fraction_place_cell = region_place_cell_nr./length(place_cell_index_1)\n",
    "    \n",
    "    \n",
    "    append!(place_cell_percentage_all_fish , [place_cell_percentage_all])\n",
    "    append!(fraction_tel_place_cell_all_fish , [fraction_place_cell])\n",
    "    \n",
    "    \n",
    "    # h5open(joinpath(data_path(ds_save_analyzer_1), \"place_cell_percentage.h5\"), \"w\") do file\n",
    "    #     file[\"place_cell_percentage_all\"] = Float32.(place_cell_percentage_all)\n",
    "    #     file[\"fraction_place_cell\"] = Float32.(fraction_place_cell)\n",
    "    #     file[\"which_regions\"] = which_regions\n",
    "\n",
    "    # end;\n",
    "    \n",
    "end"
   ]
  },
  {
   "cell_type": "code",
   "execution_count": null,
   "id": "44e92ab8-d0fb-43b6-99b0-2937cfc78749",
   "metadata": {},
   "outputs": [],
   "source": [
    "data_info_all"
   ]
  },
  {
   "cell_type": "code",
   "execution_count": null,
   "id": "5478dc8a-a6b4-4c40-8cb1-97ad0902df96",
   "metadata": {},
   "outputs": [],
   "source": [
    "place_cell_percentage_all_fish"
   ]
  },
  {
   "cell_type": "code",
   "execution_count": null,
   "id": "27de5990-aedd-4ad2-87b0-cc28b1255ea8",
   "metadata": {},
   "outputs": [],
   "source": [
    "fraction_tel_place_cell_all_fish"
   ]
  },
  {
   "cell_type": "code",
   "execution_count": null,
   "id": "1cb871a2-2ff6-4ede-98bb-5482058502f6",
   "metadata": {},
   "outputs": [],
   "source": [
    "mean([fraction_tel_place_cell_all_fish[i][1] for i in 1:length(fraction_tel_place_cell_all_fish)])"
   ]
  },
  {
   "cell_type": "code",
   "execution_count": null,
   "id": "cd8b9978-83b0-45df-9106-1e3ce4f0c3e3",
   "metadata": {},
   "outputs": [],
   "source": [
    "std([fraction_tel_place_cell_all_fish[i][1] for i in 1:length(fraction_tel_place_cell_all_fish)])"
   ]
  },
  {
   "cell_type": "code",
   "execution_count": null,
   "id": "d6c0288f-e003-4b23-9033-d05189f63e7c",
   "metadata": {},
   "outputs": [],
   "source": [
    "interested_large_regions = [\"Tel.\", \"Di.\", \"Mes.\", \"Rhomb.\"]\n",
    "region_percentage_all = []\n",
    "for i in 1:length(place_cell_percentage_all_fish)\n",
    "    \n",
    "    region_percentage = Dict()\n",
    "    for (i_region, region_name) in enumerate(interested_large_regions)\n",
    "        region_percentage[region_name] = place_cell_percentage_all_fish[i][i_region]\n",
    "    end\n",
    "    \n",
    "    append!(region_percentage_all,[region_percentage])\n",
    "end\n",
    "\n",
    "region_fraction_all = []\n",
    "for i in 1:length(fraction_tel_place_cell_all_fish)\n",
    "    region_fraction = Dict()\n",
    "    for (i_region, region_name) in enumerate(interested_large_regions)\n",
    "        region_fraction[region_name] = fraction_tel_place_cell_all_fish[i][i_region]\n",
    "    end\n",
    "    \n",
    "    append!(region_fraction_all,[region_fraction])\n",
    "end"
   ]
  },
  {
   "cell_type": "code",
   "execution_count": null,
   "id": "bec48c43-1fc3-4036-8552-e26375279f7c",
   "metadata": {},
   "outputs": [],
   "source": [
    "region_fraction_all_large = copy(region_fraction_all)"
   ]
  },
  {
   "cell_type": "code",
   "execution_count": null,
   "id": "268c68ef-42a4-4216-acc9-d2a51a4286f8",
   "metadata": {},
   "outputs": [],
   "source": [
    "region_fraction_all_large = copy(region_fraction_all)"
   ]
  },
  {
   "cell_type": "code",
   "execution_count": null,
   "id": "d25c2d42-e176-47ea-a7d8-1302232a5089",
   "metadata": {},
   "outputs": [],
   "source": [
    "@pyimport pandas as pd\n",
    "@pyimport seaborn as sns"
   ]
  },
  {
   "cell_type": "code",
   "execution_count": null,
   "id": "f3528e17-eeeb-4b09-a183-578964911f35",
   "metadata": {},
   "outputs": [],
   "source": [
    "@pyimport matplotlib.colors as mpl_colors\n",
    "@pyimport matplotlib.cm as cm "
   ]
  },
  {
   "cell_type": "code",
   "execution_count": null,
   "id": "9998d586-2490-45a1-9d82-2930e9152720",
   "metadata": {},
   "outputs": [],
   "source": [
    "hot = cm.get_cmap(\"hot\", 100)\n",
    "alpha_top = 50\n",
    "cmaplist = [hot(i) for i in 1:(hot.N)]\n",
    "cmaplist_new = []\n",
    "length_cmaplist = length(cmaplist)\n",
    "for (i, color_) in enumerate(cmaplist)\n",
    "    new_color_ = numpy.copy(color_)\n",
    "    if i<=alpha_top\n",
    "        new_color_[4] = (100/alpha_top)*i/length_cmaplist\n",
    "    end\n",
    "    append!(cmaplist_new,[new_color_]) \n",
    "end\n",
    "hot_new = mpl_colors.LinearSegmentedColormap.from_list(\"hot_new\",cmaplist_new,100)"
   ]
  },
  {
   "cell_type": "code",
   "execution_count": null,
   "id": "7f54b776-982f-487d-9d37-0d5e270421c3",
   "metadata": {},
   "outputs": [],
   "source": [
    "region_percentage_all"
   ]
  },
  {
   "cell_type": "code",
   "execution_count": null,
   "id": "3b3ffa89-99eb-4b1b-affa-cbfd21761854",
   "metadata": {},
   "outputs": [],
   "source": [
    "df = pd.DataFrame(region_percentage_all)\n",
    "# sns.set_theme(style=\"whitegrid\")\n",
    "# tips = sns.load_dataset(\"tips\")\n",
    "fig, ax = subplots(1,1,figsize=(1,2))\n",
    "sns.stripplot(order = interested_large_regions, data=df,ax=ax, color=hot_new(60), s=3, alpha=0.8)\n",
    "\n",
    "ax.set_ylabel(\"# PCs per region / # cells per region\")\n",
    "ax.spines[\"top\"].set_visible(false)\n",
    "ax.spines[\"right\"].set_visible(false)\n",
    "\n",
    "\n",
    "\n",
    "order = interested_large_regions\n",
    "for i in 0:length(order)-1\n",
    "    m = numpy.nanmedian([x[order[i+1]] for x in region_percentage_all])\n",
    "    ax.plot([i-0.3, i+0.3], [m, m], c=\"k\", lw=2)\n",
    "end\n",
    "\n",
    "xticks([0,1,2,3], labels= [\"Tel.\", \"Di.\", \"Mes.\", \"Rhomb.\"], rotation=45, ha=\"right\" , rotation_mode=\"anchor\")\n",
    "# yticks([0,500,1000,1500,2000],[0,\"\",\"\",\"\",2000])\n",
    "\n",
    "fig.savefig(joinpath(fig_path, \"region_percentage.pdf\"), bbox_inches = \"tight\",transparent = true,pad_inches = 0)"
   ]
  },
  {
   "cell_type": "code",
   "execution_count": null,
   "id": "905c9fc9-10fe-444c-9590-ece2d686343e",
   "metadata": {},
   "outputs": [],
   "source": [
    "df = pd.DataFrame(region_fraction_all)\n",
    "# sns.set_theme(style=\"whitegrid\")\n",
    "# tips = sns.load_dataset(\"tips\")\n",
    "fig, ax = subplots(1,1,figsize=(1,2))\n",
    "sns.stripplot(order = interested_large_regions, data=df,ax=ax, color=hot_new(60), s=3, alpha=0.8)\n",
    "\n",
    "ax.set_ylabel(\"# PCs per region / # PCs\")\n",
    "ax.spines[\"top\"].set_visible(false)\n",
    "ax.spines[\"right\"].set_visible(false)\n",
    "\n",
    "\n",
    "\n",
    "order = interested_large_regions\n",
    "for i in 0:length(order)-1\n",
    "    m = numpy.nanmedian([x[order[i+1]] for x in region_fraction_all])\n",
    "    ax.plot([i-0.3, i+0.3], [m, m], c=\"k\", lw=2)\n",
    "end\n",
    "\n",
    "xticks([0,1,2,3], labels= [\"Tel.\", \"Di.\", \"Mes.\", \"Rhomb.\"], rotation=45, ha=\"right\" , rotation_mode=\"anchor\")\n",
    "\n",
    "ax.set_ylim(-0.02, 1.02)\n",
    "# yticks([0,500,1000,1500,2000],[0,\"\",\"\",\"\",2000])\n",
    "\n",
    "fig.savefig(joinpath(review_fig_path, \"region_fraction.pdf\"), bbox_inches = \"tight\",transparent = true,pad_inches = 0)"
   ]
  },
  {
   "cell_type": "markdown",
   "id": "4011a1e0-3341-4b6f-8ee2-4b2c611f6bf9",
   "metadata": {},
   "source": [
    "# For all fish, tel region\n"
   ]
  },
  {
   "cell_type": "code",
   "execution_count": null,
   "id": "0d15957a-b129-4947-95c8-03c976a6dbec",
   "metadata": {},
   "outputs": [],
   "source": [
    "which_regions = [\"Telencephalon - Pallium\", \"Telencephalon - Subpallium\"]"
   ]
  },
  {
   "cell_type": "code",
   "execution_count": null,
   "id": "ef77d9b3-ea0d-4fce-b3d1-605a06df8f48",
   "metadata": {},
   "outputs": [],
   "source": [
    "place_cell_percentage_all_fish = []\n",
    "fraction_tel_place_cell_all_fish = []\n",
    "for which_data = 1:length(data_info_all)\n",
    "    data_info = data_info_all[which_data]\n",
    "\n",
    "    experiment_filename_1 = data_info[1]\n",
    "    server_1 = data_info[2]\n",
    "    experimenter = data_info[end]\n",
    "\n",
    "    ds_save_1 = Dataset(experiment_filename_1, experimenter, gethostname() == \"roli-$(server_1)\" ? \"/data\" : \"/nfs/data$(server_1)\")\n",
    "    ds_save_cy_1 = Dataset(experiment_filename_1, \"chuyu\", gethostname() == \"roli-$(server_1)\" ? \"/data\" : \"/nfs/data$(server_1)\")\n",
    "    ds_save_analyzer_1 = Dataset(experiment_filename_1, analyzer, gethostname() == \"roli-$(server_1)\" ? \"/data\" : \"/nfs/data$(server_1)\")\n",
    "\n",
    "\n",
    "    NMF_filename = joinpath(data_path(ds_save_cy_1), \"NMF_merge.h5\")\n",
    "    NMF_file = h5open(NMF_filename, \"r\")\n",
    "    global Z_all = HDF5.readmmap(NMF_file[\"Z_all\"])\n",
    "    global X_all = HDF5.readmmap(NMF_file[\"X_all\"])\n",
    "    global Y_all = HDF5.readmmap(NMF_file[\"Y_all\"])\n",
    "    global neuron_label = HDF5.readmmap(NMF_file[\"neuron_label\"])\n",
    "    close(NMF_file)\n",
    "\n",
    "    n_neuron = length(X_all);\n",
    "\n",
    "    # whether individual roi belongs to a certain region\n",
    "    region_bool_filename = joinpath(data_path(ds_save_cy_1), \"region_roi_bool.h5\")\n",
    "    region_bool_file = h5open(region_bool_filename, \"r\")\n",
    "    global region_names = read(region_bool_file, \"region_names\")\n",
    "    global region_roi_bool = read(region_bool_file, \"region_roi_bool\")\n",
    "    close(region_bool_file)\n",
    "\n",
    "\n",
    "\n",
    "    all_files = readdir(data_path(ds_save_cy_1))\n",
    "    long_name_files = all_files[findall([length(all_files[i])>6 for i in 1:length(all_files)])]\n",
    "    spatial_info_index = findall([long_name_files[i][1:6]==\"neuron\" for i in 1:length(long_name_files)])\n",
    "    candidate_filename = long_name_files[spatial_info_index]\n",
    "    which_file = [occursin(experiment_filename_1, candidate_filename[i])*occursin(\"A_dF\", candidate_filename[i]) for i in 1:length(candidate_filename)]\n",
    "    @assert(length(candidate_filename[which_file]) == 1)\n",
    "    save_file_name = candidate_filename[which_file][1]\n",
    "    n_bins = save_file_name[end-4:end-3]\n",
    "    info_filename = joinpath(data_path(ds_save_cy_1), save_file_name)\n",
    "    file = h5open(info_filename, \"r\")\n",
    "    place_map_all_1 = HDF5.readmmap(file[\"place_map_all\"])\n",
    "    specificity_1 = HDF5.readmmap(file[\"specificity\"])\n",
    "    specificity_population_z_1 = HDF5.readmmap(file[\"specificity_population_z\"])\n",
    "    specificity_shuffle_z_1 = HDF5.readmmap(file[\"specificity_shuffle_z\"])\n",
    "    valid_roi_1 = HDF5.readmmap(file[\"valid_neurons\"])\n",
    "    close(file)\n",
    "\n",
    "\n",
    "\n",
    "    place_cell_index_1 = intersect(findall(specificity_population_z_1.>3), findall(specificity_shuffle_z_1.>5), findall(specificity_1.>0.01));\n",
    "\n",
    "\n",
    "\n",
    "    whether_region_all = []\n",
    "    for region_name in which_regions\n",
    "        whether_region = neuron_region(region_roi_bool, region_name, neuron_label, n_neuron)\n",
    "        append!(whether_region_all, [whether_region])\n",
    "    end\n",
    "\n",
    "    place_cell_percentage_all = []\n",
    "    for whether_region in whether_region_all\n",
    "        region_neurons = findall(whether_region)\n",
    "        place_cell_percentage = sum(whether_in(region_neurons, place_cell_index_1))./length(region_neurons)\n",
    "        append!(place_cell_percentage_all, place_cell_percentage)\n",
    "    end\n",
    "    \n",
    "    \n",
    "    region_place_cell_nr = [length(intersect(place_cell_index_1, findall(whether_region_all[i]))) for i in 1:length(whether_region_all)]\n",
    "    fraction_place_cell = region_place_cell_nr./length(place_cell_index_1)\n",
    "    \n",
    "    \n",
    "    append!(place_cell_percentage_all_fish , [place_cell_percentage_all])\n",
    "    append!(fraction_tel_place_cell_all_fish , [fraction_place_cell])\n",
    "end"
   ]
  },
  {
   "cell_type": "code",
   "execution_count": null,
   "id": "f4c3f615-43fe-4bde-b0ac-bc78dc25a205",
   "metadata": {},
   "outputs": [],
   "source": [
    "place_cell_percentage_all_fish"
   ]
  },
  {
   "cell_type": "code",
   "execution_count": null,
   "id": "166281f2-81c6-40d6-be2b-d654ddec33ca",
   "metadata": {},
   "outputs": [],
   "source": [
    "fraction_tel_place_cell_all_fish"
   ]
  },
  {
   "cell_type": "code",
   "execution_count": null,
   "id": "8372db5c-8cc8-4fcc-9f55-73ab49c5646e",
   "metadata": {},
   "outputs": [],
   "source": [
    "interested_large_regions = [\"Pallium\", \"Subpallium\"]\n",
    "region_percentage_all = []\n",
    "for i in 1:length(place_cell_percentage_all_fish)\n",
    "    \n",
    "    region_percentage = Dict()\n",
    "    for (i_region, region_name) in enumerate(interested_large_regions)\n",
    "        region_percentage[region_name] = place_cell_percentage_all_fish[i][i_region]\n",
    "    end\n",
    "    \n",
    "    append!(region_percentage_all,[region_percentage])\n",
    "end\n",
    "\n",
    "region_fraction_all = []\n",
    "for i in 1:length(fraction_tel_place_cell_all_fish)\n",
    "    region_fraction = Dict()\n",
    "    for (i_region, region_name) in enumerate(interested_large_regions)\n",
    "        region_fraction[region_name] = fraction_tel_place_cell_all_fish[i][i_region]\n",
    "    end\n",
    "    \n",
    "    append!(region_fraction_all,[region_fraction])\n",
    "end"
   ]
  },
  {
   "cell_type": "code",
   "execution_count": null,
   "id": "7687e54d-d6a4-4af1-9580-097df5bce777",
   "metadata": {},
   "outputs": [],
   "source": [
    "region_fraction_all_small = copy(region_fraction_all)"
   ]
  },
  {
   "cell_type": "code",
   "execution_count": null,
   "id": "8ee83d47-563c-4288-bc69-2f3e652cdf50",
   "metadata": {},
   "outputs": [],
   "source": [
    "@pyimport pandas as pd\n",
    "@pyimport seaborn as sns"
   ]
  },
  {
   "cell_type": "code",
   "execution_count": null,
   "id": "41ffa94d-89dd-44fa-ad07-4de092f6c605",
   "metadata": {},
   "outputs": [],
   "source": [
    "@pyimport matplotlib.colors as mpl_colors\n",
    "@pyimport matplotlib.cm as cm "
   ]
  },
  {
   "cell_type": "code",
   "execution_count": null,
   "id": "76974089-169a-40bf-b3ca-02ef03f86fb9",
   "metadata": {},
   "outputs": [],
   "source": [
    "hot = cm.get_cmap(\"hot\", 100)\n",
    "alpha_top = 50\n",
    "cmaplist = [hot(i) for i in 1:(hot.N)]\n",
    "cmaplist_new = []\n",
    "length_cmaplist = length(cmaplist)\n",
    "for (i, color_) in enumerate(cmaplist)\n",
    "    new_color_ = numpy.copy(color_)\n",
    "    if i<=alpha_top\n",
    "        new_color_[4] = (100/alpha_top)*i/length_cmaplist\n",
    "    end\n",
    "    append!(cmaplist_new,[new_color_]) \n",
    "end\n",
    "hot_new = mpl_colors.LinearSegmentedColormap.from_list(\"hot_new\",cmaplist_new,100)"
   ]
  },
  {
   "cell_type": "code",
   "execution_count": null,
   "id": "cc4a47d1-b3a3-43a6-8852-633427e4b368",
   "metadata": {},
   "outputs": [],
   "source": [
    "interested_large_regions"
   ]
  },
  {
   "cell_type": "code",
   "execution_count": null,
   "id": "f8cb3140-e450-4a44-9921-a4966c923147",
   "metadata": {},
   "outputs": [],
   "source": [
    "df = pd.DataFrame(region_percentage_all)\n",
    "# sns.set_theme(style=\"whitegrid\")\n",
    "# tips = sns.load_dataset(\"tips\")\n",
    "fig, ax = subplots(1,1,figsize=(0.75,2))\n",
    "sns.stripplot(order = interested_large_regions, data=df,ax=ax, color=hot_new(60), s=3, alpha=0.8)\n",
    "\n",
    "ax.set_ylabel(\"# PCs per region / # cells per region\")\n",
    "ax.spines[\"top\"].set_visible(false)\n",
    "ax.spines[\"right\"].set_visible(false)\n",
    "\n",
    "\n",
    "\n",
    "order = interested_large_regions\n",
    "for i in 0:length(order)-1\n",
    "    m = numpy.nanmedian([x[order[i+1]] for x in region_percentage_all])\n",
    "    ax.plot([i-0.3, i+0.3], [m, m], c=\"k\", lw=2)\n",
    "end\n",
    "\n",
    "xticks([0,1], labels= [\"Pallium\", \"Dorsal subpallium\"], rotation=45, ha=\"right\" , rotation_mode=\"anchor\")\n",
    "# yticks([0,500,1000,1500,2000],[0,\"\",\"\",\"\",2000])\n",
    "ylim(-0.01, 0.4)\n",
    "fig.savefig(joinpath(fig_path, \"region_percentage_pallium_subplallium.pdf\"), bbox_inches = \"tight\",transparent = true,pad_inches = 0)"
   ]
  },
  {
   "cell_type": "code",
   "execution_count": null,
   "id": "96e410a8-1af3-42a1-bc78-559df637f82e",
   "metadata": {},
   "outputs": [],
   "source": [
    "df = pd.DataFrame(region_fraction_all)\n",
    "# sns.set_theme(style=\"whitegrid\")\n",
    "# tips = sns.load_dataset(\"tips\")\n",
    "fig, ax = subplots(1,1,figsize=(0.5,2))\n",
    "sns.stripplot(order = interested_large_regions, data=df,ax=ax, color=hot_new(60), s=3, alpha=0.8)\n",
    "\n",
    "# ax.set_ylabel(\"# PCs per region / # PCs\")\n",
    "ax.spines[\"top\"].set_visible(false)\n",
    "ax.spines[\"right\"].set_visible(false)\n",
    "\n",
    "\n",
    "\n",
    "order = interested_large_regions\n",
    "for i in 0:length(order)-1\n",
    "    m = numpy.nanmedian([x[order[i+1]] for x in region_fraction_all])\n",
    "    ax.plot([i-0.3, i+0.3], [m, m], c=\"k\", lw=2)\n",
    "end\n",
    "\n",
    "xticks([0,1], labels= [\"Pallium\", \"Dorsal subpallium\"], rotation=45, ha=\"right\" , rotation_mode=\"anchor\")\n",
    "# yticks([0,500,1000,1500,2000],[0,\"\",\"\",\"\",2000])\n",
    "ax.set_ylim(-0.02, 1.02)\n",
    "yticks([])\n",
    "\n",
    "\n",
    "fig.savefig(joinpath(review_fig_path, \"region_fraction_pallium_subplallium.pdf\"), bbox_inches = \"tight\",transparent = true,pad_inches = 0)"
   ]
  },
  {
   "cell_type": "code",
   "execution_count": null,
   "id": "8b1538e8-8b8c-4284-b308-250fdfacfe4e",
   "metadata": {},
   "outputs": [],
   "source": [
    "data_tog = []\n",
    "for i = 1:length(region_fraction_all_large)\n",
    "    append!(data_tog, [Dict(region_fraction_all_small[i]..., region_fraction_all_large[i]...)])\n",
    "end\n",
    "\n"
   ]
  },
  {
   "cell_type": "code",
   "execution_count": null,
   "id": "efd7e4c3-c7d2-4128-b814-b6160dcdd11a",
   "metadata": {},
   "outputs": [],
   "source": [
    "df =  pd.DataFrame.from_dict(data_tog)"
   ]
  },
  {
   "cell_type": "code",
   "execution_count": null,
   "id": "34fbd0bc-c32c-4215-a96d-ada6d9d12ce0",
   "metadata": {},
   "outputs": [],
   "source": [
    "# desired_order = [\"Tel.\", \"Di.\", \"Mes.\", \"Rhomb.\", \"Pallium\", \"Subpallium\"]"
   ]
  },
  {
   "cell_type": "code",
   "execution_count": null,
   "id": "5195e6b0-fb9f-4996-9ddb-88a0b1cd1660",
   "metadata": {},
   "outputs": [],
   "source": [
    "@pyimport os\n",
    "@pyimport openpyxl\n",
    "\n",
    "save_path = \"../../../figures/source_data/Source Data Fig. 1.xlsx\"\n",
    "sheet_name = \"Fig. 1g\"\n",
    "\n",
    "exists = os.path.isfile(save_path)\n",
    "if exists\n",
    "    writer = pd.ExcelWriter(save_path, engine = \"openpyxl\", mode=\"a\", if_sheet_exists=\"replace\")\n",
    "    df.to_excel(writer, sheet_name = sheet_name)\n",
    "    writer.close()\n",
    "else\n",
    "    df.to_excel(save_path, sheet_name)  \n",
    "end"
   ]
  },
  {
   "cell_type": "code",
   "execution_count": null,
   "id": "a2a94b08-c360-4fb3-b98e-ae98a82b7869",
   "metadata": {},
   "outputs": [],
   "source": []
  }
 ],
 "metadata": {
  "kernelspec": {
   "display_name": "Julia 1.10.3",
   "language": "julia",
   "name": "julia-1.10"
  },
  "language_info": {
   "file_extension": ".jl",
   "mimetype": "application/julia",
   "name": "julia",
   "version": "1.10.3"
  }
 },
 "nbformat": 4,
 "nbformat_minor": 5
}
