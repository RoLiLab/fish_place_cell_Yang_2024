{
 "cells": [
  {
   "cell_type": "code",
   "execution_count": 4,
   "id": "60d66259-56b6-46e4-9170-ba7d3898e6db",
   "metadata": {},
   "outputs": [],
   "source": [
    "using JLD2"
   ]
  },
  {
   "cell_type": "code",
   "execution_count": 5,
   "id": "98ba5df7-92c1-4479-aa07-c86c567177c2",
   "metadata": {},
   "outputs": [
    {
     "data": {
      "text/plain": [
       "Dict{String, Any} with 8 entries:\n",
       "  \"corner_cue_rotation_whole\"           => Vector{Any}[[\"20220406_111526\", 9, \"…\n",
       "  \"corner_cue_circle\"                   => Vector{Any}[[\"20220407_152537\", 4, \"…\n",
       "  \"boundary_morphing\"                   => Vector{Any}[[\"20230224_162111\", 2, \"…\n",
       "  \"hedgehog_rotation_bottom_out\"        => Vector{Any}[[\"20230406_100925\", 9, \"…\n",
       "  \"hedgehog_landmark_removal\"           => Vector{Any}[[\"20230409_141947\", 9, \"…\n",
       "  \"job_retangular_half_circle_rotation\" => Vector{Any}[[\"20230225_191641\", 9, \"…\n",
       "  \"landmark_removal\"                    => Vector{Any}[[\"20230419_143319\", 9, \"…\n",
       "  \"hedgehog_circle\"                     => Vector{Any}[[\"20230422_160839\", 8, \"…"
      ]
     },
     "execution_count": 5,
     "metadata": {},
     "output_type": "execute_result"
    }
   ],
   "source": [
    "data_info_dict = load(\"figure_data_info.jld2\")"
   ]
  },
  {
   "cell_type": "code",
   "execution_count": 6,
   "id": "940d9265-1ee0-4f1c-97b1-4a6b497b2aec",
   "metadata": {},
   "outputs": [
    {
     "name": "stdout",
     "output_type": "stream",
     "text": [
      "corner_cue_rotation_whole\n",
      "Vector{Any}[[\"20220406_111526\", 9, \"20220406_125842\", 9, \"jen\"], [\"20220407_090156\", 5, \"20220407_104712\", 5, \"jen\"], [\"20220406_153842\", 9, \"20220406_171558\", 9, \"jen\"]]\n",
      "corner_cue_circle\n",
      "Vector{Any}[[\"20220407_152537\", 4, \"20220407_170908\", 4, \"jen\"], [\"20220818_123314\", 7, \"20220818_145358\", 7, \"chuyu\"], [\"20220818_163902\", 7, \"20220818_182702\", 7, \"chuyu\"], [\"20220819_094333\", 1, \"20220819_114922\", 1, \"chuyu\"]]\n",
      "boundary_morphing\n",
      "Vector{Any}[[\"20230224_162111\", 2, \"20230224_171731\", 2, \"chuyu\"], [\"20230223_135721\", 9, \"20230223_150240\", 9, \"chuyu\"], [\"20230618_122231\", 8, \"20230618_134025\", 8, \"chuyu\"], [\"20230618_155837\", 8, \"20230618_170437\", 8, \"chuyu\"]]\n",
      "hedgehog_rotation_bottom_out\n",
      "Vector{Any}[[\"20230406_100925\", 9, \"20230406_120147\", 9, \"chuyu\"], [\"20230429_140408\", 8, \"20230429_153439\", 8, \"lorenz\"], [\"20230407_171016\", 9, \"20230407_184007\", 9, \"chuyu\"], [\"20230429_194403\", 8, \"20230429_210211\", 8, \"jen\"]]\n",
      "hedgehog_landmark_removal\n",
      "Vector{Any}[[\"20230409_141947\", 9, \"20230409_162256\", 9, \"drew\"], [\"20230423_103330\", 8, \"20230423_122640\", 8, \"jen\"], [\"20230423_141713\", 8, \"20230423_155036\", 8, \"drew\"], [\"20230423_170228\", 8, \"20230423_182416\", 8, \"drew\"]]\n",
      "job_retangular_half_circle_rotation\n",
      "Vector{Any}[[\"20230225_191641\", 9, \"20230225_210121\", 9, \"chuyu\"], [\"20230226_180404\", 9, \"20230226_190350\", 9, \"lorenz\"], [\"20230226_122159\", 9, \"20230226_141707\", 9, \"lorenz\"], [\"20230225_155030\", 9, \"20230225_174749\", 9, \"chuyu\"]]\n",
      "landmark_removal\n",
      "Vector{Any}[[\"20230419_143319\", 9, \"20230419_161007\", 9, \"chuyu\"], [\"20230420_113755\", 9, \"20230420_130657\", 9, \"lorenz\"], [\"20230420_152855\", 9, \"20230420_165502\", 9, \"chuyu\"]]\n",
      "hedgehog_circle\n",
      "Vector{Any}[[\"20230422_160839\", 8, \"20230422_174803\", 8, \"lorenz\"], [\"20230422_130558\", 8, \"20230422_143553\", 8, \"jen\"], [\"20230617_164214\", 8, \"20230617_183124\", 8, \"lorenz\"]]\n"
     ]
    }
   ],
   "source": [
    "for key in keys(data_info_dict)\n",
    "    println(key)\n",
    "    println(data_info_dict[key])\n",
    "end"
   ]
  },
  {
   "cell_type": "code",
   "execution_count": null,
   "id": "0470920f-40cf-41b3-8328-7854ac022041",
   "metadata": {},
   "outputs": [],
   "source": []
  },
  {
   "cell_type": "code",
   "execution_count": null,
   "id": "9ce564b6-05bd-4025-b6dc-368cf732989b",
   "metadata": {},
   "outputs": [],
   "source": []
  }
 ],
 "metadata": {
  "kernelspec": {
   "display_name": "Julia 1.10.3",
   "language": "julia",
   "name": "julia-1.10"
  },
  "language_info": {
   "file_extension": ".jl",
   "mimetype": "application/julia",
   "name": "julia",
   "version": "1.10.3"
  }
 },
 "nbformat": 4,
 "nbformat_minor": 5
}
