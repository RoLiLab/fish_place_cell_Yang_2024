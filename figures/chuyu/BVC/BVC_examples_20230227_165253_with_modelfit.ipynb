{
 "cells": [
  {
   "cell_type": "code",
   "execution_count": null,
   "id": "ffa50b4a-bd0e-4f0c-b67e-b1004e5cabb3",
   "metadata": {},
   "outputs": [],
   "source": [
    "using ProgressMeter, PyCall, PyPlot, Images, HDF5,NaNStatistics, Statistics, DSP, Lasso, JLD2\n",
    "using _Data"
   ]
  },
  {
   "cell_type": "code",
   "execution_count": null,
   "id": "ef8cc3ac-5879-4902-ab2d-712b4e8b89f8",
   "metadata": {},
   "outputs": [],
   "source": [
    "@pyimport numpy\n",
    "@pyimport sklearn.decomposition as decomposition\n",
    "@pyimport scipy.stats as stats"
   ]
  },
  {
   "cell_type": "code",
   "execution_count": null,
   "id": "a1db3125-ae7e-47c2-966d-d84adfc8224c",
   "metadata": {},
   "outputs": [],
   "source": [
    "include(\"/home/chuyu/fish_place_cell_paper/functions/func_map.jl\")\n",
    "include(\"/home/chuyu/fish_place_cell_paper/functions/func_stat.jl\")\n",
    "include(\"/home/chuyu/fish_place_cell_paper/functions/func_data.jl\")\n",
    "include(\"/home/chuyu/fish_place_cell_paper/functions/func_plot.jl\")\n",
    "include(\"/home/chuyu/fish_place_cell_paper/functions/utils.jl\")"
   ]
  },
  {
   "cell_type": "code",
   "execution_count": null,
   "id": "6fb52e10-024c-4037-9df3-2fdb354cb0a2",
   "metadata": {},
   "outputs": [],
   "source": [
    "rc_params = PyDict(pyimport(\"matplotlib\")[\"rcParams\"]);\n",
    "# rc_params[\"font.sans-serif\"] = [\"Arial\"];\n",
    "rc_params[\"font.size\"] = 7;\n",
    "rc_params[\"lines.linewidth\"] = 1;\n",
    "rc_params[\"lines.markersize\"] = 4;\n",
    "rc_params[\"xtick.major.size\"] = 2;\n",
    "rc_params[\"ytick.major.size\"] = 2;\n",
    "rc_params[\"xtick.major.pad\"] = 2;\n",
    "rc_params[\"ytick.major.pad\"] = 2;\n",
    "# rc_params[\"axes.labelpad\"] = 2;\n",
    "\n",
    "cim(img::Matrix{UInt32}) = CairoImageSurface(img, Cairo.FORMAT_RGB24; flipxy = false) \n",
    "cim(img::Matrix{ARGB32}) = cim(reinterpret(UInt32, img))\n",
    "cim(img::Matrix{RGB24}) = cim(reinterpret(UInt32, img))\n",
    "cim(img::Matrix{UInt8}) = cim(Gray.(reinterpret(N0f8, img)))\n",
    "cim(img::Array{UInt8,3}) = cim(RGB24.(reinterpret(N0f8, img[:,:,1]), reinterpret(N0f8, img[:,:,2]), reinterpret(N0f8, img[:,:,3])));downsample(img,n=4) = +([img[i:n:n*div(size(img,1)-1,n), j:n:n*div(size(img,2)-1,n)] for i = 1:n, j = 1:n]...)/(n*n);\n",
    "downsample(img,n=4) = +([img[i:n:n*div(size(img,1)-1,n), j:n:n*div(size(img,2)-1,n)] for i = 1:n, j = 1:n]...)/(n*n);"
   ]
  },
  {
   "cell_type": "code",
   "execution_count": null,
   "id": "773b1390-4c8f-4ce6-9859-a993e08279a5",
   "metadata": {
    "tags": []
   },
   "outputs": [],
   "source": [
    "experiment_filename_1 = \"20230227_155813\"\n",
    "server_1 = 1\n",
    "\n",
    "experiment_filename_2 = \"20230227_165253\"\n",
    "server_2 = 1\n",
    "\n",
    "experiment_filename_3 = \"20230227_175948\"\n",
    "server_3 = 1\n",
    "\n",
    "experimenter = \"chuyu\"\n",
    "analyzer = \"chuyu\""
   ]
  },
  {
   "cell_type": "code",
   "execution_count": null,
   "id": "44b0d710-178b-4b5b-85ba-4b31e065ad36",
   "metadata": {
    "tags": []
   },
   "outputs": [],
   "source": [
    "ds_save_1 = Dataset(experiment_filename_1, experimenter, gethostname() == \"roli-$(server_1)\" ? \"/data\" : \"/nfs/data$(server_1)\")\n",
    "ds_save_cy_1 = Dataset(experiment_filename_1, \"chuyu\", gethostname() == \"roli-$(server_1)\" ? \"/data\" : \"/nfs/data$(server_1)\")\n",
    "ds_save_analyzer_1 = Dataset(experiment_filename_1, analyzer, gethostname() == \"roli-$(server_1)\" ? \"/data\" : \"/nfs/data$(server_1)\")\n",
    "\n",
    "ds_save_2 = Dataset(experiment_filename_2, experimenter, gethostname() == \"roli-$(server_2)\" ? \"/data\" : \"/nfs/data$(server_2)\") # This example dataset is on roli-9, so the path is different depending on whether you're trying to access the file from roli-9\n",
    "ds_save_cy_2 = Dataset(experiment_filename_2, \"chuyu\", gethostname() == \"roli-$(server_2)\" ? \"/data\" : \"/nfs/data$(server_2)\")\n",
    "ds_save_analyzer_2 = Dataset(experiment_filename_2, analyzer, gethostname() == \"roli-$(server_2)\" ? \"/data\" : \"/nfs/data$(server_2)\")\n",
    "\n",
    "ds_save_3 = Dataset(experiment_filename_3, experimenter, gethostname() == \"roli-$(server_3)\" ? \"/data\" : \"/nfs/data$(server_3)\") # This example dataset is on roli-9, so the path is different depending on whether you're trying to access the file from roli-9\n",
    "ds_save_cy_3 = Dataset(experiment_filename_3, \"chuyu\", gethostname() == \"roli-$(server_3)\" ? \"/data\" : \"/nfs/data$(server_3)\")\n",
    "ds_save_analyzer_3 = Dataset(experiment_filename_3, analyzer, gethostname() == \"roli-$(server_3)\" ? \"/data\" : \"/nfs/data$(server_3)\")"
   ]
  },
  {
   "cell_type": "code",
   "execution_count": null,
   "id": "d0c8acb3-f101-4d92-a9be-0b2600bfa8c2",
   "metadata": {},
   "outputs": [],
   "source": [
    "\n",
    "NMF_filename = joinpath(data_path(ds_save_cy_1), \"NMF_merge.h5\")\n",
    "NMF_file = h5open(NMF_filename, \"r\")\n",
    "global Z_all = HDF5.readmmap(NMF_file[\"Z_all\"])\n",
    "global X_all = HDF5.readmmap(NMF_file[\"X_all\"])\n",
    "global Y_all = HDF5.readmmap(NMF_file[\"Y_all\"])\n",
    "global neuron_label = HDF5.readmmap(NMF_file[\"neuron_label\"])\n",
    "close(NMF_file)\n",
    "\n",
    "n_neuron = length(X_all);\n",
    "\n",
    "# whether individual roi belongs to a certain region\n",
    "region_bool_filename = joinpath(data_path(ds_save_cy_1), \"region_roi_bool.h5\")\n",
    "region_bool_file = h5open(region_bool_filename, \"r\")\n",
    "global region_names = read(region_bool_file, \"region_names\")\n",
    "global region_roi_bool = read(region_bool_file, \"region_roi_bool\")\n",
    "close(region_bool_file)\n",
    "\n",
    "\n",
    "# for one merged cell, it belongs to telecephalon if at least one of its roi belongs to telencephalon\n",
    "region_roi_bool_tel = region_roi_bool[:,findall(region_names .== \"Telencephalon -\")][:,1]\n",
    "whether_tel = falses(n_neuron)\n",
    "for which_neuron in Int32.(numpy.unique(neuron_label)[1:end-1])\n",
    "    if sum(region_roi_bool_tel[neuron_label.==which_neuron]) >0\n",
    "        whether_tel[which_neuron] = true\n",
    "    end\n",
    "end\n",
    "\n",
    "\n",
    "\n",
    "img_bg_1 = h5open(ds_save_1, \"behavior.h5\"; raw = true) do file\n",
    "    read(file, \"img_bg\")\n",
    "end;\n",
    "\n",
    "    \n",
    "global img_bg_end_1 = img_bg_1[:,:,end]\n",
    "\n",
    "\n",
    "global w = size(img_bg_end_1, 1)\n",
    "global l = size(img_bg_end_1, 2)\n",
    "    \n",
    "\n",
    "for_place_calculation_file = h5open(joinpath(data_path(ds_save_cy_1), \"for_place_calculation_chamber_geometry_$(experiment_filename_1)_n100.h5\"))\n",
    "x_bins = read(for_place_calculation_file,\"x_bins\")\n",
    "y_bins = read(for_place_calculation_file,\"y_bins\")\n",
    "close(for_place_calculation_file)\n",
    "\n",
    "\n",
    "# orientation-corrected background image and chamber roi image\n",
    "orientation_correction_file = h5open(joinpath(data_path(ds_save_cy_1), \"chamber_geometry_$(experiment_filename_1).h5\"))\n",
    "chamber_roi_1 = read(orientation_correction_file,\"chamber_roi\")\n",
    "countour_array_1 = read(orientation_correction_file,\"countour_array\")\n",
    "close(orientation_correction_file)\n",
    "\n",
    "\n",
    "# orientation-corrected background image and chamber roi image\n",
    "orientation_correction_file = h5open(joinpath(data_path(ds_save_cy_2), \"chamber_geometry_$(experiment_filename_2).h5\"))\n",
    "chamber_roi_2 = read(orientation_correction_file,\"chamber_roi\")\n",
    "global countour_array_2 = read(orientation_correction_file,\"countour_array\")\n",
    "close(orientation_correction_file)\n",
    "\n",
    "\n",
    "# orientation-corrected background image and chamber roi image\n",
    "orientation_correction_file = h5open(joinpath(data_path(ds_save_cy_3), \"chamber_geometry_$(experiment_filename_3).h5\"))\n",
    "chamber_roi_3 = read(orientation_correction_file,\"chamber_roi\")\n",
    "global countour_array_3 = read(orientation_correction_file,\"countour_array\")\n",
    "close(orientation_correction_file)"
   ]
  },
  {
   "cell_type": "code",
   "execution_count": null,
   "id": "664d9ca4-d52f-48dd-a76f-ad32fa40a00c",
   "metadata": {},
   "outputs": [],
   "source": [
    "file_folder_1 = joinpath(data_path(ds_save_cy_1), \"\")\n",
    "all_files = readdir(file_folder_1)\n",
    "long_name_files = all_files[findall([length(all_files[i])>6 for i in 1:length(all_files)])]\n",
    "spatial_info_index = [occursin(\"A_dF\", long_name_files[i])*occursin(\"neuron\", long_name_files[i]) for i in 1:length(long_name_files)]\n",
    "candidate_filename = long_name_files[spatial_info_index]\n",
    "which_file = [occursin(experiment_filename_1, candidate_filename[i]) for i in 1:length(candidate_filename)]\n",
    "println(candidate_filename[which_file])\n",
    "@assert(length(candidate_filename[which_file]) == 1)\n",
    "save_file_name = candidate_filename[which_file][1]\n",
    "info_filename = joinpath(file_folder_1, save_file_name)\n",
    "file = h5open(info_filename, \"r\")\n",
    "place_cell_index_1 = HDF5.readmmap(file[\"place_cell_index\"])\n",
    "specificity_population_z_1 = HDF5.readmmap(file[\"specificity_population_z\"])\n",
    "specificity_shuffle_z_1 = HDF5.readmmap(file[\"specificity_shuffle_z\"])\n",
    "close(file)\n"
   ]
  },
  {
   "cell_type": "code",
   "execution_count": null,
   "id": "21ad1bc6-e81d-4d4c-b4b5-acc1f4b9c6d1",
   "metadata": {},
   "outputs": [],
   "source": [
    "save_file_name = \"BVC_tel.h5\"\n",
    "bvc_filename = joinpath(data_path(ds_save_cy_1), save_file_name)\n",
    "file = h5open(bvc_filename, \"r\")\n",
    "plot_candidate = copy(HDF5.readmmap(file[\"plot_candidate\"])).+1\n",
    "plot_candidate_map_1 = copy(HDF5.readmmap(file[\"plot_candidate_map_1\"]))\n",
    "plot_candidate_map_2 = copy(HDF5.readmmap(file[\"plot_candidate_map_2\"]))\n",
    "plot_candidate_map_3 = copy(HDF5.readmmap(file[\"plot_candidate_map_3\"]))\n",
    "plot_candidate_map_1_predict = copy(HDF5.readmmap(file[\"plot_candidate_map_1_predict\"]))\n",
    "plot_candidate_map_2_predict = copy(HDF5.readmmap(file[\"plot_candidate_map_2_predict\"]))\n",
    "plot_candidate_map_3_predict = copy(HDF5.readmmap(file[\"plot_candidate_map_3_predict\"]))\n",
    "plot_candidate_map_12_predict = copy(HDF5.readmmap(file[\"plot_candidate_map_12_predict\"]))\n",
    "corr_diff = copy(HDF5.readmmap(file[\"corr_diff\"]))\n",
    "close(file)"
   ]
  },
  {
   "cell_type": "code",
   "execution_count": null,
   "id": "e8480009-5ea9-40cc-b07e-61d168cd1c80",
   "metadata": {},
   "outputs": [],
   "source": [
    "fig_path = \"/home/chuyu/fish_place_cell_paper/figures/output/sfigure2/bvc\"\n",
    "mkpath(fig_path)"
   ]
  },
  {
   "cell_type": "code",
   "execution_count": null,
   "id": "94465777-082a-47f8-961e-d17afbaa7354",
   "metadata": {
    "tags": []
   },
   "outputs": [],
   "source": [
    "chosen_neruon_index = plot_candidate"
   ]
  },
  {
   "cell_type": "code",
   "execution_count": null,
   "id": "53ad676a-4824-4c17-a1ee-a2c510859bb2",
   "metadata": {
    "tags": []
   },
   "outputs": [],
   "source": [
    "mask_valid = isfinite.(plot_candidate_map_1[:,:,1])\n",
    "mask_invalid = isnan.(plot_candidate_map_1[:,:,1])\n",
    "mask_valid_index = findall(mask_valid)\n",
    "mask_valid_x = [x[1] for x in mask_valid_index]\n",
    "mask_valid_y = [x[2] for x in mask_valid_index];\n",
    "mask_valid_x_min = minimum(mask_valid_x)\n",
    "mask_valid_x_max = maximum(mask_valid_x)\n",
    "mask_valid_y_min = minimum(mask_valid_y)\n",
    "mask_valid_y_max = maximum(mask_valid_y);"
   ]
  },
  {
   "cell_type": "code",
   "execution_count": null,
   "id": "1b6c45b1-c4aa-4463-83e2-36e005f37fbd",
   "metadata": {
    "tags": []
   },
   "outputs": [],
   "source": [
    "chamber_roi_mask = Float32.(copy(chamber_roi_1))\n",
    "chamber_roi_mask[chamber_roi_mask.!=0].= NaN32\n",
    "imshow(chamber_roi_mask)"
   ]
  },
  {
   "cell_type": "code",
   "execution_count": null,
   "id": "6df8b1b7-85b0-43ba-addf-0e6068877204",
   "metadata": {
    "tags": []
   },
   "outputs": [],
   "source": [
    "# example cells\n",
    "\n",
    "valid_frame = isnan.(chamber_roi_mask[:,:,1]); # bs update\n",
    "ymin = findfirst(sum(valid_frame;dims=1).!=0)[2]-10; # bs update\n",
    "ymax = findlast(sum(valid_frame;dims=1).!=0)[2]+10; # bs update\n",
    "xmin = findfirst(sum(valid_frame;dims=2).!=0)[1]-10; # bs update\n",
    "xmax = findlast(sum(valid_frame;dims=2).!=0)[1]+10; # bs update\n",
    "\n",
    "for (i, real_cell_index) in enumerate(chosen_neruon_index)\n",
    "    fig = figure()\n",
    "    map = plot_candidate_map_1[mask_valid_x_min:mask_valid_x_max,mask_valid_y_min:mask_valid_y_max,i]\n",
    "    sp1 = imshow(map', extent = [x_bins[mask_valid_x_min], x_bins[mask_valid_x_max+1], y_bins[mask_valid_y_min], y_bins[mask_valid_y_max+1]], cmap=\"jet\", origin=\"lower\", vmin=0, vmax=nanmaximum(map))\n",
    "    # imshow(chamber_roi_mask', cmap=\"binary\", origin=\"lower\", vmin=0, vmax=3)\n",
    "    axis(\"off\")\n",
    "    xlim(xmin,xmax)\n",
    "    ylim(ymax,ymin)\n",
    "    tight_layout()\n",
    "    # colorbar()\n",
    "    fig.savefig(joinpath(fig_path, \"$(experiment_filename_1)_$real_cell_index map1.png\"), bbox_inches = \"tight\",transparent = true,pad_inches = 0)\n",
    "end"
   ]
  },
  {
   "cell_type": "code",
   "execution_count": null,
   "id": "0fa83ecf-892a-4ec1-b243-46292ce6f8d8",
   "metadata": {},
   "outputs": [],
   "source": [
    "# example cells\n",
    "plot_candidate_map_1_predict[mask_invalid,:] .= NaN32\n",
    "valid_frame = isnan.(chamber_roi_mask[:,:,1]); # bs update\n",
    "ymin = findfirst(sum(valid_frame;dims=1).!=0)[2]-10; # bs update\n",
    "ymax = findlast(sum(valid_frame;dims=1).!=0)[2]+10; # bs update\n",
    "xmin = findfirst(sum(valid_frame;dims=2).!=0)[1]-10; # bs update\n",
    "xmax = findlast(sum(valid_frame;dims=2).!=0)[1]+10; # bs update\n",
    "\n",
    "for (i, real_cell_index) in enumerate(chosen_neruon_index)\n",
    "    fig = figure()\n",
    "    map = copy(plot_candidate_map_1_predict[mask_valid_x_min:mask_valid_x_max,mask_valid_y_min:mask_valid_y_max,i])\n",
    "    sp1 = imshow(map', extent = [x_bins[mask_valid_x_min], x_bins[mask_valid_x_max+1], y_bins[mask_valid_y_min], y_bins[mask_valid_y_max+1]], cmap=\"jet\", origin=\"lower\", vmin=0, vmax=nanmaximum(map))\n",
    "    # imshow(chamber_roi_mask', cmap=\"binary\", origin=\"lower\", vmin=0, vmax=3)\n",
    "    axis(\"off\")\n",
    "    xlim(xmin,xmax)\n",
    "    ylim(ymax,ymin)\n",
    "    tight_layout()\n",
    "    fig.savefig(joinpath(fig_path, \"$(experiment_filename_1)_$real_cell_index map1_predict.png\"), bbox_inches = \"tight\",transparent = true,pad_inches = 0)\n",
    "end"
   ]
  },
  {
   "cell_type": "code",
   "execution_count": null,
   "id": "8850578e-3be0-453f-83b7-286d5acadf94",
   "metadata": {
    "tags": []
   },
   "outputs": [],
   "source": [
    "mask_valid = isfinite.(plot_candidate_map_2[:,:,1])\n",
    "mask_invalid = isnan.(plot_candidate_map_2[:,:,1])\n",
    "mask_valid_index = findall(mask_valid)\n",
    "mask_valid_x = [x[1] for x in mask_valid_index]\n",
    "mask_valid_y = [x[2] for x in mask_valid_index];\n",
    "mask_valid_x_min = minimum(mask_valid_x)\n",
    "mask_valid_x_max = maximum(mask_valid_x)\n",
    "mask_valid_y_min = minimum(mask_valid_y)\n",
    "mask_valid_y_max = maximum(mask_valid_y);"
   ]
  },
  {
   "cell_type": "code",
   "execution_count": null,
   "id": "f5ea9d69-38b2-4e26-a20b-857fdd145a13",
   "metadata": {
    "tags": []
   },
   "outputs": [],
   "source": [
    "chamber_roi_mask = Float32.(copy(chamber_roi_2))\n",
    "chamber_roi_mask[chamber_roi_mask.!=0].= NaN32\n",
    "imshow(chamber_roi_mask)"
   ]
  },
  {
   "cell_type": "code",
   "execution_count": null,
   "id": "3ee7627a-90a5-48fb-a372-1f1ad5890c97",
   "metadata": {
    "tags": []
   },
   "outputs": [],
   "source": [
    "# example cells\n",
    "\n",
    "valid_frame = isnan.(chamber_roi_mask[:,:,1]); # bs update\n",
    "ymin = findfirst(sum(valid_frame;dims=1).!=0)[2]-10; # bs update\n",
    "ymax = findlast(sum(valid_frame;dims=1).!=0)[2]+10; # bs update\n",
    "xmin = findfirst(sum(valid_frame;dims=2).!=0)[1]-10; # bs update\n",
    "xmax = findlast(sum(valid_frame;dims=2).!=0)[1]+10; # bs update\n",
    "\n",
    "for (i, real_cell_index) in enumerate(chosen_neruon_index)\n",
    "    fig = figure()\n",
    "    map = plot_candidate_map_2[mask_valid_x_min:mask_valid_x_max,mask_valid_y_min:mask_valid_y_max,i]\n",
    "    sp1 = imshow(map', extent = [x_bins[mask_valid_x_min], x_bins[mask_valid_x_max+1], y_bins[mask_valid_y_min], y_bins[mask_valid_y_max+1]], cmap=\"jet\", origin=\"lower\", vmin=0, vmax=nanmaximum(map))\n",
    "    # imshow(chamber_roi_mask', cmap=\"binary\", origin=\"lower\", vmin=0, vmax=3)\n",
    "    axis(\"off\")\n",
    "    xlim(xmin,xmax)\n",
    "    ylim(ymax,ymin)\n",
    "    tight_layout()\n",
    "    # colorbar()\n",
    "    fig.savefig(joinpath(fig_path, \"$(experiment_filename_1)_$real_cell_index map2.png\"), bbox_inches = \"tight\",transparent = true,pad_inches = 0)\n",
    "end"
   ]
  },
  {
   "cell_type": "code",
   "execution_count": null,
   "id": "dbfc6c47-9a4a-4bbf-9329-893608f1b25f",
   "metadata": {},
   "outputs": [],
   "source": [
    "# example cells\n",
    "plot_candidate_map_12_predict[mask_invalid,:] .= NaN32\n",
    "valid_frame = isnan.(chamber_roi_mask[:,:,1]); # bs update\n",
    "ymin = findfirst(sum(valid_frame;dims=1).!=0)[2]-10; # bs update\n",
    "ymax = findlast(sum(valid_frame;dims=1).!=0)[2]+10; # bs update\n",
    "xmin = findfirst(sum(valid_frame;dims=2).!=0)[1]-10; # bs update\n",
    "xmax = findlast(sum(valid_frame;dims=2).!=0)[1]+10; # bs update\n",
    "\n",
    "for (i, real_cell_index) in enumerate(chosen_neruon_index)\n",
    "    fig = figure()\n",
    "    map = copy(plot_candidate_map_12_predict[mask_valid_x_min:mask_valid_x_max,mask_valid_y_min:mask_valid_y_max,i])\n",
    "    sp1 = imshow(map', extent = [x_bins[mask_valid_x_min], x_bins[mask_valid_x_max+1], y_bins[mask_valid_y_min], y_bins[mask_valid_y_max+1]], cmap=\"jet\", origin=\"lower\", vmin=0, vmax=nanmaximum(map))\n",
    "    # imshow(chamber_roi_mask', cmap=\"binary\", origin=\"lower\", vmin=0, vmax=3)\n",
    "    axis(\"off\")\n",
    "    xlim(xmin,xmax)\n",
    "    ylim(ymax,ymin)\n",
    "    tight_layout()\n",
    "    # colorbar()\n",
    "    fig.savefig(joinpath(fig_path, \"$(experiment_filename_1)_$real_cell_index map2_predict.png\"), bbox_inches = \"tight\",transparent = true,pad_inches = 0)\n",
    "end"
   ]
  },
  {
   "cell_type": "code",
   "execution_count": null,
   "id": "99357d0b-35a5-457f-8ea9-1364f9b19805",
   "metadata": {
    "tags": []
   },
   "outputs": [],
   "source": [
    "mask_valid = isfinite.(plot_candidate_map_3[:,:,1])\n",
    "mask_invalid = isnan.(plot_candidate_map_3[:,:,1])\n",
    "mask_valid_index = findall(mask_valid)\n",
    "mask_valid_x = [x[1] for x in mask_valid_index]\n",
    "mask_valid_y = [x[2] for x in mask_valid_index];\n",
    "mask_valid_x_min = minimum(mask_valid_x)\n",
    "mask_valid_x_max = maximum(mask_valid_x)\n",
    "mask_valid_y_min = minimum(mask_valid_y)\n",
    "mask_valid_y_max = maximum(mask_valid_y);"
   ]
  },
  {
   "cell_type": "code",
   "execution_count": null,
   "id": "9060daaf-4697-4d0f-b2b1-a252a51be3a5",
   "metadata": {
    "tags": []
   },
   "outputs": [],
   "source": [
    "chamber_roi_mask = Float32.(copy(chamber_roi_2))\n",
    "chamber_roi_mask[chamber_roi_mask.!=0].= NaN32\n",
    "imshow(chamber_roi_mask)"
   ]
  },
  {
   "cell_type": "code",
   "execution_count": null,
   "id": "6b125eeb-f9bb-4d24-bc82-c8680c4faf38",
   "metadata": {},
   "outputs": [],
   "source": [
    "# example cells\n",
    "\n",
    "valid_frame = isnan.(chamber_roi_mask[:,:,1]); # bs update\n",
    "ymin = findfirst(sum(valid_frame;dims=1).!=0)[2]-10; # bs update\n",
    "ymax = findlast(sum(valid_frame;dims=1).!=0)[2]+10; # bs update\n",
    "xmin = findfirst(sum(valid_frame;dims=2).!=0)[1]-10; # bs update\n",
    "xmax = findlast(sum(valid_frame;dims=2).!=0)[1]+10; # bs update\n",
    "\n",
    "for (i, real_cell_index) in enumerate(chosen_neruon_index)\n",
    "    fig = figure()\n",
    "    map = plot_candidate_map_3[mask_valid_x_min:mask_valid_x_max,mask_valid_y_min:mask_valid_y_max,i]\n",
    "    sp1 = imshow(map', extent = [x_bins[mask_valid_x_min], x_bins[mask_valid_x_max+1], y_bins[mask_valid_y_min], y_bins[mask_valid_y_max+1]], cmap=\"jet\", origin=\"lower\", vmin=0, vmax=nanmaximum(map))\n",
    "    # imshow(chamber_roi_mask', cmap=\"binary\", origin=\"lower\", vmin=0, vmax=3)\n",
    "    axis(\"off\")\n",
    "    xlim(xmin,xmax)\n",
    "    ylim(ymax,ymin)\n",
    "    tight_layout()\n",
    "    # colorbar()\n",
    "    fig.savefig(joinpath(fig_path, \"$(experiment_filename_1)_$real_cell_index map3.png\"), bbox_inches = \"tight\",transparent = true,pad_inches = 0)\n",
    "end"
   ]
  },
  {
   "cell_type": "code",
   "execution_count": null,
   "id": "7dfc0b66-dccd-4f5b-811b-692a33a40e0e",
   "metadata": {},
   "outputs": [],
   "source": [
    "fig_path = \"/home/chuyu/fish_place_cell_paper/figures/output/sfigure2/non_bvc\"\n",
    "mkpath(fig_path)"
   ]
  },
  {
   "cell_type": "code",
   "execution_count": null,
   "id": "bf0816e5-9bd1-4f60-ab95-e4c9c261c901",
   "metadata": {},
   "outputs": [],
   "source": [
    "save_file_name = \"BVC_tel.h5\"\n",
    "bvc_filename = joinpath(data_path(ds_save_cy_1), save_file_name)\n",
    "file = h5open(bvc_filename, \"r\")\n",
    "plot_candidate = copy(HDF5.readmmap(file[\"plot_candidate_nonbvc\"])) .+ 1\n",
    "plot_candidate_map_1 = copy(HDF5.readmmap(file[\"plot_candidate_nonbvc_map_1\"]))\n",
    "plot_candidate_map_2 = copy(HDF5.readmmap(file[\"plot_candidate_nonbvc_map_2\"]))\n",
    "plot_candidate_map_3 = copy(HDF5.readmmap(file[\"plot_candidate_nonbvc_map_3\"]))\n",
    "plot_candidate_map_1_predict = copy(HDF5.readmmap(file[\"plot_candidate_nonbvc_map_1_predict\"]))\n",
    "plot_candidate_map_2_predict = copy(HDF5.readmmap(file[\"plot_candidate_nonbvc_map_2_predict\"]))\n",
    "plot_candidate_map_3_predict = copy(HDF5.readmmap(file[\"plot_candidate_nonbvc_map_3_predict\"]))\n",
    "plot_candidate_map_12_predict = copy(HDF5.readmmap(file[\"plot_candidate_nonbvc_map_12_predict\"]))\n",
    "corr_diff = copy(HDF5.readmmap(file[\"corr_diff\"]))\n",
    "close(file)"
   ]
  },
  {
   "cell_type": "code",
   "execution_count": null,
   "id": "857645c9-960d-4eec-b9a9-f7042d332099",
   "metadata": {
    "tags": []
   },
   "outputs": [],
   "source": [
    "chosen_neruon_index = plot_candidate"
   ]
  },
  {
   "cell_type": "code",
   "execution_count": null,
   "id": "db7dd4e3-ae03-45b3-ad09-37da372d5e0e",
   "metadata": {},
   "outputs": [],
   "source": [
    "specificity_population_z_1[plot_candidate]"
   ]
  },
  {
   "cell_type": "code",
   "execution_count": null,
   "id": "3aa155cd-504b-4700-be20-af8e9e2e30ad",
   "metadata": {
    "tags": []
   },
   "outputs": [],
   "source": [
    "mask_valid = isfinite.(plot_candidate_map_1[:,:,1])\n",
    "mask_invalid = isnan.(plot_candidate_map_1[:,:,1])\n",
    "mask_valid_index = findall(mask_valid)\n",
    "mask_valid_x = [x[1] for x in mask_valid_index]\n",
    "mask_valid_y = [x[2] for x in mask_valid_index];\n",
    "mask_valid_x_min = minimum(mask_valid_x)\n",
    "mask_valid_x_max = maximum(mask_valid_x)\n",
    "mask_valid_y_min = minimum(mask_valid_y)\n",
    "mask_valid_y_max = maximum(mask_valid_y);"
   ]
  },
  {
   "cell_type": "code",
   "execution_count": null,
   "id": "040da7b0-be9e-42b6-a53b-329f3da5da74",
   "metadata": {
    "tags": []
   },
   "outputs": [],
   "source": [
    "chamber_roi_mask = Float32.(copy(chamber_roi_1))\n",
    "chamber_roi_mask[chamber_roi_mask.!=0].= NaN32\n",
    "imshow(chamber_roi_mask)"
   ]
  },
  {
   "cell_type": "code",
   "execution_count": null,
   "id": "9f1e7b5b-a0c3-4415-ba33-76f7a301d7ed",
   "metadata": {
    "tags": []
   },
   "outputs": [],
   "source": [
    "# example cells\n",
    "\n",
    "valid_frame = isnan.(chamber_roi_mask[:,:,1]); # bs update\n",
    "ymin = findfirst(sum(valid_frame;dims=1).!=0)[2]-10; # bs update\n",
    "ymax = findlast(sum(valid_frame;dims=1).!=0)[2]+10; # bs update\n",
    "xmin = findfirst(sum(valid_frame;dims=2).!=0)[1]-10; # bs update\n",
    "xmax = findlast(sum(valid_frame;dims=2).!=0)[1]+10; # bs update\n",
    "\n",
    "for (i, real_cell_index) in enumerate(chosen_neruon_index)\n",
    "    fig = figure()\n",
    "    map = plot_candidate_map_1[mask_valid_x_min:mask_valid_x_max,mask_valid_y_min:mask_valid_y_max,i]\n",
    "    sp1 = imshow(map', extent = [x_bins[mask_valid_x_min], x_bins[mask_valid_x_max+1], y_bins[mask_valid_y_min], y_bins[mask_valid_y_max+1]], cmap=\"jet\", origin=\"lower\", vmin=0, vmax=nanmaximum(map))\n",
    "    # imshow(chamber_roi_mask', cmap=\"binary\", origin=\"lower\", vmin=0, vmax=3)\n",
    "    axis(\"off\")\n",
    "    xlim(xmin,xmax)\n",
    "    ylim(ymax,ymin)\n",
    "    tight_layout()\n",
    "    # colorbar()\n",
    "    fig.savefig(joinpath(fig_path, \"$(experiment_filename_1)_$real_cell_index map1.png\"), bbox_inches = \"tight\",transparent = true,pad_inches = 0)\n",
    "end"
   ]
  },
  {
   "cell_type": "code",
   "execution_count": null,
   "id": "02aa149e-6175-495c-a36d-c83d91a12df1",
   "metadata": {},
   "outputs": [],
   "source": [
    "# example cells\n",
    "plot_candidate_map_1_predict[mask_invalid,:] .= NaN32\n",
    "valid_frame = isnan.(chamber_roi_mask[:,:,1]); # bs update\n",
    "ymin = findfirst(sum(valid_frame;dims=1).!=0)[2]-10; # bs update\n",
    "ymax = findlast(sum(valid_frame;dims=1).!=0)[2]+10; # bs update\n",
    "xmin = findfirst(sum(valid_frame;dims=2).!=0)[1]-10; # bs update\n",
    "xmax = findlast(sum(valid_frame;dims=2).!=0)[1]+10; # bs update\n",
    "\n",
    "for (i, real_cell_index) in enumerate(chosen_neruon_index)\n",
    "    fig = figure()\n",
    "    map = copy(plot_candidate_map_1_predict[mask_valid_x_min:mask_valid_x_max,mask_valid_y_min:mask_valid_y_max,i])\n",
    "    sp1 = imshow(map', extent = [x_bins[mask_valid_x_min], x_bins[mask_valid_x_max+1], y_bins[mask_valid_y_min], y_bins[mask_valid_y_max+1]], cmap=\"jet\", origin=\"lower\", vmin=0, vmax=nanmaximum(map))\n",
    "    # imshow(chamber_roi_mask', cmap=\"binary\", origin=\"lower\", vmin=0, vmax=3)\n",
    "    axis(\"off\")\n",
    "    xlim(xmin,xmax)\n",
    "    ylim(ymax,ymin)\n",
    "    tight_layout()\n",
    "    fig.savefig(joinpath(fig_path, \"$(experiment_filename_1)_$real_cell_index map1_predict.png\"), bbox_inches = \"tight\",transparent = true,pad_inches = 0)\n",
    "end"
   ]
  },
  {
   "cell_type": "code",
   "execution_count": null,
   "id": "88e5409b-47f2-41f0-8e8d-4b0d0f2a9831",
   "metadata": {
    "tags": []
   },
   "outputs": [],
   "source": [
    "mask_valid = isfinite.(plot_candidate_map_2[:,:,1])\n",
    "mask_invalid = isnan.(plot_candidate_map_2[:,:,1])\n",
    "mask_valid_index = findall(mask_valid)\n",
    "mask_valid_x = [x[1] for x in mask_valid_index]\n",
    "mask_valid_y = [x[2] for x in mask_valid_index];\n",
    "mask_valid_x_min = minimum(mask_valid_x)\n",
    "mask_valid_x_max = maximum(mask_valid_x)\n",
    "mask_valid_y_min = minimum(mask_valid_y)\n",
    "mask_valid_y_max = maximum(mask_valid_y);"
   ]
  },
  {
   "cell_type": "code",
   "execution_count": null,
   "id": "d79520e5-1bf6-4329-984a-87ba51d79437",
   "metadata": {
    "tags": []
   },
   "outputs": [],
   "source": [
    "chamber_roi_mask = Float32.(copy(chamber_roi_2))\n",
    "chamber_roi_mask[chamber_roi_mask.!=0].= NaN32\n",
    "imshow(chamber_roi_mask)"
   ]
  },
  {
   "cell_type": "code",
   "execution_count": null,
   "id": "cd8d6434-1f8c-41eb-b833-6d301dec8040",
   "metadata": {
    "tags": []
   },
   "outputs": [],
   "source": [
    "# example cells\n",
    "\n",
    "valid_frame = isnan.(chamber_roi_mask[:,:,1]); # bs update\n",
    "ymin = findfirst(sum(valid_frame;dims=1).!=0)[2]-10; # bs update\n",
    "ymax = findlast(sum(valid_frame;dims=1).!=0)[2]+10; # bs update\n",
    "xmin = findfirst(sum(valid_frame;dims=2).!=0)[1]-10; # bs update\n",
    "xmax = findlast(sum(valid_frame;dims=2).!=0)[1]+10; # bs update\n",
    "\n",
    "for (i, real_cell_index) in enumerate(chosen_neruon_index)\n",
    "    fig = figure()\n",
    "    map = plot_candidate_map_2[mask_valid_x_min:mask_valid_x_max,mask_valid_y_min:mask_valid_y_max,i]\n",
    "    sp1 = imshow(map', extent = [x_bins[mask_valid_x_min], x_bins[mask_valid_x_max+1], y_bins[mask_valid_y_min], y_bins[mask_valid_y_max+1]], cmap=\"jet\", origin=\"lower\", vmin=0, vmax=nanmaximum(map))\n",
    "    # imshow(chamber_roi_mask', cmap=\"binary\", origin=\"lower\", vmin=0, vmax=3)\n",
    "    axis(\"off\")\n",
    "    xlim(xmin,xmax)\n",
    "    ylim(ymax,ymin)\n",
    "    tight_layout()\n",
    "    # colorbar()\n",
    "    fig.savefig(joinpath(fig_path, \"$(experiment_filename_1)_$real_cell_index map2.png\"), bbox_inches = \"tight\",transparent = true,pad_inches = 0)\n",
    "end"
   ]
  },
  {
   "cell_type": "code",
   "execution_count": null,
   "id": "a2482fad-2912-4f8f-ac29-05afd55f0f18",
   "metadata": {},
   "outputs": [],
   "source": [
    "# example cells\n",
    "plot_candidate_map_12_predict[mask_invalid,:] .= NaN32\n",
    "valid_frame = isnan.(chamber_roi_mask[:,:,1]); # bs update\n",
    "ymin = findfirst(sum(valid_frame;dims=1).!=0)[2]-10; # bs update\n",
    "ymax = findlast(sum(valid_frame;dims=1).!=0)[2]+10; # bs update\n",
    "xmin = findfirst(sum(valid_frame;dims=2).!=0)[1]-10; # bs update\n",
    "xmax = findlast(sum(valid_frame;dims=2).!=0)[1]+10; # bs update\n",
    "\n",
    "for (i, real_cell_index) in enumerate(chosen_neruon_index)\n",
    "    fig = figure()\n",
    "    map = copy(plot_candidate_map_12_predict[mask_valid_x_min:mask_valid_x_max,mask_valid_y_min:mask_valid_y_max,i])\n",
    "    sp1 = imshow(map', extent = [x_bins[mask_valid_x_min], x_bins[mask_valid_x_max+1], y_bins[mask_valid_y_min], y_bins[mask_valid_y_max+1]], cmap=\"jet\", origin=\"lower\", vmin=0, vmax=nanmaximum(map))\n",
    "    # imshow(chamber_roi_mask', cmap=\"binary\", origin=\"lower\", vmin=0, vmax=3)\n",
    "    axis(\"off\")\n",
    "    xlim(xmin,xmax)\n",
    "    ylim(ymax,ymin)\n",
    "    tight_layout()\n",
    "    # colorbar()\n",
    "    fig.savefig(joinpath(fig_path, \"$(experiment_filename_1)_$real_cell_index map2_predict.png\"), bbox_inches = \"tight\",transparent = true,pad_inches = 0)\n",
    "end"
   ]
  },
  {
   "cell_type": "code",
   "execution_count": null,
   "id": "ff3c29e0-09b7-4252-ad87-75f1d5ef4fb0",
   "metadata": {
    "tags": []
   },
   "outputs": [],
   "source": [
    "mask_valid = isfinite.(plot_candidate_map_3[:,:,1])\n",
    "mask_invalid = isnan.(plot_candidate_map_3[:,:,1])\n",
    "mask_valid_index = findall(mask_valid)\n",
    "mask_valid_x = [x[1] for x in mask_valid_index]\n",
    "mask_valid_y = [x[2] for x in mask_valid_index];\n",
    "mask_valid_x_min = minimum(mask_valid_x)\n",
    "mask_valid_x_max = maximum(mask_valid_x)\n",
    "mask_valid_y_min = minimum(mask_valid_y)\n",
    "mask_valid_y_max = maximum(mask_valid_y);"
   ]
  },
  {
   "cell_type": "code",
   "execution_count": null,
   "id": "199fe9a9-3de5-4198-b6df-81ee3f33797a",
   "metadata": {
    "tags": []
   },
   "outputs": [],
   "source": [
    "chamber_roi_mask = Float32.(copy(chamber_roi_2))\n",
    "chamber_roi_mask[chamber_roi_mask.!=0].= NaN32\n",
    "imshow(chamber_roi_mask)"
   ]
  },
  {
   "cell_type": "code",
   "execution_count": null,
   "id": "e1a279cd-56b2-412c-acc0-8d481a63ba5e",
   "metadata": {},
   "outputs": [],
   "source": [
    "# example cells\n",
    "\n",
    "valid_frame = isnan.(chamber_roi_mask[:,:,1]); # bs update\n",
    "ymin = findfirst(sum(valid_frame;dims=1).!=0)[2]-10; # bs update\n",
    "ymax = findlast(sum(valid_frame;dims=1).!=0)[2]+10; # bs update\n",
    "xmin = findfirst(sum(valid_frame;dims=2).!=0)[1]-10; # bs update\n",
    "xmax = findlast(sum(valid_frame;dims=2).!=0)[1]+10; # bs update\n",
    "\n",
    "for (i, real_cell_index) in enumerate(chosen_neruon_index)\n",
    "    fig = figure()\n",
    "    map = plot_candidate_map_3[mask_valid_x_min:mask_valid_x_max,mask_valid_y_min:mask_valid_y_max,i]\n",
    "    sp1 = imshow(map', extent = [x_bins[mask_valid_x_min], x_bins[mask_valid_x_max+1], y_bins[mask_valid_y_min], y_bins[mask_valid_y_max+1]], cmap=\"jet\", origin=\"lower\", vmin=0, vmax=nanmaximum(map))\n",
    "    # imshow(chamber_roi_mask', cmap=\"binary\", origin=\"lower\", vmin=0, vmax=3)\n",
    "    axis(\"off\")\n",
    "    xlim(xmin,xmax)\n",
    "    ylim(ymax,ymin)\n",
    "    tight_layout()\n",
    "    # colorbar()\n",
    "    fig.savefig(joinpath(fig_path, \"$(experiment_filename_1)_$real_cell_index map3.png\"), bbox_inches = \"tight\",transparent = true,pad_inches = 0)\n",
    "end"
   ]
  },
  {
   "cell_type": "code",
   "execution_count": null,
   "id": "66450e7a-ef90-48b1-ab2b-fb16de4e25fa",
   "metadata": {},
   "outputs": [],
   "source": []
  },
  {
   "cell_type": "code",
   "execution_count": null,
   "id": "09efcc63-0dec-49d9-be47-7d9a03014238",
   "metadata": {},
   "outputs": [],
   "source": []
  }
 ],
 "metadata": {
  "kernelspec": {
   "display_name": "Julia 1.10.3",
   "language": "julia",
   "name": "julia-1.10"
  },
  "language_info": {
   "file_extension": ".jl",
   "mimetype": "application/julia",
   "name": "julia",
   "version": "1.10.3"
  }
 },
 "nbformat": 4,
 "nbformat_minor": 5
}
