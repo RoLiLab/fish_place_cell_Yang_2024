{
 "cells": [
  {
   "cell_type": "code",
   "execution_count": null,
   "id": "494ae052-e674-41dc-8554-3d9c81b439c5",
   "metadata": {
    "tags": []
   },
   "outputs": [],
   "source": [
    "import numpy as np\n",
    "import math\n",
    "import matplotlib.pyplot as plt\n",
    "from scipy.optimize import curve_fit\n",
    "import h5py\n",
    "import os\n",
    "from tqdm import trange\n",
    "import scipy.ndimage as ndimage\n",
    "from functools import reduce\n"
   ]
  },
  {
   "cell_type": "code",
   "execution_count": null,
   "id": "49920dbe-9f0a-4b08-82b4-b25188af33f9",
   "metadata": {
    "tags": []
   },
   "outputs": [],
   "source": [
    "data_path_1 =\"/nfs/data1/chuyu/data/20230227_155813/\"\n",
    "data_path_2 =\"/nfs/data1/chuyu/data/20230227_165253/\"\n",
    "data_path_3 =\"/nfs/data1/chuyu/data/20230227_175948/\""
   ]
  },
  {
   "cell_type": "code",
   "execution_count": null,
   "id": "a605e751-73dd-481f-8562-934198a3c7e9",
   "metadata": {
    "tags": []
   },
   "outputs": [],
   "source": [
    "file_name = \"neuron_spatial_info_15_47_chamber_geometry_20230227_155813_sigma2_n100_A_dF.h5\"\n",
    "data = h5py.File(os.path.join(data_path_1, file_name), \"r\")\n",
    "place_map_all_1= np.array(data[\"place_map_all\"])\n",
    "specificity_1= np.array(data[\"specificity\"])\n",
    "place_cell_index_1= np.array(data[\"place_cell_index\"])-1\n",
    "valid_neurons_1 = np.array(data[\"valid_neurons\"])-1\n",
    "data.close()"
   ]
  },
  {
   "cell_type": "code",
   "execution_count": null,
   "id": "3c0a356c-0103-47fa-92ba-9f99069cee1d",
   "metadata": {
    "tags": []
   },
   "outputs": [],
   "source": [
    "file_name = \"neuron_spatial_info_0_64_chamber_geometry_20230227_165253_sigma2_n100_A_dF.h5\"\n",
    "data = h5py.File(os.path.join(data_path_2, file_name), \"r\")\n",
    "place_map_all_2= np.array(data[\"place_map_all\"])\n",
    "specificity_2= np.array(data[\"specificity\"])\n",
    "valid_neurons_2 = np.array(data[\"valid_neurons\"])-1\n",
    "data.close()"
   ]
  },
  {
   "cell_type": "code",
   "execution_count": null,
   "id": "49f81a6c-33f4-4bb2-9547-a819e4374cf3",
   "metadata": {
    "tags": []
   },
   "outputs": [],
   "source": [
    "file_name = \"neuron_spatial_info_0_61_chamber_geometry_20230227_175948_sigma2_n100_A_dF.h5\"\n",
    "data = h5py.File(os.path.join(data_path_3, file_name), \"r\")\n",
    "place_map_all_3= np.array(data[\"place_map_all\"])\n",
    "specificity_3= np.array(data[\"specificity\"])\n",
    "valid_neurons_3 = np.array(data[\"valid_neurons\"])-1\n",
    "data.close()"
   ]
  },
  {
   "cell_type": "code",
   "execution_count": null,
   "id": "776ade71-ef78-4782-860b-b5e979630057",
   "metadata": {
    "tags": []
   },
   "outputs": [],
   "source": [
    "file_name = \"whether_tel.h5\"\n",
    "data = h5py.File(os.path.join(data_path_1, file_name), \"r\")\n",
    "whether_tel= np.array(data[\"whether_tel\"])\n",
    "data.close()"
   ]
  },
  {
   "cell_type": "code",
   "execution_count": null,
   "id": "072df5b6-3631-4d8c-93a3-a8c41d70e618",
   "metadata": {
    "tags": []
   },
   "outputs": [],
   "source": [
    "candidate_neurons = reduce(np.intersect1d, (np.where(whether_tel)[0], valid_neurons_1, valid_neurons_2, valid_neurons_3, np.where((specificity_1>0.01))[0], np.where((specificity_2>0.01))[0], np.where((specificity_3>0.01))[0]))"
   ]
  },
  {
   "cell_type": "code",
   "execution_count": null,
   "id": "ddba2dca-1c1f-4150-a407-c2b1995ced2b",
   "metadata": {
    "tags": []
   },
   "outputs": [],
   "source": [
    "mask_valid = np.isfinite(place_map_all_1[1, :,:])\n",
    "\n",
    "plt.figure()\n",
    "plt.imshow(mask_valid)\n",
    "edge_roi = ndimage.morphology.binary_dilation(mask_valid)*1 - mask_valid*1\n",
    "plt.figure()\n",
    "plt.imshow(edge_roi)\n",
    "edge_pixels = np.where(edge_roi==1)\n",
    "edge_pixels_array_1 = np.vstack([edge_pixels[1], edge_pixels[0]]).T\n",
    "plt.figure()\n",
    "plt.scatter(edge_pixels_array_1[:,0], edge_pixels_array_1[:,1])"
   ]
  },
  {
   "cell_type": "code",
   "execution_count": null,
   "id": "0d3455c7-7474-4c42-9d96-2ce75e67694f",
   "metadata": {
    "tags": []
   },
   "outputs": [],
   "source": [
    "mask_valid = np.isfinite(place_map_all_2[1, :,:])\n",
    "\n",
    "plt.figure()\n",
    "plt.imshow(mask_valid)\n",
    "edge_roi = ndimage.morphology.binary_dilation(mask_valid)*1 - mask_valid*1\n",
    "plt.figure()\n",
    "plt.imshow(edge_roi)\n",
    "edge_pixels = np.where(edge_roi==1)\n",
    "edge_pixels_array_2 = np.vstack([edge_pixels[1], edge_pixels[0]]).T\n",
    "plt.figure()\n",
    "plt.scatter(edge_pixels_array_2[:,0], edge_pixels_array_2[:,1])"
   ]
  },
  {
   "cell_type": "code",
   "execution_count": null,
   "id": "028a08f1-1cd2-4c84-ae21-805db407610f",
   "metadata": {
    "tags": []
   },
   "outputs": [],
   "source": [
    "x_locs, counts = np.unique(edge_pixels[1], return_counts=True)\n",
    "counts_order = (-counts).argsort()\n",
    "counts_ranks = counts_order.argsort()\n",
    "mid_wall_loc = x_locs[counts_order[2]]\n",
    "mid_wall_loc"
   ]
  },
  {
   "cell_type": "code",
   "execution_count": null,
   "id": "377aacad-a541-41f8-b7e9-a5fbc10ebf74",
   "metadata": {
    "tags": []
   },
   "outputs": [],
   "source": [
    "mask_valid = np.isfinite(place_map_all_3[1, :,:])\n",
    "\n",
    "plt.figure()\n",
    "plt.imshow(mask_valid)\n",
    "edge_roi = ndimage.morphology.binary_dilation(mask_valid)*1 - mask_valid*1\n",
    "plt.figure()\n",
    "plt.imshow(edge_roi)\n",
    "edge_pixels = np.where(edge_roi==1)\n",
    "edge_pixels_array_3 = np.vstack([edge_pixels[1], edge_pixels[0]]).T\n",
    "plt.figure()\n",
    "plt.scatter(edge_pixels_array_3[:,0], edge_pixels_array_3[:,1])"
   ]
  },
  {
   "cell_type": "code",
   "execution_count": null,
   "id": "ece92c67",
   "metadata": {
    "tags": []
   },
   "outputs": [],
   "source": [
    "from numba import njit\n",
    "\n",
    "\n",
    "@njit\n",
    "def normpdf(x, mean, sd):\n",
    "    var = float(sd)**2\n",
    "    denom = (2*math.pi*var)**.5\n",
    "    num = math.exp(-(float(x)-float(mean))**2/(2*var))\n",
    "    return num/denom\n",
    "\n",
    "\n",
    "@njit\n",
    "def normpdf_mean0(x, sd):\n",
    "    var = float(sd)**2\n",
    "    denom = (2*math.pi*var)**.5\n",
    "    num = math.exp(-(float(x))**2/(2*var))\n",
    "    return num/denom\n",
    "\n",
    "\n",
    "@njit\n",
    "def distance_from(points, target):\n",
    "    nr_points = points.shape[0];\n",
    "    distance = np.zeros(nr_points);\n",
    "    \n",
    "    for index in range(nr_points):\n",
    "        distance[index] = norm_2(points[index,0]-target[0], points[index,1]-target[1]);\n",
    "\n",
    "    return distance\n",
    "\n",
    "\n",
    "@njit\n",
    "def angle_from(points, target):\n",
    "    nr_points =  points.shape[0];\n",
    "    angle_all = np.zeros(nr_points);\n",
    "    \n",
    "    for index in range(nr_points):\n",
    "        vector_1 = points[index,:]\n",
    "        vector_2 = target\n",
    "        vector_diff = vector_1 - vector_2\n",
    "        complex = vector_diff[0] + vector_diff[1]*1j\n",
    "        angle_all[index] = np.angle(complex)\n",
    "\n",
    "    return angle_all;\n",
    "\n",
    "\n",
    "@njit\n",
    "def BVC_single(r, θ, d, Φ, σ_rad, σ_ang):\n",
    "    g1 = normpdf(r, d, σ_rad)\n",
    "    diff_angle = θ - Φ\n",
    "    if diff_angle > np.pi:\n",
    "        diff_angle = diff_angle -2*np.pi\n",
    "    if diff_angle < - np.pi:\n",
    "        diff_angle = diff_angle +2*np.pi\n",
    "        \n",
    "    g2 = normpdf_mean0(diff_angle, σ_ang)\n",
    "    g = g1*g2\n",
    "    return g\n",
    "\n",
    "@njit\n",
    "def norm_2(x, y):\n",
    "    return np.sqrt(x**2+y**2)\n",
    "\n",
    "\n",
    "\n",
    "@njit\n",
    "def BVC(which_pixels, d, Φ, σ_rad, σ_ang, A, c, boundary_array):\n",
    "    nr_pixel = which_pixels.shape[0]\n",
    "    f_all = np.zeros(nr_pixel)\n",
    "    for i_pixel in range(nr_pixel):\n",
    "        xy = which_pixels[i_pixel,:]\n",
    "        r_all = distance_from(boundary_array, xy);\n",
    "        θ_all = angle_from(boundary_array, xy);\n",
    "        f = A*sum([BVC_single(r_all[i], θ_all[i], d, Φ, σ_rad, σ_ang) for i in range(len(r_all))])\n",
    "        f_all[i_pixel] = f\n",
    "    return f_all + c "
   ]
  },
  {
   "cell_type": "code",
   "execution_count": null,
   "id": "8086985b-6ebe-4f47-b58d-a7362864c130",
   "metadata": {
    "tags": []
   },
   "outputs": [],
   "source": [
    "BVC_model_1 = lambda which_pixels, d, Φ, σ_rad, σ_ang, A, c : BVC(which_pixels, d, Φ, σ_rad, σ_ang, A, c, boundary_array= edge_pixels_array_1)\n",
    "BVC_model_2 = lambda which_pixels, d, Φ, σ_rad, σ_ang, A, c : BVC(which_pixels, d, Φ, σ_rad, σ_ang, A, c, boundary_array= edge_pixels_array_2)\n",
    "BVC_model_3 = lambda which_pixels, d, Φ, σ_rad, σ_ang, A, c : BVC(which_pixels, d, Φ, σ_rad, σ_ang, A, c, boundary_array= edge_pixels_array_3)"
   ]
  },
  {
   "cell_type": "code",
   "execution_count": null,
   "id": "42d2737b-d312-488c-8cb7-94eeb88308cf",
   "metadata": {
    "tags": []
   },
   "outputs": [],
   "source": [
    "p0 = [  3,  0, 1,   1, 3, 0]\n",
    "bounds=([0, -np.pi, 0, 0, 0, -10], [10, np.pi, 10, 10, 100, 10])"
   ]
  },
  {
   "cell_type": "markdown",
   "id": "2b4eb06e-38ab-4d84-a2a2-af5cc8a417a2",
   "metadata": {},
   "source": [
    "# Check the model"
   ]
  },
  {
   "cell_type": "code",
   "execution_count": null,
   "id": "3cff338f-24d6-4ea8-852d-80f4e4979890",
   "metadata": {
    "tags": []
   },
   "outputs": [],
   "source": [
    "place_map_all = place_map_all_1\n",
    "BVC_model = BVC_model_1\n",
    "edge_pixels_array = edge_pixels_array_1"
   ]
  },
  {
   "cell_type": "code",
   "execution_count": null,
   "id": "abf69521",
   "metadata": {
    "tags": []
   },
   "outputs": [],
   "source": [
    "which_map = place_map_all[1,:,:]\n",
    "valid_pixels = np.where(np.isfinite(which_map))\n",
    "valid_pixels_array = np.vstack([np.where(np.isfinite(which_map))[1], np.where(np.isfinite(which_map))[0]]).T"
   ]
  },
  {
   "cell_type": "code",
   "execution_count": null,
   "id": "4b1df12a-dec8-4ec6-8631-94f294d792a8",
   "metadata": {
    "tags": []
   },
   "outputs": [],
   "source": [
    "valid_pixels[1].shape"
   ]
  },
  {
   "cell_type": "code",
   "execution_count": null,
   "id": "9afa978f-2199-43b0-bf01-26d083cb8079",
   "metadata": {
    "tags": []
   },
   "outputs": [],
   "source": [
    "plt.scatter(edge_pixels_array[:,0], edge_pixels_array[:,1], s= 3, alpha=0.3)\n",
    "\n",
    "plt.scatter(valid_pixels_array[:,0], valid_pixels_array[:,1], s= 3, alpha=0.3)"
   ]
  },
  {
   "cell_type": "code",
   "execution_count": null,
   "id": "8b751282-e9de-40b3-bbb2-fe4f9ff40d2a",
   "metadata": {
    "tags": []
   },
   "outputs": [],
   "source": [
    "plt.scatter(edge_pixels_array[:,0], edge_pixels_array[:,1], s= 3, alpha=0.3)\n",
    "\n",
    "chosen_pixels = np.abs(valid_pixels_array[:,0] - mid_wall_loc) <20\n",
    "\n",
    "plt.scatter(valid_pixels_array[chosen_pixels,0], valid_pixels_array[chosen_pixels,1], s= 3, alpha=0.3)"
   ]
  },
  {
   "cell_type": "code",
   "execution_count": null,
   "id": "0ef81615",
   "metadata": {
    "tags": []
   },
   "outputs": [],
   "source": [
    "d = 5\n",
    "Φ = np.pi \n",
    "σ_rad = 1\n",
    "σ_ang = 1\n",
    "A = 3\n",
    "\n",
    "c= 100"
   ]
  },
  {
   "cell_type": "code",
   "execution_count": null,
   "id": "a8a86871",
   "metadata": {
    "tags": []
   },
   "outputs": [],
   "source": [
    "f_all = BVC_model(valid_pixels_array, d, Φ, σ_rad, σ_ang, A, c)\n",
    "vector_response = np.zeros_like(which_map)\n",
    "vector_response[:] = np.nan\n",
    "vector_response[valid_pixels] =  f_all"
   ]
  },
  {
   "cell_type": "code",
   "execution_count": null,
   "id": "fb5805f0-6ed4-4fda-b8db-9239da36c642",
   "metadata": {
    "tags": []
   },
   "outputs": [],
   "source": [
    "f_all"
   ]
  },
  {
   "cell_type": "code",
   "execution_count": null,
   "id": "5bf03905-bf85-458d-9b8a-424c89426ed7",
   "metadata": {
    "tags": []
   },
   "outputs": [],
   "source": [
    "plt.imshow(vector_response)"
   ]
  },
  {
   "cell_type": "code",
   "execution_count": null,
   "id": "f354ebe5",
   "metadata": {
    "tags": []
   },
   "outputs": [],
   "source": [
    "plt.imshow(vector_response)\n",
    "plt.title(f\"Φ = {Φ}\")"
   ]
  },
  {
   "cell_type": "markdown",
   "id": "efd58f98-455f-425b-83de-5641b6e4a791",
   "metadata": {},
   "source": [
    "# Fit one cell"
   ]
  },
  {
   "cell_type": "code",
   "execution_count": null,
   "id": "937f85b6",
   "metadata": {
    "tags": []
   },
   "outputs": [],
   "source": [
    "which_neuron = 19655\n",
    "which_map = np.copy(place_map_all[which_neuron]);\n",
    "which_map = which_map/np.nanstd(which_map)\n",
    "# which_map[which_map>0.8]=0.8\n",
    "plt.imshow(which_map)\n",
    "plt.colorbar()"
   ]
  },
  {
   "cell_type": "code",
   "execution_count": null,
   "id": "6d72def7-260d-491a-a955-5c14ea173055",
   "metadata": {},
   "outputs": [],
   "source": [
    "np.nanmax(which_map)"
   ]
  },
  {
   "cell_type": "code",
   "execution_count": null,
   "id": "98036cbb-3fb4-4bc5-b074-6fbbc253bc29",
   "metadata": {
    "tags": []
   },
   "outputs": [],
   "source": [
    "xdata = valid_pixels_array\n",
    "ydata = which_map[valid_pixels];"
   ]
  },
  {
   "cell_type": "code",
   "execution_count": null,
   "id": "45403544-787c-476d-b479-ca94ea2f334e",
   "metadata": {},
   "outputs": [],
   "source": [
    "valid_pixels"
   ]
  },
  {
   "cell_type": "code",
   "execution_count": null,
   "id": "4db5e83c-c50a-4b23-8cbc-6768af09d53a",
   "metadata": {
    "tags": []
   },
   "outputs": [],
   "source": [
    "popt, pcov = curve_fit(BVC_model, xdata, ydata, p0 = p0, bounds = bounds, ftol=0.001)\n",
    "d , Φ, σ_rad, σ_ang, A, c = popt\n",
    "\n",
    "ypredict = BVC_model(xdata, d, Φ, σ_rad, σ_ang, A, c)\n",
    "r = ydata - ypredict\n",
    "chisq = np.sum((r)**2)\n",
    "chisq"
   ]
  },
  {
   "cell_type": "code",
   "execution_count": null,
   "id": "0fc29e08-8375-4099-818a-c95bab325be3",
   "metadata": {
    "tags": []
   },
   "outputs": [],
   "source": [
    "popt"
   ]
  },
  {
   "cell_type": "code",
   "execution_count": null,
   "id": "66f4a74b-3a1d-48f1-9b65-fdc281e0f128",
   "metadata": {
    "tags": []
   },
   "outputs": [],
   "source": [
    "vector_response = np.zeros_like(which_map)\n",
    "vector_response[:] = np.nan\n",
    "vector_response[valid_pixels] =  ypredict\n",
    "plt.imshow(vector_response)\n",
    "plt.colorbar()"
   ]
  },
  {
   "cell_type": "markdown",
   "id": "95d0bbb9-231b-436c-b241-1d6833e01c63",
   "metadata": {},
   "source": [
    "# Fit all cells"
   ]
  },
  {
   "cell_type": "code",
   "execution_count": null,
   "id": "fc299375-1832-428e-bb26-f179f631f2ef",
   "metadata": {
    "tags": []
   },
   "outputs": [],
   "source": [
    "import tqdm"
   ]
  },
  {
   "cell_type": "code",
   "execution_count": null,
   "id": "22e85f0b-8a0e-40cb-91f7-7b6902621058",
   "metadata": {
    "tags": []
   },
   "outputs": [],
   "source": [
    "BVC_models = [BVC_model_1, BVC_model_2, BVC_model_3]\n",
    "place_map_all_all = [place_map_all_1, place_map_all_2, place_map_all_3]"
   ]
  },
  {
   "cell_type": "code",
   "execution_count": null,
   "id": "3216f535-74b1-48ad-b1f9-cad91a5628e3",
   "metadata": {
    "tags": []
   },
   "outputs": [],
   "source": [
    "predict_map_all_all = []\n",
    "popt_all_all = []\n",
    "chisq_all_all = []\n",
    "pass_neurons_all = []\n",
    "failed_neurons_all = []\n",
    "\n",
    "for i in range(3):\n",
    "    BVC_model = BVC_models[i]\n",
    "    place_map_all = place_map_all_all[i]\n",
    "    \n",
    "\n",
    "    nr_cells = place_map_all.shape[0]\n",
    "    which_map = place_map_all[1,:,:]\n",
    "    valid_pixels = np.where(np.isfinite(which_map))\n",
    "    valid_pixels_array = np.vstack([np.where(np.isfinite(which_map))[1], np.where(np.isfinite(which_map))[0]]).T\n",
    "\n",
    "    predict_map_all = np.zeros_like(place_map_all)\n",
    "    popt_all = np.zeros((nr_cells, len(p0)))\n",
    "    chisq_all = np.zeros(nr_cells)\n",
    "    pass_neurons = []\n",
    "    failed_neurons = []\n",
    "\n",
    "    which_map = place_map_all[1]\n",
    "    valid_pixels = np.where(np.isfinite(which_map))\n",
    "    for which_neuron in tqdm.tqdm(candidate_neurons):\n",
    "        try:\n",
    "\n",
    "            which_map = place_map_all[which_neuron, :,:];\n",
    "            which_map = which_map/np.nanstd(which_map)\n",
    "\n",
    "            xdata = valid_pixels_array\n",
    "            ydata = which_map[valid_pixels];\n",
    "            popt, pcov = curve_fit(BVC_model, xdata, ydata, p0 = p0, bounds = bounds, ftol=0.001) # using 0.01, might be too small\n",
    "            d , Φ, σ_rad, σ_ang, A, c = popt\n",
    "\n",
    "            popt_all[which_neuron] = popt\n",
    "\n",
    "\n",
    "            ypredict = BVC_model(xdata, d, Φ, σ_rad, σ_ang, A, c)\n",
    "            r = ydata - ypredict\n",
    "            chisq = np.sum((r)**2)\n",
    "            chisq_all[which_neuron] = chisq\n",
    "\n",
    "            vector_response = np.zeros_like(which_map)\n",
    "            vector_response[valid_pixels] =  ypredict\n",
    "            predict_map_all[which_neuron,:,:] = vector_response\n",
    "            pass_neurons.append(which_neuron)\n",
    "\n",
    "\n",
    "        except:\n",
    "            failed_neurons.append(which_neuron)\n",
    "            \n",
    "            \n",
    "            \n",
    "    predict_map_all_all.append(predict_map_all)\n",
    "    popt_all_all.append(popt_all)\n",
    "    chisq_all_all.append(chisq_all)\n",
    "    pass_neurons_all.append(pass_neurons)\n",
    "    failed_neurons_all.append(failed_neurons)"
   ]
  },
  {
   "cell_type": "code",
   "execution_count": null,
   "id": "4a3b4e56-8c4e-4150-b5f8-86462ab3bf30",
   "metadata": {
    "tags": []
   },
   "outputs": [],
   "source": [
    "hf = h5py.File(os.path.join(data_path_1, \"BVC_tel_newbound.h5\"), 'w')\n",
    "hf.create_dataset('candidate_neurons', data=candidate_neurons)\n",
    "hf.create_dataset('popt_all_1', data=popt_all_all[0])\n",
    "hf.create_dataset('popt_all_2', data=popt_all_all[1])\n",
    "hf.create_dataset('popt_all_3', data=popt_all_all[2])\n",
    "hf.close()"
   ]
  },
  {
   "cell_type": "code",
   "execution_count": null,
   "id": "7930f9fb-c40a-4962-8058-59a7dfefba77",
   "metadata": {
    "tags": []
   },
   "outputs": [],
   "source": [
    "file_name = \"BVC_tel_newbound.h5\"\n",
    "data = h5py.File(os.path.join(data_path_1, file_name), \"r\")\n",
    "popt_all_1= np.array(data[\"popt_all_1\"])\n",
    "popt_all_2= np.array(data[\"popt_all_2\"])\n",
    "popt_all_3= np.array(data[\"popt_all_3\"])\n",
    "data.close()"
   ]
  },
  {
   "cell_type": "code",
   "execution_count": null,
   "id": "d23f8bb5-36e9-4342-90ec-47d29c653192",
   "metadata": {
    "tags": []
   },
   "outputs": [],
   "source": [
    "popt_all_all = [popt_all_1 , popt_all_2, popt_all_3]"
   ]
  },
  {
   "cell_type": "code",
   "execution_count": null,
   "id": "33a8f82d-5324-4678-bdfd-d01b81537831",
   "metadata": {},
   "outputs": [],
   "source": [
    "nr_cells = place_map_all_all[0].shape[0]"
   ]
  },
  {
   "cell_type": "code",
   "execution_count": null,
   "id": "ca6b6c15-6429-4721-a292-d554c88add15",
   "metadata": {
    "tags": []
   },
   "outputs": [],
   "source": [
    "fit_neurons = np.intersect1d(np.where([any(popt_all_all[0][i,:]) for i in range(nr_cells)])[0], np.where([any(popt_all_all[1][i,:]) for i in range(nr_cells)])[0])"
   ]
  },
  {
   "cell_type": "code",
   "execution_count": null,
   "id": "c6b554f4-2a28-48dd-91dd-b4565ebb56db",
   "metadata": {
    "tags": []
   },
   "outputs": [],
   "source": [
    "predict_map_all_all = []\n",
    "chisq_all_all = []\n",
    "\n",
    "\n",
    "for i in range(3):\n",
    "    BVC_model = BVC_models[i]\n",
    "    place_map_all = place_map_all_all[i]\n",
    "    popt_all = popt_all_all[i]\n",
    "\n",
    "    nr_cells = place_map_all.shape[0]\n",
    "    which_map = place_map_all[1,:,:]\n",
    "    valid_pixels = np.where(np.isfinite(which_map))\n",
    "    valid_pixels_array = np.vstack([np.where(np.isfinite(which_map))[1], np.where(np.isfinite(which_map))[0]]).T\n",
    "\n",
    "\n",
    "    predict_map_all = np.zeros_like(place_map_all)\n",
    "    chisq_all = np.zeros(nr_cells)\n",
    "\n",
    "    for which_neuron in tqdm.tqdm(np.where(np.sum(popt_all != 0, axis=1) !=0)[0]):\n",
    "\n",
    "\n",
    "        which_map = place_map_all[which_neuron, :,:];\n",
    "\n",
    "        xdata = valid_pixels_array\n",
    "        ydata = which_map[valid_pixels];\n",
    "        d , Φ, σ_rad, σ_ang, A, c = popt_all[which_neuron]\n",
    "\n",
    "\n",
    "        ypredict = BVC_model(xdata, d, Φ, σ_rad, σ_ang, A, c)\n",
    "        r = ydata - ypredict\n",
    "        chisq = np.sum((r)**2)\n",
    "        chisq_all[which_neuron] = chisq\n",
    "\n",
    "        vector_response = np.zeros_like(which_map)\n",
    "        vector_response[valid_pixels] =  ypredict\n",
    "        predict_map_all[which_neuron,:,:] = vector_response\n",
    "            \n",
    "            \n",
    "    predict_map_all_all.append(predict_map_all)\n",
    "    popt_all_all.append(popt_all)\n",
    "    chisq_all_all.append(chisq_all)"
   ]
  },
  {
   "cell_type": "code",
   "execution_count": null,
   "id": "c452c241-f2e1-4290-830c-3c7f79460669",
   "metadata": {
    "tags": []
   },
   "outputs": [],
   "source": [
    "corr_all_all = []\n",
    "for i in range(3):\n",
    "    place_map_all = place_map_all_all[i]\n",
    "    predict_map_all = predict_map_all_all[i]\n",
    "    \n",
    "    which_map = place_map_all[1,:,:]\n",
    "    valid_pixels = np.where(np.isfinite(which_map))\n",
    "    \n",
    "    corr_all = np.zeros(nr_cells)\n",
    "\n",
    "    for which_neuron in tqdm.tqdm(candidate_neurons):\n",
    "\n",
    "        which_map_1 = place_map_all[which_neuron, :,:];\n",
    "        which_map_2 = predict_map_all[which_neuron, :,:];\n",
    "\n",
    "        corr_all[which_neuron] = np.corrcoef(which_map_1[valid_pixels], which_map_2[valid_pixels])[0,1]\n",
    "        \n",
    "    corr_all_all.append(corr_all)\n"
   ]
  },
  {
   "cell_type": "code",
   "execution_count": null,
   "id": "48ccdae0-e368-465f-84fb-0590870264a3",
   "metadata": {
    "tags": []
   },
   "outputs": [],
   "source": [
    "place_map_all = place_map_all_1\n",
    "which_map = place_map_all[candidate_neurons[0],:,:]\n",
    "valid_pixels_1 = np.where(np.isfinite(which_map))\n",
    "valid_pixels_array_1 = np.vstack([np.where(np.isfinite(which_map))[1], np.where(np.isfinite(which_map))[0]]).T\n",
    "\n",
    "place_map_all = place_map_all_2\n",
    "which_map = place_map_all[candidate_neurons[0],:,:]\n",
    "valid_pixels_2 = np.where(np.isfinite(which_map))\n",
    "valid_pixels_array_2 = np.vstack([np.where(np.isfinite(which_map))[1], np.where(np.isfinite(which_map))[0]]).T\n",
    "\n",
    "place_map_all = place_map_all_3\n",
    "which_map = place_map_all[candidate_neurons[0],:,:]\n",
    "valid_pixels_3 = np.where(np.isfinite(which_map))\n",
    "valid_pixels_array_3 = np.vstack([np.where(np.isfinite(which_map))[1], np.where(np.isfinite(which_map))[0]]).T\n",
    "\n",
    "\n",
    "which_map = place_map_all_1[candidate_neurons[0], :,:]*place_map_all_2[candidate_neurons[0], :,:]\n",
    "valid_pixels = np.where(np.isfinite(which_map))\n",
    "valid_pixels_array = np.vstack([np.where(np.isfinite(which_map))[1], np.where(np.isfinite(which_map))[0]]).T\n",
    "\n",
    "corr_diff = np.zeros(nr_cells)\n",
    "\n",
    "predict_map_12_all = np.zeros_like(place_map_all)\n",
    "for which_neuron in tqdm.tqdm(candidate_neurons):\n",
    "    map_1 = place_map_all_1[which_neuron, :,:];\n",
    "    ydata_1 = map_1[valid_pixels];\n",
    "    \n",
    "    map_2 = place_map_all_2[which_neuron, :,:];\n",
    "    ydata_2 = map_2[valid_pixels];\n",
    "    \n",
    "    xdata = valid_pixels_array\n",
    "    \n",
    "    popt = popt_all_all[0][which_neuron]\n",
    "    if any(popt) == 0:\n",
    "        continue\n",
    "    d , Φ, σ_rad, σ_ang, A, c = popt\n",
    "\n",
    "    ypredict_1 = BVC_model_1(xdata, d, Φ, σ_rad, σ_ang, A, c)\n",
    "    ypredict_2 = BVC_model_2(xdata, d, Φ, σ_rad, σ_ang, A, c)\n",
    "    \n",
    "    vector_response = np.zeros_like(map_2)\n",
    "    vector_response[valid_pixels] =  ypredict_2\n",
    "    predict_map_12_all[which_neuron,:,:] = vector_response\n",
    "    \n",
    "    \n",
    "    corr_diff[which_neuron] = np.corrcoef(ydata_2 - ydata_1, ypredict_2 - ypredict_1)[0,1]"
   ]
  },
  {
   "cell_type": "code",
   "execution_count": null,
   "id": "890cc25f-af9c-4688-a8ae-a0b894d59859",
   "metadata": {},
   "outputs": [],
   "source": [
    "hf = h5py.File(os.path.join(data_path_1, \"BVC_tel_newbound.h5\"), 'r+')\n",
    "hf.create_dataset('predict_map_12_all', data=predict_map_12_all)\n",
    "hf.create_dataset('predict_map_all_1', data=predict_map_all_all[0])\n",
    "hf.create_dataset('corr_diff', data=corr_diff)\n",
    "hf.close()"
   ]
  },
  {
   "cell_type": "code",
   "execution_count": null,
   "id": "d7a42952-b5a1-4d6c-81f5-0f1b3076c098",
   "metadata": {},
   "outputs": [],
   "source": [
    "file_name = \"BVC_tel_newbound.h5\"\n",
    "data = h5py.File(os.path.join(data_path_1, file_name), \"r\")\n",
    "predict_map_12_all= np.array(data[\"predict_map_12_all\"])\n",
    "predict_map_all_1= np.array(data[\"predict_map_all_1\"])\n",
    "corr_diff= np.array(data[\"corr_diff\"])\n",
    "data.close()"
   ]
  },
  {
   "cell_type": "markdown",
   "id": "b319c3fe-644f-4842-a84e-129e31aea00d",
   "metadata": {},
   "source": [
    "# Selecting example neurons"
   ]
  },
  {
   "cell_type": "code",
   "execution_count": null,
   "id": "4bfbfc19-08b8-492e-89b4-87e606715648",
   "metadata": {
    "tags": []
   },
   "outputs": [],
   "source": [
    "corr_threshold_global = 0.5\n",
    "corr_threshold_diff = 0.4\n",
    "valid_neurons = (corr_all_all[0][candidate_neurons] >corr_threshold_global)\n",
    "valid_neurons_diff = (corr_diff >corr_threshold_diff)[candidate_neurons]"
   ]
  },
  {
   "cell_type": "code",
   "execution_count": null,
   "id": "1b974cae-302e-432e-aa8a-68da1b28e2bc",
   "metadata": {
    "tags": []
   },
   "outputs": [],
   "source": [
    "Φ_1 = popt_all_all[0][candidate_neurons][:,1]\n",
    "Φ_2 = popt_all_all[1][candidate_neurons][:,1]\n",
    "Φ_3 = popt_all_all[2][candidate_neurons][:,1]\n",
    "\n",
    "d_1 = popt_all_all[0][candidate_neurons][:,0]\n",
    "d_2 = popt_all_all[1][candidate_neurons][:,0]\n",
    "d_3 = popt_all_all[2][candidate_neurons][:,0];\n",
    "\n",
    "\n",
    "σ_rad_1 = popt_all_all[0][candidate_neurons][:,2]\n",
    "σ_rad_2 = popt_all_all[1][candidate_neurons][:,2]\n",
    "σ_rad_3 = popt_all_all[2][candidate_neurons][:,2];\n",
    "\n",
    "\n",
    "σ_ang_1 = popt_all_all[0][candidate_neurons][:,3]\n",
    "σ_ang_2 = popt_all_all[1][candidate_neurons][:,3]\n",
    "σ_ang_3 = popt_all_all[2][candidate_neurons][:,3];"
   ]
  },
  {
   "cell_type": "code",
   "execution_count": null,
   "id": "c22cb8f2-997a-4ba3-b84c-3f4ec87b2172",
   "metadata": {
    "tags": []
   },
   "outputs": [],
   "source": [
    "file_name = \"NMF_merge.h5\"\n",
    "data = h5py.File(os.path.join(data_path_1, file_name), \"r\")\n",
    "Z_all= np.array(data[\"Z_all\"])\n",
    "X_all= np.array(data[\"X_all\"])\n",
    "Y_all= np.array(data[\"Y_all\"])\n",
    "data.close()"
   ]
  },
  {
   "cell_type": "code",
   "execution_count": null,
   "id": "9542eb8b-9671-42e3-9742-2bff340b18d8",
   "metadata": {
    "tags": []
   },
   "outputs": [],
   "source": [
    "Φ_threshold = np.sqrt(2)/2\n",
    "σ_rad_threshold = 6\n",
    "σ_ang_threshold = 3\n",
    "\n",
    "σ_pass = (σ_rad_1<σ_rad_threshold)*(σ_rad_3<σ_rad_threshold)*(σ_ang_1<σ_ang_threshold)*(σ_ang_3<σ_ang_threshold)\n",
    "\n",
    "\n",
    "Φ_pass = (np.cos(Φ_1) < -Φ_threshold)*(np.cos(Φ_3) < -Φ_threshold)\n",
    "pass_neurons_1 = candidate_neurons[np.where(Φ_pass*valid_neurons_diff)[0]]\n",
    "Φ_pass = (np.cos(Φ_1) > Φ_threshold)*(np.cos(Φ_3) > Φ_threshold)\n",
    "pass_neurons_2 = candidate_neurons[np.where(Φ_pass*valid_neurons_diff)[0]]\n"
   ]
  },
  {
   "cell_type": "code",
   "execution_count": null,
   "id": "557c6846-64e4-494f-a652-87d27d239579",
   "metadata": {
    "tags": []
   },
   "outputs": [],
   "source": [
    "pass_neurons_1 = pass_neurons_1[np.argsort(corr_diff[pass_neurons_1])][::-1]\n",
    "pass_neurons_1"
   ]
  },
  {
   "cell_type": "code",
   "execution_count": null,
   "id": "ede0dba2-6fb0-4fa8-a516-9379aa17a32c",
   "metadata": {
    "tags": []
   },
   "outputs": [],
   "source": [
    "pass_neurons_2 = pass_neurons_2[np.argsort(corr_diff[pass_neurons_2])][::-1]\n",
    "pass_neurons_2"
   ]
  },
  {
   "cell_type": "code",
   "execution_count": null,
   "id": "512bbaa8-cea6-4af5-ac00-84ae330b47d9",
   "metadata": {
    "tags": []
   },
   "outputs": [],
   "source": [
    "plot_candidate = [51920, 17205, 39216, 57136, 19507]"
   ]
  },
  {
   "cell_type": "code",
   "execution_count": null,
   "id": "b6ae52cf-1bf6-4ca9-b253-513711f00ead",
   "metadata": {
    "tags": []
   },
   "outputs": [],
   "source": [
    "for which_neuron in plot_candidate:\n",
    "    plt.figure(figsize=(20,5))\n",
    "    plt.subplot(1,3,1)\n",
    "    which_map = place_map_all_all[0][which_neuron, :,:];\n",
    "    plt.imshow(which_map)\n",
    "    plt.title(which_neuron)\n",
    "\n",
    "    plt.subplot(1,3,2)\n",
    "    which_map = place_map_all_all[1][which_neuron, :,:];\n",
    "    plt.imshow(which_map)\n",
    "    plt.title(which_neuron)\n",
    "    \n",
    "    plt.subplot(1,3,3)\n",
    "    which_map = place_map_all_all[2][which_neuron, :,:];\n",
    "    plt.imshow(which_map)\n",
    "    plt.title(which_neuron)\n",
    "    \n",
    "    \n",
    "    plt.figure(figsize=(20,5))\n",
    "    plt.subplot(1,3,1)\n",
    "    which_map = predict_map_all_all[0][which_neuron, :,:];\n",
    "    plt.imshow(which_map)\n",
    "    plt.title(which_neuron)\n",
    "\n",
    "    plt.subplot(1,3,2)\n",
    "    which_map = predict_map_all_all[1][which_neuron, :,:];\n",
    "    plt.imshow(which_map)\n",
    "    plt.title(which_neuron)\n",
    "    \n",
    "    plt.subplot(1,3,3)\n",
    "    which_map = predict_map_all_all[2][which_neuron, :,:];\n",
    "    plt.imshow(which_map)\n",
    "    plt.title(which_neuron)"
   ]
  },
  {
   "cell_type": "code",
   "execution_count": null,
   "id": "de2c7343-7aa1-4316-b3b3-f72f8347691c",
   "metadata": {
    "tags": []
   },
   "outputs": [],
   "source": [
    "file_name = \"NMF_merge.h5\"\n",
    "data = h5py.File(os.path.join(data_path_1, file_name), \"r\")\n",
    "Z_all= np.array(data[\"Z_all\"])\n",
    "X_all= np.array(data[\"X_all\"])\n",
    "Y_all= np.array(data[\"Y_all\"])\n",
    "data.close()"
   ]
  },
  {
   "cell_type": "code",
   "execution_count": null,
   "id": "975791f7-5241-42af-8818-da574d024a1b",
   "metadata": {
    "tags": []
   },
   "outputs": [],
   "source": [
    "invalid_neurons_diff = (corr_diff <0.2)[candidate_neurons]"
   ]
  },
  {
   "cell_type": "code",
   "execution_count": null,
   "id": "92511769-dd17-4dfc-a6c4-839036d78d03",
   "metadata": {
    "tags": []
   },
   "outputs": [],
   "source": [
    "Φ_threshold = np.sqrt(2)/2\n",
    "σ_rad_threshold = 6\n",
    "σ_ang_threshold = 3\n",
    "\n",
    "σ_pass = (σ_rad_1<σ_rad_threshold)*(σ_rad_3<σ_rad_threshold)*(σ_ang_1<σ_ang_threshold)*(σ_ang_3<σ_ang_threshold)\n",
    "\n",
    "\n",
    "Φ_pass = (np.cos(Φ_1) < -Φ_threshold)*(np.cos(Φ_3) < -Φ_threshold)\n",
    "no_pass_neurons_1 = candidate_neurons[np.where(Φ_pass*invalid_neurons_diff*valid_neurons)[0]]\n",
    "Φ_pass = (np.cos(Φ_1) > Φ_threshold)*(np.cos(Φ_3) > Φ_threshold)\n",
    "no_pass_neurons_2 = candidate_neurons[np.where(Φ_pass*invalid_neurons_diff*valid_neurons)[0]]\n"
   ]
  },
  {
   "cell_type": "code",
   "execution_count": null,
   "id": "e146a2d5-c60e-4eda-9dc8-4663ba7c6c1e",
   "metadata": {
    "tags": []
   },
   "outputs": [],
   "source": [
    "no_pass_neurons_1 = np.intersect1d(no_pass_neurons_1[np.argsort(corr_all[no_pass_neurons_1])][::-1], fit_neurons)\n",
    "no_pass_neurons_1"
   ]
  },
  {
   "cell_type": "code",
   "execution_count": null,
   "id": "d6b7ce36-38c7-4123-b999-bb4dd7edd96b",
   "metadata": {
    "tags": []
   },
   "outputs": [],
   "source": [
    "no_pass_neurons_2 = np.intersect1d(no_pass_neurons_2[np.argsort(corr_all[no_pass_neurons_2])][::-1], fit_neurons)\n",
    "no_pass_neurons_2"
   ]
  },
  {
   "cell_type": "code",
   "execution_count": null,
   "id": "add9b3d2-11d0-47e0-bef2-7c514f45bfd4",
   "metadata": {
    "tags": []
   },
   "outputs": [],
   "source": [
    "plot_candidate_nonbvc = np.intersect1d([4616, 4646, 7670, 505, 3507, 5406, 7795, 15967, 5398], candidate_neurons)\n",
    "plot_candidate_nonbvc"
   ]
  },
  {
   "cell_type": "code",
   "execution_count": null,
   "id": "9607a0eb-0d86-434a-8cec-82f5e8a0a2c5",
   "metadata": {
    "tags": []
   },
   "outputs": [],
   "source": [
    "for which_neuron in plot_candidate_nonbvc:\n",
    "    plt.figure(figsize=(20,5))\n",
    "    plt.subplot(1,3,1)\n",
    "    which_map = place_map_all_all[0][which_neuron, :,:];\n",
    "    plt.imshow(which_map)\n",
    "    plt.title(which_neuron)\n",
    "\n",
    "    plt.subplot(1,3,2)\n",
    "    which_map = place_map_all_all[1][which_neuron, :,:];\n",
    "    plt.imshow(which_map)\n",
    "    plt.title(which_neuron)\n",
    "    \n",
    "    plt.subplot(1,3,3)\n",
    "    which_map = place_map_all_all[2][which_neuron, :,:];\n",
    "    plt.imshow(which_map)\n",
    "    plt.title(which_neuron)\n",
    "    \n",
    "    \n",
    "    plt.figure(figsize=(20,5))\n",
    "    plt.subplot(1,3,1)\n",
    "    which_map = predict_map_all_all[0][which_neuron, :,:];\n",
    "    plt.imshow(which_map)\n",
    "    plt.title(which_neuron)\n",
    "\n",
    "    plt.subplot(1,3,2)\n",
    "    which_map = predict_map_all_all[1][which_neuron, :,:];\n",
    "    plt.imshow(which_map)\n",
    "    plt.title(which_neuron)\n",
    "    \n",
    "    plt.subplot(1,3,3)\n",
    "    which_map = predict_map_all_all[2][which_neuron, :,:];\n",
    "    plt.imshow(which_map)\n",
    "    plt.title(which_neuron)"
   ]
  },
  {
   "cell_type": "code",
   "execution_count": null,
   "id": "b312502d-e8f3-481a-80bf-b733e6daf78c",
   "metadata": {
    "tags": []
   },
   "outputs": [],
   "source": [
    "hf = h5py.File(os.path.join(data_path_1, \"BVC_tel.h5\"), 'r+')\n",
    "hf.create_dataset('pass_neurons_1', data=pass_neurons_1)\n",
    "hf.create_dataset('pass_neurons_2', data=pass_neurons_2)\n",
    "hf.create_dataset('plot_candidate', data=plot_candidate)\n",
    "hf.create_dataset('plot_candidate_map_1', data=place_map_all_all[0][plot_candidate])\n",
    "hf.create_dataset('plot_candidate_map_2', data=place_map_all_all[1][plot_candidate])\n",
    "hf.create_dataset('plot_candidate_map_3', data=place_map_all_all[2][plot_candidate])\n",
    "hf.create_dataset('plot_candidate_map_1_predict', data=predict_map_all_all[0][plot_candidate])\n",
    "hf.create_dataset('plot_candidate_map_2_predict', data=predict_map_all_all[1][plot_candidate])\n",
    "hf.create_dataset('plot_candidate_map_3_predict', data=predict_map_all_all[2][plot_candidate])\n",
    "hf.create_dataset('plot_candidate_map_12_predict', data=predict_map_12_all[plot_candidate])\n",
    "hf.create_dataset('corr_diff', data=corr_diff)\n",
    "hf.close()"
   ]
  },
  {
   "cell_type": "code",
   "execution_count": null,
   "id": "28d28005-2a2d-46fa-8a20-ee7b0bea996f",
   "metadata": {
    "tags": []
   },
   "outputs": [],
   "source": [
    "hf = h5py.File(os.path.join(data_path_1, \"BVC_tel.h5\"), 'r+')\n",
    "hf.create_dataset('plot_candidate_nonbvc', data=plot_candidate_nonbvc)\n",
    "hf.create_dataset('plot_candidate_nonbvc_map_1', data=place_map_all_all[0][plot_candidate_nonbvc])\n",
    "hf.create_dataset('plot_candidate_nonbvc_map_2', data=place_map_all_all[1][plot_candidate_nonbvc])\n",
    "hf.create_dataset('plot_candidate_nonbvc_map_3', data=place_map_all_all[2][plot_candidate_nonbvc])\n",
    "hf.create_dataset('plot_candidate_nonbvc_map_1_predict', data=predict_map_all_all[0][plot_candidate_nonbvc])\n",
    "hf.create_dataset('plot_candidate_nonbvc_map_2_predict', data=predict_map_all_all[1][plot_candidate_nonbvc])\n",
    "hf.create_dataset('plot_candidate_nonbvc_map_3_predict', data=predict_map_all_all[2][plot_candidate_nonbvc])\n",
    "hf.create_dataset('plot_candidate_nonbvc_map_12_predict', data=predict_map_12_all[plot_candidate_nonbvc])\n",
    "hf.create_dataset('corr_all', data=corr_all_all[1])\n",
    "hf.close()"
   ]
  },
  {
   "cell_type": "code",
   "execution_count": null,
   "id": "609d4d99-a673-4a78-ae3f-2e1c553d6ceb",
   "metadata": {},
   "outputs": [],
   "source": []
  }
 ],
 "metadata": {
  "kernelspec": {
   "display_name": "Python 3 (ipykernel)",
   "language": "python",
   "name": "python3"
  },
  "language_info": {
   "codemirror_mode": {
    "name": "ipython",
    "version": 3
   },
   "file_extension": ".py",
   "mimetype": "text/x-python",
   "name": "python",
   "nbconvert_exporter": "python",
   "pygments_lexer": "ipython3",
   "version": "3.12.4"
  }
 },
 "nbformat": 4,
 "nbformat_minor": 5
}
