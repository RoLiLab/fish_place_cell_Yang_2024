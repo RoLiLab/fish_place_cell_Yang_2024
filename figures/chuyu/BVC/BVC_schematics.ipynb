{
 "cells": [
  {
   "cell_type": "code",
   "execution_count": null,
   "id": "3bf74dc4-203b-4390-b6f3-9c7526180c93",
   "metadata": {},
   "outputs": [],
   "source": [
    "import numpy as np\n",
    "import math\n",
    "import matplotlib.pyplot as plt\n",
    "from scipy.optimize import curve_fit\n",
    "import h5py\n",
    "import os\n",
    "from tqdm import trange\n",
    "import scipy.ndimage as ndimage"
   ]
  },
  {
   "cell_type": "code",
   "execution_count": null,
   "id": "db8324e9-1663-4bb9-9742-b4e230d4b9ef",
   "metadata": {},
   "outputs": [],
   "source": [
    "from numba import njit\n",
    "\n",
    "\n",
    "@njit\n",
    "def normpdf(x, mean, sd):\n",
    "    var = float(sd)**2\n",
    "    denom = (2*math.pi*var)**.5\n",
    "    num = math.exp(-(float(x)-float(mean))**2/(2*var))\n",
    "    return num/denom\n",
    "\n",
    "\n",
    "@njit\n",
    "def normpdf_mean0(x, sd):\n",
    "    var = float(sd)**2\n",
    "    denom = (2*math.pi*var)**.5\n",
    "    num = math.exp(-(float(x))**2/(2*var))\n",
    "    return num/denom\n",
    "\n",
    "\n",
    "@njit\n",
    "def distance_from(points, target):\n",
    "    nr_points = points.shape[0];\n",
    "    distance = np.zeros(nr_points);\n",
    "    \n",
    "    for index in range(nr_points):\n",
    "        distance[index] = norm_2(points[index,0]-target[0], points[index,1]-target[1]);\n",
    "\n",
    "    return distance\n",
    "\n",
    "\n",
    "@njit\n",
    "def angle_from(points, target):\n",
    "    nr_points =  points.shape[0];\n",
    "    angle_all = np.zeros(nr_points);\n",
    "    \n",
    "    for index in range(nr_points):\n",
    "        vector_1 = points[index,:]\n",
    "        vector_2 = target\n",
    "        vector_diff = vector_1 - vector_2\n",
    "        complex = vector_diff[0] + vector_diff[1]*1j\n",
    "        angle_all[index] = np.angle(complex)\n",
    "\n",
    "    return angle_all;\n",
    "\n",
    "\n",
    "@njit\n",
    "def BVC_single(r, θ, d, Φ, σ_rad, σ_ang):\n",
    "    g1 = normpdf(r, d, σ_rad)\n",
    "    diff_angle = θ - Φ\n",
    "    if diff_angle > np.pi:\n",
    "        diff_angle = diff_angle -2*np.pi\n",
    "    if diff_angle < - np.pi:\n",
    "        diff_angle = diff_angle +2*np.pi\n",
    "        \n",
    "    g2 = normpdf_mean0(diff_angle, σ_ang)\n",
    "    g = g1*g2\n",
    "    return g\n",
    "\n",
    "@njit\n",
    "def norm_2(x, y):\n",
    "    return np.sqrt(x**2+y**2)\n",
    "\n",
    "\n",
    "\n",
    "@njit\n",
    "def BVC(which_pixels, d, Φ, σ_rad, σ_ang, A, c, boundary_array):\n",
    "    nr_pixel = which_pixels.shape[0]\n",
    "    f_all = np.zeros(nr_pixel)\n",
    "    for i_pixel in range(nr_pixel):\n",
    "        xy = which_pixels[i_pixel,:]\n",
    "        r_all = distance_from(boundary_array, xy);\n",
    "        θ_all = angle_from(boundary_array, xy);\n",
    "        f = A*sum([BVC_single(r_all[i], θ_all[i], d, Φ, σ_rad, σ_ang) for i in range(len(r_all))])\n",
    "        f_all[i_pixel] = f\n",
    "    return f_all + c "
   ]
  },
  {
   "cell_type": "code",
   "execution_count": null,
   "id": "681f61a1-c814-4fa2-84b7-edda306dbe9a",
   "metadata": {},
   "outputs": [],
   "source": [
    "r_all = np.linspace(0,5,1000)\n",
    "θ_all = np.linspace(-np.pi/2, np.pi/2,1000)\n",
    "\n",
    "rv, θv = np.meshgrid(r_all, θ_all)\n",
    "\n",
    "rv = np.float32(rv)\n",
    "θv = np.float32(θv)"
   ]
  },
  {
   "cell_type": "code",
   "execution_count": null,
   "id": "d6d4da30-2fcc-4972-b81f-4dbb7d3e9515",
   "metadata": {},
   "outputs": [],
   "source": [
    "response = np.zeros((len(r_all), len(θ_all)))"
   ]
  },
  {
   "cell_type": "code",
   "execution_count": null,
   "id": "5c01c40e-94c9-45ef-b2f7-537675d0db7f",
   "metadata": {},
   "outputs": [],
   "source": [
    "d = 3\n",
    "Φ = 0\n",
    "σ_rad = 0.5\n",
    "σ_ang = 0.1\n",
    "\n",
    "for (i,r) in enumerate(r_all):\n",
    "    for (j,θ) in enumerate(θ_all):  \n",
    "        response[i,j] = BVC_single(r, θ, d, Φ, σ_rad, σ_ang)"
   ]
  },
  {
   "cell_type": "code",
   "execution_count": null,
   "id": "68215900-ab7b-4127-adba-2d3132fd4be1",
   "metadata": {},
   "outputs": [],
   "source": [
    "response[response<0.5]=np.NaN"
   ]
  },
  {
   "cell_type": "code",
   "execution_count": null,
   "id": "0f116213-48e3-428c-9bd2-fcf44a000a07",
   "metadata": {},
   "outputs": [],
   "source": [
    "plt.imshow(response, cmap=\"jet\")"
   ]
  },
  {
   "cell_type": "code",
   "execution_count": null,
   "id": "11f1fb8a-c1fe-4279-9692-083a902c4215",
   "metadata": {},
   "outputs": [],
   "source": [
    "fig = plt.figure(figsize=(3,3), dpi=250)\n",
    "ax = fig.add_axes([0.1,0.1,0.8,0.8],polar=True)\n",
    "\n",
    "ax.pcolormesh(θ_all,r_all,response, cmap=\"jet\")\n",
    "ax.axis(\"off\")\n",
    "\n",
    "ax.set_xlim(-np.pi/4, np.pi/4)\n",
    "ax.set_ylim(0,5)\n"
   ]
  },
  {
   "cell_type": "code",
   "execution_count": null,
   "id": "074a48e5-7cfb-4887-bd92-9b210fe398b2",
   "metadata": {},
   "outputs": [],
   "source": [
    "def arrowed_spines(fig, ax):\n",
    "\n",
    "    xmin, xmax = ax.get_xlim() \n",
    "    ymin, ymax = ax.get_ylim()\n",
    "\n",
    "    # removing the default axis on all sides:\n",
    "    for side in ['bottom','right','top','left']:\n",
    "        ax.spines[side].set_visible(False)\n",
    "\n",
    "    # removing the axis ticks\n",
    "    plt.xticks([]) # labels \n",
    "    plt.yticks([])\n",
    "    ax.xaxis.set_ticks_position('none') # tick markers\n",
    "    ax.yaxis.set_ticks_position('none')\n",
    "\n",
    "    # get width and height of axes object to compute \n",
    "    # matching arrowhead length and width\n",
    "    dps = fig.dpi_scale_trans.inverted()\n",
    "    bbox = ax.get_window_extent().transformed(dps)\n",
    "    width, height = bbox.width, bbox.height\n",
    "\n",
    "    # manual arrowhead width and length\n",
    "    hw = 1./20.*(ymax-ymin) \n",
    "    hl = 1./20.*(xmax-xmin)\n",
    "    lw = 1. # axis line width\n",
    "    ohg = 0.3 # arrow overhang\n",
    "\n",
    "    # compute matching arrowhead length and width\n",
    "    yhw = hw/(ymax-ymin)*(xmax-xmin)* height/width \n",
    "    yhl = hl/(xmax-xmin)*(ymax-ymin)* width/height\n",
    "\n",
    "    # draw x and y axis\n",
    "    ax.arrow(xmin, 0, xmax-xmin, 0., fc='k', ec='k', lw = lw, \n",
    "             head_width=hw, head_length=hl, overhang = ohg, \n",
    "             length_includes_head= True, clip_on = False) \n",
    "\n",
    "    ax.arrow(0, ymin, 0., ymax-ymin, fc='k', ec='k', lw = lw, \n",
    "             head_width=yhw, head_length=yhl, overhang = ohg, \n",
    "             length_includes_head= True, clip_on = False)\n",
    "\n",
    "\n",
    "\n"
   ]
  },
  {
   "cell_type": "code",
   "execution_count": null,
   "id": "e66d66d5-d73c-48bc-8054-5be80efd91f2",
   "metadata": {},
   "outputs": [],
   "source": [
    "fig_path = \"/home/chuyu/Notebooks/project_place_cell/figures/output/sfigure2/bvc\""
   ]
  },
  {
   "cell_type": "code",
   "execution_count": null,
   "id": "0f325cd3-fea6-45e2-a205-6bc4d10e9ff3",
   "metadata": {},
   "outputs": [],
   "source": [
    "\n",
    "fig = plt.figure(figsize=(1,1))\n",
    "fig.set_facecolor('white') \n",
    "ax = plt.gca()\n",
    "plt.bar(1,0.5, width=1, color=\"r\")\n",
    "plt.xlim(0,2)\n",
    "plt.xticks([])\n",
    "plt.yticks([])\n",
    "plt.ylim(0,3)\n",
    "arrowed_spines(fig, ax)\n",
    "plt.tight_layout()\n",
    "fig.savefig(os.path.join(fig_path, \"bvc_response_1.pdf\"),transparent = True);"
   ]
  },
  {
   "cell_type": "code",
   "execution_count": null,
   "id": "e8fc31e0-a499-4c1a-9ed4-f01b379658b2",
   "metadata": {},
   "outputs": [],
   "source": [
    "\n",
    "fig = plt.figure(figsize=(1,1))\n",
    "fig.set_facecolor('white') \n",
    "ax = plt.gca()\n",
    "plt.bar(1,1.5, width=1, color=\"r\")\n",
    "plt.xlim(0,2)\n",
    "plt.xticks([])\n",
    "plt.yticks([])\n",
    "plt.ylim(0,3)\n",
    "arrowed_spines(fig, ax)\n",
    "plt.tight_layout()\n",
    "fig.savefig(os.path.join(fig_path, \"bvc_response_2.pdf\"),transparent = True);"
   ]
  },
  {
   "cell_type": "code",
   "execution_count": null,
   "id": "6d6063be-cdfa-4e84-9239-c81749145992",
   "metadata": {},
   "outputs": [],
   "source": [
    "\n",
    "fig = plt.figure(figsize=(1,1))\n",
    "fig.set_facecolor('white') \n",
    "ax = plt.gca()\n",
    "plt.bar(1,3, width=1, color=\"r\")\n",
    "plt.xlim(0,2)\n",
    "plt.xticks([])\n",
    "plt.yticks([])\n",
    "plt.ylim(0,3)\n",
    "arrowed_spines(fig, ax)\n",
    "plt.tight_layout()\n",
    "fig.savefig(os.path.join(fig_path, \"bvc_response_3.pdf\"),transparent = True);"
   ]
  },
  {
   "cell_type": "code",
   "execution_count": null,
   "id": "6bd7e0a3-1d18-4f82-a7d6-fb2febf6947c",
   "metadata": {},
   "outputs": [],
   "source": []
  }
 ],
 "metadata": {
  "kernelspec": {
   "display_name": "base_py_kernel",
   "language": "python",
   "name": "base_py_kernel"
  },
  "language_info": {
   "codemirror_mode": {
    "name": "ipython",
    "version": 3
   },
   "file_extension": ".py",
   "mimetype": "text/x-python",
   "name": "python",
   "nbconvert_exporter": "python",
   "pygments_lexer": "ipython3",
   "version": "3.9.5"
  }
 },
 "nbformat": 4,
 "nbformat_minor": 5
}
