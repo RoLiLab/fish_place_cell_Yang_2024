{
 "cells": [
  {
   "cell_type": "code",
   "execution_count": null,
   "id": "1102daf9-4bad-44ac-9dc8-f20aeb6857d0",
   "metadata": {},
   "outputs": [],
   "source": [
    "using ProgressMeter, PyCall, PyPlot, Images, HDF5,NaNStatistics, Statistics, DSP, Lasso \n",
    "using _Data, _Math "
   ]
  },
  {
   "cell_type": "code",
   "execution_count": null,
   "id": "2cc8d2e1-e318-4f57-9bdb-8e3ba9a3b06b",
   "metadata": {},
   "outputs": [],
   "source": [
    "rc_params = PyDict(pyimport(\"matplotlib\")[\"rcParams\"]);\n",
    "rc_params[\"font.sans-serif\"] = [\"Arial\"];\n",
    "rc_params[\"font.size\"] = 7;\n",
    "rc_params[\"lines.linewidth\"] = 1;\n",
    "rc_params[\"lines.markersize\"] = 4;\n",
    "\n",
    "cim(img::Matrix{UInt32}) = CairoImageSurface(img, Cairo.FORMAT_RGB24; flipxy = false) \n",
    "cim(img::Matrix{ARGB32}) = cim(reinterpret(UInt32, img))\n",
    "cim(img::Matrix{RGB24}) = cim(reinterpret(UInt32, img))\n",
    "cim(img::Matrix{UInt8}) = cim(Gray.(reinterpret(N0f8, img)))\n",
    "cim(img::Array{UInt8,3}) = cim(RGB24.(reinterpret(N0f8, img[:,:,1]), reinterpret(N0f8, img[:,:,2]), reinterpret(N0f8, img[:,:,3])));downsample(img,n=4) = +([img[i:n:n*div(size(img,1)-1,n), j:n:n*div(size(img,2)-1,n)] for i = 1:n, j = 1:n]...)/(n*n);\n",
    "downsample(img,n=4) = +([img[i:n:n*div(size(img,1)-1,n), j:n:n*div(size(img,2)-1,n)] for i = 1:n, j = 1:n]...)/(n*n);"
   ]
  },
  {
   "cell_type": "code",
   "execution_count": null,
   "id": "cc20b763-724f-42ba-947b-07504a457cb0",
   "metadata": {},
   "outputs": [],
   "source": [
    "function make_colorbar(h, w, header, left_label, right_label, cmap, save_path;rotation=0, label_postion = \"top\",header_pad = 3,label_color=\"k\")\n",
    "    fig, ax = subplots(figsize=(w,h), dpi=100)\n",
    "    font_height=0.45\n",
    "    r = fig.canvas.get_renderer()\n",
    "\n",
    "    cb = matplotlib.colorbar.ColorbarBase(ax, cmap=cmap,\n",
    "                                    norm=matplotlib.colors.Normalize(vmin=0, vmax=1),\n",
    "                                    orientation=\"horizontal\", ticks=[])\n",
    "    \n",
    "\n",
    "    \n",
    "    dummy = fig.text(-1, -1, \"dummy\")\n",
    "    font_height = dummy.get_window_extent(renderer=r).height\n",
    "    dummy.set_visible(false)\n",
    "\n",
    "\n",
    "    left_right_labelpad_px = 3\n",
    "    pad_bottom = 0.0225 / h\n",
    "    pad_sides = 0.0225 / w\n",
    "    \n",
    "    \n",
    "    cb.set_label(header, labelpad=header_pad, size=7)\n",
    "    bar_height = (1 - (font_height+header_pad) / (100 * h)) - 2*pad_bottom\n",
    "    cb.ax.xaxis.set_label_position(label_postion)\n",
    "    \n",
    "    bar_height = (1 - font_height / (100 * h)) - 2*pad_bottom\n",
    "    label_h = pad_bottom + bar_height/2 - 0.03\n",
    "    \n",
    "    lbl_left = fig.text(pad_sides, label_h, left_label, horizontalalignment=\"left\", verticalalignment=\"center_baseline\", rotation=rotation,color=label_color)\n",
    "    bb = lbl_left.get_window_extent(renderer=r)\n",
    "    left_label_w = (bb.width+left_right_labelpad_px)/(100*w)\n",
    "\n",
    "    lbl_right = fig.text(1-pad_sides, label_h, right_label, horizontalalignment=\"right\", verticalalignment=\"center_baseline\", rotation=rotation,color=label_color)\n",
    "    bb = lbl_right.get_window_extent(renderer=r)\n",
    "    right_label_w = (bb.width+left_right_labelpad_px)/(100*w)\n",
    "    cb.ax.set_position([pad_sides+left_label_w, pad_bottom, 1-(2*pad_sides+left_label_w+right_label_w), bar_height]) #left, bottom, width, height\n",
    "\n",
    "    savefig(save_path, format=\"pdf\", bbox_inches = \"tight\",pad_inches = 0, dpi=250, transparent=true)\n",
    "end\n",
    "\n"
   ]
  },
  {
   "cell_type": "code",
   "execution_count": null,
   "id": "cf6a5e15-20ed-48f8-b3c8-cfca3d384e50",
   "metadata": {},
   "outputs": [],
   "source": [
    "@pyimport matplotlib.colors as mpl_colors\n",
    "@pyimport matplotlib.cm as cm "
   ]
  },
  {
   "cell_type": "code",
   "execution_count": null,
   "id": "fc20f3a0-0ab1-455b-a066-7f7e172c770e",
   "metadata": {},
   "outputs": [],
   "source": [
    "Blues = cm.get_cmap(\"Blues\", 100)\n",
    "alpha_top = 15\n",
    "cmaplist = [Blues(i) for i in 1:(Blues.N)]\n",
    "cmaplist_new = cmaplist[31:end]\n",
    "Blues_new = mpl_colors.LinearSegmentedColormap.from_list(\"Blues_new\",cmaplist_new,256)"
   ]
  },
  {
   "cell_type": "code",
   "execution_count": null,
   "id": "527c0de1-3e52-424c-b8d0-94f54c5b2954",
   "metadata": {},
   "outputs": [],
   "source": [
    "h=0.2\n",
    "w=1.2\n",
    "header = \"Overall Occupancy (a.u.)\"\n",
    "left_label = \"0\"\n",
    "right_label = \"1\"\n",
    "cmap = \"Blues\"\n",
    "save_path = \"occupancy_colorbar.pdf\"\n",
    "\n",
    "\n",
    "make_colorbar(h, w, header, left_label, right_label, cmap, save_path)"
   ]
  },
  {
   "cell_type": "code",
   "execution_count": null,
   "id": "2d415d2a-ff71-4c5f-8165-717206ef634e",
   "metadata": {},
   "outputs": [],
   "source": [
    "h=0.2\n",
    "w=1.2\n",
    "# header = \"Place representation# cells\"\n",
    "header = \"Place fields (cells)\"\n",
    "left_label = \"0\"\n",
    "right_label = \"518\"\n",
    "cmap = \"hot\"\n",
    "save_path = \"map_sum_colorbar.pdf\"\n",
    "\n",
    "\n",
    "make_colorbar(h, w, header, left_label, right_label, cmap, save_path)"
   ]
  },
  {
   "cell_type": "code",
   "execution_count": null,
   "id": "616da971-85c5-4070-a6d9-f70c767c841b",
   "metadata": {},
   "outputs": [],
   "source": [
    "colorlist=[\"k\", \"r\"]\n",
    "cmp_k_r = mpl_colors.LinearSegmentedColormap.from_list(\"cmp_k_r\", colors=colorlist, N=256)"
   ]
  },
  {
   "cell_type": "code",
   "execution_count": null,
   "id": "3910ee77-11c9-4da8-8dca-8a723a876864",
   "metadata": {},
   "outputs": [],
   "source": [
    "h=0.2\n",
    "w=1.2\n",
    "header = \"Δ\\$\\\\it{F}\\$ (z)\"\n",
    "left_label = \"0\"\n",
    "right_label = \"3\"\n",
    "cmap = cmp_k_r\n",
    "save_path = \"traj_colorbar.pdf\"\n",
    "\n",
    "\n",
    "make_colorbar(h, w, header, left_label, right_label, cmap, save_path)"
   ]
  },
  {
   "cell_type": "code",
   "execution_count": null,
   "id": "80351e90-e295-413b-b4ad-b4cba41a4920",
   "metadata": {},
   "outputs": [],
   "source": [
    "h=0.2\n",
    "w=1.2\n",
    "header = \"Δ\\$\\\\it{F}\\$ (z)\"\n",
    "left_label = \"0\"\n",
    "right_label = \"3\"\n",
    "cmap = cmp_k_r\n",
    "save_path = \"traj_colorbar_t.pdf\"\n",
    "\n",
    "\n",
    "make_colorbar(h, w, header, left_label, right_label, cmap, save_path;rotation=-90, label_postion = \"bottom\",header_pad=0)"
   ]
  },
  {
   "cell_type": "code",
   "execution_count": null,
   "id": "ddfc46e5-b7d5-4ee0-a73d-2b02e1508ddb",
   "metadata": {},
   "outputs": [],
   "source": [
    "h=0.2\n",
    "w = 0.8\n",
    "header = \"Δ\\$\\\\it{F}\\$ (z)\"\n",
    "left_label = \"0\"\n",
    "right_label = \"3\"\n",
    "cmap = cmp_k_r\n",
    "save_path = \"traj_colorbar_t_short.pdf\"\n",
    "\n",
    "\n",
    "make_colorbar(h, w, header, left_label, right_label, cmap, save_path;rotation=-90, label_postion = \"bottom\",header_pad=0)"
   ]
  },
  {
   "cell_type": "code",
   "execution_count": null,
   "id": "97b0fcdb-b383-4d26-ae54-38813d8e2c3c",
   "metadata": {},
   "outputs": [],
   "source": [
    "h=0.2\n",
    "w=1.2\n",
    "header = \"Activity (a.u.)\"\n",
    "left_label = \"0\"\n",
    "right_label = \"1\"\n",
    "cmap = \"jet\"\n",
    "save_path = \"map_colorbar.pdf\"\n",
    "\n",
    "\n",
    "make_colorbar(h, w, header, left_label, right_label, cmap, save_path)"
   ]
  },
  {
   "cell_type": "code",
   "execution_count": null,
   "id": "6aca2cbb-530c-4dc6-a7f9-be94e470172d",
   "metadata": {},
   "outputs": [],
   "source": [
    "h=0.2\n",
    "w=0.6\n",
    "header = \"Activity (a.u.)\"\n",
    "left_label = \"0\"\n",
    "right_label = \"1\"\n",
    "cmap = \"jet\"\n",
    "save_path = \"map_colorbar_t.pdf\"\n",
    "\n",
    "\n",
    "make_colorbar(h, w, header, left_label, right_label, cmap, save_path;rotation=-90, label_postion = \"bottom\",header_pad=2)"
   ]
  },
  {
   "cell_type": "code",
   "execution_count": null,
   "id": "8a7c006e-1d7c-4188-936f-f5b735482f93",
   "metadata": {},
   "outputs": [],
   "source": [
    "Blues = cm.get_cmap(\"Blues\", 100)\n",
    "alpha_top = 15\n",
    "cmaplist = [Blues(i) for i in 1:(Blues.N)]\n",
    "cmaplist_new = cmaplist[31:end]\n",
    "Blues_new = mpl_colors.LinearSegmentedColormap.from_list(\"Blues_new\",cmaplist_new,256)"
   ]
  },
  {
   "cell_type": "code",
   "execution_count": null,
   "id": "5accea7e-15c0-4b59-bb37-e2defcd1976c",
   "metadata": {},
   "outputs": [],
   "source": [
    "h=0.2\n",
    "w=0.6\n",
    "header = \"All\"\n",
    "left_label = \"0\"\n",
    "right_label = \"1\"\n",
    "cmap = Blues_new\n",
    "save_path = \"corr_dist_matrix_colorbar_1.pdf\"\n",
    "\n",
    "\n",
    "make_colorbar(h, w, header, left_label, right_label, cmap, save_path;rotation=-90, label_postion = \"bottom\",header_pad=0)"
   ]
  },
  {
   "cell_type": "code",
   "execution_count": null,
   "id": "46c95f70-752a-4d1f-904f-32198f96de5f",
   "metadata": {},
   "outputs": [],
   "source": [
    "h=0.2\n",
    "w=0.6\n",
    "header = \"PC\"\n",
    "left_label = \"0\"\n",
    "right_label = \"1\"\n",
    "cmap = \"autumn\"\n",
    "save_path = \"corr_dist_matrix_colorbar_2.pdf\"\n",
    "\n",
    "\n",
    "make_colorbar(h, w, header, left_label, right_label, cmap, save_path;rotation=-90, label_postion = \"bottom\",header_pad=0)"
   ]
  },
  {
   "cell_type": "code",
   "execution_count": null,
   "id": "9e51b3bd-9f3a-4582-9083-2ba9a09fe4ca",
   "metadata": {},
   "outputs": [],
   "source": [
    "h=0.2\n",
    "w=1.2\n",
    "w=1.2\n",
    "header = \"Δ\\$\\\\it{F}\\$ (z)\"\n",
    "left_label = \"-1\"\n",
    "right_label = \"2\"\n",
    "cmap = \"hot\"\n",
    "save_path = \"activity_colorbar.pdf\"\n",
    "\n",
    "\n",
    "make_colorbar(h, w, header, left_label, right_label, cmap, save_path;rotation=-90, label_postion = \"bottom\",header_pad=0)"
   ]
  },
  {
   "cell_type": "code",
   "execution_count": null,
   "id": "7bfa6520-f317-4e0c-aa32-dc2b8749153d",
   "metadata": {},
   "outputs": [],
   "source": [
    "h=0.2\n",
    "w=1.2\n",
    "header = \"Time (normalized)\"\n",
    "left_label = \"0\"\n",
    "right_label = \"1\"\n",
    "cmap = \"viridis\"\n",
    "save_path = \"colorbar_time.pdf\"\n",
    "\n",
    "\n",
    "make_colorbar(h, w, header, left_label, right_label, cmap, save_path;rotation=-90, label_postion = \"bottom\",header_pad=0)"
   ]
  },
  {
   "cell_type": "code",
   "execution_count": null,
   "id": "833e815a-38d1-4664-97bd-7ec82bb3e24d",
   "metadata": {},
   "outputs": [],
   "source": [
    "@pyimport numpy\n",
    "hot = cm.get_cmap(\"hot\", 100)\n",
    "alpha_top = 50\n",
    "cmaplist = [hot(i) for i in 1:(hot.N)]\n",
    "cmaplist_new = []\n",
    "length_cmaplist = length(cmaplist)\n",
    "for (i, color_) in enumerate(cmaplist)\n",
    "    new_color_ = numpy.copy(color_)\n",
    "    if i<=alpha_top\n",
    "        new_color_[4] = (100/alpha_top)*i/length_cmaplist\n",
    "    end\n",
    "    append!(cmaplist_new,[new_color_]) \n",
    "end\n",
    "hot_new = mpl_colors.LinearSegmentedColormap.from_list(\"hot_new\",cmaplist_new,100)"
   ]
  },
  {
   "cell_type": "code",
   "execution_count": null,
   "id": "e1435b1b-a0bc-4517-9a17-a1c577cb0381",
   "metadata": {},
   "outputs": [],
   "source": [
    "h=0.22\n",
    "w=0.5\n",
    "header = \"\"\n",
    "left_label = \"\"\n",
    "right_label = \"\"\n",
    "cmap = cm.get_cmap(\"hot\", 100)\n",
    "save_path = \"distribution_anatomy_colorbar.pdf\"\n",
    "\n",
    "\n",
    "make_colorbar(h, w, header, left_label, right_label, cmap, save_path;rotation=-90, label_postion = \"top\",header_pad=0,label_color=\"k\")"
   ]
  },
  {
   "cell_type": "code",
   "execution_count": null,
   "id": "86beffcd-1997-477d-b836-5d94d97dfd5f",
   "metadata": {},
   "outputs": [],
   "source": [
    "h=0.2\n",
    "w=1.0\n",
    "header = \"Occupancy (a.u.)\"\n",
    "left_label = \"0\"\n",
    "right_label = \"1\"\n",
    "cmap = \"Blues\"\n",
    "save_path = \"occupancy_colorbar_chuyu.pdf\"\n",
    "\n",
    "\n",
    "make_colorbar(h, w, header, left_label, right_label, cmap, save_path;rotation=-90, label_postion = \"bottom\",header_pad=2)"
   ]
  },
  {
   "cell_type": "code",
   "execution_count": null,
   "id": "464f4e25-1536-4aa4-8bbd-650e3df9144b",
   "metadata": {},
   "outputs": [],
   "source": [
    "h=0.2\n",
    "w=1.0\n",
    "header = \"Representation (a.u.)\"\n",
    "left_label = \"0\"\n",
    "right_label = \"1\"\n",
    "cmap = \"hot\"\n",
    "save_path = \"representation_colorbar_chuyu.pdf\"\n",
    "\n",
    "\n",
    "make_colorbar(h, w, header, left_label, right_label, cmap, save_path;rotation=-90, label_postion = \"bottom\",header_pad=2)"
   ]
  },
  {
   "cell_type": "code",
   "execution_count": null,
   "id": "476d7be3-f3d8-42e8-bbdf-daa1a508cc27",
   "metadata": {},
   "outputs": [],
   "source": []
  }
 ],
 "metadata": {
  "kernelspec": {
   "display_name": "Julia 1.10.3",
   "language": "julia",
   "name": "julia-1.10"
  },
  "language_info": {
   "file_extension": ".jl",
   "mimetype": "application/julia",
   "name": "julia",
   "version": "1.10.3"
  }
 },
 "nbformat": 4,
 "nbformat_minor": 5
}
