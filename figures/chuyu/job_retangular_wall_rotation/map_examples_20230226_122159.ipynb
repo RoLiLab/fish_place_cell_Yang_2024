{
 "cells": [
  {
   "cell_type": "code",
   "execution_count": null,
   "id": "89fdfac0-519f-422c-89c0-98943e0c7146",
   "metadata": {
    "tags": []
   },
   "outputs": [],
   "source": [
    "!(@isdefined cleanup_hook) && IJulia.push_postexecute_hook(() -> (empty!(In); empty!(Out); GC.gc(true))); cleanup_hook = true;"
   ]
  },
  {
   "cell_type": "code",
   "execution_count": null,
   "id": "1ee37c68-89a7-4f39-a5e6-bbd94a73856f",
   "metadata": {
    "tags": []
   },
   "outputs": [],
   "source": [
    "using ProgressMeter, PyCall, PyPlot, Images, HDF5,NaNStatistics, Statistics, DSP, Lasso, JLD2\n",
    "using _Data, _Math"
   ]
  },
  {
   "cell_type": "code",
   "execution_count": null,
   "id": "76861f89-87e3-40e5-8c96-e1dc6abfa8e2",
   "metadata": {
    "tags": []
   },
   "outputs": [],
   "source": [
    "@pyimport numpy\n",
    "@pyimport sklearn.decomposition as decomposition\n",
    "@pyimport scipy.stats as stats\n",
    "@pyimport matplotlib.colors as mpl_colors\n",
    "@pyimport matplotlib.cm as cm \n",
    "@pyimport sklearn.cluster as cluster"
   ]
  },
  {
   "cell_type": "code",
   "execution_count": null,
   "id": "070203d5-cd78-4397-b3fc-2e5855e453f6",
   "metadata": {
    "tags": []
   },
   "outputs": [],
   "source": [
    "rc_params = PyDict(pyimport(\"matplotlib\")[\"rcParams\"]);\n",
    "# rc_params[\"font.sans-serif\"] = [\"Arial\"];\n",
    "rc_params[\"font.size\"] = 7;\n",
    "rc_params[\"lines.linewidth\"] = 1;\n",
    "rc_params[\"lines.markersize\"] = 4;\n",
    "rc_params[\"xtick.major.size\"] = 2;\n",
    "rc_params[\"ytick.major.size\"] = 2;\n",
    "rc_params[\"xtick.major.pad\"] = 2;\n",
    "rc_params[\"ytick.major.pad\"] = 2;\n",
    "# rc_params[\"axes.labelpad\"] = 2;\n",
    "\n",
    "cim(img::Matrix{UInt32}) = CairoImageSurface(img, Cairo.FORMAT_RGB24; flipxy = false) \n",
    "cim(img::Matrix{ARGB32}) = cim(reinterpret(UInt32, img))\n",
    "cim(img::Matrix{RGB24}) = cim(reinterpret(UInt32, img))\n",
    "cim(img::Matrix{UInt8}) = cim(Gray.(reinterpret(N0f8, img)))\n",
    "cim(img::Array{UInt8,3}) = cim(RGB24.(reinterpret(N0f8, img[:,:,1]), reinterpret(N0f8, img[:,:,2]), reinterpret(N0f8, img[:,:,3])));downsample(img,n=4) = +([img[i:n:n*div(size(img,1)-1,n), j:n:n*div(size(img,2)-1,n)] for i = 1:n, j = 1:n]...)/(n*n);\n",
    "downsample(img,n=4) = +([img[i:n:n*div(size(img,1)-1,n), j:n:n*div(size(img,2)-1,n)] for i = 1:n, j = 1:n]...)/(n*n);"
   ]
  },
  {
   "cell_type": "code",
   "execution_count": null,
   "id": "0ba2c37d-7f9d-44bd-b516-38907d8685c6",
   "metadata": {},
   "outputs": [],
   "source": [
    "fig_path = \"/home/chuyu/Notebooks/project_place_cell/figures/output/sfigure8/rotation_rectangular\"\n",
    "mkpath(fig_path)"
   ]
  },
  {
   "cell_type": "code",
   "execution_count": null,
   "id": "4d407316-d7b3-41ac-a5ef-7cdb2dc5d660",
   "metadata": {
    "tags": []
   },
   "outputs": [],
   "source": [
    "include(\"../../../functions/func_map.jl\")\n",
    "include(\"../../../functions/func_stat.jl\")\n",
    "include(\"../../../functions/func_data.jl\")\n",
    "include(\"../../../functions/func_plot.jl\")"
   ]
  },
  {
   "cell_type": "code",
   "execution_count": null,
   "id": "773b1390-4c8f-4ce6-9859-a993e08279a5",
   "metadata": {
    "tags": []
   },
   "outputs": [],
   "source": [
    "experiment_filename_1 = \"20230226_122159\"\n",
    "server_1 = 9\n",
    "\n",
    "experiment_filename_2 = \"20230226_141707\"\n",
    "server_2 = 9\n",
    "\n",
    "experimenter = \"lorenz\"\n",
    "analyzer = \"chuyu\""
   ]
  },
  {
   "cell_type": "code",
   "execution_count": null,
   "id": "44b0d710-178b-4b5b-85ba-4b31e065ad36",
   "metadata": {
    "tags": []
   },
   "outputs": [],
   "source": [
    "ds_save_1 = Dataset(experiment_filename_1, experimenter, gethostname() == \"roli-$(server_1)\" ? \"/data\" : \"/nfs/data$(server_1)\")\n",
    "ds_save_cy_1 = Dataset(experiment_filename_1, \"chuyu\", gethostname() == \"roli-$(server_1)\" ? \"/data\" : \"/nfs/data$(server_1)\")\n",
    "ds_save_analyzer_1 = Dataset(experiment_filename_1, analyzer, gethostname() == \"roli-$(server_1)\" ? \"/data\" : \"/nfs/data$(server_1)\")\n",
    "\n",
    "ds_save_2 = Dataset(experiment_filename_2, experimenter, gethostname() == \"roli-$(server_2)\" ? \"/data\" : \"/nfs/data$(server_2)\") # This example dataset is on roli-9, so the path is different depending on whether you're trying to access the file from roli-9\n",
    "ds_save_cy_2 = Dataset(experiment_filename_2, \"chuyu\", gethostname() == \"roli-$(server_2)\" ? \"/data\" : \"/nfs/data$(server_2)\")\n",
    "ds_save_analyzer_2 = Dataset(experiment_filename_2, analyzer, gethostname() == \"roli-$(server_2)\" ? \"/data\" : \"/nfs/data$(server_2)\")"
   ]
  },
  {
   "cell_type": "code",
   "execution_count": null,
   "id": "d0c8acb3-f101-4d92-a9be-0b2600bfa8c2",
   "metadata": {},
   "outputs": [],
   "source": [
    "NMF_filename = joinpath(data_path(ds_save_cy_1), \"NMF_merge.h5\")\n",
    "NMF_file = h5open(NMF_filename, \"r\")\n",
    "global Z_all = HDF5.readmmap(NMF_file[\"Z_all\"])\n",
    "global X_all = HDF5.readmmap(NMF_file[\"X_all\"])\n",
    "global Y_all = HDF5.readmmap(NMF_file[\"Y_all\"])\n",
    "global neuron_label = HDF5.readmmap(NMF_file[\"neuron_label\"])\n",
    "global A_dF_1 = HDF5.readmmap(NMF_file[\"A_dF\"]); # bs update\n",
    "global A_dFF_1 = HDF5.readmmap(NMF_file[\"A_dFF\"]); # bs update\n",
    "global A_baseline_1 = HDF5.readmmap(NMF_file[\"A_baseline\"]); # bs update\n",
    "close(NMF_file)\n",
    "\n",
    "# for multi sessions\n",
    "NMF_filename = joinpath(data_path(ds_save_cy_2), \"NMF_merge.h5\") # bs update\n",
    "NMF_file = h5open(NMF_filename, \"r\") # bs update\n",
    "global A_dF_2 = HDF5.readmmap(NMF_file[\"A_dF\"]); # bs update\n",
    "global A_dFF_2 = HDF5.readmmap(NMF_file[\"A_dFF\"]); # bs update\n",
    "global A_baseline_2 = HDF5.readmmap(NMF_file[\"A_baseline\"]); # bs update\n",
    "close(NMF_file) # bs update\n",
    "\n",
    "n_neuron = length(X_all);\n",
    "\n",
    "# whether individual roi belongs to a certain region\n",
    "region_bool_filename = joinpath(data_path(ds_save_cy_1), \"region_roi_bool.h5\")\n",
    "region_bool_file = h5open(region_bool_filename, \"r\")\n",
    "global region_names = read(region_bool_file, \"region_names\")\n",
    "global region_roi_bool = read(region_bool_file, \"region_roi_bool\")\n",
    "close(region_bool_file)\n",
    "\n",
    "\n",
    "# for one merged cell, it belongs to telecephalon if at least one of its roi belongs to telencephalon\n",
    "region_roi_bool_tel = region_roi_bool[:,findall(region_names .== \"Telencephalon -\")][:,1]\n",
    "whether_tel = falses(n_neuron)\n",
    "for which_neuron in Int32.(numpy.unique(neuron_label)[1:end-1])\n",
    "    if sum(region_roi_bool_tel[neuron_label.==which_neuron]) >0\n",
    "        whether_tel[which_neuron] = true\n",
    "    end\n",
    "end\n",
    "\n",
    "\n",
    "all_files = readdir(data_path(ds_save_cy_1))\n",
    "long_name_files = all_files[findall([length(all_files[i])>6 for i in 1:length(all_files)])]\n",
    "spatial_info_index = findall([long_name_files[i][1:6]==\"neuron\" for i in 1:length(long_name_files)])\n",
    "candidate_filename = long_name_files[spatial_info_index]\n",
    "which_file = [occursin(experiment_filename_1, candidate_filename[i])*!occursin(\"shuffleall\", candidate_filename[i])*occursin(\"A_dF\", candidate_filename[i]) for i in 1:length(candidate_filename)]\n",
    "println(candidate_filename[which_file])\n",
    "@assert(length(candidate_filename[which_file]) == 1)\n",
    "save_file_name = candidate_filename[which_file][1]\n",
    "info_filename = joinpath(data_path(ds_save_cy_1), save_file_name)\n",
    "file = h5open(info_filename, \"r\")\n",
    "place_map_all_1 = HDF5.readmmap(file[\"place_map_all\"])\n",
    "specificity_1 = HDF5.readmmap(file[\"specificity\"])\n",
    "valid_roi_1 = HDF5.readmmap(file[\"valid_neurons\"])\n",
    "entropy_1 = HDF5.readmmap(file[\"entropy_all\"])\n",
    "place_cell_index_1 = HDF5.readmmap(file[\"place_cell_index\"])\n",
    "bool_index_1 = HDF5.readmmap(file[\"bool_index\"])\n",
    "\n",
    "close(file)\n",
    "    \n",
    "    \n",
    "all_files = readdir(data_path(ds_save_cy_2))\n",
    "long_name_files = all_files[findall([length(all_files[i])>6 for i in 1:length(all_files)])]\n",
    "spatial_info_index = findall([long_name_files[i][1:6]==\"neuron\" for i in 1:length(long_name_files)])\n",
    "candidate_filename = long_name_files[spatial_info_index]\n",
    "which_file = [occursin(experiment_filename_2, candidate_filename[i])*occursin(\"A_dF\", candidate_filename[i]) for i in 1:length(candidate_filename)]\n",
    "println(candidate_filename[which_file])\n",
    "@assert(length(candidate_filename[which_file]) == 1)\n",
    "save_file_name = candidate_filename[which_file][1]\n",
    "info_filename = joinpath(data_path(ds_save_cy_2), save_file_name)\n",
    "file = h5open(info_filename, \"r\")\n",
    "specificity_2 = HDF5.readmmap(file[\"specificity\"])\n",
    "valid_roi_2 = HDF5.readmmap(file[\"valid_neurons\"])\n",
    "entropy_2 = HDF5.readmmap(file[\"entropy_all\"])\n",
    "place_cell_index_2 = HDF5.readmmap(file[\"place_cell_index\"])\n",
    "bool_index_2 = HDF5.readmmap(file[\"bool_index\"])\n",
    "close(file)\n",
    "n_bins = size(place_map_all_1, 1)\n",
    "    \n",
    "    info_filename = joinpath(data_path(ds_save_cy_2), save_file_name)\n",
    "    file = h5open(info_filename, \"r\")\n",
    "    global place_map_all_2 = HDF5.readmmap(file[\"place_map_all\"])\n",
    "    close(file)\n",
    "        \n",
    "\n",
    "    \n",
    "\n",
    "\n",
    "img_bg_1 = h5open(ds_save_1, \"behavior.h5\"; raw = true) do file\n",
    "    read(file, \"img_bg\")\n",
    "end;\n",
    "\n",
    "img_bg_2 = h5open(ds_save_2, \"behavior.h5\"; raw = true) do file\n",
    "    read(file, \"img_bg\")\n",
    "end;\n",
    "    \n",
    "global img_bg_end_1 = img_bg_1[:,:,end]\n",
    "global img_bg_end_2 = img_bg_2[:,:,end]\n",
    "\n",
    "\n",
    "global w = size(img_bg_end_1, 1)\n",
    "global l = size(img_bg_end_1, 2)\n",
    "    \n",
    "    \n",
    "\n",
    "# whether individual roi belongs to a certain region\n",
    "save_file_name = \"compare_map_results_original.h5\"\n",
    "compare_filename = joinpath(data_path(ds_save_cy_1), save_file_name)\n",
    "file = h5open(compare_filename, \"r\")\n",
    "confined_place_cell_index_1 = HDF5.readmmap(file[\"confined_place_cell_index_1\"])\n",
    "confined_place_cell_index_2 = HDF5.readmmap(file[\"confined_place_cell_index_2\"])\n",
    "tel_place_cell_index  = HDF5.readmmap(file[\"tel_place_cell_index\"])\n",
    "peak_loc_map_1 = HDF5.readmmap(file[\"peak_loc_map_1\"])\n",
    "peak_loc_map_2 = HDF5.readmmap(file[\"peak_loc_map_2\"])\n",
    "precise_loc = false\n",
    "if haskey(file, \"peak_loc_map_1_precise\")\n",
    "    precise_loc = true\n",
    "    peak_loc_map_1_precise_array = HDF5.readmmap(file[\"peak_loc_map_1_precise\"])\n",
    "    peak_loc_map_2_precise_array = HDF5.readmmap(file[\"peak_loc_map_2_precise\"])\n",
    "end\n",
    "close(file)\n",
    "\n",
    "\n",
    "\n",
    "plot_loc(confined_place_cell_index_1; valid_neurons = valid_roi_1, label= length(confined_place_cell_index_1))\n",
    "\n",
    "\n"
   ]
  },
  {
   "cell_type": "code",
   "execution_count": null,
   "id": "044db0b5-278a-4024-8197-5028bbf20874",
   "metadata": {},
   "outputs": [],
   "source": [
    "for_place_calculation_file = h5open(joinpath(data_path(ds_save_cy_1), \"for_place_calculation_chamber_geometry_$(experiment_filename_1)_n$(n_bins).h5\"))\n",
    "x_bins = read(for_place_calculation_file,\"x_bins\")\n",
    "y_bins = read(for_place_calculation_file,\"y_bins\")\n",
    "x_fish_sweep_mean_1 = read(for_place_calculation_file,\"x_fish_sweep_mean\")\n",
    "y_fish_sweep_mean_1 = read(for_place_calculation_file,\"y_fish_sweep_mean\")\n",
    "close(for_place_calculation_file)\n",
    "\n",
    "for_place_calculation_file = h5open(joinpath(data_path(ds_save_cy_2), \"for_place_calculation_chamber_geometry_$(experiment_filename_2)_n$(n_bins).h5\"))\n",
    "x_bins = read(for_place_calculation_file,\"x_bins\")\n",
    "y_bins = read(for_place_calculation_file,\"y_bins\")\n",
    "x_fish_sweep_mean_2 = read(for_place_calculation_file,\"x_fish_sweep_mean\")\n",
    "y_fish_sweep_mean_2 = read(for_place_calculation_file,\"y_fish_sweep_mean\")\n",
    "close(for_place_calculation_file)"
   ]
  },
  {
   "cell_type": "code",
   "execution_count": null,
   "id": "12562aca-7420-4a02-bfb0-05b31ba3cba3",
   "metadata": {},
   "outputs": [],
   "source": [
    "# orientation-corrected background image and chamber roi image\n",
    "orientation_correction_file = h5open(joinpath(data_path(ds_save_cy_1), \"chamber_geometry_$(experiment_filename_1).h5\"))\n",
    "chamber_roi_1 = read(orientation_correction_file,\"chamber_roi\")\n",
    "countour_array_1 = read(orientation_correction_file,\"countour_array\")\n",
    "center_loc_1 = read(orientation_correction_file,\"center_loc\")\n",
    "close(orientation_correction_file)\n",
    "\n",
    "\n",
    "# orientation-corrected background image and chamber roi image\n",
    "orientation_correction_file = h5open(joinpath(data_path(ds_save_cy_2), \"chamber_geometry_$(experiment_filename_2).h5\"))\n",
    "chamber_roi_2 = read(orientation_correction_file,\"chamber_roi\")\n",
    "countour_array_2 = read(orientation_correction_file,\"countour_array\")\n",
    "center_loc_2 = read(orientation_correction_file,\"center_loc\")\n",
    "\n",
    "close(orientation_correction_file)"
   ]
  },
  {
   "cell_type": "code",
   "execution_count": null,
   "id": "a3c1fef3-9296-4856-92c9-4c0bfcc0663a",
   "metadata": {},
   "outputs": [],
   "source": [
    "bin_interval = x_bins[2] - x_bins[1]\n",
    "\n",
    "KMeans_features = cluster.KMeans(n_clusters = 6).fit(hcat(peak_loc_map_1'))\n",
    "class_1 = KMeans_features.labels_;\n",
    "KMeans_features = cluster.KMeans(n_clusters = 6).fit(hcat(peak_loc_map_2'))\n",
    "class_2 = KMeans_features.labels_;\n",
    "\n",
    "fig = figure()\n",
    "scatter((peak_loc_map_1[1,whether_in(confined_place_cell_index_1, confined_place_cell_index_1)].-0.5).*bin_interval, (peak_loc_map_1[2,whether_in(confined_place_cell_index_1, confined_place_cell_index_1)].-0.5).*bin_interval, c=class_1[whether_in(confined_place_cell_index_1, confined_place_cell_index_1)], cmap=\"Dark2\", s=10, alpha=0.3)\n",
    "# colorbar()\n",
    "imshow(img_bg_end_1', cmap=\"binary\", vmax=2000)\n",
    "axis(\"off\")\n",
    "title(experiment_filename_1)\n",
    "\n",
    "fig = figure()\n",
    "scatter((peak_loc_map_2[1,whether_in(confined_place_cell_index_2, confined_place_cell_index_1)].-0.5).*bin_interval, (peak_loc_map_2[2,whether_in(confined_place_cell_index_2, confined_place_cell_index_1)].-0.5).*bin_interval, c=class_1[whether_in(confined_place_cell_index_1, confined_place_cell_index_2)], cmap=\"Dark2\", s=10, alpha=0.3)\n",
    "# colorbar()\n",
    "imshow(img_bg_end_2', cmap=\"binary\", vmax=2000)\n",
    "axis(\"off\")\n"
   ]
  },
  {
   "cell_type": "code",
   "execution_count": null,
   "id": "7ff4bd9b-8704-4e85-a222-eb7bf4767a0a",
   "metadata": {
    "tags": []
   },
   "outputs": [],
   "source": [
    "if ! precise_loc\n",
    "    @pyimport skimage.transform as skimage_transform\n",
    "    function resize_map(which_map, bin_interval)\n",
    "        map_resized = skimage_transform.rescale(which_map, bin_interval, anti_aliasing=false,clip =true,preserve_range=true)\n",
    "        return map_resized\n",
    "    end\n",
    "\n",
    "\n",
    "    peak_loc_map_1_precise = []\n",
    "    peak_loc_map_2_precise = []\n",
    "    @showprogress for which_neuron in confined_place_cell_index_1\n",
    "        which_map = place_map_all_1[:,:,which_neuron]\n",
    "        map_resized = resize_map(which_map, bin_interval)\n",
    "        components_peaks, img_label_valid, valid_components = map_components_peak(which_map; threshold = 8/10, components_size_threshold = 20)\n",
    "        img_label_resized = resize_map(img_label_valid, bin_interval)\n",
    "        img_label_resized = Int32.(round.(img_label_resized))\n",
    "\n",
    "        peak_values = [numpy.nanpercentile(which_map[img_label_valid .== valid_components[i]], 95) for i in 1:length(valid_components)]\n",
    "        peak_component = valid_components[findall(peak_values .== maximum(peak_values))]\n",
    "\n",
    "        map_resized[img_label_resized .!=peak_component].=NaN;\n",
    "        append!(peak_loc_map_1_precise, [find_com(map_resized)])\n",
    "\n",
    "    end\n",
    "    @showprogress for which_neuron in confined_place_cell_index_2\n",
    "        which_map = place_map_all_2[:,:,which_neuron]\n",
    "        map_resized = resize_map(which_map, bin_interval)\n",
    "        components_peaks, img_label_valid, valid_components = map_components_peak(which_map; threshold = 8/10, components_size_threshold = 20)\n",
    "        img_label_resized = resize_map(img_label_valid, bin_interval)\n",
    "        img_label_resized = Int32.(round.(img_label_resized))\n",
    "\n",
    "        peak_values = [numpy.nanpercentile(which_map[img_label_valid .== valid_components[i]], 95) for i in 1:length(valid_components)]\n",
    "        peak_component = valid_components[findall(peak_values .== maximum(peak_values))]\n",
    "\n",
    "        map_resized[img_label_resized .!=peak_component].=NaN;\n",
    "        append!(peak_loc_map_2_precise, [find_com(map_resized)])\n",
    "    end\n",
    "\n",
    "    peak_loc_map_1_precise_array = numpy.array(peak_loc_map_1_precise)'\n",
    "    peak_loc_map_2_precise_array = numpy.array(peak_loc_map_2_precise)';\n",
    "    \n",
    "    \n",
    "    h5open(joinpath(data_path(ds_save_analyzer_1), \"compare_map_results_original.h5\"), \"r+\") do file\n",
    "        if haskey(file, \"peak_loc_map_1_precise\")\n",
    "            delete_object(file, \"peak_loc_map_1_precise\")\n",
    "        end\n",
    "        if haskey(file, \"peak_loc_map_2_precise\")\n",
    "            delete_object(file, \"peak_loc_map_2_precise\")\n",
    "        end\n",
    "        file[\"peak_loc_map_1_precise\"] = collect(peak_loc_map_1_precise_array)\n",
    "        file[\"peak_loc_map_2_precise\"] = collect(peak_loc_map_2_precise_array)\n",
    "    end;\n",
    "end"
   ]
  },
  {
   "cell_type": "code",
   "execution_count": null,
   "id": "8223db43-4cd4-4ecc-b283-f0ef52b9f62c",
   "metadata": {},
   "outputs": [],
   "source": [
    "@pyimport matplotlib.cm as cm\n",
    "@pyimport sklearn.metrics as metrics\n",
    "@pyimport colorsys\n",
    "@pyimport cmocean\n",
    "\n",
    "# hsv_cmap = cm.get_cmap(\"hsv\", 360)\n",
    "hsv_cmap = cmocean.cm.phase"
   ]
  },
  {
   "cell_type": "code",
   "execution_count": null,
   "id": "a862ee93-6c27-4f11-9eae-9ef411719129",
   "metadata": {},
   "outputs": [],
   "source": [
    "function hsv_control(rgb_color, s, v)\n",
    "    color_hsv = colorsys.rgb_to_hsv(rgb_color[1],rgb_color[2],rgb_color[3])\n",
    "    color_rgb = colorsys.hsv_to_rgb(color_hsv[1],s,v)\n",
    "    return color_rgb\n",
    "end"
   ]
  },
  {
   "cell_type": "code",
   "execution_count": null,
   "id": "6a301eaf-e103-47c7-b7b7-f55253f3cdb5",
   "metadata": {},
   "outputs": [],
   "source": [
    "distance_center_1 = distance_from(collect(peak_loc_map_1_precise_array'), center_loc_1);\n",
    "distance_edge_1, _ = distance_to_feature(collect(peak_loc_map_1_precise_array'), countour_array_1);\n",
    "\n",
    "angle_center_1 = angle_from(peak_loc_map_1_precise_array', center_loc_1);\n",
    "angle_center_1[angle_center_1.<0]=angle_center_1[angle_center_1.<0].+2*pi;"
   ]
  },
  {
   "cell_type": "code",
   "execution_count": null,
   "id": "0e426577-e55d-482c-b91e-aa87c93436fd",
   "metadata": {},
   "outputs": [],
   "source": [
    "rgb_color = hsv_cmap(Int32.(round.(180*angle_center_1/pi)))\n",
    "hsv_s = [(maximum(distance_edge_1) .-distance_edge_1[i])/maximum(distance_edge_1)+1 for i in 1:size(rgb_color, 1)];\n",
    "hsv_v = [(maximum(distance_edge_1) .-distance_edge_1[i])/maximum(distance_edge_1)+0.3 for i in 1:size(rgb_color, 1)];\n",
    "hsv_s[hsv_s.!=1].=1\n",
    "hsv_v[hsv_v.>1].=1\n",
    "rgb_color_s = [hsv_control(rgb_color[i,:], hsv_s[i],hsv_v[i]) for i in 1:size(rgb_color, 1)];"
   ]
  },
  {
   "cell_type": "code",
   "execution_count": null,
   "id": "4efc1fcd-4112-4a89-b487-0eccb9c64ddc",
   "metadata": {},
   "outputs": [],
   "source": [
    "# peak locations\n",
    "\n",
    "chamber_roi_mask = Float32.(copy(chamber_roi_1))\n",
    "chamber_roi_mask[chamber_roi_mask.!=0].= NaN32\n",
    "valid_frame = isnan.(chamber_roi_mask[:,:,1]); # bs update\n",
    "ymin = findfirst(sum(valid_frame;dims=1).!=0)[2]-10; # bs update\n",
    "ymax = findlast(sum(valid_frame;dims=1).!=0)[2]+10; # bs update\n",
    "xmin = findfirst(sum(valid_frame;dims=2).!=0)[1]-10; # bs update\n",
    "xmax = findlast(sum(valid_frame;dims=2).!=0)[1]+10; # bs update\n",
    "\n",
    "countour_array = countour_array_1\n",
    "\n",
    "fig = figure()\n",
    "scatter(peak_loc_map_1_precise_array[1,whether_in(confined_place_cell_index_1, confined_place_cell_index_1)], peak_loc_map_1_precise_array[2,whether_in(confined_place_cell_index_1, confined_place_cell_index_1)], c=rgb_color_s[whether_in(confined_place_cell_index_1, confined_place_cell_index_1)], s=60, alpha=0.5,linewidth = 0)\n",
    "\n",
    "axis(\"off\")\n",
    "axis(\"equal\")\n",
    "plot(vcat(countour_array[1:50:end,1][end], countour_array[1:50:end,1]),vcat(countour_array[1:50:end,2][end], countour_array[1:50:end,2]),c=\"k\", alpha=0.1)\n",
    "    xlim(xmin,xmax)\n",
    "    ylim(ymax,ymin)\n",
    "# fig.savefig(joinpath(fig_path, \"com.png\"), bbox_inches = \"tight\",transparent = true,pad_inches = 0)\n",
    "fig.savefig(joinpath(fig_path, \"com_1.pdf\"), bbox_inches=\"tight\",transparent = true,pad_inches = 0);\n",
    "\n",
    "\n",
    "\n",
    "\n",
    "chamber_roi_mask = Float32.(copy(chamber_roi_2))\n",
    "chamber_roi_mask[chamber_roi_mask.!=0].= NaN32\n",
    "valid_frame = isnan.(chamber_roi_mask[:,:,1]); # bs update\n",
    "ymin = findfirst(sum(valid_frame;dims=1).!=0)[2]-10; # bs update\n",
    "ymax = findlast(sum(valid_frame;dims=1).!=0)[2]+10; # bs update\n",
    "xmin = findfirst(sum(valid_frame;dims=2).!=0)[1]-10; # bs update\n",
    "xmax = findlast(sum(valid_frame;dims=2).!=0)[1]+10; # bs update\n",
    "\n",
    "countour_array = countour_array_2\n",
    "\n",
    "fig = figure()\n",
    "scatter(peak_loc_map_2_precise_array[1,whether_in(confined_place_cell_index_2, confined_place_cell_index_1)], peak_loc_map_2_precise_array[2,whether_in(confined_place_cell_index_2, confined_place_cell_index_1)], c=rgb_color_s[whether_in(confined_place_cell_index_1, confined_place_cell_index_2)], s=60, alpha=0.5,linewidth = 0)\n",
    "imshow(chamber_roi_mask', origin=\"lower\",alpha=0)\n",
    "\n",
    "axis(\"off\")\n",
    "axis(\"equal\")\n",
    "\n",
    "    xlim(xmin,xmax)\n",
    "    ylim(ymax,ymin)\n",
    "plot(vcat(countour_array[1:50:end,1][end], countour_array[1:50:end,1]),vcat(countour_array[1:50:end,2][end], countour_array[1:50:end,2]),c=\"k\", alpha=0.1)\n",
    "# fig.savefig(joinpath(fig_path, \"com.png\"), bbox_inches = \"tight\",transparent = true,pad_inches = 0)\n",
    "fig.savefig(joinpath(fig_path, \"com_2.pdf\"), bbox_inches=\"tight\",transparent = true,pad_inches = 0);"
   ]
  },
  {
   "cell_type": "code",
   "execution_count": null,
   "id": "52bda902-be4c-4ffb-8e2e-e2b97dd31b1a",
   "metadata": {},
   "outputs": [],
   "source": [
    "fig_path"
   ]
  },
  {
   "cell_type": "code",
   "execution_count": null,
   "id": "136154f1-c185-4f96-9103-490a854dc5a4",
   "metadata": {},
   "outputs": [],
   "source": [
    "distance_center_2 = distance_from(collect(peak_loc_map_2_precise_array'), center_loc_2);\n",
    "distance_edge_2, _ = distance_to_feature(collect(peak_loc_map_2_precise_array'), countour_array_2);\n",
    "\n",
    "angle_center_2 = angle_from(peak_loc_map_2_precise_array', center_loc_2);\n",
    "angle_center_2[angle_center_2.<0]=angle_center_2[angle_center_2.<0].+2*pi;"
   ]
  },
  {
   "cell_type": "code",
   "execution_count": null,
   "id": "82e880e2-d0b5-4aa9-9610-7e1f3a9f643a",
   "metadata": {},
   "outputs": [],
   "source": [
    "rgb_color = hsv_cmap(Int32.(round.(180*angle_center_2/pi)))\n",
    "hsv_s = [(maximum(distance_edge_2) .-distance_edge_2[i])/maximum(distance_edge_2) for i in 1:size(rgb_color, 1)];\n",
    "hsv_v = [(maximum(distance_edge_2) .-distance_edge_2[i])/maximum(distance_edge_2)+0.3 for i in 1:size(rgb_color, 1)];\n",
    "hsv_s[hsv_s.!=1].=1\n",
    "hsv_v[hsv_v.>1].=1\n",
    "rgb_color_s = [hsv_control(rgb_color[i,:], hsv_s[i],hsv_v[i]) for i in 1:size(rgb_color, 1)];"
   ]
  },
  {
   "cell_type": "code",
   "execution_count": null,
   "id": "5910f49e-5762-4243-ad6a-f019c6ce1648",
   "metadata": {},
   "outputs": [],
   "source": [
    "# peak locations\n",
    "\n",
    "chamber_roi_mask = Float32.(copy(chamber_roi_1))\n",
    "chamber_roi_mask[chamber_roi_mask.!=0].= NaN32\n",
    "valid_frame = isnan.(chamber_roi_mask[:,:,1]); # bs update\n",
    "ymin = findfirst(sum(valid_frame;dims=1).!=0)[2]-10; # bs update\n",
    "ymax = findlast(sum(valid_frame;dims=1).!=0)[2]+10; # bs update\n",
    "xmin = findfirst(sum(valid_frame;dims=2).!=0)[1]-10; # bs update\n",
    "xmax = findlast(sum(valid_frame;dims=2).!=0)[1]+10; # bs update\n",
    "\n",
    "countour_array = countour_array_1\n",
    "\n",
    "fig = figure()\n",
    "scatter(peak_loc_map_1_precise_array[1,whether_in(confined_place_cell_index_1, confined_place_cell_index_2)], peak_loc_map_1_precise_array[2,whether_in(confined_place_cell_index_1, confined_place_cell_index_2)], c=rgb_color_s[whether_in(confined_place_cell_index_2, confined_place_cell_index_1)], s=60, alpha=0.5,linewidth = 0)\n",
    "\n",
    "axis(\"off\")\n",
    "axis(\"equal\")\n",
    "plot(vcat(countour_array[1:50:end,1][end], countour_array[1:50:end,1]),vcat(countour_array[1:50:end,2][end], countour_array[1:50:end,2]),c=\"k\", alpha=0.1)\n",
    "    xlim(xmin,xmax)\n",
    "    ylim(ymax,ymin)\n",
    "# fig.savefig(joinpath(fig_path, \"com.png\"), bbox_inches = \"tight\",transparent = true,pad_inches = 0)\n",
    "fig.savefig(joinpath(fig_path, \"com_1_2.pdf\"), bbox_inches=\"tight\",transparent = true,pad_inches = 0);\n",
    "\n",
    "\n",
    "\n",
    "\n",
    "chamber_roi_mask = Float32.(copy(chamber_roi_2))\n",
    "chamber_roi_mask[chamber_roi_mask.!=0].= NaN32\n",
    "valid_frame = isnan.(chamber_roi_mask[:,:,1]); # bs update\n",
    "ymin = findfirst(sum(valid_frame;dims=1).!=0)[2]-10; # bs update\n",
    "ymax = findlast(sum(valid_frame;dims=1).!=0)[2]+10; # bs update\n",
    "xmin = findfirst(sum(valid_frame;dims=2).!=0)[1]-10; # bs update\n",
    "xmax = findlast(sum(valid_frame;dims=2).!=0)[1]+10; # bs update\n",
    "\n",
    "countour_array = countour_array_2\n",
    "\n",
    "fig = figure()\n",
    "scatter(peak_loc_map_2_precise_array[1,whether_in(confined_place_cell_index_2, confined_place_cell_index_2)], peak_loc_map_2_precise_array[2,whether_in(confined_place_cell_index_2, confined_place_cell_index_2)], c=rgb_color_s[whether_in(confined_place_cell_index_2, confined_place_cell_index_2)], s=60, alpha=0.5,linewidth = 0)\n",
    "imshow(chamber_roi_mask', origin=\"lower\",alpha=0)\n",
    "\n",
    "axis(\"off\")\n",
    "axis(\"equal\")\n",
    "    xlim(xmin,xmax)\n",
    "    ylim(ymax,ymin)\n",
    "plot(vcat(countour_array[1:50:end,1][end], countour_array[1:50:end,1]),vcat(countour_array[1:50:end,2][end], countour_array[1:50:end,2]),c=\"k\", alpha=0.1)\n",
    "# fig.savefig(joinpath(fig_path, \"com.png\"), bbox_inches = \"tight\",transparent = true,pad_inches = 0)\n",
    "fig.savefig(joinpath(fig_path, \"com_2_2.pdf\"), bbox_inches=\"tight\",transparent = true,pad_inches = 0);"
   ]
  },
  {
   "cell_type": "markdown",
   "id": "3cc0392c-677d-48bc-8940-50caaeea0126",
   "metadata": {},
   "source": [
    "# Save source data"
   ]
  },
  {
   "cell_type": "code",
   "execution_count": null,
   "id": "24a5dff2-49c4-447e-aab2-4760db1ada53",
   "metadata": {},
   "outputs": [],
   "source": [
    "@pyimport pandas as pd"
   ]
  },
  {
   "cell_type": "code",
   "execution_count": null,
   "id": "8ca41142-2b7e-4492-844b-bfe94bf36f84",
   "metadata": {},
   "outputs": [],
   "source": [
    "function fill_length(vec, desired_length)\n",
    "    [vec; fill(NaN, desired_length-length(vec))]\n",
    "end"
   ]
  },
  {
   "cell_type": "code",
   "execution_count": null,
   "id": "2c0f82e8-87a4-43ce-9dca-2616323673ec",
   "metadata": {},
   "outputs": [],
   "source": [
    "rgb_color = hsv_cmap(Int32.(round.(180*angle_center_1/pi)))\n",
    "hsv_s = [(maximum(distance_edge_1) .-distance_edge_1[i])/maximum(distance_edge_1)+1 for i in 1:size(rgb_color, 1)];\n",
    "hsv_v = [(maximum(distance_edge_1) .-distance_edge_1[i])/maximum(distance_edge_1)+0.3 for i in 1:size(rgb_color, 1)];\n",
    "hsv_s[hsv_s.!=1].=1\n",
    "hsv_v[hsv_v.>1].=1\n",
    "rgb_color_s_1 = [hsv_control(rgb_color[i,:], hsv_s[i],hsv_v[i]) for i in 1:size(rgb_color, 1)];"
   ]
  },
  {
   "cell_type": "code",
   "execution_count": null,
   "id": "ae7ff139-21d3-4459-bff8-641c7e123169",
   "metadata": {},
   "outputs": [],
   "source": [
    "rgb_color = hsv_cmap(Int32.(round.(180*angle_center_2/pi)))\n",
    "hsv_s = [(maximum(distance_edge_2) .-distance_edge_2[i])/maximum(distance_edge_2) for i in 1:size(rgb_color, 1)];\n",
    "hsv_v = [(maximum(distance_edge_2) .-distance_edge_2[i])/maximum(distance_edge_2)+0.3 for i in 1:size(rgb_color, 1)];\n",
    "hsv_s[hsv_s.!=1].=1\n",
    "hsv_v[hsv_v.>1].=1\n",
    "rgb_color_s_2 = [hsv_control(rgb_color[i,:], hsv_s[i],hsv_v[i]) for i in 1:size(rgb_color, 1)];"
   ]
  },
  {
   "cell_type": "code",
   "execution_count": null,
   "id": "c8f209d5-e5e7-4947-82d5-f3e18172be82",
   "metadata": {},
   "outputs": [],
   "source": [
    "data_dict = Dict(\n",
    "    \"S1 PC in S1, COM x\" => peak_loc_map_1_precise_array[1,whether_in(confined_place_cell_index_1, confined_place_cell_index_1)],\n",
    "    \"S1 PC in S1, COM y\" => peak_loc_map_1_precise_array[2,whether_in(confined_place_cell_index_1, confined_place_cell_index_1)],\n",
    "    \"S1 PC in S2, COM x\" => peak_loc_map_2_precise_array[1,whether_in(confined_place_cell_index_2, confined_place_cell_index_1)],\n",
    "    \"S1 PC in S2, COM y\" => peak_loc_map_2_precise_array[2,whether_in(confined_place_cell_index_2, confined_place_cell_index_1)],\n",
    "    \"S1 PC in S1, color\" => rgb_color_s_1[whether_in(confined_place_cell_index_1, confined_place_cell_index_1)],\n",
    "    \"S1 PC in S2, color\" => rgb_color_s_1[whether_in(confined_place_cell_index_1, confined_place_cell_index_2)],\n",
    "\n",
    "\n",
    "    \"S2 PC in S1, COM x\" => peak_loc_map_1_precise_array[1,whether_in(confined_place_cell_index_1, confined_place_cell_index_2)],\n",
    "    \"S2 PC in S1, COM y\" => peak_loc_map_1_precise_array[2,whether_in(confined_place_cell_index_1, confined_place_cell_index_2)],\n",
    "    \"S2 PC in S2, COM x\" => peak_loc_map_2_precise_array[1,whether_in(confined_place_cell_index_2, confined_place_cell_index_2)],\n",
    "    \"S2 PC in S2, COM y\" => peak_loc_map_2_precise_array[2,whether_in(confined_place_cell_index_2, confined_place_cell_index_2)],\n",
    "    \"S2 PC in S1, color\" => rgb_color_s_2[whether_in(confined_place_cell_index_2, confined_place_cell_index_1)],\n",
    "    \"S2 PC in S2, color\" => rgb_color_s_2[whether_in(confined_place_cell_index_2, confined_place_cell_index_2)]\n",
    ")\n",
    "max_length = maximum([length(data_dict[key]) for key in keys(data_dict)])\n",
    "for key in keys(data_dict)\n",
    "    data_dict[key] = fill_length(data_dict[key], max_length)\n",
    "end\n",
    "\n",
    "df = pd.DataFrame.from_dict(data_dict)\n",
    "df = df.sort_index(axis=1)"
   ]
  },
  {
   "cell_type": "code",
   "execution_count": null,
   "id": "0388f824-7461-43fe-8056-de9e2b617f0a",
   "metadata": {},
   "outputs": [],
   "source": [
    "@pyimport os\n",
    "@pyimport openpyxl\n",
    "\n",
    "save_path = \"../../../figures/source_data/Source Data Fig. 5.xlsx\"\n",
    "sheet_name = \"Fig. 5n\"\n",
    "\n",
    "exists = os.path.isfile(save_path)\n",
    "if exists\n",
    "    writer = pd.ExcelWriter(save_path, engine = \"openpyxl\", mode=\"a\", if_sheet_exists=\"replace\")\n",
    "    df.to_excel(writer, sheet_name = sheet_name)\n",
    "    writer.close()\n",
    "else\n",
    "    df.to_excel(save_path, sheet_name)  \n",
    "end"
   ]
  },
  {
   "cell_type": "markdown",
   "id": "bf1f8e6e-9b2b-4e60-9acc-fb48c0eab32a",
   "metadata": {},
   "source": [
    "# Save example maps"
   ]
  },
  {
   "cell_type": "code",
   "execution_count": null,
   "id": "94465777-082a-47f8-961e-d17afbaa7354",
   "metadata": {
    "tags": []
   },
   "outputs": [],
   "source": [
    "chosen_neruon_index = [31501, 36879, 8442, 4109, 41762, 50191, 13380, 24783, 3601]"
   ]
  },
  {
   "cell_type": "code",
   "execution_count": null,
   "id": "53ad676a-4824-4c17-a1ee-a2c510859bb2",
   "metadata": {
    "tags": []
   },
   "outputs": [],
   "source": [
    "mask_valid = isfinite.(place_map_all_1[:,:,1])\n",
    "\n",
    "mask_valid_index = findall(mask_valid)\n",
    "mask_valid_x = [x[1] for x in mask_valid_index]\n",
    "mask_valid_y = [x[2] for x in mask_valid_index];\n",
    "mask_valid_x_min = minimum(mask_valid_x)\n",
    "mask_valid_x_max = maximum(mask_valid_x)\n",
    "mask_valid_y_min = minimum(mask_valid_y)\n",
    "mask_valid_y_max = maximum(mask_valid_y);"
   ]
  },
  {
   "cell_type": "code",
   "execution_count": null,
   "id": "1b6c45b1-c4aa-4463-83e2-36e005f37fbd",
   "metadata": {
    "tags": []
   },
   "outputs": [],
   "source": [
    "chamber_roi_mask = Float32.(copy(chamber_roi_1))\n",
    "chamber_roi_mask[chamber_roi_mask.!=0].= NaN32\n",
    "imshow(chamber_roi_mask)"
   ]
  },
  {
   "cell_type": "code",
   "execution_count": null,
   "id": "6df8b1b7-85b0-43ba-addf-0e6068877204",
   "metadata": {
    "tags": []
   },
   "outputs": [],
   "source": [
    "# example cells\n",
    "\n",
    "valid_frame = isnan.(chamber_roi_mask[:,:,1]); # bs update\n",
    "ymin = findfirst(sum(valid_frame;dims=1).!=0)[2]-10; # bs update\n",
    "ymax = findlast(sum(valid_frame;dims=1).!=0)[2]+10; # bs update\n",
    "xmin = findfirst(sum(valid_frame;dims=2).!=0)[1]-10; # bs update\n",
    "xmax = findlast(sum(valid_frame;dims=2).!=0)[1]+10; # bs update\n",
    "\n",
    "for real_cell_index in chosen_neruon_index\n",
    "    fig = figure()\n",
    "    map = place_map_all_1[mask_valid_x_min:mask_valid_x_max,mask_valid_y_min:mask_valid_y_max,real_cell_index]\n",
    "    sp1 = imshow(map', extent = [x_bins[mask_valid_x_min], x_bins[mask_valid_x_max+1], y_bins[mask_valid_y_min], y_bins[mask_valid_y_max+1]], cmap=\"jet\", origin=\"lower\")\n",
    "    # imshow(chamber_roi_mask', cmap=\"binary\", origin=\"lower\", vmin=0, vmax=3)\n",
    "    axis(\"off\")\n",
    "    xlim(xmin,xmax)\n",
    "    ylim(ymax,ymin)\n",
    "    tight_layout()\n",
    "    fig.savefig(joinpath(fig_path, \"$(experiment_filename_1)_$real_cell_index map1.png\"), bbox_inches = \"tight\",transparent = true,pad_inches = 0)\n",
    "end"
   ]
  },
  {
   "cell_type": "code",
   "execution_count": null,
   "id": "8850578e-3be0-453f-83b7-286d5acadf94",
   "metadata": {
    "tags": []
   },
   "outputs": [],
   "source": [
    "mask_valid = isfinite.(place_map_all_2[:,:,1])\n",
    "\n",
    "mask_valid_index = findall(mask_valid)\n",
    "mask_valid_x = [x[1] for x in mask_valid_index]\n",
    "mask_valid_y = [x[2] for x in mask_valid_index];\n",
    "mask_valid_x_min = minimum(mask_valid_x)\n",
    "mask_valid_x_max = maximum(mask_valid_x)\n",
    "mask_valid_y_min = minimum(mask_valid_y)\n",
    "mask_valid_y_max = maximum(mask_valid_y);"
   ]
  },
  {
   "cell_type": "code",
   "execution_count": null,
   "id": "f5ea9d69-38b2-4e26-a20b-857fdd145a13",
   "metadata": {
    "tags": []
   },
   "outputs": [],
   "source": [
    "chamber_roi_mask = Float32.(copy(chamber_roi_2))\n",
    "chamber_roi_mask[chamber_roi_mask.!=0].= NaN32\n",
    "imshow(chamber_roi_mask)"
   ]
  },
  {
   "cell_type": "code",
   "execution_count": null,
   "id": "3ee7627a-90a5-48fb-a372-1f1ad5890c97",
   "metadata": {
    "tags": []
   },
   "outputs": [],
   "source": [
    "# example cells\n",
    "\n",
    "valid_frame = isnan.(chamber_roi_mask[:,:,1]); # bs update\n",
    "ymin = findfirst(sum(valid_frame;dims=1).!=0)[2]-10; # bs update\n",
    "ymax = findlast(sum(valid_frame;dims=1).!=0)[2]+10; # bs update\n",
    "xmin = findfirst(sum(valid_frame;dims=2).!=0)[1]-10; # bs update\n",
    "xmax = findlast(sum(valid_frame;dims=2).!=0)[1]+10; # bs update\n",
    "\n",
    "for real_cell_index in chosen_neruon_index\n",
    "    fig = figure()\n",
    "    map = place_map_all_2[mask_valid_x_min:mask_valid_x_max,mask_valid_y_min:mask_valid_y_max,real_cell_index]\n",
    "    sp1 = imshow(map', extent = [x_bins[mask_valid_x_min], x_bins[mask_valid_x_max+1], y_bins[mask_valid_y_min], y_bins[mask_valid_y_max+1]], cmap=\"jet\", origin=\"lower\")\n",
    "    # imshow(chamber_roi_mask', cmap=\"binary\", origin=\"lower\", vmin=0, vmax=3)\n",
    "    axis(\"off\")\n",
    "    xlim(xmin,xmax)\n",
    "    ylim(ymax,ymin)\n",
    "    tight_layout()\n",
    "    fig.savefig(joinpath(fig_path, \"$(experiment_filename_1)_$real_cell_index map2.png\"), bbox_inches = \"tight\",transparent = true,pad_inches = 0)\n",
    "end"
   ]
  },
  {
   "cell_type": "code",
   "execution_count": null,
   "id": "9cc7b96c-b84e-473c-ba9a-f0268c75d8da",
   "metadata": {},
   "outputs": [],
   "source": []
  },
  {
   "cell_type": "code",
   "execution_count": null,
   "id": "3f266ed5-4ae2-409a-9b4c-8ea7b5184fdb",
   "metadata": {},
   "outputs": [],
   "source": []
  },
  {
   "cell_type": "code",
   "execution_count": null,
   "id": "a9737e51-04f9-4ae8-968c-959917ad3a92",
   "metadata": {},
   "outputs": [],
   "source": []
  }
 ],
 "metadata": {
  "kernelspec": {
   "display_name": "Julia 1.10.3",
   "language": "julia",
   "name": "julia-1.10"
  },
  "language_info": {
   "file_extension": ".jl",
   "mimetype": "application/julia",
   "name": "julia",
   "version": "1.10.3"
  }
 },
 "nbformat": 4,
 "nbformat_minor": 5
}
