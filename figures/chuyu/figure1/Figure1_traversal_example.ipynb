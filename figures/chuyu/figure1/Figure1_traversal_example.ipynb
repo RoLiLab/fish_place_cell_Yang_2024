{
 "cells": [
  {
   "cell_type": "code",
   "execution_count": null,
   "id": "ec177126-134b-4be6-9a59-ed928758f880",
   "metadata": {},
   "outputs": [],
   "source": [
    "using ProgressMeter, PyCall, PyPlot, Images, HDF5,NaNStatistics, Statistics, DSP, Lasso, JLD2\n",
    "using _Data, _Math "
   ]
  },
  {
   "cell_type": "code",
   "execution_count": null,
   "id": "1b49edfb-5ed3-4649-87d6-2977e4f92a89",
   "metadata": {},
   "outputs": [],
   "source": [
    "rc_params = PyDict(pyimport(\"matplotlib\")[\"rcParams\"]);\n",
    "rc_params[\"font.sans-serif\"] = [\"Arial\"];\n",
    "rc_params[\"font.size\"] = 7;\n",
    "rc_params[\"lines.linewidth\"] = 1;\n",
    "rc_params[\"lines.markersize\"] = 4;\n",
    "rc_params[\"xtick.major.size\"] = 2;\n",
    "rc_params[\"ytick.major.size\"] = 2;\n",
    "rc_params[\"xtick.major.pad\"] = 2;\n",
    "rc_params[\"ytick.major.pad\"] = 2;\n",
    "# rc_params[\"axes.labelpad\"] = 2;\n",
    "\n",
    "cim(img::Matrix{UInt32}) = CairoImageSurface(img, Cairo.FORMAT_RGB24; flipxy = false) \n",
    "cim(img::Matrix{ARGB32}) = cim(reinterpret(UInt32, img))\n",
    "cim(img::Matrix{RGB24}) = cim(reinterpret(UInt32, img))\n",
    "cim(img::Matrix{UInt8}) = cim(Gray.(reinterpret(N0f8, img)))\n",
    "cim(img::Array{UInt8,3}) = cim(RGB24.(reinterpret(N0f8, img[:,:,1]), reinterpret(N0f8, img[:,:,2]), reinterpret(N0f8, img[:,:,3])));downsample(img,n=4) = +([img[i:n:n*div(size(img,1)-1,n), j:n:n*div(size(img,2)-1,n)] for i = 1:n, j = 1:n]...)/(n*n);\n",
    "downsample(img,n=4) = +([img[i:n:n*div(size(img,1)-1,n), j:n:n*div(size(img,2)-1,n)] for i = 1:n, j = 1:n]...)/(n*n);"
   ]
  },
  {
   "cell_type": "code",
   "execution_count": null,
   "id": "9d59b9ed-697a-437f-8dfa-5263fd566a33",
   "metadata": {},
   "outputs": [],
   "source": [
    "@pyimport numpy\n",
    "@pyimport PIL\n",
    "@pyimport skimage.transform as skimage_transform\n",
    "@pyimport sklearn.cluster as cluster\n",
    "@pyimport matplotlib.cm as cm"
   ]
  },
  {
   "cell_type": "code",
   "execution_count": null,
   "id": "78871a3e-3f86-408a-a5ab-2ff2d0df64df",
   "metadata": {},
   "outputs": [],
   "source": [
    "include(\"../../../functions/func_map.jl\")\n",
    "include(\"../../../functions/func_stat.jl\")\n",
    "include(\"../../../functions/func_data.jl\")\n",
    "include(\"../../../functions/func_plot.jl\")"
   ]
  },
  {
   "cell_type": "code",
   "execution_count": null,
   "id": "bf883b12-600f-4b1e-9c6a-c398de54539c",
   "metadata": {},
   "outputs": [],
   "source": [
    "corner_cue = \n",
    "[\n",
    "    [\"20220406_111526\", 9, \"20220406_125842\", 9, \"jen\"],\n",
    "    [\"20220407_090156\", 5, \"20220407_104712\", 5, \"jen\"],\n",
    "    [\"20220406_153842\", 9, \"20220406_171558\", 9, \"jen\"]\n",
    "]"
   ]
  },
  {
   "cell_type": "code",
   "execution_count": null,
   "id": "ff561c68-d5fc-4f51-b926-511307b37192",
   "metadata": {},
   "outputs": [],
   "source": [
    "data_all_exp = reduce(vcat, [corner_cue])"
   ]
  },
  {
   "cell_type": "code",
   "execution_count": null,
   "id": "63a799c9-d5f7-4974-9f54-a096a494655c",
   "metadata": {},
   "outputs": [],
   "source": [
    "data_all = []\n",
    "server_all = []\n",
    "for data in data_all_exp\n",
    "    if length(data).== 4\n",
    "        append!(data_all, [data[1]])\n",
    "        append!(data_all, [data[3]])\n",
    "        append!(server_all, data[2])\n",
    "        append!(server_all, data[4])\n",
    "    elseif length(data).== 2\n",
    "        append!(data_all, [data[1]])\n",
    "        append!(server_all, data[2])\n",
    "    end\n",
    "end"
   ]
  },
  {
   "cell_type": "code",
   "execution_count": null,
   "id": "a643fd9f-c9b5-449f-8259-1827f62e275b",
   "metadata": {},
   "outputs": [],
   "source": [
    "which_combo = 2\n",
    "experimenter = \"jen\""
   ]
  },
  {
   "cell_type": "code",
   "execution_count": null,
   "id": "a1f0eb01-f35f-437f-bfa6-730a8e97c45d",
   "metadata": {},
   "outputs": [],
   "source": [
    "experiment_filename_1 = data_all_exp[which_combo][1]\n",
    "server = data_all_exp[which_combo][2]\n",
    "ds_1 = Dataset(experiment_filename_1, experimenter, gethostname() == \"roli-$(server)\" ? \"/data\" : \"/nfs/data$(server)\") # This example dataset is on roli-9, so the path is different depending on whether you're trying to access the file from roli-9\n",
    "ds_save_1 = Dataset(experiment_filename_1, \"jen\", gethostname() == \"roli-$(server)\" ? \"/data\" : \"/nfs/data$(server)\")\n",
    "ds_save_cy_1 = Dataset(experiment_filename_1, \"chuyu\", gethostname() == \"roli-$(server)\" ? \"/data\" : \"/nfs/data$(server)\")\n",
    "\n",
    "experiment_filename_2 = data_all_exp[which_combo][3]\n",
    "server = data_all_exp[which_combo][4]\n",
    "ds_2 = Dataset(experiment_filename_2, experimenter, gethostname() == \"roli-$(server)\" ? \"/data\" : \"/nfs/data$(server)\") # This example dataset is on roli-9, so the path is different depending on whether you're trying to access the file from roli-9\n",
    "ds_save_2 = Dataset(experiment_filename_2, \"jen\", gethostname() == \"roli-$(server)\" ? \"/data\" : \"/nfs/data$(server)\")\n",
    "ds_save_cy_2 = Dataset(experiment_filename_2, \"chuyu\", gethostname() == \"roli-$(server)\" ? \"/data\" : \"/nfs/data$(server)\")"
   ]
  },
  {
   "cell_type": "code",
   "execution_count": null,
   "id": "857896ce-efc4-442e-90ef-19019fb0d42c",
   "metadata": {},
   "outputs": [],
   "source": [
    "@pyimport matplotlib.patches as patches"
   ]
  },
  {
   "cell_type": "code",
   "execution_count": null,
   "id": "b5f80c2b-4359-4e58-b852-6ecde0abad56",
   "metadata": {},
   "outputs": [],
   "source": [
    "n_pos = 60\n",
    "\n",
    "# orientation-corrected fish location (time binned)\n",
    "position_file = h5open(joinpath(data_path(ds_save_cy_1), \"oblique_corrected\", \"for_place_calculation_chamber_geometry_$(experiment_filename_1)_n60_oblique_corrected.h5\"))\n",
    "x_fish_sweep_mean = read(position_file,\"x_fish_sweep_mean\")\n",
    "y_fish_sweep_mean = read(position_file,\"y_fish_sweep_mean\")\n",
    "mask_valid = read(position_file,\"mask_valid\")\n",
    "x_digital = read(position_file,\"x_digital\")\n",
    "y_digital = read(position_file,\"y_digital\")\n",
    "x_bins = read(position_file,\"x_bins\")\n",
    "y_bins = read(position_file,\"y_bins\")\n",
    "valid_moving_indices = read(position_file,\"valid_moving_indices\")\n",
    "what_angle = read(position_file,\"what_angle\")\n",
    "mask_valid = read(position_file,\"mask_valid\")\n",
    "chamber_roi = read(position_file,\"chamber_roi\")\n",
    "close(position_file)\n",
    "mask_invalid = .!mask_valid;"
   ]
  },
  {
   "cell_type": "code",
   "execution_count": null,
   "id": "5fca9679-c1ad-4ce8-a6f7-b659e934a071",
   "metadata": {},
   "outputs": [],
   "source": [
    "C, y_fish_ob, x_fish_ob, img_bg, heading_ob = h5open(ds_1, \"behavior.h5\"; raw = true) do file\n",
    "    read(file, \"C\"), \n",
    "    read(file, \"fish_yolk_y\"), \n",
    "    read(file, \"fish_yolk_x\"),\n",
    "    read(file, \"img_bg\"),\n",
    "    read(file, \"heading\")\n",
    "end;\n",
    "\n",
    "\n",
    "global w = size(img_bg, 1)\n",
    "global l = size(img_bg, 2)"
   ]
  },
  {
   "cell_type": "code",
   "execution_count": null,
   "id": "8b6ad128-18ac-4f3c-93b5-3005fdc274dc",
   "metadata": {},
   "outputs": [],
   "source": [
    "img_bg_end_1 = img_bg[:,:,end];"
   ]
  },
  {
   "cell_type": "code",
   "execution_count": null,
   "id": "9196d395-f17b-452f-b286-0703a0492b9b",
   "metadata": {},
   "outputs": [],
   "source": [
    "NMF_filename = joinpath(data_path(ds_save_cy_1), \"NMF_merge.h5\")\n",
    "NMF_file = h5open(NMF_filename, \"r\")\n",
    "global Z_all = HDF5.readmmap(NMF_file[\"Z_all\"])\n",
    "global X_all = HDF5.readmmap(NMF_file[\"X_all\"])\n",
    "global Y_all = HDF5.readmmap(NMF_file[\"Y_all\"])\n",
    "global neuron_label = HDF5.readmmap(NMF_file[\"neuron_label\"])\n",
    "global A_dFF_1 = HDF5.readmmap(NMF_file[\"A_dFF\"]); # bs update\n",
    "global A_baseline_1 = HDF5.readmmap(NMF_file[\"A_baseline\"]); # bs update\n",
    "close(NMF_file)\n",
    "\n",
    "\n",
    "n_neuron = length(X_all);"
   ]
  },
  {
   "cell_type": "code",
   "execution_count": null,
   "id": "62f2fcf9-50e9-48e6-b405-189742bd7bcf",
   "metadata": {},
   "outputs": [],
   "source": [
    "# match the frames if we have offsets\n",
    "n_neurons = size(A_dFF_1, 2)\n",
    "n_sweeps = size(A_dFF_1, 1)\n",
    "\n",
    "x_fish_sweep_mean = x_fish_sweep_mean[1:n_sweeps]\n",
    "y_fish_sweep_mean = y_fish_sweep_mean[1:n_sweeps];"
   ]
  },
  {
   "cell_type": "code",
   "execution_count": null,
   "id": "db93101d-f275-4555-9509-125dfeb1570b",
   "metadata": {},
   "outputs": [],
   "source": [
    "plot(x_fish_sweep_mean)"
   ]
  },
  {
   "cell_type": "code",
   "execution_count": null,
   "id": "0ae7ea5c-e67c-4a30-8ac3-416a522f00fa",
   "metadata": {},
   "outputs": [],
   "source": [
    "file_folder_1 = joinpath(data_path(ds_save_cy_1), \"oblique_corrected\")\n",
    "all_files = readdir(file_folder_1)\n",
    "long_name_files = all_files[findall([length(all_files[i])>6 for i in 1:length(all_files)])]\n",
    "spatial_info_index = [occursin(\"A_dF\", long_name_files[i])*occursin(\"neuron\", long_name_files[i]) for i in 1:length(long_name_files)]\n",
    "candidate_filename = long_name_files[spatial_info_index]\n",
    "which_file = [occursin(experiment_filename_1, candidate_filename[i])*occursin(\"A_dF\", candidate_filename[i]) for i in 1:length(candidate_filename)]\n",
    "println(candidate_filename[which_file])\n",
    "@assert(length(candidate_filename[which_file]) == 1)\n",
    "save_file_name = candidate_filename[which_file][1]\n",
    "info_filename = joinpath(file_folder_1, save_file_name)\n",
    "file = h5open(info_filename, \"r\")\n",
    "place_map_all_1 = HDF5.readmmap(file[\"place_map_all\"])\n",
    "specificity_1 = HDF5.readmmap(file[\"specificity\"])\n",
    "specificity_population_z_1 = HDF5.readmmap(file[\"specificity_population_z\"])\n",
    "valid_roi_1 = HDF5.readmmap(file[\"valid_neurons\"])\n",
    "plot_index = HDF5.readmmap(file[\"bool_index\"])\n",
    "close(file)"
   ]
  },
  {
   "cell_type": "code",
   "execution_count": null,
   "id": "b1631094-d18b-4a91-bf17-b3e7c570f16c",
   "metadata": {},
   "outputs": [],
   "source": [
    "# real_cell_index = 84981\n",
    "plot_index = copy(valid_moving_indices)\n",
    "plot(plot_index);"
   ]
  },
  {
   "cell_type": "code",
   "execution_count": null,
   "id": "e700f136-891b-4d14-9cb5-1ed15fdc9870",
   "metadata": {},
   "outputs": [],
   "source": [
    "mask_valid = isfinite.(place_map_all_1[:,:,1])\n",
    "\n",
    "mask_valid_index = findall(mask_valid)\n",
    "mask_valid_x = [x[1] for x in mask_valid_index]\n",
    "mask_valid_y = [x[2] for x in mask_valid_index];\n",
    "mask_valid_x_min = minimum(mask_valid_x)\n",
    "mask_valid_x_max = maximum(mask_valid_x)\n",
    "mask_valid_y_min = minimum(mask_valid_y)\n",
    "mask_valid_y_max = maximum(mask_valid_y);"
   ]
  },
  {
   "cell_type": "code",
   "execution_count": null,
   "id": "148d5ba5-8228-4b89-a033-f3fcb05c7217",
   "metadata": {},
   "outputs": [],
   "source": [
    "chamber_roi_mask = Float32.(copy(chamber_roi))\n",
    "chamber_roi_mask[chamber_roi_mask.!=0].= NaN32;\n",
    "\n",
    "\n",
    "img_bg_mask = copy(img_bg_end_1)\n",
    "img_bg_mask[img_bg_mask.==0].=NaN32\n",
    "img_bg_mask[Float32.(chamber_roi).!=0].=NaN32;"
   ]
  },
  {
   "cell_type": "code",
   "execution_count": null,
   "id": "61128c5e-0d39-4bba-99fc-11e831a1a603",
   "metadata": {},
   "outputs": [],
   "source": [
    "imshow(chamber_roi_mask)"
   ]
  },
  {
   "cell_type": "code",
   "execution_count": null,
   "id": "956238a4-485b-4b8c-9bc8-8de42e9e500e",
   "metadata": {},
   "outputs": [],
   "source": [
    "imshow(chamber_roi)\n",
    "\n",
    "chamber_roi[chamber_roi.!=0].=1;\n",
    "countour = find_contours(chamber_roi)[1];\n",
    "countour_array = hcat(getindex.(countour, 1), getindex.(countour,2));"
   ]
  },
  {
   "cell_type": "code",
   "execution_count": null,
   "id": "359158c8-c87f-4b5b-8e34-844621514c0f",
   "metadata": {},
   "outputs": [],
   "source": [
    "x_fish = zeros(Float32, length(x_fish_ob))\n",
    "y_fish = zeros(Float32, length(y_fish_ob))\n",
    "for i in 1:length(x_fish_ob)\n",
    "x_fish[i], y_fish[i] = rotate2d(x_fish_ob[i], y_fish_ob[i], w/2, l/2, pi*what_angle/180)\n",
    "end\n",
    "\n",
    "heading = heading_ob.+pi*what_angle/180;\n",
    "\n",
    "x_digital = numpy.digitize(x_fish, x_bins)\n",
    "y_digital = numpy.digitize(y_fish, y_bins);\n",
    "\n",
    "scatter(x_digital, y_digital)"
   ]
  },
  {
   "cell_type": "code",
   "execution_count": null,
   "id": "180c0f1d-a42c-4b16-bc16-2657335ee6d6",
   "metadata": {},
   "outputs": [],
   "source": [
    "real_cell_index = 9097\n",
    "neural_activity = A_dFF_1[:, real_cell_index];\n",
    "neural_activity = (neural_activity.-numpy.nanstd(neural_activity))./numpy.nanstd(neural_activity);\n",
    "corresponding_map = place_map_all_1[:,:,real_cell_index]\n",
    "figure()\n",
    "imshow(corresponding_map)\n",
    "map_wo_nan = corresponding_map[.~isnan.(corresponding_map)]\n",
    "where_max = findall(corresponding_map .== numpy.nanmax(map_wo_nan))\n",
    "where_max_x = where_max[1][1]\n",
    "where_max_y = where_max[1][2]\n",
    "corresponding_xmin = x_bins[where_max_x-1]\n",
    "corresponding_xmax = x_bins[where_max_x+1+1]\n",
    "corresponding_ymin = y_bins[where_max_y-1]\n",
    "corresponding_ymax = y_bins[where_max_y+1+1]\n",
    "when_visit = intersect(findall(x_fish_sweep_mean.>=corresponding_xmin), findall(x_fish_sweep_mean.<=corresponding_xmax), findall(y_fish_sweep_mean.>=corresponding_ymin), findall(y_fish_sweep_mean.<=corresponding_ymax));\n",
    "interval = 40 \n",
    "when_visit_real= [] \n",
    "when_old = 1\n",
    "for i in 1:length(when_visit) \n",
    "    when_new = when_visit[i]\n",
    "    if i != 1 \n",
    "        when_old = when_visit[i-1]\n",
    "    end\n",
    "    if (when_new - when_old) > interval \n",
    "        append!(when_visit_real, when_new) \n",
    "    end\n",
    "end\n"
   ]
  },
  {
   "cell_type": "code",
   "execution_count": null,
   "id": "411519eb-226d-40f6-bb28-ba8e21ab0ed6",
   "metadata": {},
   "outputs": [],
   "source": [
    "which_map = place_map_all_1[:,:,real_cell_index]\n",
    "test_map = map_field(which_map; threshold = 8/10, bottom_activity= 0)\n",
    "\n",
    "imshow(test_map)"
   ]
  },
  {
   "cell_type": "code",
   "execution_count": null,
   "id": "4b7b2309-8024-495d-b412-8239c937777a",
   "metadata": {},
   "outputs": [],
   "source": [
    "py\"\"\"\n",
    "import numpy as np\n",
    "import itertools\n",
    "\n",
    "def find_consecutive(x):\n",
    "    return list((g[0][0], len(g)) \n",
    "    for key, group in itertools.groupby(enumerate(x), key=lambda v: v[1]) \n",
    "    if key \n",
    "    for g in (list(group),))\n",
    "\"\"\""
   ]
  },
  {
   "cell_type": "code",
   "execution_count": null,
   "id": "e945c84b-939f-49d6-9320-446001a3426d",
   "metadata": {},
   "outputs": [],
   "source": [
    "whether_in_zone = [(test_map[x_digital[i], y_digital[i]] .== 1) for i in 1:length(x_digital)];\n",
    "time_duration_outzone = py\"find_consecutive\"(.!whether_in_zone)\n",
    "out_zone_time = [time_duration[1]+1 for time_duration in time_duration_outzone]\n",
    "out_zone_duration = [time_duration[2] for time_duration in time_duration_outzone];\n",
    "for out_zone_short in findall(out_zone_duration .<125*6)\n",
    "    whether_in_zone[out_zone_time[out_zone_short]:out_zone_time[out_zone_short]+out_zone_duration[out_zone_short]-1] .= 1\n",
    "end"
   ]
  },
  {
   "cell_type": "code",
   "execution_count": null,
   "id": "5461a1de-0c2a-42e1-974c-4e19cf34f8f4",
   "metadata": {
    "tags": []
   },
   "outputs": [],
   "source": [
    "time_duration_zone = py\"find_consecutive\"(whether_in_zone)\n",
    "in_zone_time = [time_duration[1]+1 for time_duration in time_duration_zone]\n",
    "in_zone_duration = [time_duration[2] for time_duration in time_duration_zone];\n",
    "\n",
    "in_zone_time_valid = in_zone_time[in_zone_duration.>=125]\n",
    "in_zone_duration_valid = in_zone_duration[in_zone_duration.>=125];\n",
    "\n",
    "heading_0 = (abs.(heading[in_zone_time_valid].-pi).>=3*pi/4)\n",
    "heading_180 = (abs.(heading[in_zone_time_valid].-pi).<pi/4);\n",
    "\n",
    "in_zone_time_downsample = Int32.(round.(in_zone_time_valid./125))\n",
    "in_zone_duration_downsample = Int32.(round.(in_zone_duration_valid./125));\n",
    "\n",
    "heading_index = fill(NaN32,length(x_fish_sweep_mean))\n",
    "for i in 1:length(in_zone_time_downsample)\n",
    "    start_time = in_zone_time_downsample[i]\n",
    "    duration = in_zone_duration_downsample[i]\n",
    "    end_time = start_time+duration-1\n",
    "    if heading_0[i]\n",
    "        heading_index[start_time-30:minimum([end_time+30,n_sweeps])].=0\n",
    "    elseif heading_180[i]\n",
    "        heading_index[start_time-30:minimum([end_time+30,n_sweeps])].=1\n",
    "    end\n",
    "end"
   ]
  },
  {
   "cell_type": "code",
   "execution_count": null,
   "id": "8fa163c2-44be-47fa-801c-43c13414c728",
   "metadata": {},
   "outputs": [],
   "source": [
    "hist(heading[in_zone_time_valid][heading_0])\n",
    "xlim(0,2*pi)"
   ]
  },
  {
   "cell_type": "code",
   "execution_count": null,
   "id": "ca16d675-94b3-4b9c-9253-de1514de8faa",
   "metadata": {},
   "outputs": [],
   "source": [
    "hist(heading[in_zone_time_valid][heading_180])\n",
    "xlim(0,2*pi)"
   ]
  },
  {
   "cell_type": "code",
   "execution_count": null,
   "id": "1ead4676-b419-4bc7-9b5f-b1f5e4d33f9e",
   "metadata": {},
   "outputs": [],
   "source": [
    "plot(heading)"
   ]
  },
  {
   "cell_type": "code",
   "execution_count": null,
   "id": "5c90dc16-c6d1-4289-9c9b-4a7289f2bc86",
   "metadata": {},
   "outputs": [],
   "source": [
    "sum(heading_0)"
   ]
  },
  {
   "cell_type": "code",
   "execution_count": null,
   "id": "10929a5d-e092-49d9-bdf9-665696313f19",
   "metadata": {},
   "outputs": [],
   "source": [
    "sum(heading_180)"
   ]
  },
  {
   "cell_type": "code",
   "execution_count": null,
   "id": "ff42762b-9e7e-4ed5-a22f-3e4eef9008b5",
   "metadata": {},
   "outputs": [],
   "source": [
    "x_fish_mm_fit = fit(TrendFilter, x_fish_sweep_mean .* 0.02, 5, 2);\n",
    "y_fish_mm_fit = fit(TrendFilter, y_fish_sweep_mean .* 0.02, 5, 2);\n",
    "speed_mm_s = (diff(x_fish_mm_fit.β).^2 .+ diff(y_fish_mm_fit.β).^2).^0.5 ./ 0.5;\n",
    "speed_mm_s = vcat(speed_mm_s[1], speed_mm_s);\n",
    "# Moving indices\n",
    "speed_thr = 0.1\n",
    "valid_moving_indices = (speed_mm_s .> speed_thr);"
   ]
  },
  {
   "cell_type": "code",
   "execution_count": null,
   "id": "3d0fb21d-c17f-45c8-b1b2-034785d52c4d",
   "metadata": {},
   "outputs": [],
   "source": [
    "start_index = 1\n",
    "end_index = 10800\n",
    "\n",
    "plot_index = trues(n_sweeps)\n",
    "if end_index<n_sweeps\n",
    "    plot_index[end_index+1:end] .= false\n",
    "end\n",
    "plot_index[1:start_index-1].=false\n",
    "plot_index[.!valid_moving_indices].=false;"
   ]
  },
  {
   "cell_type": "code",
   "execution_count": null,
   "id": "395abe35-9443-4d91-ac79-d32d983f2428",
   "metadata": {},
   "outputs": [],
   "source": [
    "fig_path = \"/home/chuyu/Notebooks/project_place_cell/figures/output/figure1/place_cell_examples\"\n",
    "mkpath(fig_path)"
   ]
  },
  {
   "cell_type": "code",
   "execution_count": null,
   "id": "3e3c39aa-05df-4e6b-bab5-bfc83d20d41a",
   "metadata": {},
   "outputs": [],
   "source": [
    "in_zone_time_downsample[heading_0]"
   ]
  },
  {
   "cell_type": "code",
   "execution_count": null,
   "id": "a3d8a7be-8bc7-4cf1-a399-11099bde5104",
   "metadata": {},
   "outputs": [],
   "source": [
    "in_zone_time_downsample[heading_180]"
   ]
  },
  {
   "cell_type": "code",
   "execution_count": null,
   "id": "d4896d74-0819-4f72-b196-a99b3d3df586",
   "metadata": {
    "tags": []
   },
   "outputs": [],
   "source": [
    "neural_activity = A_dFF_1[:, real_cell_index]\n",
    "neural_activity = (neural_activity.-numpy.nanmean(neural_activity))./numpy.nanstd(neural_activity);\n",
    "x_fish_valid = x_fish_sweep_mean\n",
    "y_fish_valid = y_fish_sweep_mean\n",
    "heading_index_valid = heading_index\n",
    "\n",
    "\n",
    "\n",
    "\n",
    "for i in findall(heading_180)\n",
    "    fig = figure()\n",
    "    start_time = in_zone_time_downsample[i]\n",
    "    duration = in_zone_duration_downsample[i]\n",
    "    end_time = start_time+duration-1\n",
    "    scatter(x_fish_valid[start_time-30:end_time+30], y_fish_valid[start_time-30:end_time+30], c=1:duration+60)\n",
    "    \n",
    "    imshow(img_bg_end_1', cmap=\"binary\", origin=\"lower\")\n",
    "\n",
    "    axis(\"off\")\n",
    "end\n"
   ]
  },
  {
   "cell_type": "code",
   "execution_count": null,
   "id": "4ddf6eb2-9797-4843-8644-bbd64badaf0e",
   "metadata": {},
   "outputs": [],
   "source": [
    "neural_activity = A_dFF_1[:, real_cell_index]\n",
    "neural_activity = (neural_activity.-numpy.nanmean(neural_activity))./numpy.nanstd(neural_activity);\n",
    "x_fish_valid = x_fish_sweep_mean\n",
    "y_fish_valid = y_fish_sweep_mean\n",
    "heading_index_valid = heading_index\n",
    "\n",
    "\n",
    "fig = figure(dpi=250)\n",
    "plot(x_fish_valid[heading_index_valid.==0], y_fish_valid[heading_index_valid.==0], \"k.\", markersize = 0.1)\n",
    "\n",
    "layer_rank = sortperm(neural_activity[1:end-1])\n",
    "for i = layer_rank\n",
    "    if heading_index_valid[i]==0\n",
    "        cur_value = neural_activity[i]; \n",
    "        cur_value < 0 ? cur_value = 0 : (cur_value > 1 ? cur_value = 1 : 1+1)\n",
    "        if isfinite(cur_value)\n",
    "            plot(x_fish_valid[i:i+1], y_fish_valid[i:i+1], color = [cur_value, 0, 0], alpha = 0.5, linewidth = 3)\n",
    "        else\n",
    "            plot(x_fish_valid[i:i+1], y_fish_valid[i:i+1], color = [0, 0, 0], alpha = 0.1, linewidth = 1.5)\n",
    "        end\n",
    "    end\n",
    "end\n",
    "\n",
    "imshow(img_bg_end_1', cmap=\"binary\", origin=\"lower\", alpha=0)\n",
    "xlim(400,2850)\n",
    "ylim(2000, 780)\n",
    "axis(\"off\")\n",
    "fig.savefig(joinpath(fig_path, \"$real_cell_index right_traversals.png\"), bbox_inches = \"tight\",transparent = true,pad_inches = 0)"
   ]
  },
  {
   "cell_type": "code",
   "execution_count": null,
   "id": "e4073122-38f5-47a3-9eca-f7f1c6bef273",
   "metadata": {},
   "outputs": [],
   "source": [
    "neural_activity = A_dFF_1[:, real_cell_index]\n",
    "neural_activity = (neural_activity.-numpy.nanmean(neural_activity))./numpy.nanstd(neural_activity);\n",
    "x_fish_valid = x_fish_sweep_mean\n",
    "y_fish_valid = y_fish_sweep_mean\n",
    "heading_index_valid = heading_index\n",
    "\n",
    "\n",
    "fig = figure(dpi=250)\n",
    "plot(x_fish_valid[heading_index_valid.==1], y_fish_valid[heading_index_valid.==1], \"k.\", markersize = 0.1)\n",
    "\n",
    "layer_rank = sortperm(neural_activity[1:end-1])\n",
    "for i = layer_rank\n",
    "    if heading_index_valid[i]==1\n",
    "        cur_value = neural_activity[i]; \n",
    "        cur_value < 0 ? cur_value = 0 : (cur_value > 1 ? cur_value = 1 : 1+1)\n",
    "        if isfinite(cur_value)\n",
    "            plot(x_fish_valid[i:i+1], y_fish_valid[i:i+1], color = [cur_value, 0, 0], alpha = 0.5, linewidth = 3)\n",
    "        else\n",
    "            plot(x_fish_valid[i:i+1], y_fish_valid[i:i+1], color = [0, 0, 0], alpha = 0.1, linewidth = 1.5)\n",
    "        end\n",
    "    end\n",
    "end\n",
    "\n",
    "imshow(img_bg_end_1', cmap=\"binary\", origin=\"lower\", alpha=0)\n",
    "xlim(400,2850)\n",
    "ylim(2000, 780)\n",
    "axis(\"off\")\n",
    "fig.savefig(joinpath(fig_path, \"$real_cell_index left_traversals.png\"), bbox_inches = \"tight\",transparent = true,pad_inches = 0)"
   ]
  },
  {
   "cell_type": "code",
   "execution_count": null,
   "id": "b0c614d9-0679-4159-9030-0c2e2350604b",
   "metadata": {
    "tags": []
   },
   "outputs": [],
   "source": [
    "neural_activity = A_dFF_1[:, real_cell_index]\n",
    "neural_activity = (neural_activity.-numpy.nanmean(neural_activity))./numpy.nanstd(neural_activity);\n",
    "x_fish_valid = x_fish_sweep_mean\n",
    "y_fish_valid = y_fish_sweep_mean\n",
    "heading_index_valid = heading_index\n",
    "fig = figure(dpi=250)\n",
    "# plot(x_fish_valid, y_fish_valid, \"k.\", markersize = 0.1)\n",
    "for i = 1:length(neural_activity)-1\n",
    "    if heading_index_valid[i]==1\n",
    "        cur_value = neural_activity[i]; \n",
    "        cur_value < 0 ? cur_value = 0 : (cur_value > 1 ? cur_value = 1 : 1+1)\n",
    "        if isfinite(cur_value) && plot_index[i]\n",
    "            plot(x_fish_valid[i:i+1], y_fish_valid[i:i+1], color = [cur_value, 0, 0], alpha = 0.5)\n",
    "        else\n",
    "            plot(x_fish_valid[i:i+1], y_fish_valid[i:i+1], color = [0, 0, 0], alpha = 0.1)\n",
    "        end\n",
    "    end\n",
    "end\n",
    "\n",
    "imshow(img_bg_end_1', cmap=\"binary\", origin=\"lower\")\n",
    "xlim(150,3150)\n",
    "ylim(500,2250)\n",
    "axis(\"equal\")\n",
    "axis(\"off\")\n"
   ]
  },
  {
   "cell_type": "code",
   "execution_count": null,
   "id": "d0a069f9-3edc-4b93-901d-39f5830b5855",
   "metadata": {},
   "outputs": [],
   "source": [
    "neural_activity = A_dFF_1[:, real_cell_index]\n",
    "neural_activity = (neural_activity.-numpy.nanmean(neural_activity))./numpy.nanstd(neural_activity);\n",
    "x_fish_valid = x_fish_sweep_mean\n",
    "y_fish_valid = y_fish_sweep_mean\n",
    "heading_index_valid = heading_index\n",
    "fig = figure(dpi=250)\n",
    "# plot(x_fish_valid, y_fish_valid, \"k.\", markersize = 0.1)\n",
    "for i = 1:length(neural_activity)-1\n",
    "    if heading_index_valid[i]==1\n",
    "        cur_value = neural_activity[i]; \n",
    "        cur_value < 0 ? cur_value = 0 : (cur_value > 1 ? cur_value = 1 : 1+1)\n",
    "        if isfinite(cur_value) && plot_index[i]\n",
    "            plot(x_fish_valid[i:i+1], y_fish_valid[i:i+1], color = [cur_value, 0, 0], alpha = 0.5)\n",
    "        else\n",
    "            plot(x_fish_valid[i:i+1], y_fish_valid[i:i+1], color = [0, 0, 0], alpha = 0.1)\n",
    "        end\n",
    "    end\n",
    "\n",
    "end\n",
    "imshow(img_bg_end_1', cmap=\"binary\", origin=\"lower\")\n",
    "xlim(150,3150)\n",
    "ylim(2250, 500)\n",
    "axis(\"equal\")"
   ]
  },
  {
   "cell_type": "code",
   "execution_count": null,
   "id": "c929740f-5626-4a03-9e1b-fba54f440925",
   "metadata": {},
   "outputs": [],
   "source": [
    "@pyimport pandas as pd"
   ]
  },
  {
   "cell_type": "code",
   "execution_count": null,
   "id": "778d3c4f-ec5a-4c15-9110-d15033ec8faf",
   "metadata": {},
   "outputs": [],
   "source": [
    "function fill_missing(vec, desired_length)\n",
    "    [vec; fill(NaN, desired_length-length(vec))]\n",
    "end"
   ]
  },
  {
   "cell_type": "code",
   "execution_count": null,
   "id": "e5740b0d-52d3-4b78-9e47-cca787423bed",
   "metadata": {},
   "outputs": [],
   "source": [
    "df_length = sum([heading_index.==0][1])"
   ]
  },
  {
   "cell_type": "code",
   "execution_count": null,
   "id": "9954f032-5f78-481f-8c67-1f9363ba99e3",
   "metadata": {},
   "outputs": [],
   "source": [
    "d = Dict(\n",
    "    \"dF, rightward traversal\" => fill_missing(neural_activity[heading_index.==0], df_length),\n",
    "    \"fish anchor x, rightward traversal\" => fill_missing(x_fish_valid[heading_index.==0], df_length),\n",
    "    \"fish anchor y, rightward traversal\" => fill_missing(y_fish_valid[heading_index.==0], df_length),\n",
    "    \n",
    "    \"dF, leftward traversal\" => fill_missing(neural_activity[heading_index.==1], df_length),\n",
    "    \"fish anchor x, leftward traversal\" => fill_missing(x_fish_valid[heading_index.==1], df_length),\n",
    "    \"fish anchor y, leftward traversal\" => fill_missing(y_fish_valid[heading_index.==1], df_length)\n",
    "\n",
    ")"
   ]
  },
  {
   "cell_type": "code",
   "execution_count": null,
   "id": "dd781dd4-eb33-4384-b07e-ac6d63cf03f6",
   "metadata": {},
   "outputs": [],
   "source": [
    "df = pd.DataFrame.from_dict(d)\n",
    "df"
   ]
  },
  {
   "cell_type": "code",
   "execution_count": null,
   "id": "07e4b71e-2c22-4071-9359-50593b1cbbad",
   "metadata": {},
   "outputs": [],
   "source": [
    "@pyimport openpyxl\n",
    "path = \"../../../figures/source_data/Source Data Fig. 1.xlsx\"\n",
    "writer = pd.ExcelWriter(path, engine = \"openpyxl\", mode=\"a\")\n",
    "df.to_excel(writer, sheet_name = \"Fig. 1e\")\n",
    "writer.close()"
   ]
  },
  {
   "cell_type": "code",
   "execution_count": null,
   "id": "865212d1-1d62-42df-ae6c-1b9c612bfd2b",
   "metadata": {},
   "outputs": [],
   "source": []
  }
 ],
 "metadata": {
  "kernelspec": {
   "display_name": "Julia 1.10.3",
   "language": "julia",
   "name": "julia-1.10"
  },
  "language_info": {
   "file_extension": ".jl",
   "mimetype": "application/julia",
   "name": "julia",
   "version": "1.10.3"
  }
 },
 "nbformat": 4,
 "nbformat_minor": 5
}
