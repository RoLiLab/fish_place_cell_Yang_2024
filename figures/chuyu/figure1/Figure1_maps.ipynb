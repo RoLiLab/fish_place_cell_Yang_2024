{
 "cells": [
  {
   "cell_type": "code",
   "execution_count": null,
   "id": "ec177126-134b-4be6-9a59-ed928758f880",
   "metadata": {},
   "outputs": [],
   "source": [
    "using ProgressMeter, PyCall, PyPlot, Images, HDF5,NaNStatistics, Statistics, DSP, Lasso, JLD2\n",
    "using _Data, _Math "
   ]
  },
  {
   "cell_type": "code",
   "execution_count": null,
   "id": "c86f871d-b182-4b0a-8c19-f6d9fdbcb764",
   "metadata": {},
   "outputs": [],
   "source": [
    "rc_params = PyDict(pyimport(\"matplotlib\")[\"rcParams\"]);\n",
    "rc_params[\"font.sans-serif\"] = [\"Arial\"];\n",
    "rc_params[\"font.size\"] = 7;\n",
    "rc_params[\"lines.linewidth\"] = 1;\n",
    "rc_params[\"lines.markersize\"] = 4;\n",
    "\n",
    "cim(img::Matrix{UInt32}) = CairoImageSurface(img, Cairo.FORMAT_RGB24; flipxy = false) \n",
    "cim(img::Matrix{ARGB32}) = cim(reinterpret(UInt32, img))\n",
    "cim(img::Matrix{RGB24}) = cim(reinterpret(UInt32, img))\n",
    "cim(img::Matrix{UInt8}) = cim(Gray.(reinterpret(N0f8, img)))\n",
    "cim(img::Array{UInt8,3}) = cim(RGB24.(reinterpret(N0f8, img[:,:,1]), reinterpret(N0f8, img[:,:,2]), reinterpret(N0f8, img[:,:,3])));downsample(img,n=4) = +([img[i:n:n*div(size(img,1)-1,n), j:n:n*div(size(img,2)-1,n)] for i = 1:n, j = 1:n]...)/(n*n);\n",
    "downsample(img,n=4) = +([img[i:n:n*div(size(img,1)-1,n), j:n:n*div(size(img,2)-1,n)] for i = 1:n, j = 1:n]...)/(n*n);"
   ]
  },
  {
   "cell_type": "code",
   "execution_count": null,
   "id": "9d59b9ed-697a-437f-8dfa-5263fd566a33",
   "metadata": {},
   "outputs": [],
   "source": [
    "@pyimport numpy\n",
    "@pyimport PIL\n",
    "@pyimport skimage.transform as skimage_transform\n",
    "@pyimport sklearn.cluster as cluster\n",
    "@pyimport matplotlib.cm as cm"
   ]
  },
  {
   "cell_type": "code",
   "execution_count": null,
   "id": "78871a3e-3f86-408a-a5ab-2ff2d0df64df",
   "metadata": {},
   "outputs": [],
   "source": [
    "include(\"../../../functions/func_map.jl\")\n",
    "include(\"../../../functions/func_stat.jl\")\n",
    "include(\"../../../functions/func_data.jl\")\n",
    "include(\"../../../functions/func_plot.jl\")"
   ]
  },
  {
   "cell_type": "code",
   "execution_count": null,
   "id": "4ac676b6-3005-4506-a4da-2702e435067a",
   "metadata": {},
   "outputs": [],
   "source": [
    "corner_cue = \n",
    "[\n",
    "    [\"20220406_111526\", 9, \"20220406_125842\", 9],\n",
    "    [\"20220407_090156\", 5, \"20220407_104712\", 5],\n",
    "    [\"20220406_153842\", 9, \"20220406_171558\", 9]\n",
    "]\n"
   ]
  },
  {
   "cell_type": "code",
   "execution_count": null,
   "id": "ff561c68-d5fc-4f51-b926-511307b37192",
   "metadata": {},
   "outputs": [],
   "source": [
    "data_all_exp = reduce(vcat, [corner_cue])"
   ]
  },
  {
   "cell_type": "code",
   "execution_count": null,
   "id": "63a799c9-d5f7-4974-9f54-a096a494655c",
   "metadata": {},
   "outputs": [],
   "source": [
    "data_all = []\n",
    "server_all = []\n",
    "for data in data_all_exp\n",
    "    if length(data).== 4\n",
    "        append!(data_all, [data[1]])\n",
    "        append!(data_all, [data[3]])\n",
    "        append!(server_all, data[2])\n",
    "        append!(server_all, data[4])\n",
    "    elseif length(data).== 2\n",
    "        append!(data_all, [data[1]])\n",
    "        append!(server_all, data[2])\n",
    "    end\n",
    "end"
   ]
  },
  {
   "cell_type": "code",
   "execution_count": null,
   "id": "a643fd9f-c9b5-449f-8259-1827f62e275b",
   "metadata": {},
   "outputs": [],
   "source": [
    "which_combo = 2\n",
    "experimenter = \"jen\""
   ]
  },
  {
   "cell_type": "code",
   "execution_count": null,
   "id": "a1f0eb01-f35f-437f-bfa6-730a8e97c45d",
   "metadata": {},
   "outputs": [],
   "source": [
    "experiment_filename_1 = data_all_exp[which_combo][1]\n",
    "server = data_all_exp[which_combo][2]\n",
    "ds_1 = Dataset(experiment_filename_1, experimenter, gethostname() == \"roli-$(server)\" ? \"/data\" : \"/nfs/data$(server)\") # This example dataset is on roli-9, so the path is different depending on whether you're trying to access the file from roli-9\n",
    "ds_save_1 = Dataset(experiment_filename_1, \"jen\", gethostname() == \"roli-$(server)\" ? \"/data\" : \"/nfs/data$(server)\")\n",
    "ds_save_cy_1 = Dataset(experiment_filename_1, \"chuyu\", gethostname() == \"roli-$(server)\" ? \"/data\" : \"/nfs/data$(server)\")\n",
    "\n",
    "experiment_filename_2 = data_all_exp[which_combo][3]\n",
    "server = data_all_exp[which_combo][4]\n",
    "ds_2 = Dataset(experiment_filename_2, experimenter, gethostname() == \"roli-$(server)\" ? \"/data\" : \"/nfs/data$(server)\") # This example dataset is on roli-9, so the path is different depending on whether you're trying to access the file from roli-9\n",
    "ds_save_2 = Dataset(experiment_filename_2, \"jen\", gethostname() == \"roli-$(server)\" ? \"/data\" : \"/nfs/data$(server)\")\n",
    "ds_save_cy_2 = Dataset(experiment_filename_2, \"chuyu\", gethostname() == \"roli-$(server)\" ? \"/data\" : \"/nfs/data$(server)\")"
   ]
  },
  {
   "cell_type": "code",
   "execution_count": null,
   "id": "857896ce-efc4-442e-90ef-19019fb0d42c",
   "metadata": {},
   "outputs": [],
   "source": [
    "@pyimport matplotlib.patches as patches"
   ]
  },
  {
   "cell_type": "code",
   "execution_count": null,
   "id": "127cfc1a-c89d-42db-847e-d3b10e59cbbb",
   "metadata": {},
   "outputs": [],
   "source": [
    "n_pos = 60"
   ]
  },
  {
   "cell_type": "code",
   "execution_count": null,
   "id": "8c10ccea-0a00-44d6-badc-97b42e28fc40",
   "metadata": {},
   "outputs": [],
   "source": [
    "# orientation-corrected fish location (time binned)\n",
    "position_file = h5open(joinpath(data_path(ds_save_cy_1), \"oblique_corrected\", \"for_place_calculation_chamber_geometry_$(experiment_filename_1)_n60_oblique_corrected.h5\"))\n",
    "x_fish_sweep_mean = read(position_file,\"x_fish_sweep_mean\")\n",
    "y_fish_sweep_mean = read(position_file,\"y_fish_sweep_mean\")\n",
    "mask_valid = read(position_file,\"mask_valid\")\n",
    "x_digital = read(position_file,\"x_digital\")\n",
    "y_digital = read(position_file,\"y_digital\")\n",
    "x_bins = read(position_file,\"x_bins\")\n",
    "y_bins = read(position_file,\"y_bins\")\n",
    "# chamber_roi = read(position_file,\"chamber_roi\")\n",
    "what_angle = read(position_file,\"what_angle\")\n",
    "close(position_file)\n",
    "mask_invalid = .!mask_valid;\n",
    "loc_digital = (y_digital.-1).*n_pos.+x_digital;"
   ]
  },
  {
   "cell_type": "code",
   "execution_count": null,
   "id": "b30d94bb-774f-435f-977d-e7e53d9e9237",
   "metadata": {},
   "outputs": [],
   "source": [
    "ds_save_cy_roi = Dataset(\"20220406_111526\", \"chuyu\", gethostname() == \"roli-$(9)\" ? \"/data\" : \"/nfs/data$(9)\")\n",
    "orientation_correction_file = h5open(joinpath(data_path(ds_save_cy_roi), \"old/orientation_correction.h5\"))\n",
    "chamber_roi = read(orientation_correction_file,\"chamber_roi_r\")\n",
    "close(orientation_correction_file)\n",
    "\n",
    "chamber_roi[chamber_roi.!=0].=1;"
   ]
  },
  {
   "cell_type": "code",
   "execution_count": null,
   "id": "5fca9679-c1ad-4ce8-a6f7-b659e934a071",
   "metadata": {},
   "outputs": [],
   "source": [
    "img_bg_1 = h5open(ds_save_1, \"behavior.h5\"; raw = true) do file\n",
    "    read(file, \"img_bg\")\n",
    "end;\n",
    "\n",
    "global img_bg_end_1 = img_bg_1[:,:,end]\n",
    "\n",
    "global w = size(img_bg_end_1, 1)\n",
    "global l = size(img_bg_end_1, 2)"
   ]
  },
  {
   "cell_type": "code",
   "execution_count": null,
   "id": "9196d395-f17b-452f-b286-0703a0492b9b",
   "metadata": {},
   "outputs": [],
   "source": [
    "NMF_filename = joinpath(data_path(ds_save_cy_1), \"NMF_merge.h5\")\n",
    "NMF_file = h5open(NMF_filename, \"r\")\n",
    "global Z_all = HDF5.readmmap(NMF_file[\"Z_all\"])\n",
    "global X_all = HDF5.readmmap(NMF_file[\"X_all\"])\n",
    "global Y_all = HDF5.readmmap(NMF_file[\"Y_all\"])\n",
    "global neuron_label = HDF5.readmmap(NMF_file[\"neuron_label\"])\n",
    "global A_dFF_1 = HDF5.readmmap(NMF_file[\"A_dF\"]); # bs update\n",
    "global A_baseline_1 = HDF5.readmmap(NMF_file[\"A_baseline\"]); # bs update\n",
    "close(NMF_file)\n",
    "\n",
    "\n",
    "n_neuron = length(X_all);"
   ]
  },
  {
   "cell_type": "code",
   "execution_count": null,
   "id": "954b900d-8476-4cc4-862f-604fd720f03b",
   "metadata": {},
   "outputs": [],
   "source": [
    "file_folder_1 = joinpath(data_path(ds_save_cy_1), \"oblique_corrected\")\n",
    "all_files = readdir(file_folder_1)\n",
    "long_name_files = all_files[findall([length(all_files[i])>6 for i in 1:length(all_files)])]\n",
    "spatial_info_index = [occursin(\"A_dF\", long_name_files[i])*occursin(\"neuron\", long_name_files[i]) for i in 1:length(long_name_files)]\n",
    "candidate_filename = long_name_files[spatial_info_index]\n",
    "which_file = [occursin(experiment_filename_1, candidate_filename[i])*occursin(\"A_dF\", candidate_filename[i]) for i in 1:length(candidate_filename)]\n",
    "println(candidate_filename[which_file])\n",
    "@assert(length(candidate_filename[which_file]) == 1)\n",
    "save_file_name = candidate_filename[which_file][1]\n",
    "info_filename = joinpath(file_folder_1, save_file_name)\n",
    "file = h5open(info_filename, \"r\")\n",
    "place_map_all_1 = HDF5.readmmap(file[\"place_map_all\"])\n",
    "specificity_1 = HDF5.readmmap(file[\"specificity\"])\n",
    "specificity_population_z_1 = HDF5.readmmap(file[\"specificity_population_z\"])\n",
    "valid_roi_1 = HDF5.readmmap(file[\"valid_neurons\"])\n",
    "plot_index = HDF5.readmmap(file[\"bool_index\"])\n",
    "close(file)"
   ]
  },
  {
   "cell_type": "code",
   "execution_count": null,
   "id": "62f2fcf9-50e9-48e6-b405-189742bd7bcf",
   "metadata": {},
   "outputs": [],
   "source": [
    "# match the frames if we have offsets\n",
    "n_neurons = size(A_dFF_1, 2)\n",
    "n_sweeps = size(A_dFF_1, 1)\n",
    "\n",
    "x_fish_sweep_mean = x_fish_sweep_mean[1:n_sweeps]\n",
    "y_fish_sweep_mean = y_fish_sweep_mean[1:n_sweeps];"
   ]
  },
  {
   "cell_type": "code",
   "execution_count": null,
   "id": "db93101d-f275-4555-9509-125dfeb1570b",
   "metadata": {},
   "outputs": [],
   "source": [
    "plot(x_fish_sweep_mean)"
   ]
  },
  {
   "cell_type": "code",
   "execution_count": null,
   "id": "148d5ba5-8228-4b89-a033-f3fcb05c7217",
   "metadata": {},
   "outputs": [],
   "source": [
    "\n",
    "chamber_roi_mask = Float32.(copy(chamber_roi))\n",
    "chamber_roi_mask[chamber_roi_mask.!=0].= NaN32;\n",
    "\n",
    "\n",
    "img_bg_mask = copy(img_bg_end_1)\n",
    "img_bg_mask[img_bg_mask.==0].=NaN32\n",
    "img_bg_mask[Float32.(chamber_roi).!=0].=NaN32;"
   ]
  },
  {
   "cell_type": "code",
   "execution_count": null,
   "id": "61128c5e-0d39-4bba-99fc-11e831a1a603",
   "metadata": {},
   "outputs": [],
   "source": [
    "imshow(chamber_roi_mask)"
   ]
  },
  {
   "cell_type": "code",
   "execution_count": null,
   "id": "956238a4-485b-4b8c-9bc8-8de42e9e500e",
   "metadata": {},
   "outputs": [],
   "source": [
    "imshow(chamber_roi)\n",
    "\n",
    "chamber_roi[chamber_roi.!=0].=1;\n",
    "countour = find_contours(chamber_roi)[1];\n",
    "countour_array = hcat(getindex.(countour, 1), getindex.(countour,2));"
   ]
  },
  {
   "cell_type": "code",
   "execution_count": null,
   "id": "bf30cf48-dbea-41a3-9671-48b581458e37",
   "metadata": {},
   "outputs": [],
   "source": [
    "good_candidates = [62717, 9097, 34019, 62722, 63668, 27105]"
   ]
  },
  {
   "cell_type": "code",
   "execution_count": null,
   "id": "e700f136-891b-4d14-9cb5-1ed15fdc9870",
   "metadata": {},
   "outputs": [],
   "source": [
    "mask_valid = isfinite.(place_map_all_1[:,:,1])\n",
    "\n",
    "mask_valid_index = findall(mask_valid)\n",
    "mask_valid_x = [x[1] for x in mask_valid_index]\n",
    "mask_valid_y = [x[2] for x in mask_valid_index];\n",
    "mask_valid_x_min = minimum(mask_valid_x)\n",
    "mask_valid_x_max = maximum(mask_valid_x)\n",
    "mask_valid_y_min = minimum(mask_valid_y)\n",
    "mask_valid_y_max = maximum(mask_valid_y);"
   ]
  },
  {
   "cell_type": "code",
   "execution_count": null,
   "id": "a7a6dd80-64b2-4ad8-9eeb-af3c8d6a1010",
   "metadata": {},
   "outputs": [],
   "source": [
    "fig_path = \"/home/chuyu/Notebooks/project_place_cell/figures/output/figure1/place_cell_examples\"\n",
    "mkpath(fig_path)"
   ]
  },
  {
   "cell_type": "code",
   "execution_count": null,
   "id": "9a2b5d40-28ac-449d-8381-129d213df0ee",
   "metadata": {},
   "outputs": [],
   "source": [
    "# example cells\n",
    "\n",
    "valid_frame = isnan.(chamber_roi_mask[:,:,1]); # bs update\n",
    "ymin = findfirst(sum(valid_frame;dims=1).!=0)[2]-10; # bs update\n",
    "ymax = findlast(sum(valid_frame;dims=1).!=0)[2]+10; # bs update\n",
    "xmin = findfirst(sum(valid_frame;dims=2).!=0)[1]-10; # bs update\n",
    "xmax = findlast(sum(valid_frame;dims=2).!=0)[1]+10; # bs update\n",
    "\n",
    "for real_cell_index in good_candidates\n",
    "    fig = figure()\n",
    "    example_map = place_map_all_1[mask_valid_x_min:mask_valid_x_max,mask_valid_y_min:mask_valid_y_max,real_cell_index]\n",
    "    example_map = (example_map.-nanmean(example_map))./nanstd(example_map)\n",
    "    sp1 = imshow(example_map', extent = [x_bins[mask_valid_x_min], x_bins[mask_valid_x_max+1], y_bins[mask_valid_y_min], y_bins[mask_valid_y_max+1]], cmap=\"jet\", origin=\"lower\")\n",
    "    imshow(chamber_roi_mask', cmap=\"binary\", origin=\"lower\")\n",
    "    axis(\"off\")\n",
    "    xlim(xmin, xmax)\n",
    "    ylim(ymax, ymin)\n",
    "    tight_layout()\n",
    "    fig.savefig(joinpath(fig_path, \"$(experiment_filename_1)_$real_cell_index map1.png\"), bbox_inches = \"tight\",transparent = true,pad_inches = 0)\n",
    "end"
   ]
  },
  {
   "cell_type": "code",
   "execution_count": null,
   "id": "a6fc0e66-de9c-4d7d-8d9c-ccd29051a6ea",
   "metadata": {},
   "outputs": [],
   "source": [
    "function activity_trajectory(neural_activity, x_fish_valid, y_fish_valid,alpha=1)\n",
    "    \"\"\"\n",
    "    neural_activity: activity in the chosen period\n",
    "    x_fish_valid: fish location x in the chosen period\n",
    "    y_fish_valid: fish location y in the chosen period\n",
    "    alpha : alpha for the background\n",
    "    \"\"\"\n",
    "    fig = figure(dpi=250)\n",
    "    plot(x_fish_valid, y_fish_valid, \"k.\", markersize = 0.1)\n",
    "    \n",
    "    layer_rank = sortperm(neural_activity[1:end-1])\n",
    "    for i = layer_rank\n",
    "        cur_value = neural_activity[i]; \n",
    "        cur_value < 0 ? cur_value = 0 : (cur_value > 1 ? cur_value = 1 : 1+1)\n",
    "        if isfinite(cur_value)\n",
    "            plot(x_fish_valid[i:i+1], y_fish_valid[i:i+1], color = [cur_value, 0, 0], alpha = 0.5, linewidth = 2)\n",
    "        else\n",
    "            plot(x_fish_valid[i:i+1], y_fish_valid[i:i+1], color = [0, 0, 0], alpha = 0.1)\n",
    "        end\n",
    "\n",
    "    end\n",
    "    imshow(img_bg_end_1', cmap=\"binary\", origin=\"lower\",alpha=alpha)\n",
    "    axis(\"off\")\n",
    "    return fig\n",
    "end"
   ]
  },
  {
   "cell_type": "code",
   "execution_count": null,
   "id": "f5065f52-59cf-4625-8d4b-7cc1eced6434",
   "metadata": {
    "tags": []
   },
   "outputs": [],
   "source": [
    "for real_cell_index in good_candidates\n",
    "    neural_activity = A_dFF_1[plot_index, real_cell_index]\n",
    "    neural_activity = (neural_activity.-numpy.nanmean(neural_activity))./numpy.nanstd(neural_activity)/3;\n",
    "    x_fish_valid = x_fish_sweep_mean[plot_index]\n",
    "    y_fish_valid = y_fish_sweep_mean[plot_index]\n",
    "    fig = activity_trajectory(neural_activity, x_fish_valid, y_fish_valid,0)\n",
    "    xlim(xmin, xmax)\n",
    "    ylim(ymax, ymin)\n",
    "    axis(\"off\")\n",
    "    fig.savefig(joinpath(fig_path,  \"$(experiment_filename_1)_$real_cell_index traj1.png\"), bbox_inches = \"tight\",transparent = true,pad_inches = 0)\n",
    "end"
   ]
  },
  {
   "cell_type": "code",
   "execution_count": null,
   "id": "b5c77ef5-2a15-47c7-b972-910b3df1f445",
   "metadata": {},
   "outputs": [],
   "source": []
  }
 ],
 "metadata": {
  "kernelspec": {
   "display_name": "Julia 1.10.3",
   "language": "julia",
   "name": "julia-1.10"
  },
  "language_info": {
   "file_extension": ".jl",
   "mimetype": "application/julia",
   "name": "julia",
   "version": "1.10.3"
  }
 },
 "nbformat": 4,
 "nbformat_minor": 5
}
