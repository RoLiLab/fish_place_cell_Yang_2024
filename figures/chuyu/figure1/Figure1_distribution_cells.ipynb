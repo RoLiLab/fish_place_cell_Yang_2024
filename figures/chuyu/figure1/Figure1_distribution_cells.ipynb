{
 "cells": [
  {
   "cell_type": "code",
   "execution_count": null,
   "id": "6abd0d28-b929-4604-80f3-2848fbe9ee9c",
   "metadata": {
    "tags": []
   },
   "outputs": [],
   "source": [
    "using DelimitedFiles,HDF5, PyCall, PyPlot, NRRD,FileIO, TiffImages,Images, ProgressMeter, Statistics,LinearAlgebra, NaNStatistics\n",
    "using _Data"
   ]
  },
  {
   "cell_type": "code",
   "execution_count": null,
   "id": "6716d7fe-dd81-4bcf-a7e0-0b40e8e0b21a",
   "metadata": {
    "tags": []
   },
   "outputs": [],
   "source": [
    "@pyimport numpy\n",
    "@pyimport matplotlib.patches as patches\n",
    "@pyimport scipy.ndimage as ndimage\n",
    "@pyimport pandas as pd\n",
    "@pyimport seaborn as sns\n",
    "@pyimport scipy.stats as stats"
   ]
  },
  {
   "cell_type": "code",
   "execution_count": null,
   "id": "5ab64a98-0034-4b83-acf7-95b4d4d4234b",
   "metadata": {
    "tags": []
   },
   "outputs": [],
   "source": [
    "include(\"../../../functions/func_map.jl\")\n",
    "include(\"../../../functions/func_stat.jl\")\n",
    "include(\"../../../functions/func_data.jl\")\n",
    "include(\"../../../functions/func_plot.jl\")"
   ]
  },
  {
   "cell_type": "code",
   "execution_count": null,
   "id": "2143ec20-d9d8-4fda-abdc-d647835d046d",
   "metadata": {
    "tags": []
   },
   "outputs": [],
   "source": [
    "rc_params = PyDict(pyimport(\"matplotlib\")[\"rcParams\"]);\n",
    "rc_params[\"font.sans-serif\"] = [\"Arial\"];\n",
    "rc_params[\"font.size\"] = 7;\n",
    "rc_params[\"lines.linewidth\"] = 1;\n",
    "rc_params[\"lines.markersize\"] = 4;\n",
    "rc_params[\"xtick.major.size\"] = 2;\n",
    "rc_params[\"ytick.major.size\"] = 2;\n",
    "rc_params[\"xtick.major.pad\"] = 2;\n",
    "rc_params[\"ytick.major.pad\"] = 2;\n",
    "# rc_params[\"axes.labelpad\"] = 2;\n",
    "\n",
    "cim(img::Matrix{UInt32}) = CairoImageSurface(img, Cairo.FORMAT_RGB24; flipxy = false) \n",
    "cim(img::Matrix{ARGB32}) = cim(reinterpret(UInt32, img))\n",
    "cim(img::Matrix{RGB24}) = cim(reinterpret(UInt32, img))\n",
    "cim(img::Matrix{UInt8}) = cim(Gray.(reinterpret(N0f8, img)))\n",
    "cim(img::Array{UInt8,3}) = cim(RGB24.(reinterpret(N0f8, img[:,:,1]), reinterpret(N0f8, img[:,:,2]), reinterpret(N0f8, img[:,:,3])));downsample(img,n=4) = +([img[i:n:n*div(size(img,1)-1,n), j:n:n*div(size(img,2)-1,n)] for i = 1:n, j = 1:n]...)/(n*n);\n",
    "downsample(img,n=4) = +([img[i:n:n*div(size(img,1)-1,n), j:n:n*div(size(img,2)-1,n)] for i = 1:n, j = 1:n]...)/(n*n);"
   ]
  },
  {
   "cell_type": "code",
   "execution_count": null,
   "id": "4aa1227b-873d-4768-bdc7-4e897e475362",
   "metadata": {
    "tags": []
   },
   "outputs": [],
   "source": [
    "fig_path = \"/home/chuyu/Notebooks/project_place_cell/figures/output/figure1\"\n",
    "mkpath(fig_path)"
   ]
  },
  {
   "cell_type": "code",
   "execution_count": null,
   "id": "1d482b10-2164-4942-bb04-c4d83142121a",
   "metadata": {
    "tags": []
   },
   "outputs": [],
   "source": [
    "ds_save_cy_ref = Dataset(\"20220416_123633\", \"chuyu\", gethostname() == \"roli-$(5)\" ? \"/data\" : \"/nfs/data$(5)\")\n",
    "# load atlas \n",
    "atlas_ref_img = TiffImages.load(data_path(ds_save_cy_ref)*\"/Elavl3-H2BRFP.tif\");\n",
    "atlas_ref = convert(Array{Float32}, atlas_ref_img);\n",
    "\n",
    "stack_img = fill(NaN32, size(atlas_ref,2), size(atlas_ref,1), size(atlas_ref,3))\n",
    "for (i, z) in enumerate(1:size(atlas_ref,3))\n",
    "    stack_img[:,:,i].= atlas_ref[:,:,z]'\n",
    "end\n",
    "\n",
    "\n"
   ]
  },
  {
   "cell_type": "code",
   "execution_count": null,
   "id": "4ad30de3-4e93-417e-ae47-d614e8b39c0e",
   "metadata": {
    "tags": []
   },
   "outputs": [],
   "source": [
    "data_all_exp = \n",
    "[\n",
    "    [\"20220407_152537\", 4, \"jen\"],\n",
    "    [\"20220406_111526\", 9, \"jen\"],\n",
    "    [\"20220407_090156\", 5, \"jen\"],\n",
    "    [\"20220417_165530\", 2, \"jen\"],\n",
    "    [\"20220406_153842\", 9, \"jen\"],\n",
    "    [\"20220405_171444\", 25, \"jen\"],\n",
    "    [\"20220416_160516\", 6, \"jen\"]\n",
    "];"
   ]
  },
  {
   "cell_type": "markdown",
   "id": "f6a43102-a5af-41a9-a5fe-9df012f4d2bb",
   "metadata": {},
   "source": [
    "# Anatomy"
   ]
  },
  {
   "cell_type": "code",
   "execution_count": null,
   "id": "40ba380b-aa3c-48c6-871b-9bf7a6ee56d4",
   "metadata": {
    "tags": []
   },
   "outputs": [],
   "source": [
    "distance_all = zeros(Float32, 11,11,11)\n",
    "x_index, y_index, z_index = numpy.meshgrid(1:size(distance_all, 1),1:size(distance_all, 2), 1:size(distance_all, 3))\n",
    "for i in 1:length(x_index)\n",
    "    x = x_index[i]\n",
    "    y = y_index[i]\n",
    "    z = z_index[i]\n",
    "    distance_all[x, y, z] = norm([x-Int32.(ceil(size(distance_all, 1)/2)), y-Int32.(ceil(size(distance_all, 2)/2)), 2*(z-Int32.(ceil(size(distance_all, 3)/2)))]);\n",
    "end\n",
    "\n",
    "kernel = Int32.(collect(distance_all.<=5)); #check this"
   ]
  },
  {
   "cell_type": "code",
   "execution_count": null,
   "id": "f3528e17-eeeb-4b09-a183-578964911f35",
   "metadata": {
    "tags": []
   },
   "outputs": [],
   "source": [
    "@pyimport matplotlib.colors as mpl_colors\n",
    "@pyimport matplotlib.cm as cm "
   ]
  },
  {
   "cell_type": "code",
   "execution_count": null,
   "id": "9998d586-2490-45a1-9d82-2930e9152720",
   "metadata": {
    "tags": []
   },
   "outputs": [],
   "source": [
    "hot = cm.get_cmap(\"hot\", 100)\n",
    "alpha_top = 50\n",
    "cmaplist = [hot(i) for i in 1:(hot.N)]\n",
    "cmaplist_new = []\n",
    "length_cmaplist = length(cmaplist)\n",
    "for (i, color_) in enumerate(cmaplist)\n",
    "    new_color_ = numpy.copy(color_)\n",
    "    if i<=alpha_top\n",
    "        new_color_[4] = (100/alpha_top)*i/length_cmaplist\n",
    "    end\n",
    "    append!(cmaplist_new,[new_color_]) \n",
    "end\n",
    "hot_new = mpl_colors.LinearSegmentedColormap.from_list(\"hot_new\",cmaplist_new,100)"
   ]
  },
  {
   "cell_type": "code",
   "execution_count": null,
   "id": "95032ded-7122-4fbd-bd2f-602cb3e0960e",
   "metadata": {
    "tags": []
   },
   "outputs": [],
   "source": [
    "## cell loc\n",
    "analyzer = \"chuyu\"\n",
    "cell_locs_all = []\n",
    "cell_locs_all_original = []\n",
    "experiment_filename_all = []\n",
    "specificity_population_z_all = []\n",
    "place_cell_index_all = []\n",
    "for which_combo in 1:length(data_all_exp)\n",
    "    data_combo = data_all_exp[which_combo]\n",
    "    experiment_filename_1 = data_combo[1]\n",
    "    server_1 = data_combo[2]\n",
    "\n",
    "    experimenter = data_combo[end]\n",
    "    ds_save_1 = Dataset(experiment_filename_1, experimenter, gethostname() == \"roli-$(server_1)\" ? \"/data\" : \"/nfs/data$(server_1)\")\n",
    "    ds_save_cy_1 = Dataset(experiment_filename_1, \"chuyu\", gethostname() == \"roli-$(server_1)\" ? \"/data\" : \"/nfs/data$(server_1)\")\n",
    "    ds_save_analyzer_1 = Dataset(experiment_filename_1, analyzer, gethostname() == \"roli-$(server_1)\" ? \"/data\" : \"/nfs/data$(server_1)\")\n",
    "\n",
    "    NMF_filename = joinpath(data_path(ds_save_cy_1), \"NMF_merge.h5\")\n",
    "    NMF_file = h5open(NMF_filename, \"r\")\n",
    "    global Z_all = HDF5.readmmap(NMF_file[\"Z_all\"])\n",
    "    global X_all = HDF5.readmmap(NMF_file[\"X_all\"])\n",
    "    global Y_all = HDF5.readmmap(NMF_file[\"Y_all\"])\n",
    "    global neuron_label = HDF5.readmmap(NMF_file[\"neuron_label\"])\n",
    "    close(NMF_file)\n",
    "\n",
    "    n_neurons = length(X_all)\n",
    "    cell_locs = fill(NaN32, n_neurons, 3)\n",
    "    cell_locs[:, 1] = X_all\n",
    "    cell_locs[:, 2] = Y_all\n",
    "    cell_locs[:, 3] = Z_all\n",
    "    append!(cell_locs_all_original,[cell_locs]);\n",
    "    \n",
    "    all_files = readdir(data_path(ds_save_cy_1))\n",
    "    long_name_files = all_files[findall([length(all_files[i])>6 for i in 1:length(all_files)])]\n",
    "    spatial_info_index = findall([long_name_files[i][1:6]==\"neuron\" for i in 1:length(long_name_files)])\n",
    "    candidate_filename = long_name_files[spatial_info_index]\n",
    "    which_file = [occursin(experiment_filename_1, candidate_filename[i])*!occursin(\"shuffleall\", candidate_filename[i])*occursin(\"A_dF\", candidate_filename[i]) for i in 1:length(candidate_filename)]\n",
    "    @assert(length(candidate_filename[which_file]) == 1)\n",
    "    save_file_name = candidate_filename[which_file][1]\n",
    "    info_filename = joinpath(data_path(ds_save_cy_1), save_file_name)\n",
    "    file = h5open(info_filename, \"r\")\n",
    "    specificity_population_z_1 = HDF5.readmmap(file[\"specificity_population_z\"])\n",
    "    if haskey(file, \"place_cell_index\")\n",
    "        place_cell_index = HDF5.readmmap(file[\"place_cell_index\"])    \n",
    "    else\n",
    "        place_cell_index = read(h5open(joinpath(data_path(ds_save_cy_1), \"compare_map_results_original.h5\")), \"place_cell_index_1\")\n",
    "    end    \n",
    "    close(file)\n",
    "    \n",
    "    append!(specificity_population_z_all,[specificity_population_z_1])\n",
    "        \n",
    "    loc_save_path = joinpath(data_path(ds_save_cy_1), \"$experiment_filename_1\"*\"_engert\")\n",
    "    registered_cell_locs_original = readdlm(joinpath(loc_save_path, experiment_filename_1*\"_nmf_loc_engert_registered.txt\"));\n",
    "    registered_cell_locs = registered_cell_locs_original[:,1:3];\n",
    "\n",
    "\n",
    "    atlas_cell_locs = Int32.(round.(registered_cell_locs));\n",
    "    atlas_cell_locs[:,1] .+= 329;\n",
    "    atlas_cell_locs[:,2] .+= 41;\n",
    "\n",
    "    atlas_cell_locs[:,1] .= size(stack_img,1).-atlas_cell_locs[:,1];\n",
    "    atlas_cell_locs[:,3] .= size(stack_img,3).-atlas_cell_locs[:,3];\n",
    "\n",
    "    cell_locs = fill(NaN32, n_neurons, 3)\n",
    "    @showprogress for (i, which_neuron) in enumerate(1:n_neurons)\n",
    "        cell_locs[i, :] = mean(atlas_cell_locs[neuron_label.==which_neuron, :], dims=1)\n",
    "\n",
    "    end\n",
    "    \n",
    "    append!(cell_locs_all,[cell_locs]);\n",
    "    append!(experiment_filename_all,[experiment_filename_1]);\n",
    "    append!(place_cell_index_all, [place_cell_index])\n",
    "end"
   ]
  },
  {
   "cell_type": "code",
   "execution_count": null,
   "id": "f66bbd24-95ca-48d9-a950-b7a28d882e4d",
   "metadata": {
    "tags": []
   },
   "outputs": [],
   "source": [
    "cell_number_all = []\n",
    "for which_combo in 1:length(data_all_exp)\n",
    "    data_combo = data_all_exp[which_combo]\n",
    "    experiment_filename_1 = data_combo[1]\n",
    "    server_1 = data_combo[2]\n",
    "\n",
    "    experimenter = data_combo[end]\n",
    "    ds_save_1 = Dataset(experiment_filename_1, experimenter, gethostname() == \"roli-$(server_1)\" ? \"/data\" : \"/nfs/data$(server_1)\")\n",
    "    ds_save_cy_1 = Dataset(experiment_filename_1, \"chuyu\", gethostname() == \"roli-$(server_1)\" ? \"/data\" : \"/nfs/data$(server_1)\")\n",
    "    ds_save_analyzer_1 = Dataset(experiment_filename_1, analyzer, gethostname() == \"roli-$(server_1)\" ? \"/data\" : \"/nfs/data$(server_1)\")\n",
    "\n",
    "    NMF_filename = joinpath(data_path(ds_save_cy_1), \"NMF_merge.h5\")\n",
    "    NMF_file = h5open(NMF_filename, \"r\")\n",
    "    global Z_all = HDF5.readmmap(NMF_file[\"Z_all\"])\n",
    "    global X_all = HDF5.readmmap(NMF_file[\"X_all\"])\n",
    "    global Y_all = HDF5.readmmap(NMF_file[\"Y_all\"])\n",
    "    global neuron_label = HDF5.readmmap(NMF_file[\"neuron_label\"])\n",
    "    close(NMF_file)\n",
    "    \n",
    "    println(nanmaximum(neuron_label))\n",
    "    append!(cell_number_all, nanmaximum(neuron_label))\n",
    "\n",
    "    \n",
    "end"
   ]
  },
  {
   "cell_type": "code",
   "execution_count": null,
   "id": "9d36ca1b-af8d-4e7e-9208-49b7e6e00275",
   "metadata": {
    "tags": []
   },
   "outputs": [],
   "source": [
    "# exluding one fish solved with eta0\n",
    "\n",
    "mean([\n",
    "\n",
    "86117.0\n",
    "71361.0\n",
    "78946.0\n",
    "64333.0\n",
    "81924.0\n",
    "59044.0\n",
    "])"
   ]
  },
  {
   "cell_type": "code",
   "execution_count": null,
   "id": "cdec87b4-9d63-4525-93f2-c23cc173725d",
   "metadata": {
    "tags": []
   },
   "outputs": [],
   "source": [
    "std([\n",
    "\n",
    "86117.0\n",
    "71361.0\n",
    "78946.0\n",
    "64333.0\n",
    "81924.0\n",
    "59044.0\n",
    "])"
   ]
  },
  {
   "cell_type": "code",
   "execution_count": null,
   "id": "da14b98e-2237-43b6-a727-2e8a60938b70",
   "metadata": {
    "tags": []
   },
   "outputs": [],
   "source": [
    "for which_combo in 1:length(data_all_exp)\n",
    "    data_combo = data_all_exp[which_combo]\n",
    "    experiment_filename_1 = data_combo[1]\n",
    "    server_1 = data_combo[2]\n",
    "\n",
    "    experimenter = data_combo[end]\n",
    "    ds_save_1 = Dataset(experiment_filename_1, experimenter, gethostname() == \"roli-$(server_1)\" ? \"/data\" : \"/nfs/data$(server_1)\")\n",
    "    ds_save_cy_1 = Dataset(experiment_filename_1, \"chuyu\", gethostname() == \"roli-$(server_1)\" ? \"/data\" : \"/nfs/data$(server_1)\")\n",
    "    ds_save_analyzer_1 = Dataset(experiment_filename_1, analyzer, gethostname() == \"roli-$(server_1)\" ? \"/data\" : \"/nfs/data$(server_1)\")\n",
    "\n",
    "    NMF_filename = joinpath(data_path(ds_save_cy_1), \"NMF_merge.h5\")\n",
    "    NMF_file = h5open(NMF_filename, \"r\")\n",
    "    global Z_all = HDF5.readmmap(NMF_file[\"Z_all\"])\n",
    "    global X_all = HDF5.readmmap(NMF_file[\"X_all\"])\n",
    "    global Y_all = HDF5.readmmap(NMF_file[\"Y_all\"])\n",
    "    global neuron_label = HDF5.readmmap(NMF_file[\"neuron_label\"])\n",
    "    close(NMF_file)\n",
    "    \n",
    "    println(1- nanmaximum(neuron_label)./sum(isfinite.(neuron_label)))\n",
    "end"
   ]
  },
  {
   "cell_type": "code",
   "execution_count": null,
   "id": "b498fd17-594b-4d9e-8cc9-91cad352311f",
   "metadata": {
    "tags": []
   },
   "outputs": [],
   "source": [
    "mean([0.2678433\n",
    "0.27929103\n",
    "0.28596365\n",
    "0.3102498\n",
    "0.31566328\n",
    "0.24656099])"
   ]
  },
  {
   "cell_type": "code",
   "execution_count": null,
   "id": "ac27316c-3b32-4239-8177-39ae7299b811",
   "metadata": {
    "tags": []
   },
   "outputs": [],
   "source": [
    "std([0.2678433\n",
    "0.27929103\n",
    "0.28596365\n",
    "0.3102498\n",
    "0.31566328\n",
    "0.24656099])"
   ]
  },
  {
   "cell_type": "code",
   "execution_count": null,
   "id": "78c67bc1-8966-4f7b-8429-76b978a97bee",
   "metadata": {
    "tags": []
   },
   "outputs": [],
   "source": [
    "for place_cell_index in place_cell_index_all\n",
    "    println(length(place_cell_index))\n",
    "end"
   ]
  },
  {
   "cell_type": "code",
   "execution_count": null,
   "id": "90861123-8cd2-49a0-8f51-d7b07327d740",
   "metadata": {
    "tags": []
   },
   "outputs": [],
   "source": [
    "mean([length(place_cell_index_all[i]) for i in 1:length(place_cell_index_all)])"
   ]
  },
  {
   "cell_type": "code",
   "execution_count": null,
   "id": "aa655bdd-e6d9-41fd-a861-c0f229f17239",
   "metadata": {
    "tags": []
   },
   "outputs": [],
   "source": [
    "std([length(place_cell_index_all[i]) for i in 1:length(place_cell_index_all)])"
   ]
  },
  {
   "cell_type": "code",
   "execution_count": null,
   "id": "bbb6bbba-f86f-4c34-b261-d40aafaddabe",
   "metadata": {
    "tags": []
   },
   "outputs": [],
   "source": [
    "function fill_nan(vec, desired_length)\n",
    "    original_length = length(vec)\n",
    "    new_vec = fill!(Array{Float64,1}(undef, desired_length), NaN)\n",
    "    new_vec[1:original_length] = vec\n",
    "    return new_vec\n",
    "end"
   ]
  },
  {
   "cell_type": "code",
   "execution_count": null,
   "id": "717ca6de-6304-4803-a7f9-71abc6954c0e",
   "metadata": {
    "tags": []
   },
   "outputs": [],
   "source": [
    "cell_locs_tog = reduce(vcat,cell_locs_all)[:,1:3];"
   ]
  },
  {
   "cell_type": "code",
   "execution_count": null,
   "id": "e61ce8c7-9073-4f64-aedc-6c68348eade9",
   "metadata": {
    "tags": []
   },
   "outputs": [],
   "source": [
    "place_cell_locs_all = [cell_locs_all[i][place_cell_index_all[i],:] for i in 1:length(cell_locs_all)]\n",
    "place_cell_locs_tog = reduce(vcat,place_cell_locs_all)[:,1:3];"
   ]
  },
  {
   "cell_type": "code",
   "execution_count": null,
   "id": "41599295-17c8-4881-82bf-8c43d6f47b6f",
   "metadata": {
    "tags": []
   },
   "outputs": [],
   "source": [
    "fig, ax = subplots(1,1,dpi=250, figsize=(15,10))\n",
    "for (i,cell_locs) in enumerate(cell_locs_all)\n",
    "    place_cell_index = Int32.(place_cell_index_all[i])\n",
    "    ax.scatter(cell_locs[place_cell_index,1], cell_locs[place_cell_index,2], s=2, label=experiment_filename_all[i])\n",
    "end\n",
    "ax.set_aspect(\"equal\", \"box\")\n",
    "ax.legend()\n",
    "\n",
    "\n",
    "fig_bg = maximum(stack_img, dims=3)[:,:,1]\n",
    "ax.imshow(fig_bg', cmap=\"gray\")\n",
    "# axvline(620)\n",
    "# axvline(450)"
   ]
  },
  {
   "cell_type": "code",
   "execution_count": null,
   "id": "8cd30f9d-5471-4804-8e3d-b5b3c12112f4",
   "metadata": {
    "tags": []
   },
   "outputs": [],
   "source": [
    "for (i,cell_locs) in enumerate(cell_locs_all)\n",
    "    fig, ax = subplots(1,1,dpi=250)\n",
    "\n",
    "    place_cell_index = Int32.(place_cell_index_all[i])\n",
    "    ax.scatter(cell_locs[place_cell_index,1], cell_locs[place_cell_index,2], s=2, label=experiment_filename_all[i])\n",
    "    \n",
    "    fig_bg = maximum(stack_img, dims=3)[:,:,1]\n",
    "    ax.imshow(fig_bg', cmap=\"gray\")\n",
    "    \n",
    "    ax.set_aspect(\"equal\", \"box\")\n",
    "    ax.legend()\n",
    "    \n",
    "    fig, ax = subplots(1,1,dpi=250)\n",
    "\n",
    "    place_cell_index = Int32.(place_cell_index_all[i])\n",
    "    ax.scatter(cell_locs[place_cell_index,1], cell_locs[place_cell_index,3], s=2, label=experiment_filename_all[i])\n",
    "    \n",
    "    fig_bg = maximum(stack_img, dims=2)[:,1,:]\n",
    "    ax.imshow(fig_bg', cmap=\"gray\",aspect=2/0.798)\n",
    "    \n",
    "    ax.legend()\n",
    "end\n",
    "\n"
   ]
  },
  {
   "cell_type": "code",
   "execution_count": null,
   "id": "f7c77c05-709c-473f-9a94-28f4afd0292d",
   "metadata": {
    "tags": []
   },
   "outputs": [],
   "source": [
    "spatial_p_img = zeros(Int32, size(stack_img));\n",
    "for i in 1:size(place_cell_locs_tog,1)\n",
    "    x = Int32.(numpy.round(place_cell_locs_tog[i,1]))\n",
    "    y = Int32.(numpy.round(place_cell_locs_tog[i,2]))\n",
    "    z = Int32.(numpy.round(place_cell_locs_tog[i,3]))\n",
    "    if x.<=size(spatial_p_img,1) && y.<=size(spatial_p_img,2) && z.<=size(spatial_p_img,3)\n",
    "        spatial_p_img[x,y,z] += 1\n",
    "    end\n",
    "end"
   ]
  },
  {
   "cell_type": "code",
   "execution_count": null,
   "id": "90751337-d7b1-4803-a1e6-075529226d74",
   "metadata": {
    "tags": []
   },
   "outputs": [],
   "source": [
    "fig_bg = maximum(spatial_p_img, dims=3)[:,:,1]\n",
    "fig, ax = subplots(1,1,dpi=250)\n",
    "ax.imshow(fig_bg', cmap=\"gray\")"
   ]
  },
  {
   "cell_type": "code",
   "execution_count": null,
   "id": "32e44786-2078-4c95-8dda-55f204ffaf72",
   "metadata": {
    "tags": []
   },
   "outputs": [],
   "source": [
    "spatial_p_img_convolved = ndimage.convolve(spatial_p_img, kernel);"
   ]
  },
  {
   "cell_type": "code",
   "execution_count": null,
   "id": "3be676a0-747c-40c3-8588-4586952c1321",
   "metadata": {},
   "outputs": [],
   "source": [
    "extrema(reduce(vcat, cell_locs_all)[:,1])"
   ]
  },
  {
   "cell_type": "code",
   "execution_count": null,
   "id": "c7938151-2187-4856-8a3c-e63cfb88c8b6",
   "metadata": {},
   "outputs": [],
   "source": [
    "extrema(reduce(vcat, cell_locs_all)[:,2])"
   ]
  },
  {
   "cell_type": "code",
   "execution_count": null,
   "id": "72e494f3-bb62-4f9f-9e01-91deadc7a5eb",
   "metadata": {},
   "outputs": [],
   "source": [
    "extrema(reduce(vcat, cell_locs_all)[:,3])"
   ]
  },
  {
   "cell_type": "code",
   "execution_count": null,
   "id": "9e0797b6-52e6-4932-a57a-c15537bfdbe7",
   "metadata": {},
   "outputs": [],
   "source": [
    "hist(reduce(vcat, cell_locs_all)[:,3])"
   ]
  },
  {
   "cell_type": "code",
   "execution_count": null,
   "id": "1a1b043b-f451-4eac-9430-b9d0fa993113",
   "metadata": {
    "tags": []
   },
   "outputs": [],
   "source": [
    "stack_img_cropped = copy(stack_img)\n",
    "\n",
    "\n",
    "\n",
    "stack_img_cropped[1:98,:,:] .= NaN32;\n",
    "stack_img_cropped[1090:end,:,:] .= NaN32;\n",
    "\n",
    "stack_img_cropped[:,1:10,:] .= NaN32;\n",
    "stack_img_cropped[:,615:end,:] .= NaN32;\n",
    "\n",
    "stack_img_cropped[:,:,1:25] .= NaN32;\n",
    "stack_img_cropped[:,:,129:end] .= NaN32;\n"
   ]
  },
  {
   "cell_type": "code",
   "execution_count": null,
   "id": "ed7b31f5-9bfa-41b8-b324-e6b00ce8ad0a",
   "metadata": {},
   "outputs": [],
   "source": [
    "spatial_p_img_copy = Float32.(spatial_p_img_convolved)\n",
    "\n",
    "spatial_p_img_copy[isnan.(stack_img_cropped)] .= NaN32\n",
    "# spatial_p_img_copy[spatial_p_img_copy.<3] .= NaN\n",
    "vmax=15\n",
    "\n",
    "fig, ax = subplots(1,1,dpi=250)\n",
    "fig_bg = nanmaximum(stack_img_cropped, dims=3)[:,:,1]\n",
    "spatial_p_bg = numpy.nanmax(spatial_p_img_copy, axis=2)\n",
    "ax.imshow(fig_bg', cmap=\"gray\")\n",
    "sp1 =ax.imshow(spatial_p_bg', cmap=hot_new, vmin=0, vmax=vmax)\n",
    "# colorbar(sp1)\n",
    "axis(\"off\")\n",
    "fig.savefig(joinpath(fig_path, \"distribution_anatomy_1.png\"), bbox_inches = \"tight\",transparent = true,pad_inches = 0)\n",
    "fig.savefig(joinpath(fig_path, \"distribution_anatomy_1.pdf\"), bbox_inches = \"tight\",transparent = true,pad_inches = 0)\n",
    "\n",
    "fig, ax = subplots(1,1,dpi=250)\n",
    "fig_bg = nanmaximum(stack_img_cropped, dims=2)[:,1,:]\n",
    "spatial_p_bg = numpy.nanmax(spatial_p_img_copy, axis=1)\n",
    "ax.imshow(fig_bg', cmap=\"gray\",aspect=2/0.798)\n",
    "sp2 =ax.imshow(spatial_p_bg', cmap=hot_new,aspect=2/0.798, vmin=0, vmax=vmax)\n",
    "axis(\"off\")\n",
    "fig.savefig(joinpath(fig_path, \"distribution_anatomy_2.png\"), bbox_inches = \"tight\",transparent = true,pad_inches = 0)\n",
    "fig.savefig(joinpath(fig_path, \"distribution_anatomy_2.pdf\"), bbox_inches = \"tight\",transparent = true,pad_inches = 0)\n",
    "\n",
    "\n",
    "\n",
    "fig, ax = subplots(1,1,dpi=250)\n",
    "fig_bg = nanmaximum(stack_img_cropped, dims=1)[1,:,:]\n",
    "spatial_p_bg = numpy.nanmax(spatial_p_img_copy, axis=0)\n",
    "ax.imshow(fig_bg', cmap=\"gray\",aspect=2/0.798)\n",
    "sp3 =ax.imshow(spatial_p_bg', cmap=hot_new,aspect=2/0.798, vmin=0, vmax=vmax)\n",
    "axis(\"off\")\n",
    "fig.savefig(joinpath(fig_path, \"distribution_anatomy_3.png\"), bbox_inches = \"tight\",transparent = true,pad_inches = 0)\n",
    "fig.savefig(joinpath(fig_path, \"distribution_anatomy_3.pdf\"), bbox_inches = \"tight\",transparent = true,pad_inches = 0)"
   ]
  },
  {
   "cell_type": "code",
   "execution_count": null,
   "id": "9307f2b2-5055-4889-9f87-ad0978fb74f7",
   "metadata": {},
   "outputs": [],
   "source": [
    "fig = figure(figsize=(2,2))\n",
    "sp1 =imshow(spatial_p_bg, cmap=hot_new, vmin=0, vmax=vmax)\n",
    "\n",
    "sp1.set_visible(false)\n",
    "axis(\"off\")\n",
    "clb = colorbar(shrink=0.3, aspect=8, mappable=sp1, ticks=[0, vmax], fraction=0.999, pad=0)\n",
    "clb.ax.set_facecolor((0.2, 0.2, 0.2, 1.0))\n",
    "clb.ax.tick_params(colors=\"white\", width=1,length=0) \n",
    "clb.outline.set_color(\"white\")\n",
    "clb.outline.set_linewidth(1)\n",
    "fig.savefig(joinpath(fig_path, \"distribution_anatomy_colorbar.pdf\"), bbox_inches = \"tight\",transparent = true,pad_inches = 0)"
   ]
  },
  {
   "cell_type": "code",
   "execution_count": null,
   "id": "dbec084c-5bc0-444f-b74c-920aa46a0dcf",
   "metadata": {},
   "outputs": [],
   "source": [
    "@pyimport matplotlib.animation as anim\n",
    "\n",
    "spatial_p_img_copy = Float32.(spatial_p_img_convolved)\n",
    "\n",
    "\n",
    "fig = figure(figsize=(5,5), dpi=150)\n",
    "function make_frame(i)\n",
    "    clf()\n",
    "    stack_img_z = stack_img[:,:,i]\n",
    "    img_copy_z = spatial_p_img_copy[:,:,i]\n",
    "    imshow(stack_img_z', cmap=\"gray\", vmin=0, vmax=0.6)\n",
    "    imshow(img_copy_z', cmap=hot_new, vmin=0, vmax=15)\n",
    "    which_z = size(spatial_p_img_copy, 3) - i +1\n",
    "    title(\"z = $which_z\")\n",
    "    axis(\"off\")\n",
    "    display(gcf())\n",
    "    IJulia.clear_output(true)\n",
    "    # sleep(0.2)\n",
    "    # close(fig)\n",
    "end\n",
    "\n",
    "withfig(fig) do\n",
    "    myanim = anim.FuncAnimation(fig, make_frame, frames=reverse(1:size(spatial_p_img_copy, 3)), interval=100)\n",
    "    myanim[:save](\"place_cell_loc.mp4\", bitrate=-1, extra_args=[\"-vcodec\", \"libx264\", \"-pix_fmt\", \"yuv420p\"])\n",
    "end"
   ]
  },
  {
   "cell_type": "markdown",
   "id": "e1285725-878b-4468-b0be-4cda474d9176",
   "metadata": {},
   "source": [
    "# Statistics"
   ]
  },
  {
   "cell_type": "code",
   "execution_count": null,
   "id": "a3be15d2-d2dc-4865-a208-e2f4629831ac",
   "metadata": {
    "tags": []
   },
   "outputs": [],
   "source": [
    "function neuron_region(region_roi_bool, region_name, neuron_label)\n",
    "    n_neuron = Int32(nanmaximum(neuron_label))\n",
    "    # for one merged cell, it belongs to telecephalon if at least one of its roi belongs to telencephalon\n",
    "    region_roi_bool = region_roi_bool[:,findall(region_names .== region_name)][:,1]\n",
    "    whether_region = falses(n_neuron)\n",
    "    for which_neuron in Int32.(numpy.unique(neuron_label)[1:end-1])\n",
    "        if sum(region_roi_bool[neuron_label.==which_neuron]) >0\n",
    "            whether_region[which_neuron] = true\n",
    "        end\n",
    "    end\n",
    "    return whether_region\n",
    "end"
   ]
  },
  {
   "cell_type": "code",
   "execution_count": null,
   "id": "67437b20-f42d-470e-9689-4e0a8c1c5c29",
   "metadata": {
    "tags": []
   },
   "outputs": [],
   "source": [
    "which_regions = [\"Telencephalon -\", \"Diencephalon -\", \"Mesencephalon -\", \"Rhombencephalon -\", \"Telencephalon - Pallium\", \"Telencephalon - Subpallium\"]"
   ]
  },
  {
   "cell_type": "code",
   "execution_count": null,
   "id": "3d35323a-f5a3-4df0-8f41-13c6c6195004",
   "metadata": {},
   "outputs": [],
   "source": [
    "region_percentage = []\n",
    "region_cell_number = []\n",
    "region_place_cell_number = []\n",
    "\n",
    "@showprogress for which_data in 1:length(data_all_exp)\n",
    "    \n",
    "    place_cell_index = place_cell_index_all[which_data]\n",
    "    \n",
    "    data_info = data_all_exp[which_data]\n",
    "\n",
    "    experiment_filename_1 = data_info[1]\n",
    "    server_1 = data_info[2]\n",
    "    experimenter = data_info[end]\n",
    "\n",
    "    ds_save_1 = Dataset(experiment_filename_1, experimenter, gethostname() == \"roli-$(server_1)\" ? \"/data\" : \"/nfs/data$(server_1)\")\n",
    "    ds_save_cy_1 = Dataset(experiment_filename_1, \"chuyu\", gethostname() == \"roli-$(server_1)\" ? \"/data\" : \"/nfs/data$(server_1)\")\n",
    "    ds_save_analyzer_1 = Dataset(experiment_filename_1, analyzer, gethostname() == \"roli-$(server_1)\" ? \"/data\" : \"/nfs/data$(server_1)\")\n",
    "\n",
    "\n",
    "    NMF_filename = joinpath(data_path(ds_save_cy_1), \"NMF_merge.h5\")\n",
    "    NMF_file = h5open(NMF_filename, \"r\")\n",
    "    global neuron_label = HDF5.readmmap(NMF_file[\"neuron_label\"])\n",
    "    close(NMF_file)\n",
    "\n",
    "\n",
    "    # whether individual roi belongs to a certain region\n",
    "    region_bool_filename = joinpath(data_path(ds_save_cy_1), \"region_roi_bool.h5\")\n",
    "    region_bool_file = h5open(region_bool_filename, \"r\")\n",
    "    global region_names = read(region_bool_file, \"region_names\")\n",
    "    global region_roi_bool = read(region_bool_file, \"region_roi_bool\")\n",
    "    close(region_bool_file)\n",
    "\n",
    "    region_percentage_this_fish = Dict()\n",
    "    region_cell_number_this_fish = Dict()\n",
    "    region_place_cell_number_this_fish = Dict()\n",
    "    \n",
    "\n",
    "    for region_name in which_regions\n",
    "        whether_region = neuron_region(region_roi_bool, region_name, neuron_label)\n",
    "        region_neurons = findall(whether_region)\n",
    "        region_place_cell = findall(whether_in(region_neurons, place_cell_index))\n",
    "        region_percentage_this_fish[region_name] = length(region_place_cell)/length(region_neurons)\n",
    "        \n",
    "        region_cell_number_this_fish[region_name] = length(region_neurons)\n",
    "        region_place_cell_number_this_fish[region_name] = length(region_place_cell)\n",
    "        \n",
    "    end\n",
    "\n",
    "\n",
    "    append!(region_percentage, [region_percentage_this_fish])\n",
    "    append!(region_cell_number, [region_cell_number_this_fish])\n",
    "    append!(region_place_cell_number, [region_place_cell_number_this_fish])\n",
    "end"
   ]
  },
  {
   "cell_type": "code",
   "execution_count": null,
   "id": "f5bb4659-f02d-4757-a837-951f7aa60ae3",
   "metadata": {},
   "outputs": [],
   "source": [
    "tel_fraction = []\n",
    "for i = 1:length(region_cell_number)\n",
    "    tel_number = region_cell_number[i][\"Telencephalon -\"]\n",
    "    cell_number = cell_number_all[i]\n",
    "    \n",
    "\n",
    "    println(tel_number)\n",
    "    println(cell_number)\n",
    "    append!(tel_fraction, tel_number/cell_number)\n",
    "    # append!(tel_fraction, tel_number/sum([region_cell_number[i][key] for key in keys(region_cell_number[i])]))\n",
    "\n",
    "end\n",
    "\n"
   ]
  },
  {
   "cell_type": "code",
   "execution_count": null,
   "id": "54e20fb6-9f96-423d-9ad2-f5499dda43e9",
   "metadata": {},
   "outputs": [],
   "source": [
    "mean(tel_fraction)*100"
   ]
  },
  {
   "cell_type": "code",
   "execution_count": null,
   "id": "dcc287f2-f95c-4532-bae4-2a5eda3efeea",
   "metadata": {},
   "outputs": [],
   "source": [
    "std(tel_fraction)*100"
   ]
  },
  {
   "cell_type": "code",
   "execution_count": null,
   "id": "14e08bc2-e652-4796-9d3e-b09c810e68e4",
   "metadata": {},
   "outputs": [],
   "source": [
    "region_place_cell_number"
   ]
  },
  {
   "cell_type": "code",
   "execution_count": null,
   "id": "5b403982-3e06-4d7f-a06e-bca74d5206f8",
   "metadata": {},
   "outputs": [],
   "source": [
    "interested_large_regions =  [\"Telencephalon -\", \"Diencephalon -\", \"Mesencephalon -\", \"Rhombencephalon -\"]\n",
    "\n",
    "interested_small_regions =  [\"Telencephalon - Pallium\", \"Telencephalon - Subpallium\"]"
   ]
  },
  {
   "cell_type": "code",
   "execution_count": null,
   "id": "3b3ffa89-99eb-4b1b-affa-cbfd21761854",
   "metadata": {},
   "outputs": [],
   "source": [
    "df = pd.DataFrame(region_place_cell_number)\n",
    "# sns.set_theme(style=\"whitegrid\")\n",
    "# tips = sns.load_dataset(\"tips\")\n",
    "fig, ax = subplots(1,1,figsize=(1,2))\n",
    "sns.stripplot(order = interested_large_regions, data=df,ax=ax, color=hot_new(60), s=3, alpha=0.8)\n",
    "\n",
    "ax.set_ylabel(\"Place cell number\",labelpad=-10)\n",
    "ax.spines[\"top\"].set_visible(false)\n",
    "ax.spines[\"right\"].set_visible(false)\n",
    "ax.set_ylim(-20,1500)\n",
    "\n",
    "\n",
    "\n",
    "order = interested_large_regions\n",
    "for i in 0:length(order)-1\n",
    "    m = numpy.nanmedian([x[order[i+1]] for x in region_place_cell_number])\n",
    "    ax.plot([i-0.3, i+0.3], [m, m], c=\"k\", lw=2)\n",
    "end\n",
    "\n",
    "xticks([0,1,2,3], labels= [\"Tel.\", \"Di.\", \"Mes.\", \"Rhomb.\"], rotation=45, ha=\"right\" , rotation_mode=\"anchor\")\n",
    "yticks([0,500,1000,1500],[0,\"\",\"\",1500])\n",
    "\n",
    "# fig.savefig(joinpath(fig_path, \"region_number_large.png\"), bbox_inches = \"tight\",transparent = true,pad_inches = 0)\n",
    "fig.savefig(joinpath(fig_path, \"region_number_large.pdf\"), bbox_inches = \"tight\",transparent = true,pad_inches = 0)"
   ]
  },
  {
   "cell_type": "code",
   "execution_count": null,
   "id": "c3f17477-443a-48ad-a051-0658b8e6069f",
   "metadata": {},
   "outputs": [],
   "source": [
    "df = pd.DataFrame(region_place_cell_number)\n",
    "# sns.set_theme(style=\"whitegrid\")\n",
    "# tips = sns.load_dataset(\"tips\")\n",
    "fig, ax = subplots(1,1,figsize=(0.5,2))\n",
    "sns.stripplot(order = interested_small_regions, data=df,ax=ax, color=hot_new(60), s=3, alpha=0.8)\n",
    "xticks([0,1], labels= [\"Pallium\", \"Dorsal subpallium\"], rotation=45, ha=\"right\" , rotation_mode=\"anchor\")\n",
    "# ax.set_ylabel(\"Percentage\")\n",
    "ax.spines[\"top\"].set_visible(false)\n",
    "ax.spines[\"right\"].set_visible(false)\n",
    "ax.set_ylim(-20,1500)\n",
    "yticks([])\n",
    "\n",
    "\n",
    "\n",
    "order = interested_small_regions\n",
    "for i in 0:length(order)-1\n",
    "    m = numpy.nanmedian([x[order[i+1]] for x in region_place_cell_number])\n",
    "    ax.plot([i-0.3, i+0.3], [m, m], c=\"k\", lw=2)\n",
    "end\n",
    "\n",
    "\n",
    "\n",
    "# fig.savefig(joinpath(fig_path, \"region_number_small.png\"), bbox_inches = \"tight\",transparent = true,pad_inches = 0)\n",
    "fig.savefig(joinpath(fig_path, \"region_number_small.pdf\"), bbox_inches = \"tight\",transparent = true,pad_inches = 0)"
   ]
  },
  {
   "cell_type": "markdown",
   "id": "549fc057-5656-4f61-8136-b44e212e0887",
   "metadata": {},
   "source": [
    "# PC specificity comparision"
   ]
  },
  {
   "cell_type": "code",
   "execution_count": null,
   "id": "718de676-ca65-4dce-b739-699479781c08",
   "metadata": {
    "tags": []
   },
   "outputs": [],
   "source": [
    "specificity_fore_brain_all = []\n",
    "specificity_hind_brain_all = []\n",
    "specificity_whole_brain_all = []\n",
    "\n",
    "spatial_info_fore_brain_all = []\n",
    "spatial_info_hind_brain_all = []\n",
    "spatial_info_whole_brain_all = []\n",
    "@showprogress for which_data in 1:length(data_all_exp)\n",
    "    \n",
    "    place_cell_index = place_cell_index_all[which_data]\n",
    "    \n",
    "    data_info = data_all_exp[which_data]\n",
    "\n",
    "    experiment_filename_1 = data_info[1]\n",
    "    server_1 = data_info[2]\n",
    "    experimenter = data_info[end]\n",
    "\n",
    "    ds_save_1 = Dataset(experiment_filename_1, experimenter, gethostname() == \"roli-$(server_1)\" ? \"/data\" : \"/nfs/data$(server_1)\")\n",
    "    ds_save_cy_1 = Dataset(experiment_filename_1, \"chuyu\", gethostname() == \"roli-$(server_1)\" ? \"/data\" : \"/nfs/data$(server_1)\")\n",
    "    ds_save_analyzer_1 = Dataset(experiment_filename_1, analyzer, gethostname() == \"roli-$(server_1)\" ? \"/data\" : \"/nfs/data$(server_1)\")\n",
    "\n",
    "\n",
    "    NMF_filename = joinpath(data_path(ds_save_cy_1), \"NMF_merge.h5\")\n",
    "    NMF_file = h5open(NMF_filename, \"r\")\n",
    "    global neuron_label = HDF5.readmmap(NMF_file[\"neuron_label\"])\n",
    "    close(NMF_file)\n",
    "\n",
    "\n",
    "    # whether individual roi belongs to a certain region\n",
    "    region_bool_filename = joinpath(data_path(ds_save_cy_1), \"region_roi_bool.h5\")\n",
    "    region_bool_file = h5open(region_bool_filename, \"r\")\n",
    "    global region_names = read(region_bool_file, \"region_names\")\n",
    "    global region_roi_bool = read(region_bool_file, \"region_roi_bool\")\n",
    "    close(region_bool_file)\n",
    "    \n",
    "    all_files = readdir(data_path(ds_save_cy_1))\n",
    "    long_name_files = all_files[findall([length(all_files[i])>6 for i in 1:length(all_files)])]\n",
    "    spatial_info_index = findall([long_name_files[i][1:6]==\"neuron\" for i in 1:length(long_name_files)])\n",
    "    candidate_filename = long_name_files[spatial_info_index]\n",
    "    which_file = [occursin(experiment_filename_1, candidate_filename[i])*!occursin(\"shuffleall\", candidate_filename[i])*occursin(\"A_dF\", candidate_filename[i]) for i in 1:length(candidate_filename)]\n",
    "    @assert(length(candidate_filename[which_file]) == 1)\n",
    "    save_file_name = candidate_filename[which_file][1]\n",
    "    info_filename = joinpath(data_path(ds_save_cy_1), save_file_name)\n",
    "    file = h5open(info_filename, \"r\")\n",
    "    specificity = HDF5.readmmap(file[\"specificity\"])\n",
    "    spatial_info_all = HDF5.readmmap(file[\"spatial_info_all\"])\n",
    "\n",
    "    close(file)\n",
    "\n",
    "    region_percentage_this_fish = Dict()\n",
    "    region_cell_number_this_fish = Dict()\n",
    "    region_place_cell_number_this_fish = Dict()\n",
    "    \n",
    "\n",
    "    for region_name in [\"Mesencephalon -\", \"Rhombencephalon -\"]\n",
    "        whether_region = neuron_region(region_roi_bool, region_name, neuron_label)\n",
    "        region_neurons = findall(whether_region)\n",
    "        region_place_cell = region_neurons[findall(whether_in(region_neurons, place_cell_index))]\n",
    "        \n",
    "        append!(specificity_hind_brain_all, [specificity[region_place_cell]])\n",
    "        append!(spatial_info_hind_brain_all, [spatial_info_all[region_place_cell]])\n",
    " \n",
    "    end\n",
    "\n",
    "\n",
    "   for region_name in [\"Telencephalon -\"]\n",
    "        whether_region = neuron_region(region_roi_bool, region_name, neuron_label)\n",
    "        region_neurons = findall(whether_region)\n",
    "        region_place_cell = region_neurons[findall(whether_in(region_neurons, place_cell_index))]\n",
    "        \n",
    "        append!(specificity_fore_brain_all, [specificity[region_place_cell]])\n",
    "        append!(spatial_info_fore_brain_all, [spatial_info_all[region_place_cell]])\n",
    "    end\n",
    "    \n",
    "    append!(specificity_whole_brain_all, [spatial_info_all[place_cell_index]])\n",
    "    append!(spatial_info_whole_brain_all, [spatial_info_all[place_cell_index]])\n",
    "\n",
    "end"
   ]
  },
  {
   "cell_type": "code",
   "execution_count": null,
   "id": "7bc9d6cd",
   "metadata": {
    "tags": []
   },
   "outputs": [],
   "source": [
    "function fill_nan(vec, desired_length)\n",
    "    original_length = length(vec)\n",
    "    new_vec = fill!(Array{Float64,1}(undef, desired_length), NaN)\n",
    "    new_vec[1:original_length] = vec\n",
    "    return new_vec\n",
    "end"
   ]
  },
  {
   "cell_type": "code",
   "execution_count": null,
   "id": "ae0a27c2-171e-4110-b9e0-38326c711613",
   "metadata": {
    "tags": []
   },
   "outputs": [],
   "source": [
    "specificity_data = Dict()\n",
    "specificity_data[\"Forebrain\"] = reduce(vcat, specificity_fore_brain_all)\n",
    "specificity_data[\"Mid-hindbrain\"] = reduce(vcat, specificity_hind_brain_all)\n",
    "desired_length = maximum(length(specificity_data[key]) for key in keys(specificity_data))\n",
    "for key in keys(specificity_data)\n",
    "    specificity_data[key] = fill_nan(specificity_data[key], desired_length)\n",
    "end\n"
   ]
  },
  {
   "cell_type": "code",
   "execution_count": null,
   "id": "a31eb543-3aa4-4645-8c79-d12fcdbefa30",
   "metadata": {},
   "outputs": [],
   "source": [
    "stats.mannwhitneyu(reduce(vcat, specificity_fore_brain_all), reduce(vcat, specificity_hind_brain_all), alternative = \"greater\")"
   ]
  },
  {
   "cell_type": "code",
   "execution_count": null,
   "id": "694c00a8-f746-4d94-8374-91902ad389d0",
   "metadata": {
    "tags": []
   },
   "outputs": [],
   "source": [
    "order = [\"Forebrain\",\"Mid-hindbrain\"]\n",
    "bins= numpy.linspace(0,1,80)\n",
    "\n",
    "tab10 = cm.get_cmap(\"tab10\", 10)\n",
    "color1 = tab10(0)\n",
    "color2 = tab10(1)\n",
    "\n",
    "fig, ax = subplots(1,1,figsize=(1,1.5))\n",
    "hist(specificity_data[\"Forebrain\"], label=\"Tel.\",bins=bins, histtype=\"stepfilled\", fc=(color1[1], color1[2], color1[3], 0.5),ec=color1,density=true, zorder= 1)\n",
    "hist(specificity_data[\"Mid-hindbrain\"], label=\"Mes. + Rhomb.\",bins=bins, histtype=\"stepfilled\", fc=(color2[1], color2[2], color2[3], 0.5),ec=color2,density=true, zorder= 0)\n",
    "ax.legend(frameon=false,bbox_to_anchor=(-0.3, 1.02, 1, 0.2), loc=\"lower left\",\n",
    "                mode=\"expand\", borderaxespad=0, handlelength=1.3)\n",
    "\n",
    "xlabel(\"Place cell specificity\\n(bits)\", labelpad=5)\n",
    "ylabel(\"Density\", labelpad=-5)\n",
    "ax.spines[\"top\"].set_visible(false)\n",
    "ax.spines[\"right\"].set_visible(false)\n",
    "xlim(0,0.63)\n",
    "yticks([0,5,10,15],[0,\"\",\"\",\"15\"])\n",
    "\n",
    "ylim(-0.2, 15)\n",
    "\n",
    "fig.savefig(joinpath(fig_path, \"fore_hind_specificity_significance.pdf\"), bbox_inches = \"tight\")"
   ]
  },
  {
   "cell_type": "code",
   "execution_count": null,
   "id": "929b96d1-992d-4897-ae8a-11673aec39d5",
   "metadata": {},
   "outputs": [],
   "source": [
    "fig_path"
   ]
  },
  {
   "cell_type": "code",
   "execution_count": null,
   "id": "fb07d7aa-9745-452c-b334-159e0e096745",
   "metadata": {},
   "outputs": [],
   "source": [
    "df = pd.DataFrame.from_dict(specificity_data)\n",
    "df"
   ]
  },
  {
   "cell_type": "code",
   "execution_count": null,
   "id": "7b067da7-ec00-4ea4-a19a-546c3bba27db",
   "metadata": {},
   "outputs": [],
   "source": [
    "@pyimport os\n",
    "@pyimport openpyxl\n",
    "\n",
    "save_path = \"../../../figures/source_data/Source Data Fig. 1.xlsx\"\n",
    "sheet_name = \"Fig. 1h\"\n",
    "\n",
    "exists = os.path.isfile(save_path)\n",
    "if exists\n",
    "    writer = pd.ExcelWriter(save_path, engine = \"openpyxl\", mode=\"a\", if_sheet_exists=\"replace\")\n",
    "    df.to_excel(writer, sheet_name = sheet_name)\n",
    "    writer.close()\n",
    "else\n",
    "    df.to_excel(save_path, sheet_name)  \n",
    "end"
   ]
  },
  {
   "cell_type": "code",
   "execution_count": null,
   "id": "962a9ff0-6cea-4956-9e52-86bbb6d0c8ba",
   "metadata": {
    "tags": []
   },
   "outputs": [],
   "source": [
    "specificity_data = Dict()\n",
    "specificity_data[\"Forebrain\"] = reduce(vcat, spatial_info_fore_brain_all)\n",
    "specificity_data[\"Mid-hindbrain\"] = reduce(vcat, spatial_info_hind_brain_all)\n",
    "specificity_data[\"Whole brain\"] = reduce(vcat, spatial_info_whole_brain_all)\n",
    "desired_length = maximum(length(specificity_data[key]) for key in keys(specificity_data))\n",
    "for key in keys(specificity_data)\n",
    "    specificity_data[key] = fill_nan(specificity_data[key], desired_length)\n",
    "end\n"
   ]
  },
  {
   "cell_type": "code",
   "execution_count": null,
   "id": "229b04fb-ff36-45a5-a729-4c955c21be05",
   "metadata": {},
   "outputs": [],
   "source": [
    "fig_path = \"/home/chuyu/Notebooks/project_place_cell/figures/output/sfigure3\""
   ]
  },
  {
   "cell_type": "code",
   "execution_count": null,
   "id": "c67f140d-43cd-4fb8-92ff-8f62e270cc20",
   "metadata": {},
   "outputs": [],
   "source": [
    "stats.mannwhitneyu(reduce(vcat, spatial_info_fore_brain_all), reduce(vcat, spatial_info_hind_brain_all), alternative = \"greater\")"
   ]
  },
  {
   "cell_type": "code",
   "execution_count": null,
   "id": "faf3b484-e832-41f4-9c2d-e54da871bab6",
   "metadata": {
    "tags": []
   },
   "outputs": [],
   "source": [
    "order = [\"Forebrain\",\"Mid-hindbrain\", \"Whole brain\"]\n",
    "bins= numpy.linspace(0,70,80)\n",
    "\n",
    "tab10 = cm.get_cmap(\"tab10\", 10)\n",
    "color1 = tab10(0)\n",
    "color2 = tab10(1)\n",
    "color3 = tab10(2)\n",
    "\n",
    "fig, ax = subplots(1,1,figsize=(1,1.5))\n",
    "hist(specificity_data[\"Forebrain\"], label=\"Tel.\",bins=bins, histtype=\"stepfilled\", fc=(color1[1], color1[2], color1[3], 0.5),ec=color1,density=true, zorder= 1)\n",
    "hist(specificity_data[\"Mid-hindbrain\"], label=\"Mes. + Rhomb.\",bins=bins, histtype=\"stepfilled\", fc=(color2[1], color2[2], color2[3], 0.5),ec=color2,density=true, zorder= 0)\n",
    "\n",
    "ax.legend(frameon=false,bbox_to_anchor=(-0.3, 1.02, 1, 0.2), loc=\"lower left\",\n",
    "                mode=\"expand\", borderaxespad=0, handlelength=1.3)\n",
    "xlabel(\"Place cell SI\\n(∝ bits/s)\", labelpad=5, family=[\"Arial\", \"DejaVu Sans\"])\n",
    "ylabel(\"Density\", labelpad=-5)\n",
    "ax.spines[\"top\"].set_visible(false)\n",
    "ax.spines[\"right\"].set_visible(false)\n",
    "xlim(0,62)\n",
    "yticks([0,0.1, 0.2],[0,\"\",\"0.2\"])\n",
    "\n",
    "ylim(-0.01, 0.27)\n",
    "fig.savefig(joinpath(fig_path, \"fore_hind_spatialinfo_significance.pdf\"), bbox_inches = \"tight\")"
   ]
  },
  {
   "cell_type": "code",
   "execution_count": null,
   "id": "5b212b90-022d-470a-b7ec-467de4eef9ab",
   "metadata": {},
   "outputs": [],
   "source": [
    "order = [\"Forebrain\",\"Mid-hindbrain\", \"Whole brain\"]\n",
    "bins= numpy.linspace(0,70,80)\n",
    "\n",
    "tab10 = cm.get_cmap(\"tab10\", 10)\n",
    "color1 = tab10(0)\n",
    "color2 = tab10(1)\n",
    "color3 = tab10(2)\n",
    "\n",
    "fig, ax = subplots(1,1,figsize=(1,1.5))\n",
    "hist(specificity_data[\"Whole brain\"], label=\"Whole brain\",bins=bins, histtype=\"stepfilled\", fc=(color3[1], color3[2], color3[3], 0.5),ec=color3,density=true, zorder= 0)\n",
    "ax.legend(frameon=false,bbox_to_anchor=(-0.3, 1.02, 1, 0.2), loc=\"lower left\",\n",
    "                mode=\"expand\", borderaxespad=0, handlelength=1.3)\n",
    "\n",
    "xlabel(\"Place cell SI\\n(∝ bits/s)\", labelpad=5, family=[\"Arial\", \"DejaVu Sans\"])\n",
    "ylabel(\"Density\", labelpad=-5)\n",
    "ax.spines[\"top\"].set_visible(false)\n",
    "ax.spines[\"right\"].set_visible(false)\n",
    "xlim(0,62)\n",
    "yticks([0,0.1, 0.2],[0,\"\",\"0.2\"])\n",
    "\n",
    "ylim(-0.01, 0.27)\n",
    "fig.savefig(joinpath(fig_path, \"wholebrain_spatialinfo_significance.pdf\"), bbox_inches = \"tight\")"
   ]
  },
  {
   "cell_type": "code",
   "execution_count": null,
   "id": "c86d1a82-5e46-411c-b6e8-d711e211441d",
   "metadata": {
    "tags": []
   },
   "outputs": [],
   "source": [
    "\n"
   ]
  }
 ],
 "metadata": {
  "kernelspec": {
   "display_name": "Julia 1.10.3",
   "language": "julia",
   "name": "julia-1.10"
  },
  "language_info": {
   "file_extension": ".jl",
   "mimetype": "application/julia",
   "name": "julia",
   "version": "1.10.3"
  }
 },
 "nbformat": 4,
 "nbformat_minor": 5
}
