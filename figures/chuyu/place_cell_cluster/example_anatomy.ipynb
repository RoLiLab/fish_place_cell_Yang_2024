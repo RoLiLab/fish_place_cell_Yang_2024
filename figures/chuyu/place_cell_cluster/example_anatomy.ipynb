{
 "cells": [
  {
   "cell_type": "code",
   "execution_count": null,
   "id": "6e51e834-d0d2-4b41-8744-2b1a5bbf9b8a",
   "metadata": {
    "tags": []
   },
   "outputs": [],
   "source": [
    "!(@isdefined cleanup_hook) && IJulia.push_postexecute_hook(() -> (empty!(In); empty!(Out); GC.gc(true))); cleanup_hook = true;"
   ]
  },
  {
   "cell_type": "code",
   "execution_count": null,
   "id": "02c8b0b3-58dc-4edb-b500-efe72c9113df",
   "metadata": {
    "tags": []
   },
   "outputs": [],
   "source": [
    "using ProgressMeter, PyCall, PyPlot, Images, HDF5,NaNStatistics, Statistics, DSP, Lasso, JLD2\n",
    "using _Data, _Math"
   ]
  },
  {
   "cell_type": "code",
   "execution_count": null,
   "id": "4535676a-2723-4e53-89ba-162d3a92f4de",
   "metadata": {
    "tags": []
   },
   "outputs": [],
   "source": [
    "@pyimport numpy\n",
    "@pyimport scipy.stats as stats\n",
    "@pyimport matplotlib.colors as mpl_colors\n",
    "@pyimport matplotlib.cm as cm "
   ]
  },
  {
   "cell_type": "code",
   "execution_count": null,
   "id": "f947ee56-ef42-4ff8-ae26-6f9a455ac37c",
   "metadata": {
    "tags": []
   },
   "outputs": [],
   "source": [
    "include(\"../../../functions/func_map.jl\")\n",
    "include(\"../../../functions/func_stat.jl\")\n",
    "include(\"../../../functions/func_data.jl\")\n",
    "include(\"../../../functions/func_plot.jl\")\n",
    "include(\"../../../functions/utils.jl\")"
   ]
  },
  {
   "cell_type": "code",
   "execution_count": null,
   "id": "0170b278-4ebb-4ec9-b00f-55d3b2c64b55",
   "metadata": {
    "tags": []
   },
   "outputs": [],
   "source": [
    "rc_params = PyDict(pyimport(\"matplotlib\")[\"rcParams\"]);\n",
    "rc_params[\"font.sans-serif\"] = [\"Arial\"];\n",
    "rc_params[\"font.size\"] = 7;\n",
    "rc_params[\"lines.linewidth\"] = 1;\n",
    "rc_params[\"lines.markersize\"] = 4;\n",
    "rc_params[\"xtick.major.size\"] = 2;\n",
    "rc_params[\"ytick.major.size\"] = 2;\n",
    "rc_params[\"xtick.major.pad\"] = 2;\n",
    "rc_params[\"ytick.major.pad\"] = 2;\n",
    "# rc_params[\"axes.labelpad\"] = 2;\n",
    "\n",
    "cim(img::Matrix{UInt32}) = CairoImageSurface(img, Cairo.FORMAT_RGB24; flipxy = false) \n",
    "cim(img::Matrix{ARGB32}) = cim(reinterpret(UInt32, img))\n",
    "cim(img::Matrix{RGB24}) = cim(reinterpret(UInt32, img))\n",
    "cim(img::Matrix{UInt8}) = cim(Gray.(reinterpret(N0f8, img)))\n",
    "cim(img::Array{UInt8,3}) = cim(RGB24.(reinterpret(N0f8, img[:,:,1]), reinterpret(N0f8, img[:,:,2]), reinterpret(N0f8, img[:,:,3])));downsample(img,n=4) = +([img[i:n:n*div(size(img,1)-1,n), j:n:n*div(size(img,2)-1,n)] for i = 1:n, j = 1:n]...)/(n*n);\n",
    "downsample(img,n=4) = +([img[i:n:n*div(size(img,1)-1,n), j:n:n*div(size(img,2)-1,n)] for i = 1:n, j = 1:n]...)/(n*n);"
   ]
  },
  {
   "cell_type": "code",
   "execution_count": null,
   "id": "23858697-64d7-4184-b85e-662eae20a9b2",
   "metadata": {},
   "outputs": [],
   "source": [
    "fig_path = \"/home/chuyu/Notebooks/project_place_cell/figures/output/sfigure9/clustering\"\n",
    "mkpath(fig_path)"
   ]
  },
  {
   "cell_type": "code",
   "execution_count": null,
   "id": "8627c023-8085-4267-b77b-9b1edab05925",
   "metadata": {},
   "outputs": [],
   "source": [
    "data_info_dict = load(\"/home/chuyu/Notebooks/project_place_cell/figures/chuyu/figure_data_info.jld2\")\n",
    "\n",
    "data_info_all = []\n",
    "data_info_tog = []\n",
    "job_names = []\n",
    "for key in keys(data_info_dict)\n",
    "    append!(data_info_all, data_info_dict[key])\n",
    "    append!(data_info_tog, [data_info_dict[key]])\n",
    "    append!(job_names, [String(key)])\n",
    "end"
   ]
  },
  {
   "cell_type": "code",
   "execution_count": null,
   "id": "93fccade-468a-433e-bb70-351fe69013f8",
   "metadata": {},
   "outputs": [],
   "source": [
    "analyzer = \"chuyu\""
   ]
  },
  {
   "cell_type": "markdown",
   "id": "a6842f1e-071d-4eb5-a395-7706d5d18e12",
   "metadata": {},
   "source": [
    "# Example anatomy"
   ]
  },
  {
   "cell_type": "code",
   "execution_count": null,
   "id": "ad0634cc-f927-43af-b93c-7f3a6a7a7cf9",
   "metadata": {},
   "outputs": [],
   "source": [
    "fig_path = \"/home/chuyu/Notebooks/project_place_cell/figures/output/sfigure3/clustering_anatomy\"\n",
    "mkpath(fig_path)"
   ]
  },
  {
   "cell_type": "code",
   "execution_count": null,
   "id": "3c858ae0-3f5a-4775-bad4-94ec24fad322",
   "metadata": {},
   "outputs": [],
   "source": [
    "data_info_all = data_info_dict[\"corner_cue_rotation_whole\"]\n",
    "\n",
    "which_data = 3\n",
    "data_info = data_info_all[which_data]\n",
    "\n",
    "\n",
    "\n",
    "\n",
    "\n",
    "experiment_filename_1 = data_info[1]\n",
    "server_1 = data_info[2]\n",
    "\n",
    "experiment_filename_2 = data_info[3]\n",
    "server_2 = data_info[4]\n",
    "\n",
    "experimenter = data_info[5]\n",
    "\n",
    "ds_save_1 = Dataset(experiment_filename_1, experimenter, gethostname() == \"roli-$(server_1)\" ? \"/data\" : \"/nfs/data$(server_1)\")\n",
    "ds_save_cy_1 = Dataset(experiment_filename_1, \"chuyu\", gethostname() == \"roli-$(server_1)\" ? \"/data\" : \"/nfs/data$(server_1)\")\n",
    "ds_save_analyzer_1 = Dataset(experiment_filename_1, analyzer, gethostname() == \"roli-$(server_1)\" ? \"/data\" : \"/nfs/data$(server_1)\")\n",
    "\n",
    "ds_save_2 = Dataset(experiment_filename_2, experimenter, gethostname() == \"roli-$(server_2)\" ? \"/data\" : \"/nfs/data$(server_2)\") # This example dataset is on roli-9, so the path is different depending on whether you're trying to access the file from roli-9\n",
    "ds_save_cy_2 = Dataset(experiment_filename_2, \"chuyu\", gethostname() == \"roli-$(server_2)\" ? \"/data\" : \"/nfs/data$(server_2)\")\n",
    "ds_save_analyzer_2 = Dataset(experiment_filename_2, analyzer, gethostname() == \"roli-$(server_2)\" ? \"/data\" : \"/nfs/data$(server_2)\")\n",
    "\n",
    "\n",
    "\n",
    "NMF_filename = joinpath(data_path(ds_save_cy_1), \"NMF_merge.h5\")\n",
    "NMF_file = h5open(NMF_filename, \"r\")\n",
    "global Z_all = HDF5.readmmap(NMF_file[\"Z_all\"])\n",
    "global X_all = HDF5.readmmap(NMF_file[\"X_all\"])\n",
    "global Y_all = HDF5.readmmap(NMF_file[\"Y_all\"])\n",
    "global A_dFF_1 = HDF5.readmmap(NMF_file[\"A_dFF\"]); # bs update\n",
    "close(NMF_file)\n",
    "\n",
    "\n",
    "\n",
    "save_file_name = \"compare_map_results_original.h5\"\n",
    "compare_filename = joinpath(data_path(ds_save_cy_1), save_file_name)\n",
    "file = h5open(compare_filename, \"r\")\n",
    "tel_place_cell_index = HDF5.readmmap(file[\"tel_place_cell_index\"])\n",
    "confined_place_cell_index = HDF5.readmmap(file[\"confined_place_cell_index\"])\n",
    "confined_place_cell_index_1 = HDF5.readmmap(file[\"confined_place_cell_index_1\"])\n",
    "confined_place_cell_index_2 = HDF5.readmmap(file[\"confined_place_cell_index_2\"])\n",
    "peak_loc_map_1_precise_array = HDF5.readmmap(file[\"peak_loc_map_1_precise\"])\n",
    "peak_loc_map_2_precise_array = HDF5.readmmap(file[\"peak_loc_map_2_precise\"])\n",
    "close(file)\n",
    "\n",
    "\n"
   ]
  },
  {
   "cell_type": "code",
   "execution_count": null,
   "id": "4869916a-6d7b-4bca-a921-2c82c8935906",
   "metadata": {},
   "outputs": [],
   "source": [
    "data_info"
   ]
  },
  {
   "cell_type": "code",
   "execution_count": null,
   "id": "14edf498-bc91-47a6-ae7a-2449d2ec9160",
   "metadata": {},
   "outputs": [],
   "source": [
    "@pyimport matplotlib.cm as cm\n",
    "@pyimport sklearn.metrics as metrics\n",
    "@pyimport colorsys\n",
    "@pyimport cmocean\n",
    "\n",
    "# hsv_cmap = cm.get_cmap(\"hsv\", 360)\n",
    "hsv_cmap = cmocean.cm.phase"
   ]
  },
  {
   "cell_type": "code",
   "execution_count": null,
   "id": "9157ebfe-faad-46b8-a155-d05da6338f0b",
   "metadata": {},
   "outputs": [],
   "source": [
    "function hsv_control(rgb_color, s, v)\n",
    "    color_hsv = colorsys.rgb_to_hsv(rgb_color[1],rgb_color[2],rgb_color[3])\n",
    "    color_rgb = colorsys.hsv_to_rgb(color_hsv[1],s,v)\n",
    "    return color_rgb\n",
    "end"
   ]
  },
  {
   "cell_type": "code",
   "execution_count": null,
   "id": "1d02f05b-6f19-451a-a3d8-f89b86b5f60b",
   "metadata": {},
   "outputs": [],
   "source": [
    "# orientation-corrected background image and chamber roi image\n",
    "orientation_correction_file = h5open(joinpath(data_path(ds_save_cy_1), \"chamber_geometry_$(experiment_filename_1).h5\"))\n",
    "chamber_roi_1 = read(orientation_correction_file,\"chamber_roi\")\n",
    "countour_array_1 = read(orientation_correction_file,\"countour_array\")\n",
    "center_loc_1 = read(orientation_correction_file,\"center_loc\")\n",
    "close(orientation_correction_file)"
   ]
  },
  {
   "cell_type": "code",
   "execution_count": null,
   "id": "2a0fdc81-aa92-4e1c-8e1a-1080c2038d94",
   "metadata": {},
   "outputs": [],
   "source": [
    "distance_center_1 = distance_from(collect(peak_loc_map_1_precise_array'), center_loc_1);\n",
    "distance_edge_1, _ = distance_to_feature(collect(peak_loc_map_1_precise_array'), countour_array_1);\n",
    "\n",
    "angle_center_1 = angle_from(peak_loc_map_1_precise_array', center_loc_1);\n",
    "angle_center_1[angle_center_1.<0]=angle_center_1[angle_center_1.<0].+2*pi;"
   ]
  },
  {
   "cell_type": "code",
   "execution_count": null,
   "id": "6a5c27d3-aff8-4de3-91c3-6a3cc166d26b",
   "metadata": {},
   "outputs": [],
   "source": [
    "rgb_color = hsv_cmap(Int32.(round.(180*angle_center_1/pi)))\n",
    "hsv_s = [(maximum(distance_edge_1) .-distance_edge_1[i])/maximum(distance_edge_1)+1 for i in 1:size(rgb_color, 1)];\n",
    "hsv_v = [(maximum(distance_edge_1) .-distance_edge_1[i])/maximum(distance_edge_1)+0.3 for i in 1:size(rgb_color, 1)];\n",
    "hsv_s[hsv_s.!=1].=1\n",
    "hsv_v[hsv_v.>1].=1\n",
    "rgb_color_s = [hsv_control(rgb_color[i,:], hsv_s[i],hsv_v[i]) for i in 1:size(rgb_color, 1)];"
   ]
  },
  {
   "cell_type": "code",
   "execution_count": null,
   "id": "dc13e6c2-47c9-4315-a4ef-313b00f277e9",
   "metadata": {},
   "outputs": [],
   "source": [
    "scatter(peak_loc_map_1_precise_array[1,:], peak_loc_map_1_precise_array[2,:], c= rgb_color_s)"
   ]
  },
  {
   "cell_type": "code",
   "execution_count": null,
   "id": "0da2ffbf-f393-4c42-8178-296420ae8d5c",
   "metadata": {},
   "outputs": [],
   "source": [
    "    NMF_filename = joinpath(data_path(ds_save_1), \"NMF.h5\")\n",
    "    NMF_file = h5open(NMF_filename, \"r\")\n",
    "    try\n",
    "        global ds_stack_mean = copy(HDF5.readmmap(NMF_file[\"stack_mean\"]))\n",
    "    catch\n",
    "        global ds_stack_mean = copy(HDF5.readmmap(NMF_file[\"ds_stack_mean\"]))\n",
    "    end\n",
    "\n",
    "\n",
    "    close(NMF_file)"
   ]
  },
  {
   "cell_type": "code",
   "execution_count": null,
   "id": "5e3b4d12-4639-46a5-bb47-844d2f3e829b",
   "metadata": {},
   "outputs": [],
   "source": [
    "fig_path"
   ]
  },
  {
   "cell_type": "code",
   "execution_count": null,
   "id": "9b41b7a3-3e12-4d47-bfce-7bd839090a3e",
   "metadata": {},
   "outputs": [],
   "source": [
    "stack_img = ds_stack_mean\n",
    "\n",
    "\n",
    "which_neuron = confined_place_cell_index_1\n",
    "\n",
    "fig, ax = subplots(1,1,dpi=250, figsize=(8.2, 4.6))\n",
    "fig_bg = maximum(stack_img, dims=3)[:,:,1]\n",
    "ax.imshow(fig_bg', cmap=\"gray\")\n",
    "ax.scatter(X_all[which_neuron], Y_all[which_neuron], c=rgb_color_s, s=10)\n",
    "axis(\"off\")\n",
    "xlim(550, size(stack_img,1))\n",
    "ylim(100, 350)\n",
    "fig.savefig(joinpath(fig_path, \"anatomy_distribution_1.pdf\"), bbox_inches=\"tight\",transparent = true,pad_inches = 0);\n",
    "\n",
    "\n",
    "fig, ax = subplots(1,1,dpi=250, figsize=(8.2, 1.5))\n",
    "fig_bg = maximum(stack_img, dims=2)[:,1,:]\n",
    "ax.imshow(fig_bg', cmap=\"gray\",aspect=2)\n",
    "ax.scatter(X_all[which_neuron], Z_all[which_neuron], c=rgb_color_s, s=2)\n",
    "axis(\"off\")\n",
    "xlim(550, size(stack_img,1))\n",
    "ylim(100, 25)\n",
    "fig.savefig(joinpath(fig_path, \"anatomy_distribution_2.pdf\"), bbox_inches=\"tight\",transparent = true,pad_inches = 0);\n",
    "\n",
    "\n",
    "fig, ax = subplots(1,1,dpi=250, figsize=(4.6, 1.5))\n",
    "fig_bg = maximum(stack_img, dims=1)[1,:,:]\n",
    "ax.imshow(fig_bg', cmap=\"gray\",aspect=2)\n",
    "ax.scatter(Y_all[which_neuron], Z_all[which_neuron], c=rgb_color_s, s=2)\n",
    "axis(\"off\")\n",
    "xlim(100, 350)\n",
    "ylim(100, 25)\n",
    "fig.savefig(joinpath(fig_path, \"anatomy_distribution_3.pdf\"), bbox_inches=\"tight\",transparent = true,pad_inches = 0);\n"
   ]
  },
  {
   "cell_type": "code",
   "execution_count": null,
   "id": "59ab0bb9-2c53-4271-a043-6ccdaaf10357",
   "metadata": {},
   "outputs": [],
   "source": []
  }
 ],
 "metadata": {
  "kernelspec": {
   "display_name": "Julia 1.9.3",
   "language": "julia",
   "name": "julia-1.9"
  },
  "language_info": {
   "file_extension": ".jl",
   "mimetype": "application/julia",
   "name": "julia",
   "version": "1.9.3"
  }
 },
 "nbformat": 4,
 "nbformat_minor": 5
}
