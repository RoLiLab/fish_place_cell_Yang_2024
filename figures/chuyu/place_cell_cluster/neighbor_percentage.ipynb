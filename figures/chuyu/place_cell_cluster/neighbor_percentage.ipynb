{
 "cells": [
  {
   "cell_type": "code",
   "execution_count": null,
   "id": "fe12ee01-5172-434d-b3fd-b90c398c00b6",
   "metadata": {
    "tags": []
   },
   "outputs": [],
   "source": [
    "!(@isdefined cleanup_hook) && IJulia.push_postexecute_hook(() -> (empty!(In); empty!(Out); GC.gc(true))); cleanup_hook = true;"
   ]
  },
  {
   "cell_type": "code",
   "execution_count": null,
   "id": "7b912c67-bb5e-4f76-8d1f-2c06cebd37ec",
   "metadata": {
    "tags": []
   },
   "outputs": [],
   "source": [
    "using ProgressMeter, PyCall, PyPlot, Images, HDF5,NaNStatistics, Statistics, DSP, Lasso, JLD2\n",
    "using _Data, _Math"
   ]
  },
  {
   "cell_type": "code",
   "execution_count": null,
   "id": "e8e6153f-aad5-47c8-8f70-4072fb770f64",
   "metadata": {
    "tags": []
   },
   "outputs": [],
   "source": [
    "@pyimport numpy\n",
    "@pyimport sklearn.decomposition as decomposition\n",
    "@pyimport scipy.stats as stats\n",
    "@pyimport matplotlib.colors as mpl_colors\n",
    "@pyimport matplotlib.cm as cm \n",
    "@pyimport sklearn.cluster as cluster\n",
    "@pyimport sklearn.metrics as metrics"
   ]
  },
  {
   "cell_type": "code",
   "execution_count": null,
   "id": "18096c99-67ec-4ae1-9435-7c0d7b076da8",
   "metadata": {},
   "outputs": [],
   "source": [
    "rc_params = PyDict(pyimport(\"matplotlib\")[\"rcParams\"]);\n",
    "rc_params[\"font.sans-serif\"] = [\"Arial\"];\n",
    "rc_params[\"font.size\"] = 7;\n",
    "rc_params[\"lines.linewidth\"] = 1;\n",
    "rc_params[\"lines.markersize\"] = 4;\n",
    "rc_params[\"xtick.major.size\"] = 2;\n",
    "rc_params[\"ytick.major.size\"] = 2;\n",
    "rc_params[\"xtick.major.pad\"] = 2;\n",
    "rc_params[\"ytick.major.pad\"] = 2;\n",
    "# rc_params[\"axes.labelpad\"] = 2;\n",
    "rc_params[\"axes.spines.right\"] = false\n",
    "rc_params[\"axes.spines.top\"] = false\n",
    "\n",
    "cim(img::Matrix{UInt32}) = CairoImageSurface(img, Cairo.FORMAT_RGB24; flipxy = false) \n",
    "cim(img::Matrix{ARGB32}) = cim(reinterpret(UInt32, img))\n",
    "cim(img::Matrix{RGB24}) = cim(reinterpret(UInt32, img))\n",
    "cim(img::Matrix{UInt8}) = cim(Gray.(reinterpret(N0f8, img)))\n",
    "cim(img::Array{UInt8,3}) = cim(RGB24.(reinterpret(N0f8, img[:,:,1]), reinterpret(N0f8, img[:,:,2]), reinterpret(N0f8, img[:,:,3])));downsample(img,n=4) = +([img[i:n:n*div(size(img,1)-1,n), j:n:n*div(size(img,2)-1,n)] for i = 1:n, j = 1:n]...)/(n*n);\n",
    "downsample(img,n=4) = +([img[i:n:n*div(size(img,1)-1,n), j:n:n*div(size(img,2)-1,n)] for i = 1:n, j = 1:n]...)/(n*n);"
   ]
  },
  {
   "cell_type": "code",
   "execution_count": null,
   "id": "ed28342c-0412-4380-8d31-b2ad2c5f9ae5",
   "metadata": {},
   "outputs": [],
   "source": [
    "fig_path = \"/home/chuyu/Notebooks/project_place_cell/figures/output/sfigure10\""
   ]
  },
  {
   "cell_type": "code",
   "execution_count": null,
   "id": "803e4cae-f0f6-4022-8ece-b654084e500c",
   "metadata": {
    "tags": []
   },
   "outputs": [],
   "source": [
    "include(\"../../../functions/func_map.jl\")\n",
    "include(\"../../../functions/func_stat.jl\")\n",
    "include(\"../../../functions/func_data.jl\")\n",
    "include(\"../../../functions/func_plot.jl\")"
   ]
  },
  {
   "cell_type": "code",
   "execution_count": null,
   "id": "96978e6d-377c-4d25-8a0f-c769dd66f9d1",
   "metadata": {},
   "outputs": [],
   "source": [
    "data_info_dict = load(\"/home/chuyu/Notebooks/project_place_cell/figures/chuyu/figure_data_info.jld2\")"
   ]
  },
  {
   "cell_type": "code",
   "execution_count": null,
   "id": "6fa5b847-6a6d-4074-a0bb-f1e09d17a846",
   "metadata": {},
   "outputs": [],
   "source": [
    "data_info_dict"
   ]
  },
  {
   "cell_type": "code",
   "execution_count": null,
   "id": "8ca914f3-7034-49c4-8526-9d4540745251",
   "metadata": {},
   "outputs": [],
   "source": [
    "analyzer = \"chuyu\""
   ]
  },
  {
   "cell_type": "code",
   "execution_count": null,
   "id": "4c794154-9f27-422c-b92c-97ed9850df85",
   "metadata": {},
   "outputs": [],
   "source": [
    "function neighbor_percent(corr_map_pairwise_all_1, corr_map_pairwise_all_2, neighbor_percent_list)\n",
    "    \n",
    "    percent_stay_all_n = fill(NaN32, length(neighbor_percent_list), size(corr_map_pairwise_all_1, 1))\n",
    "    for which_neuron = 1:size(corr_map_pairwise_all_1, 1)\n",
    "        neighbor_rank_1 = reverse(sortperm(corr_map_pairwise_all_1[which_neuron,:]))\n",
    "        neighbor_rank_2 = reverse(sortperm(corr_map_pairwise_all_2[which_neuron,:]))\n",
    "        \n",
    "        valid_neighbors_1 = findall(corr_map_pairwise_all_1[which_neuron,:].>=-1)\n",
    "        valid_neighbors_2 = findall(corr_map_pairwise_all_2[which_neuron,:].>=-1)\n",
    "        \n",
    "        n_neighbors_list = floor.(Int32, neighbor_percent_list.*length(valid_neighbors_1))\n",
    "        \n",
    "        for (i_neighbor, n_neighbors) in enumerate(n_neighbors_list)\n",
    "            top_neighbors_1 = intersect(neighbor_rank_1[1:n_neighbors], valid_neighbors_1)\n",
    "            top_neighbors_2 = intersect(neighbor_rank_2[1:n_neighbors], valid_neighbors_2)\n",
    "            \n",
    "            percent_stay = sum(whether_in(top_neighbors_2,  top_neighbors_1))/length(top_neighbors_1)\n",
    "            percent_stay_all_n[i_neighbor,which_neuron] = percent_stay\n",
    "        end\n",
    "    end \n",
    "    return percent_stay_all_n\n",
    "end"
   ]
  },
  {
   "cell_type": "markdown",
   "id": "7189e2f0-ea7c-450e-809b-5076d4989349",
   "metadata": {},
   "source": [
    "# Save figure"
   ]
  },
  {
   "cell_type": "code",
   "execution_count": null,
   "id": "a1104eb7-9248-4730-831a-69baa14e78e6",
   "metadata": {},
   "outputs": [],
   "source": [
    "key = \"corner_cue_circle\"\n",
    "\n",
    "data_info_all = data_info_dict[key]\n",
    "\n",
    "\n",
    "n_bins = 31\n",
    "\n",
    "trials_mean_tog = []\n",
    "earlylate_mean_tog = []\n",
    "    \n",
    "\n",
    "for which_data = 1:length(data_info_all)\n",
    "    data_info = data_info_all[which_data]\n",
    "    experiment_filename_1 = data_info[1]\n",
    "    server_1 = data_info[2]\n",
    "     experimenter = data_info[3]\n",
    "    \n",
    "    ds_save_1 = Dataset(experiment_filename_1, experimenter, gethostname() == \"roli-$(server_1)\" ? \"/data\" : \"/nfs/data$(server_1)\")\n",
    "    ds_save_cy_1 = Dataset(experiment_filename_1, \"chuyu\", gethostname() == \"roli-$(server_1)\" ? \"/data\" : \"/nfs/data$(server_1)\")\n",
    "    ds_save_analyzer_1 = Dataset(experiment_filename_1, analyzer, gethostname() == \"roli-$(server_1)\" ? \"/data\" : \"/nfs/data$(server_1)\")\n",
    "    \n",
    "    cluster_file = h5open(joinpath(data_path(ds_save_cy_1), \"cluster_analysis_neighbors.h5\"))\n",
    "    edge_neuron_index = read(cluster_file,\"edge_neuron_index\")\n",
    "    center_neuron_index = read(cluster_file,\"center_neuron_index\")\n",
    "    percent_stay_all_n_mean_edge = read(cluster_file,\"percent_stay_all_n_mean_edge\")\n",
    "    percent_stay_all_n_mean_earlylate_edge = read(cluster_file,\"percent_stay_all_n_mean_earlylate_edge\")\n",
    "    percent_stay_all_n_mean_center = read(cluster_file,\"percent_stay_all_n_mean_center\")\n",
    "    percent_stay_all_n_mean_earlylate_center = read(cluster_file,\"percent_stay_all_n_mean_earlylate_center\")\n",
    "    percent_stay_all_n_mean_earlylate_percent = read(cluster_file,\"percent_stay_all_n_mean_earlylate_percent\")\n",
    "    percent_stay_all_n_mean_percent = read(cluster_file,\"percent_stay_all_n_mean_percent\")\n",
    "    close(cluster_file)    \n",
    "        \n",
    "        \n",
    "    println(sum(edge_neuron_index))\n",
    "    println(sum(center_neuron_index))\n",
    "    save_file_name = \"compare_map_results.h5\"\n",
    "    compare_filename = joinpath(data_path(ds_save_cy_1), save_file_name)\n",
    "    file = h5open(compare_filename, \"r\")\n",
    "    tel_place_cell_index = HDF5.readmmap(file[\"tel_place_cell_index\"])\n",
    "    close(file)\n",
    "    \n",
    "    \n",
    "    fig = figure(figsize=(0.75,0.75))\n",
    "    plot(100 .*numpy.linspace(0.02, 1, 50), 100 .*percent_stay_all_n_mean_earlylate_percent, label= \"S1 early vs late\", color = \"k\")\n",
    "    plot(100 .*numpy.linspace(0.02, 1, 50), 100 .*percent_stay_all_n_mean_earlylate_edge, label= \"S1 early vs late (edge cells)\", color = \"k\", linestyle=\"dashed\")\n",
    "    plot(100 .*numpy.linspace(0.02, 1, 50), 100 .*percent_stay_all_n_mean_earlylate_center, label= \"S1 early vs late (center cells)\", color = \"k\", linestyle=\"dotted\")\n",
    "    \n",
    "    plot(100 .*numpy.linspace(0.02, 1, 50), 100 .*percent_stay_all_n_mean_percent, label= \"S1 vs S2\", color = \"r\")\n",
    "    plot(100 .*numpy.linspace(0.02, 1, 50), 100 .*percent_stay_all_n_mean_edge, label= \"S1 vs S2 (edge cells)\", color = \"r\", linestyle=\"dashed\")\n",
    "    plot(100 .*numpy.linspace(0.02, 1, 50), 100 .*percent_stay_all_n_mean_center, label= \"S1 vs S2 (center cells)\", color = \"r\", linestyle=\"dotted\")\n",
    "    \n",
    "    plot([0,100],[0,100], color=\"gray\", label=\"Random\")\n",
    "    axis(\"equal\")\n",
    "    \n",
    "    if which_data == 1\n",
    "        xticks([])\n",
    "        xlabel(\"\")\n",
    "        ylabel(\"Neighbor \\n retention %\", labelpad = -1)\n",
    "        yticks([0, 50, 100]) \n",
    "    end\n",
    "    if which_data == 2\n",
    "        xticks([])\n",
    "        xlabel(\"\")\n",
    "        ylabel(\"Neighbor \\n retention %\", labelpad = -1)\n",
    "        yticks([0, 50, 100]) \n",
    "    end\n",
    "    if which_data == 3\n",
    "        xticks([])\n",
    "        xlabel(\"\")\n",
    "\n",
    "        ylabel(\"Neighbor \\n retention %\", labelpad = -1)\n",
    "        yticks([0, 50, 100]) \n",
    "    end\n",
    "    if which_data == 4\n",
    "        xticks([0, 50, 100])\n",
    "        xlabel(\"Neighbor %\")\n",
    "\n",
    "        ylabel(\"Neighbor \\n retention %\", labelpad = -1)\n",
    "        yticks([0, 50, 100]) \n",
    "    end\n",
    "    \n",
    "    # title(experiment_filename_1)\n",
    "    fig.savefig(joinpath(fig_path, \"staying_neighbors_v3_$(which_data).pdf\"), bbox_inches=\"tight\",transparent = true);\n",
    "end"
   ]
  },
  {
   "cell_type": "markdown",
   "id": "87c1023c-29c2-43bb-b832-646bc5a66923",
   "metadata": {},
   "source": [
    "# Save source data"
   ]
  },
  {
   "cell_type": "code",
   "execution_count": null,
   "id": "be932caa-d464-4a93-89aa-8b66810e05c6",
   "metadata": {},
   "outputs": [],
   "source": [
    "data_dict = Dict()\n",
    "data_dict[\"Neighbor %\"] = 100 .*numpy.linspace(0.02, 1, 50)\n",
    "\n",
    "key = \"corner_cue_circle\"\n",
    "\n",
    "data_info_all = data_info_dict[key]\n",
    "\n",
    "\n",
    "n_bins = 31\n",
    "\n",
    "trials_mean_tog = []\n",
    "earlylate_mean_tog = []\n",
    "    \n",
    "\n",
    "for which_data = 1:length(data_info_all)\n",
    "    data_info = data_info_all[which_data]\n",
    "    experiment_filename_1 = data_info[1]\n",
    "    server_1 = data_info[2]\n",
    "     experimenter = data_info[3]\n",
    "    \n",
    "    ds_save_1 = Dataset(experiment_filename_1, experimenter, gethostname() == \"roli-$(server_1)\" ? \"/data\" : \"/nfs/data$(server_1)\")\n",
    "    ds_save_cy_1 = Dataset(experiment_filename_1, \"chuyu\", gethostname() == \"roli-$(server_1)\" ? \"/data\" : \"/nfs/data$(server_1)\")\n",
    "    ds_save_analyzer_1 = Dataset(experiment_filename_1, analyzer, gethostname() == \"roli-$(server_1)\" ? \"/data\" : \"/nfs/data$(server_1)\")\n",
    "    \n",
    "    cluster_file = h5open(joinpath(data_path(ds_save_cy_1), \"cluster_analysis_neighbors.h5\"))\n",
    "    edge_neuron_index = read(cluster_file,\"edge_neuron_index\")\n",
    "    center_neuron_index = read(cluster_file,\"center_neuron_index\")\n",
    "    percent_stay_all_n_mean_edge = read(cluster_file,\"percent_stay_all_n_mean_edge\")\n",
    "    percent_stay_all_n_mean_earlylate_edge = read(cluster_file,\"percent_stay_all_n_mean_earlylate_edge\")\n",
    "    percent_stay_all_n_mean_center = read(cluster_file,\"percent_stay_all_n_mean_center\")\n",
    "    percent_stay_all_n_mean_earlylate_center = read(cluster_file,\"percent_stay_all_n_mean_earlylate_center\")\n",
    "    percent_stay_all_n_mean_earlylate_percent = read(cluster_file,\"percent_stay_all_n_mean_earlylate_percent\")\n",
    "    percent_stay_all_n_mean_percent = read(cluster_file,\"percent_stay_all_n_mean_percent\")\n",
    "    close(cluster_file)    \n",
    "        \n",
    "        \n",
    "    println(sum(edge_neuron_index))\n",
    "    println(sum(center_neuron_index))\n",
    "    save_file_name = \"compare_map_results.h5\"\n",
    "    compare_filename = joinpath(data_path(ds_save_cy_1), save_file_name)\n",
    "    file = h5open(compare_filename, \"r\")\n",
    "    tel_place_cell_index = HDF5.readmmap(file[\"tel_place_cell_index\"])\n",
    "    close(file)\n",
    "    \n",
    "    \n",
    "    fig = figure(figsize=(1,1))\n",
    "    plot(100 .*numpy.linspace(0.02, 1, 50), 100 .*percent_stay_all_n_mean_earlylate_percent, label= \"S1 early vs late\", color = \"gray\")\n",
    "    plot(100 .*numpy.linspace(0.02, 1, 50), 100 .*percent_stay_all_n_mean_earlylate_edge, label= \"S1 early vs late (edge cells)\", color = \"gray\", linestyle=\"dashed\")\n",
    "    plot(100 .*numpy.linspace(0.02, 1, 50), 100 .*percent_stay_all_n_mean_earlylate_center, label= \"S1 early vs late (center cells)\", color = \"gray\", linestyle=\"dotted\")\n",
    "    \n",
    "    plot(100 .*numpy.linspace(0.02, 1, 50), 100 .*percent_stay_all_n_mean_percent, label= \"S1 vs S2\", color = \"r\")\n",
    "    plot(100 .*numpy.linspace(0.02, 1, 50), 100 .*percent_stay_all_n_mean_edge, label= \"S1 vs S2 (edge cells)\", color = \"r\", linestyle=\"dashed\")\n",
    "    plot(100 .*numpy.linspace(0.02, 1, 50), 100 .*percent_stay_all_n_mean_center, label= \"S1 vs S2 (center cells)\", color = \"r\", linestyle=\"dotted\")\n",
    "    \n",
    "    data_dict[\"(Fish $(which_data)) Neighbor retention % S1 early vs late\"] = 100 .*percent_stay_all_n_mean_earlylate_percent\n",
    "    data_dict[\"(Fish $(which_data)) Neighbor retention % S1 early vs late (edge cells)\"] = 100 .*percent_stay_all_n_mean_earlylate_edge\n",
    "    data_dict[\"(Fish $(which_data)) Neighbor retention % S1 early vs late (center cells)\"] = 100 .*percent_stay_all_n_mean_earlylate_center\n",
    "    data_dict[\"(Fish $(which_data)) Neighbor retention % S1 vs S2\"] = 100 .*percent_stay_all_n_mean_percent\n",
    "    data_dict[\"(Fish $(which_data)) Neighbor retention % S1 vs S2 (edge cells)\"] = 100 .*percent_stay_all_n_mean_edge\n",
    "    data_dict[\"(Fish $(which_data)) Neighbor retention % S1 vs S2 (center cells)\"] = 100 .*percent_stay_all_n_mean_center\n",
    "end"
   ]
  },
  {
   "cell_type": "code",
   "execution_count": null,
   "id": "b1c387d0-b615-4259-8d71-113f68d50ae4",
   "metadata": {},
   "outputs": [],
   "source": [
    "@pyimport pandas as pd\n",
    "\n",
    "\n",
    "function fill_length(vec, desired_length)\n",
    "    [vec; fill(NaN, desired_length-length(vec))]\n",
    "end"
   ]
  },
  {
   "cell_type": "code",
   "execution_count": null,
   "id": "4b9435e2-3bb8-4a3d-b32c-f585632fc212",
   "metadata": {},
   "outputs": [],
   "source": [
    "max_length = maximum([length(data_dict[key]) for key in keys(data_dict)])\n",
    "\n",
    "for key in keys(data_dict)\n",
    "    data_dict[key] = fill_length(data_dict[key], max_length)\n",
    "end\n",
    "\n",
    "df = pd.DataFrame.from_dict(data_dict)\n",
    "df = df.sort_index(axis=1)"
   ]
  },
  {
   "cell_type": "code",
   "execution_count": null,
   "id": "570e685c-eb7b-40ee-9af3-37097924c894",
   "metadata": {},
   "outputs": [],
   "source": [
    "@pyimport os\n",
    "@pyimport openpyxl\n",
    "\n",
    "save_path = \"../../../figures/source_data/Source Data Fig. 6.xlsx\"\n",
    "sheet_name = \"Fig. 6e\"\n",
    "\n",
    "exists = os.path.isfile(save_path)\n",
    "if exists\n",
    "    writer = pd.ExcelWriter(save_path, engine = \"openpyxl\", mode=\"a\", if_sheet_exists=\"replace\")\n",
    "    df.to_excel(writer, sheet_name = sheet_name)\n",
    "    writer.close()\n",
    "else\n",
    "    df.to_excel(save_path, sheet_name)  \n",
    "end"
   ]
  },
  {
   "cell_type": "code",
   "execution_count": null,
   "id": "2f19b5c9-22bd-4928-b697-2fc2ba44f447",
   "metadata": {},
   "outputs": [],
   "source": []
  }
 ],
 "metadata": {
  "kernelspec": {
   "display_name": "Julia 1.10.3",
   "language": "julia",
   "name": "julia-1.10"
  },
  "language_info": {
   "file_extension": ".jl",
   "mimetype": "application/julia",
   "name": "julia",
   "version": "1.10.3"
  }
 },
 "nbformat": 4,
 "nbformat_minor": 5
}
