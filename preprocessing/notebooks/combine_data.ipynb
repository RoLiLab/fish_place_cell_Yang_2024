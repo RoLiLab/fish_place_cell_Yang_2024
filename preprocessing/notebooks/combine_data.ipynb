{
 "cells": [
  {
   "cell_type": "code",
   "execution_count": null,
   "id": "0355b1ce-a653-46a8-9d49-ec6f4e50ebdc",
   "metadata": {},
   "outputs": [],
   "source": [
    "using ProgressMeter, PyCall, PyPlot, Images, HDF5,NaNStatistics, Statistics, DSP, Lasso, JLD2\n",
    "using _Data, _Math"
   ]
  },
  {
   "cell_type": "code",
   "execution_count": null,
   "id": "0807a35e-9abe-4fe0-a30e-aacaa4c79648",
   "metadata": {},
   "outputs": [],
   "source": [
    "@pyimport numpy as np"
   ]
  },
  {
   "cell_type": "code",
   "execution_count": null,
   "id": "41a23e1c-bbf8-46b7-bac4-41f1b146aa6f",
   "metadata": {},
   "outputs": [],
   "source": [
    "include(\"/home/chuyu/Notebooks/project_place_cell/functions/func_data.jl\")"
   ]
  },
  {
   "cell_type": "code",
   "execution_count": null,
   "id": "d54870c1-9a69-4a75-bbe3-44da4fb00847",
   "metadata": {},
   "outputs": [],
   "source": [
    "data_info =   [\"20240128_174842\", 8, \"20240128_182823\", 8, \"jen\"]\n",
    "\n",
    "data_info =   [\"20240127_120909\", 1, \"20240127_132316\", 1, \"drew\"]"
   ]
  },
  {
   "cell_type": "code",
   "execution_count": null,
   "id": "d39b44db-af71-48a4-9a27-10bae6500dc7",
   "metadata": {},
   "outputs": [],
   "source": [
    "experiment_filename_1 = data_info[1]\n",
    "server_1 = data_info[2]\n",
    "\n",
    "experiment_filename_2 = data_info[3]\n",
    "server_2 = data_info[4]\n",
    "\n",
    "experimenter = data_info[end]"
   ]
  },
  {
   "cell_type": "code",
   "execution_count": null,
   "id": "aeec6665-0430-454e-a0db-75f30e7935f7",
   "metadata": {},
   "outputs": [],
   "source": [
    "analyzer = \"chuyu\""
   ]
  },
  {
   "cell_type": "code",
   "execution_count": null,
   "id": "2a8bcf14-2d70-4c4c-b2a2-8578552ffdb3",
   "metadata": {},
   "outputs": [],
   "source": [
    "ds_save_1 = Dataset(experiment_filename_1, experimenter, gethostname() == \"roli-$(server_1)\" ? \"/data\" : \"/nfs/data$(server_1)\")\n",
    "ds_save_analyzer_1 = Dataset(experiment_filename_1, analyzer, gethostname() == \"roli-$(server_1)\" ? \"/data\" : \"/nfs/data$(server_1)\")\n",
    "\n",
    "ds_save_2 = Dataset(experiment_filename_2, experimenter, gethostname() == \"roli-$(server_2)\" ? \"/data\" : \"/nfs/data$(server_2)\") # This example dataset is on roli-9, so the path is different depending on whether you're trying to access the file from roli-9\n",
    "ds_save_analyzer_2 = Dataset(experiment_filename_2, analyzer, gethostname() == \"roli-$(server_2)\" ? \"/data\" : \"/nfs/data$(server_2)\")"
   ]
  },
  {
   "cell_type": "code",
   "execution_count": null,
   "id": "6d377261-79c3-4b90-acdb-b6ae52bfcce7",
   "metadata": {},
   "outputs": [],
   "source": [
    "get_synchrony_offset_sweep(experiment_filename_1,server_1; experimenter=experimenter)"
   ]
  },
  {
   "cell_type": "code",
   "execution_count": null,
   "id": "005fde66-e01d-40bd-8a83-a8e1215ba541",
   "metadata": {},
   "outputs": [],
   "source": [
    "get_synchrony_offset_sweep(experiment_filename_2,server_2; experimenter=experimenter)"
   ]
  },
  {
   "cell_type": "code",
   "execution_count": null,
   "id": "b6e7341d-98f5-4558-a7c8-6e57be9ce217",
   "metadata": {},
   "outputs": [],
   "source": [
    "ds_save_analyzer_new = Dataset(\"$(experiment_filename_1)_$(experiment_filename_2)\", analyzer, gethostname() == \"roli-$(server_2)\" ? \"/data\" : \"/nfs/data$(server_2)\")\n",
    "mkpath(data_path(ds_save_analyzer_new))"
   ]
  },
  {
   "cell_type": "markdown",
   "id": "3ba0b810-a917-4156-9d43-5b1721267f96",
   "metadata": {},
   "source": [
    "# join neural data"
   ]
  },
  {
   "cell_type": "code",
   "execution_count": null,
   "id": "9e11fe5f-db3b-466b-9739-9f49ac461eeb",
   "metadata": {},
   "outputs": [],
   "source": [
    "NMF_filename = joinpath(data_path(ds_save_1), \"NMF.h5\")\n",
    "NMF_file = h5open(NMF_filename, \"r\")"
   ]
  },
  {
   "cell_type": "code",
   "execution_count": null,
   "id": "f183b683-990d-4068-8cce-7656750d8781",
   "metadata": {},
   "outputs": [],
   "source": [
    "NMF_filename = joinpath(data_path(ds_save_1), \"NMF.h5\")\n",
    "NMF_file = h5open(NMF_filename, \"r\")\n",
    "z_all = HDF5.readmmap(NMF_file[\"z_all\"])\n",
    "centroid_x_all = HDF5.readmmap(NMF_file[\"centroid_x_all\"])\n",
    "centroid_y_all = HDF5.readmmap(NMF_file[\"centroid_y_all\"])\n",
    "A_all_1 = HDF5.readmmap(NMF_file[\"A_all\"]);\n",
    "stack_mean = HDF5.readmmap(NMF_file[\"stack_mean\"]);\n",
    "close(NMF_file)\n",
    "\n",
    "NMF_filename = joinpath(data_path(ds_save_2), \"NMF.h5\")\n",
    "NMF_file = h5open(NMF_filename, \"r\")\n",
    "A_all_2 = HDF5.readmmap(NMF_file[\"A_all\"]);\n",
    "close(NMF_file)"
   ]
  },
  {
   "cell_type": "code",
   "execution_count": null,
   "id": "1a40e524-ade3-4596-8fbb-b1226c55b39b",
   "metadata": {},
   "outputs": [],
   "source": [
    "A_all = vcat(A_all_1, A_all_2);"
   ]
  },
  {
   "cell_type": "code",
   "execution_count": null,
   "id": "b000685c-09c0-426f-8310-a58195fabde5",
   "metadata": {},
   "outputs": [],
   "source": [
    "n_frame_1 = size(A_all_1, 1)\n",
    "n_frame_2 = size(A_all_2, 1)"
   ]
  },
  {
   "cell_type": "code",
   "execution_count": null,
   "id": "40f0c2b3-0943-4100-8dc9-e3f7d3d70bcc",
   "metadata": {},
   "outputs": [],
   "source": [
    "joinpath(data_path(ds_save_analyzer_new), \"NMF.h5\")"
   ]
  },
  {
   "cell_type": "code",
   "execution_count": null,
   "id": "cfc61f09-cbab-475b-ab61-6cab12e5d68b",
   "metadata": {},
   "outputs": [],
   "source": [
    "h5open(joinpath(data_path(ds_save_analyzer_new), \"NMF.h5\"), \"w\") do file\n",
    "    file[\"A_all\"] = A_all\n",
    "    file[\"centroid_x_all\"] = centroid_x_all\n",
    "    file[\"centroid_y_all\"] = centroid_y_all\n",
    "    file[\"z_all\"] = z_all\n",
    "    file[\"stack_mean\"] = stack_mean\n",
    "end;"
   ]
  },
  {
   "cell_type": "markdown",
   "id": "ee8fca1d-d36b-4f8e-aaa4-ac8521a6a394",
   "metadata": {},
   "source": [
    "# join behavior"
   ]
  },
  {
   "cell_type": "code",
   "execution_count": null,
   "id": "3ce569f4-dc00-44d7-b4c1-5a1ff508ff0d",
   "metadata": {},
   "outputs": [],
   "source": [
    "C1, heading1, img_bg1, y_fish1, x_fish1 = h5open(ds_save_1, \"behavior.h5\"; raw = true) do file\n",
    "    read(file, \"C\"),\n",
    "    read(file, \"heading\"), \n",
    "    read(file, \"img_bg\"),\n",
    "    read(file, \"fish_anchor_y\"), \n",
    "    read(file, \"fish_anchor_x\")\n",
    "end;\n",
    "\n",
    "\n",
    "C2, heading2, img_bg2, y_fish2, x_fish2 = h5open(ds_save_2, \"behavior.h5\"; raw = true) do file\n",
    "    read(file, \"C\"),\n",
    "    read(file, \"heading\"), \n",
    "    read(file, \"img_bg\"),\n",
    "    read(file, \"fish_anchor_y\"), \n",
    "    read(file, \"fish_anchor_x\")\n",
    "end;"
   ]
  },
  {
   "cell_type": "code",
   "execution_count": null,
   "id": "0e14dde8-3e71-4e89-97ce-c35c2978f3b5",
   "metadata": {},
   "outputs": [],
   "source": [
    "imshow(img_bg1[:,:,end]', alpha=0.5)\n",
    "imshow(img_bg2[:,:,end]')"
   ]
  },
  {
   "cell_type": "code",
   "execution_count": null,
   "id": "89271cef-9a10-4965-980a-5ef5bfce9490",
   "metadata": {},
   "outputs": [],
   "source": [
    "heading = vcat(heading1[1:125*n_frame_1], heading2[1:125*n_frame_2]);\n",
    "\n",
    "\n",
    "C = vcat(C1[1:125*n_frame_1], C2[1:125*n_frame_2]);\n",
    "x_fish = vcat(x_fish1[1:125*n_frame_1], x_fish2[1:125*n_frame_2]);\n",
    "y_fish = vcat(y_fish1[1:125*n_frame_1], y_fish2[1:125*n_frame_2]);\n",
    "\n",
    "img_bg = np.concatenate([img_bg1, img_bg2], axis=2);"
   ]
  },
  {
   "cell_type": "code",
   "execution_count": null,
   "id": "d7dad33d-aceb-4c19-b807-405c03c2b9a0",
   "metadata": {},
   "outputs": [],
   "source": [
    "mkpath(data_raw_path(ds_save_analyzer_new))"
   ]
  },
  {
   "cell_type": "code",
   "execution_count": null,
   "id": "44af9628-f15a-4d5b-b751-c9ebb70b1664",
   "metadata": {},
   "outputs": [],
   "source": [
    "h5open(joinpath(data_raw_path(ds_save_analyzer_new), \"behavior.h5\"), \"w\") do file\n",
    "    file[\"heading\"] = heading\n",
    "    file[\"C\"] = C\n",
    "    file[\"fish_anchor_x\"] = x_fish\n",
    "    file[\"fish_anchor_y\"] = y_fish\n",
    "    file[\"img_bg\"] = img_bg\n",
    "end;"
   ]
  },
  {
   "cell_type": "markdown",
   "id": "6dd2a811-b801-4fe4-979f-5218361cf33a",
   "metadata": {},
   "source": [
    "# copy data"
   ]
  },
  {
   "cell_type": "code",
   "execution_count": null,
   "id": "22a968cd-64e8-43a3-8f70-7398941458dd",
   "metadata": {},
   "outputs": [],
   "source": [
    "\n",
    "experiment_filename = \"20240128_203533\"\n",
    "server = 8\n",
    "experimenter = \"jen\"\n",
    "ds_save = Dataset(experiment_filename, experimenter, gethostname() == \"roli-$(server)\" ? \"/data\" : \"/nfs/data$(server)\")\n",
    "ds_save_cy = Dataset(experiment_filename, \"chuyu\", gethostname() == \"roli-$(server)\" ? \"/data\" : \"/nfs/data$(server)\")\n",
    "\n",
    "mkpath(data_path(ds_save_cy))\n",
    "mkpath(data_raw_path(ds_save_cy))"
   ]
  },
  {
   "cell_type": "code",
   "execution_count": null,
   "id": "05d9c208-c042-4383-884d-ab3428a58ab3",
   "metadata": {},
   "outputs": [],
   "source": [
    "which_file = \"NMF.h5\"\n",
    "path_origin = joinpath(data_path(ds_save), which_file)\n",
    "path_target = joinpath(data_path(ds_save_cy), which_file) \n",
    "run(`cp -RT $path_origin $path_target`)"
   ]
  },
  {
   "cell_type": "code",
   "execution_count": null,
   "id": "3047d392-f3cb-4c2a-8fed-e522945c7e4d",
   "metadata": {},
   "outputs": [],
   "source": [
    "which_file = \"registration_experiment.h5\"\n",
    "path_origin = joinpath(data_path(ds_save), which_file)\n",
    "path_target = joinpath(data_path(ds_save_cy), which_file) \n",
    "run(`cp -RT $path_origin $path_target`)"
   ]
  },
  {
   "cell_type": "code",
   "execution_count": null,
   "id": "fd40c6f5-ddf8-40eb-be77-c243cfd3fda2",
   "metadata": {},
   "outputs": [],
   "source": [
    "which_file = \"behavior.h5\"\n",
    "path_origin = joinpath(data_raw_path(ds_save), which_file)\n",
    "path_target = joinpath(data_raw_path(ds_save_cy), which_file) \n",
    "run(`cp -RT $path_origin $path_target`)"
   ]
  },
  {
   "cell_type": "code",
   "execution_count": null,
   "id": "52a81dbf-9409-4b36-8fc9-a11bc929bf2b",
   "metadata": {},
   "outputs": [],
   "source": []
  },
  {
   "cell_type": "code",
   "execution_count": null,
   "id": "bfa6f9a3-dee5-43b0-adb2-1b0d593c4bc7",
   "metadata": {},
   "outputs": [],
   "source": []
  }
 ],
 "metadata": {
  "kernelspec": {
   "display_name": "Julia 1.9.0",
   "language": "julia",
   "name": "julia-1.9"
  },
  "language_info": {
   "file_extension": ".jl",
   "mimetype": "application/julia",
   "name": "julia",
   "version": "1.9.0"
  }
 },
 "nbformat": 4,
 "nbformat_minor": 5
}
